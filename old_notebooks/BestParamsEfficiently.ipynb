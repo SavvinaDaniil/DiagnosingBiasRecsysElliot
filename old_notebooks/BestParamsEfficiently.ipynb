{
 "cells": [
  {
   "cell_type": "markdown",
   "id": "f8535e1e-6777-4c46-8377-67e727a5fc1a",
   "metadata": {},
   "source": [
    "In this notebook I will attempt to read the json files that correspond to the best parameters."
   ]
  },
  {
   "cell_type": "code",
   "execution_count": 2,
   "id": "71e4973d-dd24-4251-be46-e012321b7244",
   "metadata": {},
   "outputs": [],
   "source": [
    "import os, json\n",
    "import pandas as pd"
   ]
  },
  {
   "cell_type": "code",
   "execution_count": 10,
   "id": "6f921ab7-c73f-4296-8da7-45e69126bb26",
   "metadata": {},
   "outputs": [],
   "source": [
    "data = 'uniformly_random'\n",
    "location = 'results/'+data+'/performance/'"
   ]
  },
  {
   "cell_type": "code",
   "execution_count": 11,
   "id": "f84e3b38-1e2e-4bc2-9665-7e6a7090b8f6",
   "metadata": {},
   "outputs": [],
   "source": [
    "json_files = [location+best_params for best_params in os.listdir(location) if best_params.endswith('.json')]"
   ]
  },
  {
   "cell_type": "code",
   "execution_count": 12,
   "id": "e1047c71-a857-4b36-b682-51452dd3c410",
   "metadata": {},
   "outputs": [
    {
     "data": {
      "text/plain": [
       "['results/uniformly_random/performance/bestmodelparams_cutoff_10_relthreshold_0_2024_08_04_02_27_21.json',\n",
       " 'results/uniformly_random/performance/bestmodelparams_cutoff_10_relthreshold_0_2024_08_03_06_56_39.json']"
      ]
     },
     "execution_count": 12,
     "metadata": {},
     "output_type": "execute_result"
    }
   ],
   "source": [
    "json_files"
   ]
  },
  {
   "cell_type": "code",
   "execution_count": 9,
   "id": "ba06f6b5-33a2-4519-bebe-467bc92fe231",
   "metadata": {},
   "outputs": [
    {
     "name": "stdout",
     "output_type": "stream",
     "text": [
      "(64,32)\n",
      "(64,64)\n"
     ]
    }
   ],
   "source": [
    "for best_param_file in json_files:\n",
    "    with open(best_param_file) as f:\n",
    "        d = json.load(f)\n",
    "        mlp = d[1]['configuration']['item_mlp']\n",
    "        print(mlp)\n",
    "        best_lr = d[1]['configuration']['lr']"
   ]
  },
  {
   "cell_type": "code",
   "execution_count": null,
   "id": "37acabc3-c53a-4461-be12-96573b642772",
   "metadata": {},
   "outputs": [],
   "source": []
  }
 ],
 "metadata": {
  "kernelspec": {
   "display_name": "Python 3 (ipykernel)",
   "language": "python",
   "name": "python3"
  },
  "language_info": {
   "codemirror_mode": {
    "name": "ipython",
    "version": 3
   },
   "file_extension": ".py",
   "mimetype": "text/x-python",
   "name": "python",
   "nbconvert_exporter": "python",
   "pygments_lexer": "ipython3",
   "version": "3.8.19"
  },
  "widgets": {
   "application/vnd.jupyter.widget-state+json": {
    "state": {},
    "version_major": 2,
    "version_minor": 0
   }
  }
 },
 "nbformat": 4,
 "nbformat_minor": 5
}

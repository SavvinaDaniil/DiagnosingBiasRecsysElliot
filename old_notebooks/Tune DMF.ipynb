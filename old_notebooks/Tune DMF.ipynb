{
 "cells": [
  {
   "cell_type": "code",
   "execution_count": 1,
   "id": "7c6983f5-c678-498b-868a-b77997c04e4d",
   "metadata": {},
   "outputs": [
    {
     "name": "stdout",
     "output_type": "stream",
     "text": [
      "\n",
      "__/\\\\\\\\\\\\\\\\\\\\\\\\\\\\\\___/\\\\\\\\\\\\______/\\\\\\\\\\\\_________________________________________        \n",
      " _\\/\\\\\\///////////___\\////\\\\\\_____\\////\\\\\\_________________________________________       \n",
      "  _\\/\\\\\\_________________\\/\\\\\\________\\/\\\\\\______/\\\\\\_____________________/\\\\\\______      \n",
      "   _\\/\\\\\\\\\\\\\\\\\\\\\\_________\\/\\\\\\________\\/\\\\\\_____\\///_______/\\\\\\\\\\______/\\\\\\\\\\\\\\\\\\\\\\_     \n",
      "    _\\/\\\\\\///////__________\\/\\\\\\________\\/\\\\\\______/\\\\\\____/\\\\\\///\\\\\\___\\////\\\\\\////__    \n",
      "     _\\/\\\\\\_________________\\/\\\\\\________\\/\\\\\\_____\\/\\\\\\___/\\\\\\__\\//\\\\\\_____\\/\\\\\\______   \n",
      "      _\\/\\\\\\_________________\\/\\\\\\________\\/\\\\\\_____\\/\\\\\\__\\//\\\\\\__/\\\\\\______\\/\\\\\\_/\\\\__  \n",
      "       _\\/\\\\\\\\\\\\\\\\\\\\\\\\\\\\\\___/\\\\\\\\\\\\\\\\\\___/\\\\\\\\\\\\\\\\\\__\\/\\\\\\___\\///\\\\\\\\\\/_______\\//\\\\\\\\\\___ \n",
      "        _\\///////////////___\\/////////___\\/////////___\\///______\\/////__________\\/////____\n",
      "Version Number: 0.3.1\n"
     ]
    }
   ],
   "source": [
    "from elliot.run import run_experiment\n",
    "from lib.data_generation import generate_data\n",
    "import zipfile\n",
    "import io\n",
    "import requests\n",
    "import os\n",
    "import pandas as pd\n",
    "import numpy as np\n",
    "import yaml\n",
    "import copy\n",
    "from lenskit import crossfold as xf"
   ]
  },
  {
   "cell_type": "markdown",
   "id": "4e38a62d-453f-4161-83a2-54b3da0064c4",
   "metadata": {},
   "source": [
    "# Tune!"
   ]
  },
  {
   "cell_type": "code",
   "execution_count": 2,
   "id": "e22722a3-8565-4512-980b-342c12862f62",
   "metadata": {},
   "outputs": [],
   "source": [
    "# possible values for the hyperparameters\n",
    "mlp_values = ['(64,32)', '(64,64)']"
   ]
  },
  {
   "cell_type": "code",
   "execution_count": null,
   "id": "d237cf5e-7f98-4337-bca2-68bc96826923",
   "metadata": {},
   "outputs": [
    {
     "name": "stdout",
     "output_type": "stream",
     "text": [
      "We re doing the following:  (64,32)\n",
      "2024-07-15 17:36:33.508446: I Start experiment\n",
      "2024-07-15 17:36:33.537924: I There will be the splitting\n",
      "2024-07-15 17:36:33.587300: I /export/scratch2/home/savvina/new_environment/Elliot/data/fairbook/fairbook_events.tsv - Loaded\n",
      "\n",
      "Realized a Train/Test splitting strategy\n",
      "\n",
      "2024-07-15 17:36:36.426684: I Test Fold 0\n",
      "2024-07-15 17:36:41.734711: I Statistics\tUsers:\t6358\tItems:\t6869\tTransactions:\t68401\tSparsity:\t0.9984337957033599\n",
      "2024-07-15 17:36:44.420089: I Test Fold 1\n",
      "2024-07-15 17:36:49.727617: I Statistics\tUsers:\t6358\tItems:\t6921\tTransactions:\t69865\tSparsity:\t0.9984122932521293\n",
      "2024-07-15 17:36:52.413129: I Test Fold 2\n",
      "2024-07-15 17:36:57.716061: I Statistics\tUsers:\t6358\tItems:\t6921\tTransactions:\t71053\tSparsity:\t0.9983852955334365\n",
      "2024-07-15 17:37:00.396944: I Test Fold 3\n",
      "2024-07-15 17:37:05.710667: I Statistics\tUsers:\t6358\tItems:\t6921\tTransactions:\t72020\tSparsity:\t0.9983633201176318\n",
      "2024-07-15 17:37:08.406015: I Test Fold 4\n",
      "2024-07-15 17:37:13.722239: I Statistics\tUsers:\t6358\tItems:\t6921\tTransactions:\t72869\tSparsity:\t0.9983440262934146\n"
     ]
    },
    {
     "name": "stderr",
     "output_type": "stream",
     "text": [
      "2024-07-15 17:37:16.573224: W tensorflow/stream_executor/platform/default/dso_loader.cc:59] Could not load dynamic library 'libcudart.so.10.1'; dlerror: libcudart.so.10.1: cannot open shared object file: No such file or directory\n",
      "2024-07-15 17:37:16.573256: I tensorflow/stream_executor/cuda/cudart_stub.cc:29] Ignore above cudart dlerror if you do not have a GPU set up on your machine.\n"
     ]
    },
    {
     "name": "stdout",
     "output_type": "stream",
     "text": [
      "2024-07-15 17:37:17.783991: I Tuning begun for DMF\\n\n",
      "2024-07-15 17:37:17.783905: I Loading parameters\n",
      "2024-07-15 17:37:17.785347: I Parameter lr set to 0.01\n",
      "2024-07-15 17:37:17.786504: I Hyperparameter tuning exploration:\n",
      "2024-07-15 17:37:17.786679: I Parameter user_mlp set to [64, 32]\n",
      "2024-07-15 17:37:17.787808: I lr set to 0.01\n",
      "2024-07-15 17:37:17.788091: I Parameter item_mlp set to [64, 32]\n",
      "2024-07-15 17:37:17.789169: I reg set to 0.001\n",
      "2024-07-15 17:37:17.789291: I Parameter neg_ratio set to 5\n",
      "2024-07-15 17:37:17.790403: I Parameter reg set to 0.001\n",
      "2024-07-15 17:37:17.790571: I Exploration: Hyperparameter exploration number 1\n",
      "2024-07-15 17:37:17.791574: I Parameter similarity set to cosine\n",
      "2024-07-15 17:37:17.791848: I Exploration: Test Fold exploration number 1\n",
      "2024-07-15 17:37:17.794162: I Exploration: Train-Validation Fold exploration number 1\n"
     ]
    },
    {
     "name": "stderr",
     "output_type": "stream",
     "text": [
      "2024-07-15 17:37:17.816390: W tensorflow/stream_executor/platform/default/dso_loader.cc:59] Could not load dynamic library 'libcuda.so.1'; dlerror: libcuda.so.1: cannot open shared object file: No such file or directory\n",
      "2024-07-15 17:37:17.816419: W tensorflow/stream_executor/cuda/cuda_driver.cc:312] failed call to cuInit: UNKNOWN ERROR (303)\n",
      "2024-07-15 17:37:17.816444: I tensorflow/stream_executor/cuda/cuda_diagnostics.cc:156] kernel driver does not appear to be running on this host (alice.ia.cwi.nl): /proc/driver/nvidia/version does not exist\n",
      "2024-07-15 17:37:17.816636: I tensorflow/core/platform/cpu_feature_guard.cc:142] This TensorFlow binary is optimized with oneAPI Deep Neural Network Library (oneDNN)to use the following CPU instructions in performance-critical operations:  AVX2 FMA\n",
      "To enable them in other operations, rebuild TensorFlow with the appropriate compiler flags.\n",
      "2024-07-15 17:37:17.832200: I tensorflow/core/platform/profile_utils/cpu_utils.cc:104] CPU Frequency: 1996165000 Hz\n",
      "2024-07-15 17:37:17.840282: I tensorflow/compiler/xla/service/service.cc:168] XLA service 0x8512690 initialized for platform Host (this does not guarantee that XLA will be used). Devices:\n",
      "2024-07-15 17:37:17.840321: I tensorflow/compiler/xla/service/service.cc:176]   StreamExecutor device (0): Host, Default Version\n",
      "1604it [00:30, 53.08it/s, loss=0.37470]                                                                                                                                                                     \n"
     ]
    }
   ],
   "source": [
    "with open('config_files/fairbook_tune.yml', 'r') as f: # open the relevant yaml file\n",
    "    base_config = yaml.safe_load(f)\n",
    "\n",
    "for mlp in mlp_values:\n",
    "    print(\"We re doing the following: \", mlp)\n",
    "    # Make a copy of the base configuration\n",
    "    config = copy.deepcopy(base_config)\n",
    "    # Update the configuration with the current hyperparameters\n",
    "    config['experiment']['models']['DMF']['user_mlp'] = mlp\n",
    "    config['experiment']['models']['DMF']['item_mlp'] = mlp\n",
    "\n",
    "    # Write the configuration to a temporary file\n",
    "    with open('config_files/temp_config.yml', 'w') as f:\n",
    "        yaml.dump(config, f)\n",
    "\n",
    "    # Run the experiment with the current configuration\n",
    "    run_experiment('config_files/temp_config.yml')\n",
    "    \n",
    "    \n",
    "    # Remove the temp file\n",
    "    os.remove('config_files/temp_config.yml')    "
   ]
  }
 ],
 "metadata": {
  "kernelspec": {
   "display_name": "Python 3 (ipykernel)",
   "language": "python",
   "name": "python3"
  },
  "language_info": {
   "codemirror_mode": {
    "name": "ipython",
    "version": 3
   },
   "file_extension": ".py",
   "mimetype": "text/x-python",
   "name": "python",
   "nbconvert_exporter": "python",
   "pygments_lexer": "ipython3",
   "version": "3.8.19"
  },
  "widgets": {
   "application/vnd.jupyter.widget-state+json": {
    "state": {},
    "version_major": 2,
    "version_minor": 0
   }
  }
 },
 "nbformat": 4,
 "nbformat_minor": 5
}

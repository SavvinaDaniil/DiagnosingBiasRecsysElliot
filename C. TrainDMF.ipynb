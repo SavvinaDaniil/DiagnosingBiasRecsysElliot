{
 "cells": [
  {
   "cell_type": "markdown",
   "id": "7477c78d-a41d-40b5-af76-8b980bc540bf",
   "metadata": {},
   "source": [
    "### Import Libraries"
   ]
  },
  {
   "cell_type": "code",
   "execution_count": 1,
   "id": "e364e8c1",
   "metadata": {},
   "outputs": [
    {
     "name": "stdout",
     "output_type": "stream",
     "text": [
      "\n",
      "__/\\\\\\\\\\\\\\\\\\\\\\\\\\\\\\___/\\\\\\\\\\\\______/\\\\\\\\\\\\_________________________________________        \n",
      " _\\/\\\\\\///////////___\\////\\\\\\_____\\////\\\\\\_________________________________________       \n",
      "  _\\/\\\\\\_________________\\/\\\\\\________\\/\\\\\\______/\\\\\\_____________________/\\\\\\______      \n",
      "   _\\/\\\\\\\\\\\\\\\\\\\\\\_________\\/\\\\\\________\\/\\\\\\_____\\///_______/\\\\\\\\\\______/\\\\\\\\\\\\\\\\\\\\\\_     \n",
      "    _\\/\\\\\\///////__________\\/\\\\\\________\\/\\\\\\______/\\\\\\____/\\\\\\///\\\\\\___\\////\\\\\\////__    \n",
      "     _\\/\\\\\\_________________\\/\\\\\\________\\/\\\\\\_____\\/\\\\\\___/\\\\\\__\\//\\\\\\_____\\/\\\\\\______   \n",
      "      _\\/\\\\\\_________________\\/\\\\\\________\\/\\\\\\_____\\/\\\\\\__\\//\\\\\\__/\\\\\\______\\/\\\\\\_/\\\\__  \n",
      "       _\\/\\\\\\\\\\\\\\\\\\\\\\\\\\\\\\___/\\\\\\\\\\\\\\\\\\___/\\\\\\\\\\\\\\\\\\__\\/\\\\\\___\\///\\\\\\\\\\/_______\\//\\\\\\\\\\___ \n",
      "        _\\///////////////___\\/////////___\\/////////___\\///______\\/////__________\\/////____\n",
      "Version Number: 0.3.1\n"
     ]
    }
   ],
   "source": [
    "import ipywidgets as widgets\n",
    "from IPython.display import display\n",
    "from elliot.run import run_experiment\n",
    "from lib import training\n",
    "import os\n",
    "import pandas as pd\n",
    "import numpy as np\n",
    "import yaml\n",
    "import copy\n",
    "from scipy import io"
   ]
  },
  {
   "cell_type": "markdown",
   "id": "46aa7e4e-12be-4383-83d3-d275cca23c06",
   "metadata": {},
   "source": [
    "### Widget"
   ]
  },
  {
   "cell_type": "code",
   "execution_count": 2,
   "id": "0a7baf21-5447-4963-9fd4-14214a2ade4f",
   "metadata": {},
   "outputs": [
    {
     "data": {
      "application/vnd.jupyter.widget-view+json": {
       "model_id": "d973da0b0fa444b18cc06bba98e5c648",
       "version_major": 2,
       "version_minor": 0
      },
      "text/plain": [
       "RadioButtons(description='Choose dataset:', options=('fairbook', 'ml1m', 'epinion', 'synthetic'), value=None)"
      ]
     },
     "metadata": {},
     "output_type": "display_data"
    },
    {
     "data": {
      "application/vnd.jupyter.widget-view+json": {
       "model_id": "d3a5954c94b14fc2b4151b6634d8be6a",
       "version_major": 2,
       "version_minor": 0
      },
      "text/plain": [
       "Button(description='OK', disabled=True, style=ButtonStyle())"
      ]
     },
     "metadata": {},
     "output_type": "display_data"
    },
    {
     "data": {
      "application/vnd.jupyter.widget-view+json": {
       "model_id": "b3b9531c60924f89bd923ae041b0e5fe",
       "version_major": 2,
       "version_minor": 0
      },
      "text/plain": [
       "Output()"
      ]
     },
     "metadata": {},
     "output_type": "display_data"
    }
   ],
   "source": [
    "# Define the list of dataset options\n",
    "dataset_options = ['fairbook', 'ml1m', 'epinion', 'synthetic']\n",
    "\n",
    "# Create a radio button widget\n",
    "rad_button = widgets.RadioButtons(\n",
    "    options=dataset_options,\n",
    "    description='Choose dataset:',\n",
    "    disabled=False,\n",
    "    value=None\n",
    ")\n",
    "\n",
    "# Create an OK button widget\n",
    "ok_button = widgets.Button(\n",
    "    description='OK',\n",
    "    disabled=True\n",
    ")\n",
    "\n",
    "output_radb = widgets.Output()\n",
    "\n",
    "# Variable to store the selected dataset\n",
    "selected_dataset = None\n",
    "\n",
    "# Define a function to handle the selection change in the radio buttons\n",
    "def on_radio_change(change):\n",
    "    global selected_dataset\n",
    "    if change['type'] == 'change' and change['name'] == 'value':\n",
    "        selected_dataset = change['new']\n",
    "        ok_button.disabled = False  # Enable OK button when a dataset is selected\n",
    "\n",
    "# Define a function to handle the OK button click\n",
    "def on_ok_button_clicked(b):\n",
    "    global selected_dataset\n",
    "    with output_radb:\n",
    "        output_radb.clear_output()  # Clear previous output\n",
    "        if selected_dataset:\n",
    "            print(f'Dataset chosen: {selected_dataset}')\n",
    "            # Trigger your tuning process here\n",
    "            training.train(selected_dataset)\n",
    "\n",
    "# Attach the function to the radio button widget\n",
    "rad_button.observe(on_radio_change)\n",
    "\n",
    "# Attach the function to the OK button click\n",
    "ok_button.on_click(on_ok_button_clicked)\n",
    "\n",
    "# Display the radio button widget and the OK button\n",
    "display(rad_button, ok_button, output_radb)\n"
   ]
  }
 ],
 "metadata": {
  "kernelspec": {
   "display_name": "Python 3 (ipykernel)",
   "language": "python",
   "name": "python3"
  },
  "language_info": {
   "codemirror_mode": {
    "name": "ipython",
    "version": 3
   },
   "file_extension": ".py",
   "mimetype": "text/x-python",
   "name": "python",
   "nbconvert_exporter": "python",
   "pygments_lexer": "ipython3",
   "version": "3.8.19"
  },
  "widgets": {
   "application/vnd.jupyter.widget-state+json": {
    "state": {
     "4a0040cdddf849a08446ce152e249f28": {
      "model_module": "@jupyter-widgets/base",
      "model_module_version": "2.0.0",
      "model_name": "LayoutModel",
      "state": {}
     },
     "5396d8b857964d9293159391aaa8973e": {
      "model_module": "@jupyter-widgets/base",
      "model_module_version": "2.0.0",
      "model_name": "LayoutModel",
      "state": {}
     },
     "8b09fd0fcc534639886ba5cbd23c4f0c": {
      "model_module": "@jupyter-widgets/controls",
      "model_module_version": "2.0.0",
      "model_name": "ButtonStyleModel",
      "state": {
       "font_family": null,
       "font_size": null,
       "font_style": null,
       "font_variant": null,
       "font_weight": null,
       "text_color": null,
       "text_decoration": null
      }
     },
     "b3b9531c60924f89bd923ae041b0e5fe": {
      "model_module": "@jupyter-widgets/output",
      "model_module_version": "1.0.0",
      "model_name": "OutputModel",
      "state": {
       "layout": "IPY_MODEL_e2a2b950772341c69964f9271d657a88",
       "outputs": [
        {
         "name": "stdout",
         "output_type": "stream",
         "text": "Dataset chosen: epinion\nCurrently unavailable.\n"
        }
       ]
      }
     },
     "d3a5954c94b14fc2b4151b6634d8be6a": {
      "model_module": "@jupyter-widgets/controls",
      "model_module_version": "2.0.0",
      "model_name": "ButtonModel",
      "state": {
       "description": "OK",
       "layout": "IPY_MODEL_5396d8b857964d9293159391aaa8973e",
       "style": "IPY_MODEL_8b09fd0fcc534639886ba5cbd23c4f0c",
       "tooltip": null
      }
     },
     "d973da0b0fa444b18cc06bba98e5c648": {
      "model_module": "@jupyter-widgets/controls",
      "model_module_version": "2.0.0",
      "model_name": "RadioButtonsModel",
      "state": {
       "_options_labels": [
        "fairbook",
        "ml1m",
        "epinion",
        "synthetic"
       ],
       "description": "Choose dataset:",
       "index": 2,
       "layout": "IPY_MODEL_4a0040cdddf849a08446ce152e249f28",
       "style": "IPY_MODEL_e2619b3f840b4b81b430b8b458090534"
      }
     },
     "e2619b3f840b4b81b430b8b458090534": {
      "model_module": "@jupyter-widgets/controls",
      "model_module_version": "2.0.0",
      "model_name": "DescriptionStyleModel",
      "state": {
       "description_width": ""
      }
     },
     "e2a2b950772341c69964f9271d657a88": {
      "model_module": "@jupyter-widgets/base",
      "model_module_version": "2.0.0",
      "model_name": "LayoutModel",
      "state": {}
     }
    },
    "version_major": 2,
    "version_minor": 0
   }
  }
 },
 "nbformat": 4,
 "nbformat_minor": 5
}

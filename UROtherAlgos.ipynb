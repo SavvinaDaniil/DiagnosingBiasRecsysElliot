{
 "cells": [
  {
   "cell_type": "code",
   "execution_count": 2,
   "id": "c0a83484-80a5-4772-9df2-52a45c40d8df",
   "metadata": {
    "scrolled": true
   },
   "outputs": [
    {
     "name": "stdout",
     "output_type": "stream",
     "text": [
      "\n",
      "__/\\\\\\\\\\\\\\\\\\\\\\\\\\\\\\___/\\\\\\\\\\\\______/\\\\\\\\\\\\_________________________________________        \n",
      " _\\/\\\\\\///////////___\\////\\\\\\_____\\////\\\\\\_________________________________________       \n",
      "  _\\/\\\\\\_________________\\/\\\\\\________\\/\\\\\\______/\\\\\\_____________________/\\\\\\______      \n",
      "   _\\/\\\\\\\\\\\\\\\\\\\\\\_________\\/\\\\\\________\\/\\\\\\_____\\///_______/\\\\\\\\\\______/\\\\\\\\\\\\\\\\\\\\\\_     \n",
      "    _\\/\\\\\\///////__________\\/\\\\\\________\\/\\\\\\______/\\\\\\____/\\\\\\///\\\\\\___\\////\\\\\\////__    \n",
      "     _\\/\\\\\\_________________\\/\\\\\\________\\/\\\\\\_____\\/\\\\\\___/\\\\\\__\\//\\\\\\_____\\/\\\\\\______   \n",
      "      _\\/\\\\\\_________________\\/\\\\\\________\\/\\\\\\_____\\/\\\\\\__\\//\\\\\\__/\\\\\\______\\/\\\\\\_/\\\\__  \n",
      "       _\\/\\\\\\\\\\\\\\\\\\\\\\\\\\\\\\___/\\\\\\\\\\\\\\\\\\___/\\\\\\\\\\\\\\\\\\__\\/\\\\\\___\\///\\\\\\\\\\/_______\\//\\\\\\\\\\___ \n",
      "        _\\///////////////___\\/////////___\\/////////___\\///______\\/////__________\\/////____\n",
      "Version Number: 0.3.1\n"
     ]
    }
   ],
   "source": [
    "from elliot.run import run_experiment\n",
    "import zipfile\n",
    "import io\n",
    "import requests\n",
    "import os\n",
    "import pandas as pd\n",
    "import numpy as np"
   ]
  },
  {
   "cell_type": "markdown",
   "id": "ca12f851",
   "metadata": {},
   "source": [
    "### List of algorithms for explicit ratings\n",
    "1. DMF\n",
    "2. SLIM?\n",
    "3. EASE_R?"
   ]
  },
  {
   "cell_type": "code",
   "execution_count": 3,
   "id": "9e86141b-c7a1-4031-8a04-c980a36ed984",
   "metadata": {},
   "outputs": [],
   "source": [
    "ur1_train = pd.read_csv('elliot/data/uniformly_random/uniformly_random_fold_1_train.csv')\n",
    "ur1_test = pd.read_csv('elliot/data/uniformly_random/uniformly_random_fold_1_test.csv')"
   ]
  },
  {
   "cell_type": "code",
   "execution_count": 4,
   "id": "f6606f8d-d488-4258-98a0-f15e5adeea71",
   "metadata": {},
   "outputs": [],
   "source": [
    "np.savetxt('elliot/data/uniformly_random/ur1_train.tsv', ur1_train,delimiter='\\t',fmt='%i')\n",
    "np.savetxt('elliot/data/uniformly_random/ur1_test.tsv', ur1_test,delimiter='\\t',fmt='%i')"
   ]
  },
  {
   "cell_type": "code",
   "execution_count": 5,
   "id": "207fb53e-e515-48f2-8db9-01ca3975ea41",
   "metadata": {},
   "outputs": [
    {
     "name": "stdout",
     "output_type": "stream",
     "text": [
      "2024-02-22 15:37:38.051462: I Start experiment\n",
      "2024-02-22 15:37:38.142027: I /export/scratch2/home/savvina/new_environment/Elliot/elliot/data/uniformly_random/ur1_train.tsv - Loaded\n",
      "2024-02-22 15:37:38.160097: I Test Fold 0\n",
      "2024-02-22 15:37:43.768645: I Statistics\tUsers:\t6358\tItems:\t6921\tTransactions:\t85028\tSparsity:\t0.9980677087331575\n"
     ]
    },
    {
     "name": "stderr",
     "output_type": "stream",
     "text": [
      "2024-02-22 15:37:46.803235: W tensorflow/stream_executor/platform/default/dso_loader.cc:59] Could not load dynamic library 'libcudart.so.10.1'; dlerror: libcudart.so.10.1: cannot open shared object file: No such file or directory\n",
      "2024-02-22 15:37:46.803269: I tensorflow/stream_executor/cuda/cudart_stub.cc:29] Ignore above cudart dlerror if you do not have a GPU set up on your machine.\n"
     ]
    },
    {
     "name": "stdout",
     "output_type": "stream",
     "text": [
      "2024-02-22 15:37:47.971949: I Training begun for DMF\\n\n",
      "2024-02-22 15:37:47.971815: I Loading parameters\n",
      "2024-02-22 15:37:47.974808: I Hyperparameters:\n",
      "2024-02-22 15:37:47.975045: I Parameter lr set to 0.0001\n",
      "2024-02-22 15:37:47.976295: I Parameter user_mlp set to [64, 32]\n",
      "2024-02-22 15:37:47.977500: I meta set to namespace(save_recs=True)\n",
      "2024-02-22 15:37:47.977797: I Parameter item_mlp set to [64, 32]\n",
      "2024-02-22 15:37:47.979133: I Parameter neg_ratio set to 5\n",
      "2024-02-22 15:37:47.980230: I epochs set to 10\n",
      "2024-02-22 15:37:47.980500: I Parameter reg set to 0.001\n",
      "2024-02-22 15:37:47.981706: I Parameter similarity set to cosine\n",
      "2024-02-22 15:37:47.981944: I batch_size set to 512\n",
      "2024-02-22 15:37:47.983299: I lr set to 0.0001\n",
      "2024-02-22 15:37:47.992513: I reg set to 0.001\n",
      "2024-02-22 15:37:48.004186: I user_mlp set to (64,32)\n",
      "2024-02-22 15:37:48.047913: I item_mlp set to (64,32)\n",
      "2024-02-22 15:37:48.049555: I similarity set to cosine\n",
      "2024-02-22 15:37:48.050893: I Exploration: Test Fold exploration number 1\n",
      "2024-02-22 15:37:48.054017: I Exploration: Train-Validation Fold exploration number 1\n"
     ]
    },
    {
     "name": "stderr",
     "output_type": "stream",
     "text": [
      "2024-02-22 15:37:48.011486: W tensorflow/stream_executor/platform/default/dso_loader.cc:59] Could not load dynamic library 'libcuda.so.1'; dlerror: libcuda.so.1: cannot open shared object file: No such file or directory\n",
      "2024-02-22 15:37:48.011527: W tensorflow/stream_executor/cuda/cuda_driver.cc:312] failed call to cuInit: UNKNOWN ERROR (303)\n",
      "2024-02-22 15:37:48.011555: I tensorflow/stream_executor/cuda/cuda_diagnostics.cc:156] kernel driver does not appear to be running on this host (alice.ia.cwi.nl): /proc/driver/nvidia/version does not exist\n",
      "2024-02-22 15:37:48.011801: I tensorflow/core/platform/cpu_feature_guard.cc:142] This TensorFlow binary is optimized with oneAPI Deep Neural Network Library (oneDNN)to use the following CPU instructions in performance-critical operations:  AVX2 FMA\n",
      "To enable them in other operations, rebuild TensorFlow with the appropriate compiler flags.\n",
      "2024-02-22 15:37:48.028152: I tensorflow/core/platform/profile_utils/cpu_utils.cc:104] CPU Frequency: 1996120000 Hz\n",
      "2024-02-22 15:37:48.035921: I tensorflow/compiler/xla/service/service.cc:168] XLA service 0x21f0b80 initialized for platform Host (this does not guarantee that XLA will be used). Devices:\n",
      "2024-02-22 15:37:48.035971: I tensorflow/compiler/xla/service/service.cc:176]   StreamExecutor device (0): Host, Default Version\n",
      "2024-02-22 15:38:17.596319: W tensorflow/core/framework/cpu_allocator_impl.cc:81] Allocation of 90119614464 exceeds 10% of free system memory.\n",
      "2024-02-22 15:38:17.596560: W tensorflow/core/framework/cpu_allocator_impl.cc:81] Allocation of 98099693568 exceeds 10% of free system memory.\n",
      "2024-02-22 15:38:53.713447: W tensorflow/core/framework/cpu_allocator_impl.cc:81] Allocation of 90119614464 exceeds 10% of free system memory.\n",
      "2024-02-22 15:38:53.713475: W tensorflow/core/framework/cpu_allocator_impl.cc:81] Allocation of 98099693568 exceeds 10% of free system memory.\n",
      "2024-02-22 15:39:30.231316: W tensorflow/core/framework/cpu_allocator_impl.cc:81] Allocation of 90119614464 exceeds 10% of free system memory.\n"
     ]
    },
    {
     "name": "stdout",
     "output_type": "stream",
     "text": [
      "2024-02-22 15:45:49.703551: I \n",
      "2024-02-22 15:45:49.703187: I Epoch 1/10 loss 312.19019\n",
      "2024-02-22 15:45:49.706540: I Writing recommendations at: /export/scratch2/home/savvina/new_environment/Elliot/elliot/results/ur1/recs\n",
      "2024-02-22 15:45:49.709176: I Test Evaluation results\n",
      "2024-02-22 15:45:49.834155: I ******************************************\n",
      "2024-02-22 15:45:49.835729: I Cut-off: 10\n",
      "2024-02-22 15:45:49.856930: I Eval Time: 0.05399513244628906\n",
      "2024-02-22 15:45:49.859397: I Results\n",
      "2024-02-22 15:45:49.861162: I nDCG\t0.00119\n",
      "2024-02-22 15:53:45.706129: I \n",
      "2024-02-22 15:53:45.705968: I Epoch 2/10 loss 73.73036\n",
      "2024-02-22 15:53:45.709118: I Test Evaluation results\n",
      "2024-02-22 15:53:45.709323: I Writing recommendations at: /export/scratch2/home/savvina/new_environment/Elliot/elliot/results/ur1/recs\n",
      "2024-02-22 15:53:45.710800: I Cut-off: 10\n",
      "2024-02-22 15:53:45.782340: I Eval Time: 0.053360939025878906\n",
      "2024-02-22 15:53:45.858710: I Results\n",
      "2024-02-22 15:53:45.874501: I nDCG\t0.0009\n",
      "2024-02-22 16:01:39.180513: I \n",
      "2024-02-22 16:01:39.180335: I Epoch 3/10 loss 32.57288\n",
      "2024-02-22 16:01:39.183775: I Test Evaluation results\n",
      "2024-02-22 16:01:39.183630: I Writing recommendations at: /export/scratch2/home/savvina/new_environment/Elliot/elliot/results/ur1/recs\n",
      "2024-02-22 16:01:39.185508: I Cut-off: 10\n",
      "2024-02-22 16:01:39.187790: I Eval Time: 0.040268659591674805\n",
      "2024-02-22 16:01:39.220481: I Results\n",
      "2024-02-22 16:01:39.336172: I nDCG\t0.00068\n",
      "2024-02-22 16:09:34.028786: I \n",
      "2024-02-22 16:09:34.028591: I Epoch 4/10 loss 18.32843\n",
      "2024-02-22 16:09:34.031171: I Test Evaluation results\n",
      "2024-02-22 16:09:34.032464: I Writing recommendations at: /export/scratch2/home/savvina/new_environment/Elliot/elliot/results/ur1/recs\n",
      "2024-02-22 16:09:34.033849: I Cut-off: 10\n",
      "2024-02-22 16:09:34.082664: I Eval Time: 0.05355691909790039\n",
      "2024-02-22 16:09:34.190365: I Results\n",
      "2024-02-22 16:09:34.192697: I nDCG\t0.00028\n",
      "2024-02-22 16:17:28.913424: I \n",
      "2024-02-22 16:17:28.913174: I Epoch 5/10 loss 11.72228\n",
      "2024-02-22 16:17:28.915662: I Writing recommendations at: /export/scratch2/home/savvina/new_environment/Elliot/elliot/results/ur1/recs\n",
      "2024-02-22 16:17:28.917037: I Test Evaluation results\n",
      "2024-02-22 16:17:28.918600: I Cut-off: 10\n",
      "2024-02-22 16:17:29.003271: I Eval Time: 0.05369710922241211\n",
      "2024-02-22 16:17:29.079444: I Results\n",
      "2024-02-22 16:17:29.082536: I nDCG\t0.00088\n",
      "2024-02-22 16:25:23.681286: I \n",
      "2024-02-22 16:25:23.681050: I Epoch 6/10 loss 8.18690\n",
      "2024-02-22 16:25:23.684644: I Test Evaluation results\n",
      "2024-02-22 16:25:23.684924: I Writing recommendations at: /export/scratch2/home/savvina/new_environment/Elliot/elliot/results/ur1/recs\n",
      "2024-02-22 16:25:23.687642: I Cut-off: 10\n",
      "2024-02-22 16:25:23.846313: I Eval Time: 0.05264425277709961\n",
      "2024-02-22 16:25:23.850153: I Results\n",
      "2024-02-22 16:25:23.852050: I nDCG\t0.0005\n",
      "2024-02-22 16:33:19.834284: I \n",
      "2024-02-22 16:33:19.834047: I Epoch 7/10 loss 5.96739\n",
      "2024-02-22 16:33:19.837376: I Test Evaluation results\n",
      "2024-02-22 16:33:19.837602: I Writing recommendations at: /export/scratch2/home/savvina/new_environment/Elliot/elliot/results/ur1/recs\n",
      "2024-02-22 16:33:19.840770: I Cut-off: 10\n",
      "2024-02-22 16:33:19.985923: I Eval Time: 0.05458211898803711\n",
      "2024-02-22 16:33:19.999506: I Results\n",
      "2024-02-22 16:33:20.001908: I nDCG\t0.0008\n",
      "2024-02-22 16:41:14.725144: I \n",
      "2024-02-22 16:41:14.724883: I Epoch 8/10 loss 4.57911\n",
      "2024-02-22 16:41:14.727000: I Writing recommendations at: /export/scratch2/home/savvina/new_environment/Elliot/elliot/results/ur1/recs\n",
      "2024-02-22 16:41:14.728173: I Test Evaluation results\n",
      "2024-02-22 16:41:14.864347: I Cut-off: 10\n",
      "2024-02-22 16:41:14.864734: I ******************************************\n",
      "2024-02-22 16:41:14.880413: I Eval Time: 0.05423307418823242\n",
      "2024-02-22 16:41:14.889152: I Results\n",
      "2024-02-22 16:41:14.891220: I nDCG\t0.0012\n"
     ]
    }
   ],
   "source": [
    "run_experiment(os.getcwd()+'/elliot/config_files/ur1other.yml')"
   ]
  },
  {
   "cell_type": "code",
   "execution_count": null,
   "id": "04d09b46",
   "metadata": {},
   "outputs": [],
   "source": []
  }
 ],
 "metadata": {
  "kernelspec": {
   "display_name": "Python 3 (ipykernel)",
   "language": "python",
   "name": "python3"
  },
  "language_info": {
   "codemirror_mode": {
    "name": "ipython",
    "version": 3
   },
   "file_extension": ".py",
   "mimetype": "text/x-python",
   "name": "python",
   "nbconvert_exporter": "python",
   "pygments_lexer": "ipython3",
   "version": "3.8.18"
  }
 },
 "nbformat": 4,
 "nbformat_minor": 5
}

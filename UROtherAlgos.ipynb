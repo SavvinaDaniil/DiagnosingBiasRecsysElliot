{
 "cells": [
  {
   "cell_type": "code",
   "execution_count": null,
   "id": "c0a83484-80a5-4772-9df2-52a45c40d8df",
   "metadata": {
    "scrolled": true
   },
   "outputs": [],
   "source": [
    "from elliot.run import run_experiment\n",
    "import zipfile\n",
    "import io\n",
    "import requests\n",
    "import os\n",
    "import pandas as pd\n",
    "import numpy as np"
   ]
  },
  {
   "cell_type": "markdown",
   "id": "ca12f851",
   "metadata": {},
   "source": [
    "### List of algorithms for explicit ratings\n",
    "1. DMF\n",
    "2. SLIM?\n",
    "3. EASE_R?"
   ]
  },
  {
   "cell_type": "code",
   "execution_count": null,
   "id": "9e86141b-c7a1-4031-8a04-c980a36ed984",
   "metadata": {},
   "outputs": [],
   "source": [
    "ur1_train = pd.read_csv('elliot/data/uniformly_random/uniformly_random_fold_1_train.csv')\n",
    "ur1_test = pd.read_csv('elliot/data/uniformly_random/uniformly_random_fold_1_test.csv')"
   ]
  },
  {
   "cell_type": "code",
   "execution_count": 4,
   "id": "f6606f8d-d488-4258-98a0-f15e5adeea71",
   "metadata": {},
   "outputs": [],
   "source": [
    "np.savetxt('elliot/data/popularity_bad/pop_bad1_train.tsv', pop_bad1_train,delimiter='\\t',fmt='%i')\n",
    "np.savetxt('elliot/data/popularity_bad/pop_bad1_test.tsv', pop_bad1_test,delimiter='\\t',fmt='%i')"
   ]
  },
  {
   "cell_type": "code",
   "execution_count": 12,
   "id": "207fb53e-e515-48f2-8db9-01ca3975ea41",
   "metadata": {},
   "outputs": [
    {
     "name": "stdout",
     "output_type": "stream",
     "text": [
      "2024-02-21 14:09:54.423492: I Start experiment\n"
     ]
    },
    {
     "name": "stdout",
     "output_type": "stream",
     "text": [
      "2024-02-21 14:09:54.482785: I /export/scratch2/home/savvina/new_environment/Elliot/elliot/data/popularity_bad/pop_bad1_train.tsv - Loaded\n",
      "2024-02-21 14:09:54.499092: I Test Fold 0\n",
      "2024-02-21 14:10:00.073074: I Statistics\tUsers:\t6358\tItems:\t6921\tTransactions:\t85028\tSparsity:\t0.9980677087331575\n",
      "2024-02-21 14:10:02.944004: I Loading parameters\n",
      "2024-02-21 14:10:02.944235: I Training begun for DMF\\n\n",
      "2024-02-21 14:10:02.945996: I Parameter lr set to 0.0001\n",
      "2024-02-21 14:10:02.946211: I Hyperparameters:\n",
      "2024-02-21 14:10:02.947676: I Parameter user_mlp set to [64, 32]\n",
      "2024-02-21 14:10:02.947877: I meta set to namespace(save_recs=True)\n",
      "2024-02-21 14:10:02.949281: I Parameter item_mlp set to [64, 32]\n",
      "2024-02-21 14:10:02.950400: I Parameter neg_ratio set to 5\n",
      "2024-02-21 14:10:02.951457: I epochs set to 10\n",
      "2024-02-21 14:10:02.951808: I Parameter reg set to 0.001\n",
      "2024-02-21 14:10:02.953103: I batch_size set to 512\n",
      "2024-02-21 14:10:02.954425: I Parameter similarity set to cosine\n",
      "2024-02-21 14:10:02.955658: I lr set to 0.0001\n",
      "2024-02-21 14:10:02.965545: I reg set to 0.001\n",
      "2024-02-21 14:10:02.979123: I user_mlp set to (64,32)\n",
      "2024-02-21 14:10:02.987172: I item_mlp set to (64,32)\n",
      "2024-02-21 14:10:02.989874: I similarity set to cosine\n",
      "2024-02-21 14:10:02.992006: I Exploration: Test Fold exploration number 1\n",
      "2024-02-21 14:10:02.994245: I Exploration: Train-Validation Fold exploration number 1\n"
     ]
    },
    {
     "name": "stderr",
     "output_type": "stream",
     "text": [
      "2024-02-21 14:10:38.135376: W tensorflow/core/framework/cpu_allocator_impl.cc:81] Allocation of 90119614464 exceeds 10% of free system memory.\n",
      "2024-02-21 14:10:38.135388: W tensorflow/core/framework/cpu_allocator_impl.cc:81] Allocation of 98099693568 exceeds 10% of free system memory.\n",
      "2024-02-21 14:11:17.823874: W tensorflow/core/framework/cpu_allocator_impl.cc:81] Allocation of 98099693568 exceeds 10% of free system memory.\n",
      "2024-02-21 14:11:17.823906: W tensorflow/core/framework/cpu_allocator_impl.cc:81] Allocation of 90119614464 exceeds 10% of free system memory.\n",
      "2024-02-21 14:11:56.376613: W tensorflow/core/framework/cpu_allocator_impl.cc:81] Allocation of 98099693568 exceeds 10% of free system memory.\n"
     ]
    },
    {
     "name": "stdout",
     "output_type": "stream",
     "text": [
      "2024-02-21 14:18:45.537684: I \n",
      "2024-02-21 14:18:45.537393: I Epoch 1/10 loss 487.00824\n",
      "2024-02-21 14:18:45.541393: I Writing recommendations at: /export/scratch2/home/savvina/new_environment/Elliot/elliot/results/pop_bad1/recs\n",
      "2024-02-21 14:18:45.542945: I Test Evaluation results\n",
      "2024-02-21 14:18:45.544184: I Cut-off: 10\n",
      "2024-02-21 14:18:45.548209: I Eval Time: 0.05512118339538574\n",
      "2024-02-21 14:18:45.619600: I Results\n",
      "2024-02-21 14:18:45.623861: I nDCG\t0.00084\n",
      "2024-02-21 14:18:45.682899: I ******************************************\n",
      "2024-02-21 14:27:13.109407: I \n",
      "2024-02-21 14:27:13.109205: I Epoch 2/10 loss 113.74577\n",
      "2024-02-21 14:27:13.111974: I Writing recommendations at: /export/scratch2/home/savvina/new_environment/Elliot/elliot/results/pop_bad1/recs\n",
      "2024-02-21 14:27:13.113408: I Test Evaluation results\n",
      "2024-02-21 14:27:13.130006: I Cut-off: 10\n",
      "2024-02-21 14:27:13.267287: I Eval Time: 0.05296635627746582\n",
      "2024-02-21 14:27:13.272023: I Results\n",
      "2024-02-21 14:27:13.273138: I nDCG\t0.00074\n",
      "2024-02-21 14:35:37.606260: I \n",
      "2024-02-21 14:35:37.606025: I Epoch 3/10 loss 50.30347\n",
      "2024-02-21 14:35:37.609123: I Writing recommendations at: /export/scratch2/home/savvina/new_environment/Elliot/elliot/results/pop_bad1/recs\n",
      "2024-02-21 14:35:37.609879: I Test Evaluation results\n",
      "2024-02-21 14:35:37.612304: I Cut-off: 10\n",
      "2024-02-21 14:35:37.748434: I ******************************************\n",
      "2024-02-21 14:35:37.751404: I Eval Time: 0.05356574058532715\n",
      "2024-02-21 14:35:37.771801: I Results\n",
      "2024-02-21 14:35:37.775409: I nDCG\t0.00138\n",
      "2024-02-21 14:43:41.958774: I \n",
      "2024-02-21 14:43:41.958530: I Epoch 4/10 loss 28.19844\n",
      "2024-02-21 14:43:41.962110: I Test Evaluation results\n",
      "2024-02-21 14:43:41.962323: I Writing recommendations at: /export/scratch2/home/savvina/new_environment/Elliot/elliot/results/pop_bad1/recs\n",
      "2024-02-21 14:43:42.039045: I Cut-off: 10\n",
      "2024-02-21 14:43:42.120256: I Eval Time: 0.054486751556396484\n",
      "2024-02-21 14:43:42.122007: I Results\n",
      "2024-02-21 14:43:42.123498: I nDCG\t0.00135\n",
      "2024-02-21 14:51:40.110438: I \n",
      "2024-02-21 14:51:40.110199: I Epoch 5/10 loss 18.03715\n",
      "2024-02-21 14:51:40.113471: I Writing recommendations at: /export/scratch2/home/savvina/new_environment/Elliot/elliot/results/pop_bad1/recs\n",
      "2024-02-21 14:51:40.115366: I Test Evaluation results\n",
      "2024-02-21 14:51:40.119130: I Cut-off: 10\n",
      "2024-02-21 14:51:40.179482: I Eval Time: 0.047530412673950195\n",
      "2024-02-21 14:51:40.283915: I Results\n",
      "2024-02-21 14:51:40.288522: I nDCG\t0.00093\n",
      "2024-02-21 15:00:55.671641: I \n",
      "2024-02-21 15:00:55.671331: I Epoch 6/10 loss 12.56525\n",
      "2024-02-21 15:00:55.673737: I Test Evaluation results\n",
      "2024-02-21 15:00:55.673589: I Writing recommendations at: /export/scratch2/home/savvina/new_environment/Elliot/elliot/results/pop_bad1/recs\n",
      "2024-02-21 15:00:55.675078: I Cut-off: 10\n",
      "2024-02-21 15:00:55.734510: I Eval Time: 0.05397534370422363\n",
      "2024-02-21 15:00:55.736457: I Results\n",
      "2024-02-21 15:00:55.752459: I nDCG\t0.00012\n",
      "2024-02-21 15:10:41.512339: I \n",
      "2024-02-21 15:10:41.512103: I Epoch 7/10 loss 9.14054\n",
      "2024-02-21 15:10:41.514908: I Writing recommendations at: /export/scratch2/home/savvina/new_environment/Elliot/elliot/results/pop_bad1/recs\n",
      "2024-02-21 15:10:41.515460: I Test Evaluation results\n",
      "2024-02-21 15:10:41.518219: I Cut-off: 10\n",
      "2024-02-21 15:10:41.587345: I Eval Time: 0.053217411041259766\n",
      "2024-02-21 15:10:41.594350: I Results\n",
      "2024-02-21 15:10:41.681479: I nDCG\t0.00066\n",
      "2024-02-21 15:20:36.821170: I \n",
      "2024-02-21 15:20:36.820997: I Epoch 8/10 loss 7.03832\n",
      "2024-02-21 15:20:36.824541: I Writing recommendations at: /export/scratch2/home/savvina/new_environment/Elliot/elliot/results/pop_bad1/recs\n",
      "2024-02-21 15:20:36.824715: I Test Evaluation results\n",
      "2024-02-21 15:20:36.827360: I Cut-off: 10\n",
      "2024-02-21 15:20:36.908383: I Eval Time: 0.054223060607910156\n",
      "2024-02-21 15:20:36.917399: I Results\n",
      "2024-02-21 15:20:36.920179: I nDCG\t0.00026\n",
      "2024-02-21 15:30:17.265284: I \n",
      "2024-02-21 15:30:17.265024: I Epoch 9/10 loss 5.51593\n",
      "2024-02-21 15:30:17.267837: I Writing recommendations at: /export/scratch2/home/savvina/new_environment/Elliot/elliot/results/pop_bad1/recs\n",
      "2024-02-21 15:30:17.268253: I Test Evaluation results\n",
      "2024-02-21 15:30:17.270976: I Cut-off: 10\n",
      "2024-02-21 15:30:17.409691: I Eval Time: 0.05306529998779297\n",
      "2024-02-21 15:30:17.421246: I Results\n",
      "2024-02-21 15:30:17.424501: I nDCG\t0.00023\n",
      "2024-02-21 15:40:05.785085: I \n",
      "2024-02-21 15:40:05.784800: I Epoch 10/10 loss 4.49368\n",
      "2024-02-21 15:40:05.788608: I Writing recommendations at: /export/scratch2/home/savvina/new_environment/Elliot/elliot/results/pop_bad1/recs\n",
      "2024-02-21 15:40:05.788930: I Test Evaluation results\n",
      "2024-02-21 15:40:05.790422: I Cut-off: 10\n",
      "2024-02-21 15:40:05.791730: I Eval Time: 0.05322909355163574\n",
      "2024-02-21 15:40:05.795099: I Results\n",
      "2024-02-21 15:40:05.915689: I nDCG\t0.00023\n",
      "2024-02-21 15:40:05.939463: I Training ended for DMF\n",
      "2024-02-21 15:40:05.942740: I Loss:\\t-0.0013802084783595423\n",
      "2024-02-21 15:40:05.944326: I Best Model params:\\t{'meta': namespace(save_recs=True), 'epochs': 10, 'batch_size': 512, 'lr': 0.0001, 'reg': 0.001, 'user_mlp': '(64,32)', 'item_mlp': '(64,32)', 'similarity': 'cosine', 'name': 'DMF_seed=42_e=10_bs=512_lr=0$0001_umlp=64-32_imlp=64-32_negratio=5_reg=0$001_sim=cosine', 'best_iteration': 3}\n",
      "2024-02-21 15:40:05.946462: I Best Model results:\\t{10: {'nDCG': 0.0013802084783595423}}\n",
      "2024-02-21 15:40:05.953797: I End experiment\n"
     ]
    }
   ],
   "source": [
    "run_experiment(os.getcwd()+'/elliot/config_files/pop_bad1other.yml')"
   ]
  }
 ],
 "metadata": {
  "kernelspec": {
   "display_name": "Python 3 (ipykernel)",
   "language": "python",
   "name": "python3"
  },
  "language_info": {
   "codemirror_mode": {
    "name": "ipython",
    "version": 3
   },
   "file_extension": ".py",
   "mimetype": "text/x-python",
   "name": "python",
   "nbconvert_exporter": "python",
   "pygments_lexer": "ipython3",
   "version": "3.8.18"
  }
 },
 "nbformat": 4,
 "nbformat_minor": 5
}

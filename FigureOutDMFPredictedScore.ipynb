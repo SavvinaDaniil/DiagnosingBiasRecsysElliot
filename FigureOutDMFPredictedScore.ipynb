{
 "cells": [
  {
   "cell_type": "code",
   "execution_count": 1,
   "id": "7c6983f5-c678-498b-868a-b77997c04e4d",
   "metadata": {},
   "outputs": [
    {
     "name": "stdout",
     "output_type": "stream",
     "text": [
      "\n",
      "__/\\\\\\\\\\\\\\\\\\\\\\\\\\\\\\___/\\\\\\\\\\\\______/\\\\\\\\\\\\_________________________________________        \n",
      " _\\/\\\\\\///////////___\\////\\\\\\_____\\////\\\\\\_________________________________________       \n",
      "  _\\/\\\\\\_________________\\/\\\\\\________\\/\\\\\\______/\\\\\\_____________________/\\\\\\______      \n",
      "   _\\/\\\\\\\\\\\\\\\\\\\\\\_________\\/\\\\\\________\\/\\\\\\_____\\///_______/\\\\\\\\\\______/\\\\\\\\\\\\\\\\\\\\\\_     \n",
      "    _\\/\\\\\\///////__________\\/\\\\\\________\\/\\\\\\______/\\\\\\____/\\\\\\///\\\\\\___\\////\\\\\\////__    \n",
      "     _\\/\\\\\\_________________\\/\\\\\\________\\/\\\\\\_____\\/\\\\\\___/\\\\\\__\\//\\\\\\_____\\/\\\\\\______   \n",
      "      _\\/\\\\\\_________________\\/\\\\\\________\\/\\\\\\_____\\/\\\\\\__\\//\\\\\\__/\\\\\\______\\/\\\\\\_/\\\\__  \n",
      "       _\\/\\\\\\\\\\\\\\\\\\\\\\\\\\\\\\___/\\\\\\\\\\\\\\\\\\___/\\\\\\\\\\\\\\\\\\__\\/\\\\\\___\\///\\\\\\\\\\/_______\\//\\\\\\\\\\___ \n",
      "        _\\///////////////___\\/////////___\\/////////___\\///______\\/////__________\\/////____\n",
      "Version Number: 0.3.1\n"
     ]
    }
   ],
   "source": [
    "from elliot.run import run_experiment\n",
    "from lib.data_generation import generate_data\n",
    "import zipfile\n",
    "import io\n",
    "import requests\n",
    "import os\n",
    "import pandas as pd\n",
    "import numpy as np\n",
    "import yaml\n",
    "import copy\n",
    "from lenskit import crossfold as xf"
   ]
  },
  {
   "cell_type": "markdown",
   "id": "4e38a62d-453f-4161-83a2-54b3da0064c4",
   "metadata": {},
   "source": [
    "# Tune!"
   ]
  },
  {
   "cell_type": "code",
   "execution_count": 2,
   "id": "e22722a3-8565-4512-980b-342c12862f62",
   "metadata": {},
   "outputs": [],
   "source": [
    "# possible values for the hyperparameters\n",
    "mlp_values = ['(64,32)']"
   ]
  },
  {
   "cell_type": "code",
   "execution_count": null,
   "id": "d237cf5e-7f98-4337-bca2-68bc96826923",
   "metadata": {},
   "outputs": [
    {
     "name": "stdout",
     "output_type": "stream",
     "text": [
      "We re doing the following:  (64,32)\n",
      "2024-07-29 15:35:47.392928: I Start experiment\n",
      "2024-07-29 15:35:47.394923: I There will be the splitting\n",
      "Folds option value is missing. It has been set to 12024-07-29 15:35:47.455366: I /export/scratch2/home/savvina/new_environment/Elliot/data/fairbook/fairbook_events.tsv - Loaded\n",
      "\n",
      "\n",
      "Realized a Train/Test splitting strategy\n",
      "\n",
      "2024-07-29 15:35:52.260158: I Test Fold 0\n",
      "2024-07-29 15:36:01.581661: I Statistics\tUsers:\t6358\tItems:\t6920\tTransactions:\t68401\tSparsity:\t0.9984453385384942\n",
      "2024-07-29 15:36:06.412246: I Loading parameters\n",
      "2024-07-29 15:36:06.413663: I Parameter lr set to 0.0001\n",
      "2024-07-29 15:36:06.414813: I Parameter user_mlp set to [64, 32]\n",
      "2024-07-29 15:36:06.414949: I Training begun for DMF\\n\n",
      "2024-07-29 15:36:06.416568: I Hyperparameters:\n",
      "2024-07-29 15:36:06.417874: I batch_size set to 256\n",
      "2024-07-29 15:36:06.418064: I Parameter item_mlp set to [64, 32]\n",
      "2024-07-29 15:36:06.418839: I Parameter neg_ratio set to 5\n",
      "2024-07-29 15:36:06.418981: I epochs set to 50\n",
      "2024-07-29 15:36:06.419934: I Parameter reg set to 0.1\n",
      "2024-07-29 15:36:06.422342: I item_mlp set to (64,32)\n",
      "2024-07-29 15:36:06.422640: I Parameter similarity set to cosine\n",
      "2024-07-29 15:36:06.424143: I lr set to 0.0001\n",
      "2024-07-29 15:36:06.424893: I meta set to namespace(save_recs=True, verbose=True)\n",
      "2024-07-29 15:36:06.431147: I n_fold set to 1\n",
      "2024-07-29 15:36:06.455172: I reg set to 0.1\n",
      "2024-07-29 15:36:06.521605: I similarity set to cosine\n",
      "2024-07-29 15:36:06.522702: I user_mlp set to (64,32)\n",
      "2024-07-29 15:36:06.523687: I Exploration: Test Fold exploration number 1\n",
      "2024-07-29 15:36:06.525611: I Exploration: Train-Validation Fold exploration number 1\n"
     ]
    },
    {
     "name": "stderr",
     "output_type": "stream",
     "text": [
      "2024-07-29 15:36:06.460354: W tensorflow/stream_executor/platform/default/dso_loader.cc:59] Could not load dynamic library 'libcuda.so.1'; dlerror: libcuda.so.1: cannot open shared object file: No such file or directory\n",
      "2024-07-29 15:36:06.460419: W tensorflow/stream_executor/cuda/cuda_driver.cc:312] failed call to cuInit: UNKNOWN ERROR (303)\n",
      "2024-07-29 15:36:06.460465: I tensorflow/stream_executor/cuda/cuda_diagnostics.cc:156] kernel driver does not appear to be running on this host (alice.ia.cwi.nl): /proc/driver/nvidia/version does not exist\n",
      "2024-07-29 15:36:06.460883: I tensorflow/core/platform/cpu_feature_guard.cc:142] This TensorFlow binary is optimized with oneAPI Deep Neural Network Library (oneDNN)to use the following CPU instructions in performance-critical operations:  AVX2 FMA\n",
      "To enable them in other operations, rebuild TensorFlow with the appropriate compiler flags.\n",
      "2024-07-29 15:36:06.489215: I tensorflow/core/platform/profile_utils/cpu_utils.cc:104] CPU Frequency: 1996165000 Hz\n",
      "2024-07-29 15:36:06.502300: I tensorflow/compiler/xla/service/service.cc:168] XLA service 0x66db260 initialized for platform Host (this does not guarantee that XLA will be used). Devices:\n",
      "2024-07-29 15:36:06.502374: I tensorflow/compiler/xla/service/service.cc:176]   StreamExecutor device (0): Host, Default Version\n",
      "1604it [00:39, 40.96it/s, loss=0.37688]                                                                                                                                                                     \n"
     ]
    },
    {
     "name": "stdout",
     "output_type": "stream",
     "text": [
      "2024-07-29 15:48:46.726366: I Epoch 1/50 loss 604.51111\n",
      "2024-07-29 15:48:46.726747: I \n",
      "2024-07-29 15:48:46.728320: I Writing recommendations at: /export/scratch2/home/savvina/new_environment/Elliot/results/fairbook/recs\n",
      "2024-07-29 15:48:46.729306: I Test Evaluation results\n",
      "2024-07-29 15:48:46.736743: I Cut-off: 10\n",
      "2024-07-29 15:48:46.743277: I Eval Time: 0.17315125465393066\n",
      "2024-07-29 15:48:46.745876: I Results\n",
      "2024-07-29 15:48:46.751457: I nDCG\t0.00083\n",
      "2024-07-29 15:48:46.933449: I ******************************************\n"
     ]
    },
    {
     "name": "stderr",
     "output_type": "stream",
     "text": [
      "1604it [00:31, 51.33it/s, loss=0.35122]                                                                                                                                                                     \n"
     ]
    },
    {
     "name": "stdout",
     "output_type": "stream",
     "text": [
      "2024-07-29 16:01:19.893540: I \n",
      "2024-07-29 16:01:19.893183: I Epoch 2/50 loss 140.84109\n",
      "2024-07-29 16:01:19.898343: I Test Evaluation results\n",
      "2024-07-29 16:01:19.899589: I Writing recommendations at: /export/scratch2/home/savvina/new_environment/Elliot/results/fairbook/recs\n",
      "2024-07-29 16:01:19.900038: I Cut-off: 10\n",
      "2024-07-29 16:01:19.901288: I Eval Time: 0.12372159957885742\n",
      "2024-07-29 16:01:19.909549: I Results\n",
      "2024-07-29 16:01:20.048286: I ******************************************\n",
      "2024-07-29 16:01:20.049611: I nDCG\t0.00091\n"
     ]
    },
    {
     "name": "stderr",
     "output_type": "stream",
     "text": [
      "1604it [00:30, 52.61it/s, loss=0.34622]                                                                                                                                                                     \n"
     ]
    },
    {
     "name": "stdout",
     "output_type": "stream",
     "text": [
      "2024-07-29 16:13:40.614642: I \n",
      "2024-07-29 16:13:40.614241: I Epoch 3/50 loss 61.70327\n",
      "2024-07-29 16:13:40.617941: I Test Evaluation results\n",
      "2024-07-29 16:13:40.617814: I Writing recommendations at: /export/scratch2/home/savvina/new_environment/Elliot/results/fairbook/recs\n",
      "2024-07-29 16:13:40.619747: I Cut-off: 10\n",
      "2024-07-29 16:13:40.623218: I Eval Time: 0.22368597984313965\n",
      "2024-07-29 16:13:40.639843: I Results\n",
      "2024-07-29 16:13:40.644664: I nDCG\t0.00278\n",
      "2024-07-29 16:13:40.816174: I ******************************************\n"
     ]
    },
    {
     "name": "stderr",
     "output_type": "stream",
     "text": [
      "1604it [00:29, 54.26it/s, loss=0.33696]                                                                                                                                                                     \n"
     ]
    },
    {
     "name": "stdout",
     "output_type": "stream",
     "text": [
      "2024-07-29 16:26:17.413894: I \n",
      "2024-07-29 16:26:17.413316: I Epoch 4/50 loss 33.78045\n",
      "2024-07-29 16:26:17.419530: I Writing recommendations at: /export/scratch2/home/savvina/new_environment/Elliot/results/fairbook/recs\n",
      "2024-07-29 16:26:17.420044: I Test Evaluation results\n",
      "2024-07-29 16:26:17.422844: I Cut-off: 10\n",
      "2024-07-29 16:26:17.425314: I Eval Time: 0.19065570831298828\n",
      "2024-07-29 16:26:17.427643: I Results\n",
      "2024-07-29 16:26:17.433168: I nDCG\t0.00284\n",
      "2024-07-29 16:26:17.643307: I ******************************************\n"
     ]
    },
    {
     "name": "stderr",
     "output_type": "stream",
     "text": [
      "1604it [00:32, 50.04it/s, loss=0.33426]                                                                                                                                                                     \n"
     ]
    },
    {
     "name": "stdout",
     "output_type": "stream",
     "text": [
      "2024-07-29 16:38:45.377118: I \n",
      "2024-07-29 16:38:45.376892: I Epoch 5/50 loss 21.44587\n",
      "2024-07-29 16:38:45.379182: I Writing recommendations at: /export/scratch2/home/savvina/new_environment/Elliot/results/fairbook/recs\n",
      "2024-07-29 16:38:45.379525: I Test Evaluation results\n",
      "2024-07-29 16:38:45.381144: I Cut-off: 10\n",
      "2024-07-29 16:38:45.384402: I Eval Time: 0.19291377067565918\n",
      "2024-07-29 16:38:45.392179: I Results\n",
      "2024-07-29 16:38:45.397861: I nDCG\t0.00197\n"
     ]
    },
    {
     "name": "stderr",
     "output_type": "stream",
     "text": [
      "1604it [00:31, 50.86it/s, loss=0.33155]                                                                                                                                                                     \n"
     ]
    },
    {
     "name": "stdout",
     "output_type": "stream",
     "text": [
      "2024-07-29 16:51:17.481620: I Epoch 6/50 loss 14.77227\n",
      "2024-07-29 16:51:17.482350: I \n",
      "2024-07-29 16:51:17.485242: I Test Evaluation results\n",
      "2024-07-29 16:51:17.486631: I Cut-off: 10\n",
      "2024-07-29 16:51:17.486536: I Writing recommendations at: /export/scratch2/home/savvina/new_environment/Elliot/results/fairbook/recs\n",
      "2024-07-29 16:51:17.493512: I Eval Time: 0.22159337997436523\n",
      "2024-07-29 16:51:17.509742: I Results\n",
      "2024-07-29 16:51:17.514601: I nDCG\t0.00377\n",
      "2024-07-29 16:51:17.715201: I ******************************************\n"
     ]
    },
    {
     "name": "stderr",
     "output_type": "stream",
     "text": [
      "1604it [00:31, 51.44it/s, loss=0.32680]                                                                                                                                                                     \n"
     ]
    },
    {
     "name": "stdout",
     "output_type": "stream",
     "text": [
      "2024-07-29 17:03:52.336392: I \n",
      "2024-07-29 17:03:52.335160: I Epoch 7/50 loss 10.69775\n",
      "2024-07-29 17:03:52.341065: I Writing recommendations at: /export/scratch2/home/savvina/new_environment/Elliot/results/fairbook/recs\n",
      "2024-07-29 17:03:52.342202: I Test Evaluation results\n",
      "2024-07-29 17:03:52.347167: I Cut-off: 10\n",
      "2024-07-29 17:03:52.355298: I Eval Time: 0.1955580711364746\n",
      "2024-07-29 17:03:52.361112: I Results\n",
      "2024-07-29 17:03:52.387181: I nDCG\t0.00282\n"
     ]
    },
    {
     "name": "stderr",
     "output_type": "stream",
     "text": [
      "1604it [00:33, 48.53it/s, loss=0.32791]                                                                                                                                                                     \n"
     ]
    },
    {
     "name": "stdout",
     "output_type": "stream",
     "text": [
      "2024-07-29 17:16:28.921623: I Epoch 8/50 loss 8.21822\n",
      "2024-07-29 17:16:28.924099: I \n",
      "2024-07-29 17:16:28.925708: I Writing recommendations at: /export/scratch2/home/savvina/new_environment/Elliot/results/fairbook/recs\n",
      "2024-07-29 17:16:28.926929: I Test Evaluation results\n",
      "2024-07-29 17:16:28.927891: I Cut-off: 10\n",
      "2024-07-29 17:16:28.930991: I Eval Time: 0.19666218757629395\n",
      "2024-07-29 17:16:28.964342: I Results\n",
      "2024-07-29 17:16:28.973881: I nDCG\t0.00345\n"
     ]
    },
    {
     "name": "stderr",
     "output_type": "stream",
     "text": [
      "1604it [00:32, 48.62it/s, loss=0.32535]                                                                                                                                                                     \n"
     ]
    },
    {
     "name": "stdout",
     "output_type": "stream",
     "text": [
      "2024-07-29 17:29:00.851137: I \n",
      "2024-07-29 17:29:00.850524: I Epoch 9/50 loss 6.44273\n",
      "2024-07-29 17:29:00.854329: I Test Evaluation results\n",
      "2024-07-29 17:29:00.855125: I Writing recommendations at: /export/scratch2/home/savvina/new_environment/Elliot/results/fairbook/recs\n",
      "2024-07-29 17:29:00.855928: I Cut-off: 10\n",
      "2024-07-29 17:29:00.857877: I Eval Time: 0.19073700904846191\n",
      "2024-07-29 17:29:00.864564: I Results\n",
      "2024-07-29 17:29:00.872372: I nDCG\t0.0035\n"
     ]
    },
    {
     "name": "stderr",
     "output_type": "stream",
     "text": [
      "1604it [00:33, 48.27it/s, loss=0.32610]                                                                                                                                                                     \n"
     ]
    },
    {
     "name": "stdout",
     "output_type": "stream",
     "text": [
      "2024-07-29 17:41:36.720138: I \n",
      "2024-07-29 17:41:36.719691: I Epoch 10/50 loss 5.23056\n",
      "2024-07-29 17:41:36.722121: I Test Evaluation results\n",
      "2024-07-29 17:41:36.722913: I Cut-off: 10\n",
      "2024-07-29 17:41:36.722370: I Writing recommendations at: /export/scratch2/home/savvina/new_environment/Elliot/results/fairbook/recs\n",
      "2024-07-29 17:41:36.723725: I Eval Time: 0.18214845657348633\n",
      "2024-07-29 17:41:36.724589: I Results\n",
      "2024-07-29 17:41:36.727629: I nDCG\t0.00315\n"
     ]
    },
    {
     "name": "stderr",
     "output_type": "stream",
     "text": [
      "1604it [00:30, 52.35it/s, loss=0.32540]                                                                                                                                                                     \n"
     ]
    },
    {
     "name": "stdout",
     "output_type": "stream",
     "text": [
      "2024-07-29 17:54:15.059264: I Epoch 11/50 loss 4.31356\n",
      "2024-07-29 17:54:15.063544: I \n",
      "2024-07-29 17:54:15.063910: I Writing recommendations at: /export/scratch2/home/savvina/new_environment/Elliot/results/fairbook/recs\n",
      "2024-07-29 17:54:15.065984: I Test Evaluation results\n",
      "2024-07-29 17:54:15.070211: I Cut-off: 10\n",
      "2024-07-29 17:54:15.074581: I Eval Time: 0.1987462043762207\n",
      "2024-07-29 17:54:15.089187: I Results\n",
      "2024-07-29 17:54:15.093222: I nDCG\t0.00387\n",
      "2024-07-29 17:54:15.320186: I ******************************************\n"
     ]
    },
    {
     "name": "stderr",
     "output_type": "stream",
     "text": [
      "1604it [00:31, 50.94it/s, loss=0.32465]                                                                                                                                                                     \n"
     ]
    },
    {
     "name": "stdout",
     "output_type": "stream",
     "text": [
      "2024-07-29 18:06:44.507064: I Epoch 12/50 loss 3.61619\n",
      "2024-07-29 18:06:44.508395: I \n",
      "2024-07-29 18:06:44.511801: I Test Evaluation results\n",
      "2024-07-29 18:06:44.511700: I Writing recommendations at: /export/scratch2/home/savvina/new_environment/Elliot/results/fairbook/recs\n",
      "2024-07-29 18:06:44.513180: I Cut-off: 10\n",
      "2024-07-29 18:06:44.516800: I Eval Time: 0.21738696098327637\n",
      "2024-07-29 18:06:44.525283: I Results\n",
      "2024-07-29 18:06:44.531743: I nDCG\t0.00352\n"
     ]
    },
    {
     "name": "stderr",
     "output_type": "stream",
     "text": [
      "1604it [00:32, 48.84it/s, loss=0.32247]                                                                                                                                                                     \n"
     ]
    },
    {
     "name": "stdout",
     "output_type": "stream",
     "text": [
      "2024-07-29 18:19:21.642716: I \n",
      "2024-07-29 18:19:21.642395: I Epoch 13/50 loss 3.06064\n",
      "2024-07-29 18:19:21.645123: I Writing recommendations at: /export/scratch2/home/savvina/new_environment/Elliot/results/fairbook/recs\n",
      "2024-07-29 18:19:21.646193: I Test Evaluation results\n",
      "2024-07-29 18:19:21.647150: I Cut-off: 10\n",
      "2024-07-29 18:19:21.651541: I Eval Time: 0.24497294425964355\n",
      "2024-07-29 18:19:21.662500: I Results\n",
      "2024-07-29 18:19:21.675321: I nDCG\t0.00424\n",
      "2024-07-29 18:19:21.879504: I ******************************************\n"
     ]
    },
    {
     "name": "stderr",
     "output_type": "stream",
     "text": [
      "1604it [00:30, 51.99it/s, loss=0.32030]                                                                                                                                                                     \n"
     ]
    },
    {
     "name": "stdout",
     "output_type": "stream",
     "text": [
      "2024-07-29 18:31:54.079550: I \n",
      "2024-07-29 18:31:54.079144: I Epoch 14/50 loss 2.62123\n",
      "2024-07-29 18:31:54.081400: I Writing recommendations at: /export/scratch2/home/savvina/new_environment/Elliot/results/fairbook/recs\n",
      "2024-07-29 18:31:54.081800: I Test Evaluation results\n",
      "2024-07-29 18:31:54.083550: I Cut-off: 10\n",
      "2024-07-29 18:31:54.086910: I Eval Time: 0.18268060684204102\n",
      "2024-07-29 18:31:54.094535: I Results\n",
      "2024-07-29 18:31:54.104027: I nDCG\t0.00353\n"
     ]
    },
    {
     "name": "stderr",
     "output_type": "stream",
     "text": [
      "1604it [00:30, 52.56it/s, loss=0.32440]                                                                                                                                                                     \n"
     ]
    },
    {
     "name": "stdout",
     "output_type": "stream",
     "text": [
      "2024-07-29 18:44:19.156145: I \n",
      "2024-07-29 18:44:19.155931: I Epoch 15/50 loss 2.31264\n",
      "2024-07-29 18:44:19.157954: I Test Evaluation results\n",
      "2024-07-29 18:44:19.158090: I Writing recommendations at: /export/scratch2/home/savvina/new_environment/Elliot/results/fairbook/recs\n",
      "2024-07-29 18:44:19.159087: I Cut-off: 10\n",
      "2024-07-29 18:44:19.162750: I Eval Time: 0.1634044647216797\n",
      "2024-07-29 18:44:19.194576: I Results\n",
      "2024-07-29 18:44:19.202150: I nDCG\t0.00359\n"
     ]
    },
    {
     "name": "stderr",
     "output_type": "stream",
     "text": [
      "1604it [00:30, 52.05it/s, loss=0.32392]                                                                                                                                                                     \n"
     ]
    },
    {
     "name": "stdout",
     "output_type": "stream",
     "text": [
      "2024-07-29 18:57:01.452945: I \n",
      "2024-07-29 18:57:01.452479: I Epoch 16/50 loss 2.02957\n",
      "2024-07-29 18:57:01.455329: I Test Evaluation results\n",
      "2024-07-29 18:57:01.456928: I Cut-off: 10\n",
      "2024-07-29 18:57:01.456861: I Writing recommendations at: /export/scratch2/home/savvina/new_environment/Elliot/results/fairbook/recs\n",
      "2024-07-29 18:57:01.457929: I Eval Time: 0.1944890022277832\n",
      "2024-07-29 18:57:01.463246: I Results\n",
      "2024-07-29 18:57:01.466760: I nDCG\t0.00332\n"
     ]
    },
    {
     "name": "stderr",
     "output_type": "stream",
     "text": [
      "1604it [00:31, 50.27it/s, loss=0.32155]                                                                                                                                                                     \n"
     ]
    },
    {
     "name": "stdout",
     "output_type": "stream",
     "text": [
      "2024-07-29 19:09:35.808760: I \n",
      "2024-07-29 19:09:35.808520: I Epoch 17/50 loss 1.78468\n",
      "2024-07-29 19:09:35.810157: I Test Evaluation results\n",
      "2024-07-29 19:09:35.810061: I Writing recommendations at: /export/scratch2/home/savvina/new_environment/Elliot/results/fairbook/recs\n",
      "2024-07-29 19:09:35.810857: I Cut-off: 10\n",
      "2024-07-29 19:09:35.826145: I Eval Time: 0.20597076416015625\n",
      "2024-07-29 19:09:35.831275: I Results\n",
      "2024-07-29 19:09:35.845121: I nDCG\t0.00405\n"
     ]
    },
    {
     "name": "stderr",
     "output_type": "stream",
     "text": [
      "1604it [00:31, 51.41it/s, loss=0.32193]                                                                                                                                                                     \n"
     ]
    },
    {
     "name": "stdout",
     "output_type": "stream",
     "text": [
      "2024-07-29 19:22:13.172128: I \n",
      "2024-07-29 19:22:13.171837: I Epoch 18/50 loss 1.59378\n",
      "2024-07-29 19:22:13.174046: I Writing recommendations at: /export/scratch2/home/savvina/new_environment/Elliot/results/fairbook/recs\n",
      "2024-07-29 19:22:13.177858: I Test Evaluation results\n",
      "2024-07-29 19:22:13.184110: I Cut-off: 10\n",
      "2024-07-29 19:22:13.194822: I Eval Time: 0.17186784744262695\n",
      "2024-07-29 19:22:13.197215: I Results\n",
      "2024-07-29 19:22:13.199152: I nDCG\t0.00426\n",
      "2024-07-29 19:22:13.387710: I ******************************************\n"
     ]
    },
    {
     "name": "stderr",
     "output_type": "stream",
     "text": [
      "1604it [00:31, 50.20it/s, loss=0.32434]                                                                                                                                                                     \n"
     ]
    },
    {
     "name": "stdout",
     "output_type": "stream",
     "text": [
      "2024-07-29 19:34:55.530399: I \n",
      "2024-07-29 19:34:55.530145: I Epoch 19/50 loss 1.44109\n",
      "2024-07-29 19:34:55.531917: I Writing recommendations at: /export/scratch2/home/savvina/new_environment/Elliot/results/fairbook/recs\n",
      "2024-07-29 19:34:55.532309: I Test Evaluation results\n",
      "2024-07-29 19:34:55.533526: I Cut-off: 10\n",
      "2024-07-29 19:34:55.537563: I Eval Time: 0.12023639678955078\n",
      "2024-07-29 19:34:55.558131: I Results\n",
      "2024-07-29 19:34:55.600621: I nDCG\t0.00485\n",
      "2024-07-29 19:34:55.711240: I ******************************************\n"
     ]
    },
    {
     "name": "stderr",
     "output_type": "stream",
     "text": [
      "1604it [00:30, 53.33it/s, loss=0.32136]                                                                                                                                                                     \n"
     ]
    },
    {
     "name": "stdout",
     "output_type": "stream",
     "text": [
      "2024-07-29 19:47:36.674983: I Epoch 20/50 loss 1.28865\n",
      "2024-07-29 19:47:36.676876: I \n",
      "2024-07-29 19:47:36.678809: I Writing recommendations at: /export/scratch2/home/savvina/new_environment/Elliot/results/fairbook/recs\n",
      "2024-07-29 19:47:36.681095: I Test Evaluation results\n",
      "2024-07-29 19:47:36.693223: I Cut-off: 10\n",
      "2024-07-29 19:47:36.699973: I Eval Time: 0.21843504905700684\n",
      "2024-07-29 19:47:36.704322: I Results\n",
      "2024-07-29 19:47:36.706820: I nDCG\t0.00509\n",
      "2024-07-29 19:47:36.910104: I ******************************************\n"
     ]
    },
    {
     "name": "stderr",
     "output_type": "stream",
     "text": [
      "1604it [00:32, 50.03it/s, loss=0.32067]                                                                                                                                                                     \n"
     ]
    },
    {
     "name": "stdout",
     "output_type": "stream",
     "text": [
      "2024-07-29 20:00:03.330602: I \n",
      "2024-07-29 20:00:03.330153: I Epoch 21/50 loss 1.16635\n",
      "2024-07-29 20:00:03.333236: I Test Evaluation results\n",
      "2024-07-29 20:00:03.333559: I Writing recommendations at: /export/scratch2/home/savvina/new_environment/Elliot/results/fairbook/recs\n",
      "2024-07-29 20:00:03.335360: I Cut-off: 10\n",
      "2024-07-29 20:00:03.337752: I Eval Time: 0.18501019477844238\n",
      "2024-07-29 20:00:03.346517: I Results\n",
      "2024-07-29 20:00:03.354271: I nDCG\t0.00431\n"
     ]
    },
    {
     "name": "stderr",
     "output_type": "stream",
     "text": [
      "1604it [00:31, 50.89it/s, loss=0.32037]                                                                                                                                                                     \n"
     ]
    },
    {
     "name": "stdout",
     "output_type": "stream",
     "text": [
      "2024-07-29 20:12:42.692339: I \n",
      "2024-07-29 20:12:42.692089: I Epoch 22/50 loss 1.06174\n",
      "2024-07-29 20:12:42.694019: I Test Evaluation results\n",
      "2024-07-29 20:12:42.694579: I Cut-off: 10\n",
      "2024-07-29 20:12:42.694752: I Writing recommendations at: /export/scratch2/home/savvina/new_environment/Elliot/results/fairbook/recs\n",
      "2024-07-29 20:12:42.695861: I Eval Time: 0.2025597095489502\n",
      "2024-07-29 20:12:42.697683: I Results\n",
      "2024-07-29 20:12:42.717177: I nDCG\t0.00453\n"
     ]
    },
    {
     "name": "stderr",
     "output_type": "stream",
     "text": [
      "1604it [00:31, 51.61it/s, loss=0.32067]                                                                                                                                                                     \n"
     ]
    },
    {
     "name": "stdout",
     "output_type": "stream",
     "text": [
      "2024-07-29 20:25:27.053934: I Epoch 23/50 loss 0.97230\n",
      "2024-07-29 20:25:27.057097: I \n",
      "2024-07-29 20:25:27.059443: I Writing recommendations at: /export/scratch2/home/savvina/new_environment/Elliot/results/fairbook/recs\n",
      "2024-07-29 20:25:27.059742: I Test Evaluation results\n",
      "2024-07-29 20:25:27.061054: I Cut-off: 10\n",
      "2024-07-29 20:25:27.061722: I Eval Time: 0.20503520965576172\n",
      "2024-07-29 20:25:27.064274: I Results\n",
      "2024-07-29 20:25:27.073467: I nDCG\t0.00491\n"
     ]
    },
    {
     "name": "stderr",
     "output_type": "stream",
     "text": [
      "1604it [00:29, 53.91it/s, loss=0.32047]                                                                                                                                                                     \n"
     ]
    },
    {
     "name": "stdout",
     "output_type": "stream",
     "text": [
      "2024-07-29 20:38:01.836901: I \n",
      "2024-07-29 20:38:01.836710: I Epoch 24/50 loss 0.89243\n",
      "2024-07-29 20:38:01.840213: I Writing recommendations at: /export/scratch2/home/savvina/new_environment/Elliot/results/fairbook/recs\n",
      "2024-07-29 20:38:01.840742: I Test Evaluation results\n",
      "2024-07-29 20:38:01.842048: I Cut-off: 10\n",
      "2024-07-29 20:38:01.850240: I Eval Time: 0.1941227912902832\n",
      "2024-07-29 20:38:01.856787: I Results\n",
      "2024-07-29 20:38:01.876796: I nDCG\t0.00511\n",
      "2024-07-29 20:38:02.059541: I ******************************************\n"
     ]
    },
    {
     "name": "stderr",
     "output_type": "stream",
     "text": [
      "1604it [00:31, 50.54it/s, loss=0.32050]                                                                                                                                                                     \n"
     ]
    },
    {
     "name": "stdout",
     "output_type": "stream",
     "text": [
      "2024-07-29 20:50:34.439813: I Epoch 25/50 loss 0.82254\n",
      "2024-07-29 20:50:34.442088: I \n",
      "2024-07-29 20:50:34.445471: I Writing recommendations at: /export/scratch2/home/savvina/new_environment/Elliot/results/fairbook/recs\n",
      "2024-07-29 20:50:34.450559: I Test Evaluation results\n",
      "2024-07-29 20:50:34.454801: I Cut-off: 10\n",
      "2024-07-29 20:50:34.463377: I Eval Time: 0.20706653594970703\n",
      "2024-07-29 20:50:34.467543: I Results\n",
      "2024-07-29 20:50:34.483831: I nDCG\t0.00453\n"
     ]
    },
    {
     "name": "stderr",
     "output_type": "stream",
     "text": [
      "1604it [00:32, 49.65it/s, loss=0.31790]                                                                                                                                                                     \n"
     ]
    }
   ],
   "source": [
    "with open('config_files/fairbook_DMF_simple.yml', 'r') as f: # open the relevant yaml file\n",
    "    base_config = yaml.safe_load(f)\n",
    "\n",
    "for mlp in mlp_values:\n",
    "    print(\"We re doing the following: \", mlp)\n",
    "    # Make a copy of the base configuration\n",
    "    config = copy.deepcopy(base_config)\n",
    "    # Update the configuration with the current hyperparameters\n",
    "    # config['experiment']['models']['DMF']['user_mlp'] = mlp\n",
    "    # config['experiment']['models']['DMF']['item_mlp'] = mlp\n",
    "\n",
    "    # Write the configuration to a temporary file\n",
    "    with open('config_files/temp_config.yml', 'w') as f:\n",
    "        yaml.dump(config, f)\n",
    "\n",
    "    # Run the experiment with the current configuration\n",
    "    run_experiment('config_files/temp_config.yml')\n",
    "    \n",
    "    \n",
    "    # Remove the temp file\n",
    "    os.remove('config_files/temp_config.yml')    "
   ]
  }
 ],
 "metadata": {
  "kernelspec": {
   "display_name": "Python 3 (ipykernel)",
   "language": "python",
   "name": "python3"
  },
  "language_info": {
   "codemirror_mode": {
    "name": "ipython",
    "version": 3
   },
   "file_extension": ".py",
   "mimetype": "text/x-python",
   "name": "python",
   "nbconvert_exporter": "python",
   "pygments_lexer": "ipython3",
   "version": "3.8.19"
  },
  "widgets": {
   "application/vnd.jupyter.widget-state+json": {
    "state": {},
    "version_major": 2,
    "version_minor": 0
   }
  }
 },
 "nbformat": 4,
 "nbformat_minor": 5
}

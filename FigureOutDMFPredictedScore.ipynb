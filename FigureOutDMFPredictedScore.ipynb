{
 "cells": [
  {
   "cell_type": "code",
   "execution_count": 6,
   "id": "7c6983f5-c678-498b-868a-b77997c04e4d",
   "metadata": {},
   "outputs": [],
   "source": [
    "from elliot.run import run_experiment\n",
    "from lib.data_generation import generate_data\n",
    "import zipfile\n",
    "import io\n",
    "import requests\n",
    "import os\n",
    "import pandas as pd\n",
    "import numpy as np\n",
    "import yaml\n",
    "import copy\n",
    "from lenskit import crossfold as xf"
   ]
  },
  {
   "cell_type": "markdown",
   "id": "4e38a62d-453f-4161-83a2-54b3da0064c4",
   "metadata": {},
   "source": [
    "# Tune!"
   ]
  },
  {
   "cell_type": "code",
   "execution_count": 7,
   "id": "e22722a3-8565-4512-980b-342c12862f62",
   "metadata": {},
   "outputs": [],
   "source": [
    "# possible values for the hyperparameters\n",
    "mlp_values = ['(64,32)']"
   ]
  },
  {
   "cell_type": "code",
   "execution_count": 8,
   "id": "d237cf5e-7f98-4337-bca2-68bc96826923",
   "metadata": {},
   "outputs": [
    {
     "name": "stdout",
     "output_type": "stream",
     "text": [
      "We re doing the following:  (64,32)\n",
      "2024-07-29 15:19:41.077408: I Start experiment\n",
      "2024-07-29 15:19:41.081953: I There will be the splitting\n",
      "2024-07-29 15:19:41.151942: I /export/scratch2/home/savvina/new_environment/Elliot/data/fairbook/fairbook_events.tsv - Loaded\n",
      "Folds option value is missing. It has been set to 1\n",
      "\n",
      "Realized a Train/Test splitting strategy\n",
      "\n",
      "2024-07-29 15:19:46.411832: I Test Fold 0\n",
      "2024-07-29 15:19:56.318997: I Statistics\tUsers:\t6358\tItems:\t6920\tTransactions:\t68401\tSparsity:\t0.9984453385384942\n",
      "\n",
      "Supported Similarities: ['cosine', 'dot']\n",
      "Supported Distances/Dissimilarities: ['euclidean', 'manhattan', 'haversine', 'chi2', 'cityblock', 'l1', 'l2', 'braycurtis', 'canberra', 'chebyshev', 'correlation', 'dice', 'hamming', 'jaccard', 'kulsinski', 'mahalanobis', 'minkowski', 'rogerstanimoto', 'russellrao', 'seuclidean', 'sokalmichener', 'sokalsneath', 'sqeuclidean', 'yule']\n",
      "\n",
      "2024-07-29 15:20:02.766972: I Training begun for UserKNN\\n\n",
      "2024-07-29 15:20:02.772612: I Hyperparameters:\n",
      "2024-07-29 15:20:02.773692: I implementation set to classical\n",
      "2024-07-29 15:20:02.776541: I meta set to namespace(save_recs=True, verbose=True)\n",
      "2024-07-29 15:20:02.777800: I n_fold set to 1\n",
      "2024-07-29 15:20:02.778475: I neighbors set to 40\n",
      "2024-07-29 15:20:02.779185: I similarity set to cosine\n",
      "2024-07-29 15:20:02.780181: I Exploration: Test Fold exploration number 1\n",
      "2024-07-29 15:20:02.781091: I Exploration: Train-Validation Fold exploration number 1\n",
      "2024-07-29 15:20:02.781952: W WARNING: Mean Absolute Error metric requires full length recommendations\n",
      "2024-07-29 15:20:02.783180: W At least one basic metric requires full length recommendations\n",
      "The similarity computation has taken: 2.6604557037353516\n",
      "Transactions: 68401\n",
      "2024-07-29 15:24:48.142020: I \n",
      "2024-07-29 15:24:48.156934: I Test Evaluation results\n",
      "2024-07-29 15:24:48.176219: I Cut-off: 10\n",
      "2024-07-29 15:24:48.186534: I Eval Time: 50.529969215393066\n",
      "2024-07-29 15:24:48.195407: I Results\n",
      "2024-07-29 15:24:48.210387: I nDCG\t0.0585\n",
      "2024-07-29 15:24:48.234580: I RMSE\t8.06837\n",
      "2024-07-29 15:27:41.717983: I Training ended for UserKNN\n",
      "2024-07-29 15:27:41.722918: I Loss:\\t-0.05849758116812645\n",
      "2024-07-29 15:27:41.724587: I Best Model params:\\t{'implementation': 'classical', 'meta': namespace(save_recs=True, verbose=True), 'n_fold': 1, 'neighbors': 40, 'similarity': 'cosine', 'name': 'UserKNN_nn=40_sim=cosine_imp=classical_bin=False_shrink=0_norm=True_asymalpha=_tvalpha=_tvbeta=_rweights='}\n",
      "2024-07-29 15:27:41.732691: I Best Model results:\\t{10: {'nDCG': 0.05849758116812645, 'RMSE': 8.0683724038453}}\n",
      "2024-07-29 15:27:41.749478: I End experiment\n"
     ]
    }
   ],
   "source": [
    "with open('config_files/fairbook_RMSE_UserKNN.yml', 'r') as f: # open the relevant yaml file\n",
    "    base_config = yaml.safe_load(f)\n",
    "\n",
    "for mlp in mlp_values:\n",
    "    print(\"We re doing the following: \", mlp)\n",
    "    # Make a copy of the base configuration\n",
    "    config = copy.deepcopy(base_config)\n",
    "    # Update the configuration with the current hyperparameters\n",
    "    # config['experiment']['models']['DMF']['user_mlp'] = mlp\n",
    "    # config['experiment']['models']['DMF']['item_mlp'] = mlp\n",
    "\n",
    "    # Write the configuration to a temporary file\n",
    "    with open('config_files/temp_config_RMSE.yml', 'w') as f:\n",
    "        yaml.dump(config, f)\n",
    "\n",
    "    # Run the experiment with the current configuration\n",
    "    run_experiment('config_files/temp_config_RMSE.yml')\n",
    "    \n",
    "    \n",
    "    # Remove the temp file\n",
    "    os.remove('config_files/temp_config_RMSE.yml')    "
   ]
  }
 ],
 "metadata": {
  "kernelspec": {
   "display_name": "Python 3 (ipykernel)",
   "language": "python",
   "name": "python3"
  },
  "language_info": {
   "codemirror_mode": {
    "name": "ipython",
    "version": 3
   },
   "file_extension": ".py",
   "mimetype": "text/x-python",
   "name": "python",
   "nbconvert_exporter": "python",
   "pygments_lexer": "ipython3",
   "version": "3.8.19"
  },
  "widgets": {
   "application/vnd.jupyter.widget-state+json": {
    "state": {},
    "version_major": 2,
    "version_minor": 0
   }
  }
 },
 "nbformat": 4,
 "nbformat_minor": 5
}

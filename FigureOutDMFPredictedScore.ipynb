{
 "cells": [
  {
   "cell_type": "code",
   "execution_count": 1,
   "id": "7c6983f5-c678-498b-868a-b77997c04e4d",
   "metadata": {},
   "outputs": [
    {
     "name": "stdout",
     "output_type": "stream",
     "text": [
      "\n",
      "__/\\\\\\\\\\\\\\\\\\\\\\\\\\\\\\___/\\\\\\\\\\\\______/\\\\\\\\\\\\_________________________________________        \n",
      " _\\/\\\\\\///////////___\\////\\\\\\_____\\////\\\\\\_________________________________________       \n",
      "  _\\/\\\\\\_________________\\/\\\\\\________\\/\\\\\\______/\\\\\\_____________________/\\\\\\______      \n",
      "   _\\/\\\\\\\\\\\\\\\\\\\\\\_________\\/\\\\\\________\\/\\\\\\_____\\///_______/\\\\\\\\\\______/\\\\\\\\\\\\\\\\\\\\\\_     \n",
      "    _\\/\\\\\\///////__________\\/\\\\\\________\\/\\\\\\______/\\\\\\____/\\\\\\///\\\\\\___\\////\\\\\\////__    \n",
      "     _\\/\\\\\\_________________\\/\\\\\\________\\/\\\\\\_____\\/\\\\\\___/\\\\\\__\\//\\\\\\_____\\/\\\\\\______   \n",
      "      _\\/\\\\\\_________________\\/\\\\\\________\\/\\\\\\_____\\/\\\\\\__\\//\\\\\\__/\\\\\\______\\/\\\\\\_/\\\\__  \n",
      "       _\\/\\\\\\\\\\\\\\\\\\\\\\\\\\\\\\___/\\\\\\\\\\\\\\\\\\___/\\\\\\\\\\\\\\\\\\__\\/\\\\\\___\\///\\\\\\\\\\/_______\\//\\\\\\\\\\___ \n",
      "        _\\///////////////___\\/////////___\\/////////___\\///______\\/////__________\\/////____\n",
      "Version Number: 0.3.1\n"
     ]
    }
   ],
   "source": [
    "from elliot.run import run_experiment\n",
    "from lib.data_generation import generate_data\n",
    "import zipfile\n",
    "import io\n",
    "import requests\n",
    "import os\n",
    "import pandas as pd\n",
    "import numpy as np\n",
    "import yaml\n",
    "import copy\n",
    "from lenskit import crossfold as xf"
   ]
  },
  {
   "cell_type": "markdown",
   "id": "4e38a62d-453f-4161-83a2-54b3da0064c4",
   "metadata": {},
   "source": [
    "# Tune!"
   ]
  },
  {
   "cell_type": "code",
   "execution_count": 2,
   "id": "e22722a3-8565-4512-980b-342c12862f62",
   "metadata": {},
   "outputs": [],
   "source": [
    "# possible values for the hyperparameters\n",
    "mlp_values = ['(64,32)']"
   ]
  },
  {
   "cell_type": "code",
   "execution_count": null,
   "id": "d237cf5e-7f98-4337-bca2-68bc96826923",
   "metadata": {},
   "outputs": [
    {
     "name": "stdout",
     "output_type": "stream",
     "text": [
      "We re doing the following:  (64,32)\n",
      "2024-07-29 15:35:47.392928: I Start experiment\n",
      "2024-07-29 15:35:47.394923: I There will be the splitting\n",
      "Folds option value is missing. It has been set to 12024-07-29 15:35:47.455366: I /export/scratch2/home/savvina/new_environment/Elliot/data/fairbook/fairbook_events.tsv - Loaded\n",
      "\n",
      "\n",
      "Realized a Train/Test splitting strategy\n",
      "\n",
      "2024-07-29 15:35:52.260158: I Test Fold 0\n",
      "2024-07-29 15:36:01.581661: I Statistics\tUsers:\t6358\tItems:\t6920\tTransactions:\t68401\tSparsity:\t0.9984453385384942\n",
      "2024-07-29 15:36:06.412246: I Loading parameters\n",
      "2024-07-29 15:36:06.413663: I Parameter lr set to 0.0001\n",
      "2024-07-29 15:36:06.414813: I Parameter user_mlp set to [64, 32]\n",
      "2024-07-29 15:36:06.414949: I Training begun for DMF\\n\n",
      "2024-07-29 15:36:06.416568: I Hyperparameters:\n",
      "2024-07-29 15:36:06.417874: I batch_size set to 256\n",
      "2024-07-29 15:36:06.418064: I Parameter item_mlp set to [64, 32]\n",
      "2024-07-29 15:36:06.418839: I Parameter neg_ratio set to 5\n",
      "2024-07-29 15:36:06.418981: I epochs set to 50\n",
      "2024-07-29 15:36:06.419934: I Parameter reg set to 0.1\n",
      "2024-07-29 15:36:06.422342: I item_mlp set to (64,32)\n",
      "2024-07-29 15:36:06.422640: I Parameter similarity set to cosine\n",
      "2024-07-29 15:36:06.424143: I lr set to 0.0001\n",
      "2024-07-29 15:36:06.424893: I meta set to namespace(save_recs=True, verbose=True)\n",
      "2024-07-29 15:36:06.431147: I n_fold set to 1\n",
      "2024-07-29 15:36:06.455172: I reg set to 0.1\n",
      "2024-07-29 15:36:06.521605: I similarity set to cosine\n",
      "2024-07-29 15:36:06.522702: I user_mlp set to (64,32)\n",
      "2024-07-29 15:36:06.523687: I Exploration: Test Fold exploration number 1\n",
      "2024-07-29 15:36:06.525611: I Exploration: Train-Validation Fold exploration number 1\n"
     ]
    },
    {
     "name": "stderr",
     "output_type": "stream",
     "text": [
      "2024-07-29 15:36:06.460354: W tensorflow/stream_executor/platform/default/dso_loader.cc:59] Could not load dynamic library 'libcuda.so.1'; dlerror: libcuda.so.1: cannot open shared object file: No such file or directory\n",
      "2024-07-29 15:36:06.460419: W tensorflow/stream_executor/cuda/cuda_driver.cc:312] failed call to cuInit: UNKNOWN ERROR (303)\n",
      "2024-07-29 15:36:06.460465: I tensorflow/stream_executor/cuda/cuda_diagnostics.cc:156] kernel driver does not appear to be running on this host (alice.ia.cwi.nl): /proc/driver/nvidia/version does not exist\n",
      "2024-07-29 15:36:06.460883: I tensorflow/core/platform/cpu_feature_guard.cc:142] This TensorFlow binary is optimized with oneAPI Deep Neural Network Library (oneDNN)to use the following CPU instructions in performance-critical operations:  AVX2 FMA\n",
      "To enable them in other operations, rebuild TensorFlow with the appropriate compiler flags.\n",
      "2024-07-29 15:36:06.489215: I tensorflow/core/platform/profile_utils/cpu_utils.cc:104] CPU Frequency: 1996165000 Hz\n",
      "2024-07-29 15:36:06.502300: I tensorflow/compiler/xla/service/service.cc:168] XLA service 0x66db260 initialized for platform Host (this does not guarantee that XLA will be used). Devices:\n",
      "2024-07-29 15:36:06.502374: I tensorflow/compiler/xla/service/service.cc:176]   StreamExecutor device (0): Host, Default Version\n",
      "1604it [00:39, 40.96it/s, loss=0.37688]                                                                                                                                                                     \n"
     ]
    },
    {
     "name": "stdout",
     "output_type": "stream",
     "text": [
      "2024-07-29 15:48:46.726366: I Epoch 1/50 loss 604.51111\n",
      "2024-07-29 15:48:46.726747: I \n",
      "2024-07-29 15:48:46.728320: I Writing recommendations at: /export/scratch2/home/savvina/new_environment/Elliot/results/fairbook/recs\n",
      "2024-07-29 15:48:46.729306: I Test Evaluation results\n",
      "2024-07-29 15:48:46.736743: I Cut-off: 10\n",
      "2024-07-29 15:48:46.743277: I Eval Time: 0.17315125465393066\n",
      "2024-07-29 15:48:46.745876: I Results\n",
      "2024-07-29 15:48:46.751457: I nDCG\t0.00083\n",
      "2024-07-29 15:48:46.933449: I ******************************************\n"
     ]
    },
    {
     "name": "stderr",
     "output_type": "stream",
     "text": [
      "1604it [00:31, 51.33it/s, loss=0.35122]                                                                                                                                                                     \n"
     ]
    },
    {
     "name": "stdout",
     "output_type": "stream",
     "text": [
      "2024-07-29 16:01:19.893540: I \n",
      "2024-07-29 16:01:19.893183: I Epoch 2/50 loss 140.84109\n",
      "2024-07-29 16:01:19.898343: I Test Evaluation results\n",
      "2024-07-29 16:01:19.899589: I Writing recommendations at: /export/scratch2/home/savvina/new_environment/Elliot/results/fairbook/recs\n",
      "2024-07-29 16:01:19.900038: I Cut-off: 10\n",
      "2024-07-29 16:01:19.901288: I Eval Time: 0.12372159957885742\n",
      "2024-07-29 16:01:19.909549: I Results\n",
      "2024-07-29 16:01:20.048286: I ******************************************\n",
      "2024-07-29 16:01:20.049611: I nDCG\t0.00091\n"
     ]
    },
    {
     "name": "stderr",
     "output_type": "stream",
     "text": [
      "1604it [00:30, 52.61it/s, loss=0.34622]                                                                                                                                                                     \n"
     ]
    },
    {
     "name": "stdout",
     "output_type": "stream",
     "text": [
      "2024-07-29 16:13:40.614642: I \n",
      "2024-07-29 16:13:40.614241: I Epoch 3/50 loss 61.70327\n",
      "2024-07-29 16:13:40.617941: I Test Evaluation results\n",
      "2024-07-29 16:13:40.617814: I Writing recommendations at: /export/scratch2/home/savvina/new_environment/Elliot/results/fairbook/recs\n",
      "2024-07-29 16:13:40.619747: I Cut-off: 10\n",
      "2024-07-29 16:13:40.623218: I Eval Time: 0.22368597984313965\n",
      "2024-07-29 16:13:40.639843: I Results\n",
      "2024-07-29 16:13:40.644664: I nDCG\t0.00278\n",
      "2024-07-29 16:13:40.816174: I ******************************************\n"
     ]
    },
    {
     "name": "stderr",
     "output_type": "stream",
     "text": [
      "1604it [00:29, 54.26it/s, loss=0.33696]                                                                                                                                                                     \n"
     ]
    }
   ],
   "source": [
    "with open('config_files/fairbook_DMF_simple.yml', 'r') as f: # open the relevant yaml file\n",
    "    base_config = yaml.safe_load(f)\n",
    "\n",
    "for mlp in mlp_values:\n",
    "    print(\"We re doing the following: \", mlp)\n",
    "    # Make a copy of the base configuration\n",
    "    config = copy.deepcopy(base_config)\n",
    "    # Update the configuration with the current hyperparameters\n",
    "    # config['experiment']['models']['DMF']['user_mlp'] = mlp\n",
    "    # config['experiment']['models']['DMF']['item_mlp'] = mlp\n",
    "\n",
    "    # Write the configuration to a temporary file\n",
    "    with open('config_files/temp_config.yml', 'w') as f:\n",
    "        yaml.dump(config, f)\n",
    "\n",
    "    # Run the experiment with the current configuration\n",
    "    run_experiment('config_files/temp_config.yml')\n",
    "    \n",
    "    \n",
    "    # Remove the temp file\n",
    "    os.remove('config_files/temp_config.yml')    "
   ]
  }
 ],
 "metadata": {
  "kernelspec": {
   "display_name": "Python 3 (ipykernel)",
   "language": "python",
   "name": "python3"
  },
  "language_info": {
   "codemirror_mode": {
    "name": "ipython",
    "version": 3
   },
   "file_extension": ".py",
   "mimetype": "text/x-python",
   "name": "python",
   "nbconvert_exporter": "python",
   "pygments_lexer": "ipython3",
   "version": "3.8.19"
  },
  "widgets": {
   "application/vnd.jupyter.widget-state+json": {
    "state": {},
    "version_major": 2,
    "version_minor": 0
   }
  }
 },
 "nbformat": 4,
 "nbformat_minor": 5
}

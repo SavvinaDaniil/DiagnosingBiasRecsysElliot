{
 "cells": [
  {
   "cell_type": "code",
   "execution_count": 3,
   "id": "e364e8c1",
   "metadata": {},
   "outputs": [],
   "source": [
    "import ipywidgets as widgets\n",
    "from IPython.display import display"
   ]
  },
  {
   "cell_type": "code",
   "execution_count": 2,
   "id": "9da89a31",
   "metadata": {},
   "outputs": [
    {
     "data": {
      "application/vnd.jupyter.widget-view+json": {
       "model_id": "7fbf4584789247d19d47decca6134d32",
       "version_major": 2,
       "version_minor": 0
      },
      "text/plain": [
       "Dropdown(description='Select Dataset:', options=('Dataset A', 'Dataset B', 'Dataset C'), value='Dataset A')"
      ]
     },
     "metadata": {},
     "output_type": "display_data"
    },
    {
     "name": "stdout",
     "output_type": "stream",
     "text": [
      "Selected Dataset: Dataset B\n",
      "Selected Dataset: Dataset A\n",
      "Selected Dataset: Dataset C\n"
     ]
    }
   ],
   "source": [
    "\n",
    "\n",
    "# Define the list of dataset options\n",
    "dataset_options = ['Dataset A', 'Dataset B', 'Dataset C']\n",
    "\n",
    "# Create a dropdown widget\n",
    "dropdown = widgets.Dropdown(\n",
    "    options=dataset_options,\n",
    "    description='Select Dataset:',\n",
    "    disabled=False\n",
    ")\n",
    "\n",
    "# Define a function to handle the selection change\n",
    "def on_change(change):\n",
    "    if change['type'] == 'change' and change['name'] == 'value':\n",
    "        selected_dataset = change['new']\n",
    "        print(\"Selected Dataset:\", selected_dataset)\n",
    "        # Here you can trigger the training process for the selected dataset\n",
    "\n",
    "# Attach the function to the dropdown widget\n",
    "dropdown.observe(on_change)\n",
    "\n",
    "# Display the dropdown widget\n",
    "display(dropdown)"
   ]
  },
  {
   "cell_type": "code",
   "execution_count": null,
   "id": "e9d62793",
   "metadata": {},
   "outputs": [],
   "source": []
  }
 ],
 "metadata": {
  "kernelspec": {
   "display_name": "Python [conda env:elliot_env_dirk]",
   "language": "python",
   "name": "conda-env-elliot_env_dirk-py"
  },
  "language_info": {
   "codemirror_mode": {
    "name": "ipython",
    "version": 3
   },
   "file_extension": ".py",
   "mimetype": "text/x-python",
   "name": "python",
   "nbconvert_exporter": "python",
   "pygments_lexer": "ipython3",
   "version": "3.8.19"
  }
 },
 "nbformat": 4,
 "nbformat_minor": 5
}

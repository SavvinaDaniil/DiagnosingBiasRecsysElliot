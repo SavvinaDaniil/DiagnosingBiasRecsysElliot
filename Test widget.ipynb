{
 "cells": [
  {
   "cell_type": "markdown",
   "id": "7477c78d-a41d-40b5-af76-8b980bc540bf",
   "metadata": {},
   "source": [
    "### Import Libraries"
   ]
  },
  {
   "cell_type": "code",
   "execution_count": 2,
   "id": "e364e8c1",
   "metadata": {},
   "outputs": [],
   "source": [
    "import ipywidgets as widgets\n",
    "from IPython.display import display\n",
    "from elliot.run import run_experiment\n",
    "import os\n",
    "import pandas as pd\n",
    "import numpy as np\n",
    "import yaml\n",
    "import copy"
   ]
  },
  {
   "cell_type": "markdown",
   "id": "c7284cd6-77e8-4bff-a550-e07d43309570",
   "metadata": {},
   "source": [
    "### Define experiment"
   ]
  },
  {
   "cell_type": "code",
   "execution_count": 29,
   "id": "2387d350-b5a6-465e-8ac8-e50c096918d7",
   "metadata": {},
   "outputs": [],
   "source": [
    "# possible values for the hyperparameters\n",
    "mlp_values = ['(64,32)', '(64,64)']\n",
    "batch_size_values = [256, 512]"
   ]
  },
  {
   "cell_type": "code",
   "execution_count": null,
   "id": "681e97ae-ed04-4aef-925b-892945b5216f",
   "metadata": {},
   "outputs": [],
   "source": [
    "    \n",
    "    for i in range(1, 6):\n",
    "        print('Start for ', i, '!!!!!!!!!!!!!!!!!!!!!!!!!!!!!!!!!!!!!!!!!!!!!!!!!!!!!!!!!!!!!!!!!!!!!')\n",
    "        with open('config_files/uniformly_random'+str(i)+'.yml', 'r') as f: # open the relevant yaml file\n",
    "            base_config = yaml.safe_load(f)\n",
    "        \n",
    "        for mlp in mlp_values:\n",
    "            for batch_size in batch_size_values:\n",
    "                print(\"We re doing the following: \", mlp, batch_size)\n",
    "                # Make a copy of the base configuration\n",
    "                config = copy.deepcopy(base_config)\n",
    "                # Update the configuration with the current hyperparameters\n",
    "                config['experiment']['models']['DMF']['user_mlp'] = mlp\n",
    "                config['experiment']['models']['DMF']['item_mlp'] = mlp\n",
    "                config['experiment']['models']['DMF']['batch_size'] = batch_size\n",
    "    \n",
    "                # Write the configuration to a temporary file\n",
    "                with open('config_files/temp_config.yml', 'w') as f:\n",
    "                    yaml.dump(config, f)\n",
    "    \n",
    "                # Run the experiment with the current configuration\n",
    "                run_experiment('config_files/temp_config.yml')\n",
    "                \n",
    "                \n",
    "                # Remove the temp file\n",
    "                os.remove('config_files/temp_config.yml')    "
   ]
  },
  {
   "cell_type": "code",
   "execution_count": 28,
   "id": "9da89a31",
   "metadata": {},
   "outputs": [
    {
     "data": {
      "application/vnd.jupyter.widget-view+json": {
       "model_id": "fa8e0555167a4f1ba7a963663c802cd7",
       "version_major": 2,
       "version_minor": 0
      },
      "text/plain": [
       "RadioButtons(description='Dataset:', options=('Fairbook', 'Movielens1M', 'Epinion'), value='Fairbook')"
      ]
     },
     "metadata": {},
     "output_type": "display_data"
    },
    {
     "data": {
      "application/vnd.jupyter.widget-view+json": {
       "model_id": "461aca214a374062ba753155163b082a",
       "version_major": 2,
       "version_minor": 0
      },
      "text/plain": [
       "Output()"
      ]
     },
     "metadata": {},
     "output_type": "display_data"
    }
   ],
   "source": [
    "\n",
    "\n",
    "# Define the list of dataset options\n",
    "dataset_options = ['Fairbook', 'Movielens1M', 'Epinion']\n",
    "\n",
    "# Create a dropdown widget\n",
    "rad_button = widgets.RadioButtons(\n",
    "    options=dataset_options,\n",
    "    description='Dataset:',\n",
    "    disabled=False\n",
    ")\n",
    "output_radb = widgets.Output()\n",
    "\n",
    "# Define a function to handle the selection change\n",
    "def on_change(change):\n",
    "    \n",
    "    with output_radb:\n",
    "        if change['type'] == 'change' and change['name'] == 'value':\n",
    "            print(change)\n",
    "            selected_dataset = change['new']\n",
    "            print(\"Selected Dataset:\", selected_dataset)\n",
    "            # Here you can trigger the training process for the selected dataset\n",
    "\n",
    "\n",
    "\n",
    "# Display the dropdown widget\n",
    "display(rad_button, output_radb)\n",
    "# Attach the function to the dropdown widget\n",
    "rad_button.observe(on_change)"
   ]
  },
  {
   "cell_type": "code",
   "execution_count": null,
   "id": "559af958-2cc8-4ed6-abd3-e4cee6f288b5",
   "metadata": {},
   "outputs": [],
   "source": []
  }
 ],
 "metadata": {
  "kernelspec": {
   "display_name": "Python 3 (ipykernel)",
   "language": "python",
   "name": "python3"
  },
  "language_info": {
   "codemirror_mode": {
    "name": "ipython",
    "version": 3
   },
   "file_extension": ".py",
   "mimetype": "text/x-python",
   "name": "python",
   "nbconvert_exporter": "python",
   "pygments_lexer": "ipython3",
   "version": "3.8.19"
  }
 },
 "nbformat": 4,
 "nbformat_minor": 5
}

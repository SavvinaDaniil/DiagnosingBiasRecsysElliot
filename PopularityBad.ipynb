{
 "cells": [
  {
   "cell_type": "code",
   "execution_count": 1,
   "id": "c0a83484-80a5-4772-9df2-52a45c40d8df",
   "metadata": {
    "scrolled": true
   },
   "outputs": [
    {
     "name": "stdout",
     "output_type": "stream",
     "text": [
      "\n",
      "__/\\\\\\\\\\\\\\\\\\\\\\\\\\\\\\___/\\\\\\\\\\\\______/\\\\\\\\\\\\_________________________________________        \n",
      " _\\/\\\\\\///////////___\\////\\\\\\_____\\////\\\\\\_________________________________________       \n",
      "  _\\/\\\\\\_________________\\/\\\\\\________\\/\\\\\\______/\\\\\\_____________________/\\\\\\______      \n",
      "   _\\/\\\\\\\\\\\\\\\\\\\\\\_________\\/\\\\\\________\\/\\\\\\_____\\///_______/\\\\\\\\\\______/\\\\\\\\\\\\\\\\\\\\\\_     \n",
      "    _\\/\\\\\\///////__________\\/\\\\\\________\\/\\\\\\______/\\\\\\____/\\\\\\///\\\\\\___\\////\\\\\\////__    \n",
      "     _\\/\\\\\\_________________\\/\\\\\\________\\/\\\\\\_____\\/\\\\\\___/\\\\\\__\\//\\\\\\_____\\/\\\\\\______   \n",
      "      _\\/\\\\\\_________________\\/\\\\\\________\\/\\\\\\_____\\/\\\\\\__\\//\\\\\\__/\\\\\\______\\/\\\\\\_/\\\\__  \n",
      "       _\\/\\\\\\\\\\\\\\\\\\\\\\\\\\\\\\___/\\\\\\\\\\\\\\\\\\___/\\\\\\\\\\\\\\\\\\__\\/\\\\\\___\\///\\\\\\\\\\/_______\\//\\\\\\\\\\___ \n",
      "        _\\///////////////___\\/////////___\\/////////___\\///______\\/////__________\\/////____\n",
      "Version Number: 0.3.1\n"
     ]
    }
   ],
   "source": [
    "from elliot.run import run_experiment\n",
    "import zipfile\n",
    "import io\n",
    "import requests\n",
    "import os\n",
    "import pandas as pd\n",
    "import numpy as np"
   ]
  },
  {
   "cell_type": "code",
   "execution_count": 2,
   "id": "9e86141b-c7a1-4031-8a04-c980a36ed984",
   "metadata": {},
   "outputs": [],
   "source": [
    "pop_bad1_train = pd.read_csv('elliot/data/popularity_bad/popularity_bad_fold_1_train.csv')\n",
    "pop_bad1_test = pd.read_csv('elliot/data/popularity_bad/popularity_bad_fold_1_test.csv')"
   ]
  },
  {
   "cell_type": "code",
   "execution_count": 3,
   "id": "f6606f8d-d488-4258-98a0-f15e5adeea71",
   "metadata": {},
   "outputs": [],
   "source": [
    "np.savetxt('elliot/data/popularity_bad/pop_bad1_train.tsv', pop_bad1_train,delimiter='\\t',fmt='%i')\n",
    "np.savetxt('elliot/data/popularity_bad/pop_bad1_test.tsv', pop_bad1_test,delimiter='\\t',fmt='%i')"
   ]
  },
  {
   "cell_type": "code",
   "execution_count": null,
   "id": "207fb53e-e515-48f2-8db9-01ca3975ea41",
   "metadata": {},
   "outputs": [
    {
     "name": "stdout",
     "output_type": "stream",
     "text": [
      "2024-02-20 14:17:19.030352: I Start experiment\n",
      "2024-02-20 14:17:19.112435: I /export/scratch2/home/savvina/new_environment/Elliot/elliot/data/popularity_bad/pop_bad1_train.tsv - Loaded\n",
      "2024-02-20 14:17:19.129145: I Test Fold 0\n",
      "2024-02-20 14:17:24.760312: I Statistics\tUsers:\t6358\tItems:\t6921\tTransactions:\t85028\tSparsity:\t0.9980677087331575\n"
     ]
    },
    {
     "name": "stderr",
     "output_type": "stream",
     "text": [
      "2024-02-20 14:17:28.007588: W tensorflow/stream_executor/platform/default/dso_loader.cc:59] Could not load dynamic library 'libcudart.so.10.1'; dlerror: libcudart.so.10.1: cannot open shared object file: No such file or directory\n",
      "2024-02-20 14:17:28.007630: I tensorflow/stream_executor/cuda/cudart_stub.cc:29] Ignore above cudart dlerror if you do not have a GPU set up on your machine.\n"
     ]
    },
    {
     "name": "stdout",
     "output_type": "stream",
     "text": [
      "2024-02-20 14:17:29.017436: I Training begun for NGCF\\n\n",
      "2024-02-20 14:17:29.027122: I Loading parameters\n",
      "2024-02-20 14:17:29.028616: I Parameter lr set to 0.0001\n",
      "2024-02-20 14:17:29.029558: I Parameter latent_dim set to 64\n",
      "2024-02-20 14:17:29.029673: I Hyperparameters:\n",
      "2024-02-20 14:17:29.030767: I meta set to namespace(save_recs=True)\n",
      "2024-02-20 14:17:29.031621: I Parameter l_w set to 0.1\n",
      "2024-02-20 14:17:29.031956: I lr set to 0.0001\n",
      "2024-02-20 14:17:29.032985: I epochs set to 50\n",
      "2024-02-20 14:17:29.033871: I Parameter weight_size set to [64]\n",
      "2024-02-20 14:17:29.034177: I factors set to 64\n",
      "2024-02-20 14:17:29.035019: I Parameter node_dropout set to []\n",
      "2024-02-20 14:17:29.035315: I batch_size set to 256\n",
      "2024-02-20 14:17:29.036142: I Parameter message_dropout set to [0.1]\n",
      "2024-02-20 14:17:29.036440: I l_w set to 0.1\n",
      "2024-02-20 14:17:29.037253: I Parameter n_fold set to 5\n",
      "2024-02-20 14:17:29.119235: I weight_size set to (64,)\n",
      "2024-02-20 14:17:29.179158: I node_dropout set to ()\n",
      "2024-02-20 14:17:29.180529: I message_dropout set to (0.1,)\n",
      "2024-02-20 14:17:29.181764: I Exploration: Test Fold exploration number 1\n",
      "2024-02-20 14:17:29.182934: I Exploration: Train-Validation Fold exploration number 1\n"
     ]
    },
    {
     "name": "stderr",
     "output_type": "stream",
     "text": [
      "2024-02-20 14:17:32.087474: W tensorflow/stream_executor/platform/default/dso_loader.cc:59] Could not load dynamic library 'libcuda.so.1'; dlerror: libcuda.so.1: cannot open shared object file: No such file or directory\n",
      "2024-02-20 14:17:32.087515: W tensorflow/stream_executor/cuda/cuda_driver.cc:312] failed call to cuInit: UNKNOWN ERROR (303)\n",
      "2024-02-20 14:17:32.087548: I tensorflow/stream_executor/cuda/cuda_diagnostics.cc:156] kernel driver does not appear to be running on this host (alice.ia.cwi.nl): /proc/driver/nvidia/version does not exist\n",
      "2024-02-20 14:17:32.087742: I tensorflow/core/platform/cpu_feature_guard.cc:142] This TensorFlow binary is optimized with oneAPI Deep Neural Network Library (oneDNN)to use the following CPU instructions in performance-critical operations:  AVX2 FMA\n",
      "To enable them in other operations, rebuild TensorFlow with the appropriate compiler flags.\n",
      "2024-02-20 14:17:32.104147: I tensorflow/core/platform/profile_utils/cpu_utils.cc:104] CPU Frequency: 1996120000 Hz\n",
      "2024-02-20 14:17:32.111719: I tensorflow/compiler/xla/service/service.cc:168] XLA service 0x46043b0 initialized for platform Host (this does not guarantee that XLA will be used). Devices:\n",
      "2024-02-20 14:17:32.111775: I tensorflow/compiler/xla/service/service.cc:176]   StreamExecutor device (0): Host, Default Version\n"
     ]
    },
    {
     "name": "stdout",
     "output_type": "stream",
     "text": [
      "2024-02-20 14:17:49.953706: I \n",
      "2024-02-20 14:17:49.953461: I Epoch 1/50 loss 87953.29688\n",
      "2024-02-20 14:17:49.956219: I Writing recommendations at: /export/scratch2/home/savvina/new_environment/Elliot/elliot/results/pop_bad1/recs\n",
      "2024-02-20 14:17:49.957370: I Test Evaluation results\n",
      "2024-02-20 14:17:49.979253: I Cut-off: 10\n",
      "2024-02-20 14:17:50.039626: I Eval Time: 0.02712535858154297\n",
      "2024-02-20 14:17:50.083124: I ******************************************\n",
      "2024-02-20 14:17:50.096448: I Results\n",
      "2024-02-20 14:17:50.103216: I nDCG\t0.00038\n",
      "2024-02-20 14:18:06.415683: I \n",
      "2024-02-20 14:18:06.415413: I Epoch 2/50 loss 21663.10938\n",
      "2024-02-20 14:18:06.418569: I Test Evaluation results\n",
      "2024-02-20 14:18:06.419663: I Writing recommendations at: /export/scratch2/home/savvina/new_environment/Elliot/elliot/results/pop_bad1/recs\n",
      "2024-02-20 14:18:06.420020: I Cut-off: 10\n",
      "2024-02-20 14:18:06.421096: I Eval Time: 0.022208213806152344\n",
      "2024-02-20 14:18:06.422215: I Results\n",
      "2024-02-20 14:18:06.424310: I nDCG\t0.00072\n",
      "2024-02-20 14:18:06.549038: I ******************************************\n",
      "2024-02-20 14:18:22.864738: I \n",
      "2024-02-20 14:18:22.864578: I Epoch 3/50 loss 9532.02691\n",
      "2024-02-20 14:18:22.866333: I Writing recommendations at: /export/scratch2/home/savvina/new_environment/Elliot/elliot/results/pop_bad1/recs\n",
      "2024-02-20 14:18:22.867040: I Test Evaluation results\n",
      "2024-02-20 14:18:22.869464: I Cut-off: 10\n",
      "2024-02-20 14:18:23.008912: I Eval Time: 0.021958589553833008\n",
      "2024-02-20 14:18:23.011317: I Results\n",
      "2024-02-20 14:18:23.012691: I nDCG\t0.00038\n",
      "2024-02-20 14:18:39.243447: I \n",
      "2024-02-20 14:18:39.243276: I Epoch 4/50 loss 5326.78271\n",
      "2024-02-20 14:18:39.245514: I Test Evaluation results\n",
      "2024-02-20 14:18:39.245195: I Writing recommendations at: /export/scratch2/home/savvina/new_environment/Elliot/elliot/results/pop_bad1/recs\n",
      "2024-02-20 14:18:39.246856: I Cut-off: 10\n",
      "2024-02-20 14:18:39.249690: I Eval Time: 0.022243261337280273\n",
      "2024-02-20 14:18:39.253081: I Results\n",
      "2024-02-20 14:18:39.257641: I nDCG\t0.00028\n",
      "2024-02-20 14:18:55.538851: I \n",
      "2024-02-20 14:18:55.538653: I Epoch 5/50 loss 3396.38656\n",
      "2024-02-20 14:18:55.541234: I Test Evaluation results\n",
      "2024-02-20 14:18:55.542337: I Writing recommendations at: /export/scratch2/home/savvina/new_environment/Elliot/elliot/results/pop_bad1/recs\n",
      "2024-02-20 14:18:55.542639: I Cut-off: 10\n",
      "2024-02-20 14:18:55.546281: I Eval Time: 0.023128747940063477\n",
      "2024-02-20 14:18:55.553547: I Results\n",
      "2024-02-20 14:18:55.613401: I nDCG\t0.00044\n",
      "2024-02-20 14:19:11.703112: I \n",
      "2024-02-20 14:19:11.702931: I Epoch 6/50 loss 2353.61458\n",
      "2024-02-20 14:19:11.705461: I Writing recommendations at: /export/scratch2/home/savvina/new_environment/Elliot/elliot/results/pop_bad1/recs\n",
      "2024-02-20 14:19:11.705663: I Test Evaluation results\n",
      "2024-02-20 14:19:11.708166: I Cut-off: 10\n",
      "2024-02-20 14:19:11.723402: I Eval Time: 0.022795677185058594\n",
      "2024-02-20 14:19:11.784587: I Results\n",
      "2024-02-20 14:19:11.852355: I nDCG\t0.00047\n",
      "2024-02-20 14:19:27.768804: I \n",
      "2024-02-20 14:19:27.768673: I Epoch 7/50 loss 1726.70488\n",
      "2024-02-20 14:19:27.770716: I Test Evaluation results\n",
      "2024-02-20 14:19:27.770608: I Writing recommendations at: /export/scratch2/home/savvina/new_environment/Elliot/elliot/results/pop_bad1/recs\n",
      "2024-02-20 14:19:27.772509: I Cut-off: 10\n",
      "2024-02-20 14:19:27.776184: I Eval Time: 0.022856950759887695\n",
      "2024-02-20 14:19:27.788317: I Results\n",
      "2024-02-20 14:19:27.797139: I nDCG\t0.0\n"
     ]
    }
   ],
   "source": [
    "run_experiment(os.getcwd()+'/elliot/config_files/pop_bad1.yml')"
   ]
  },
  {
   "cell_type": "code",
   "execution_count": null,
   "id": "4420761f-d743-4742-85ef-9c19df4eaecf",
   "metadata": {},
   "outputs": [],
   "source": []
  }
 ],
 "metadata": {
  "kernelspec": {
   "display_name": "Python 3 (ipykernel)",
   "language": "python",
   "name": "python3"
  },
  "language_info": {
   "codemirror_mode": {
    "name": "ipython",
    "version": 3
   },
   "file_extension": ".py",
   "mimetype": "text/x-python",
   "name": "python",
   "nbconvert_exporter": "python",
   "pygments_lexer": "ipython3",
   "version": "3.8.18"
  }
 },
 "nbformat": 4,
 "nbformat_minor": 5
}

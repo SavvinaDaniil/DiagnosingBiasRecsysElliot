{
 "cells": [
  {
   "cell_type": "code",
   "execution_count": 11,
   "id": "c0a83484-80a5-4772-9df2-52a45c40d8df",
   "metadata": {
    "scrolled": true
   },
   "outputs": [],
   "source": [
    "from elliot.run import run_experiment\n",
    "from lib.data_generation import generate_data\n",
    "import zipfile\n",
    "import io\n",
    "import requests\n",
    "import os\n",
    "import pandas as pd\n",
    "import numpy as np\n",
    "import yaml\n",
    "import copy\n",
    "from lenskit import crossfold as xf"
   ]
  },
  {
   "cell_type": "markdown",
   "id": "ca12f851",
   "metadata": {},
   "source": [
    "### DMF experiment"
   ]
  },
  {
   "cell_type": "markdown",
   "id": "3bf56cdb",
   "metadata": {},
   "source": [
    "Generate train-test splits."
   ]
  },
  {
   "cell_type": "code",
   "execution_count": 2,
   "id": "26133833",
   "metadata": {},
   "outputs": [],
   "source": [
    "location = 'elliot/data/'"
   ]
  },
  {
   "cell_type": "code",
   "execution_count": 12,
   "id": "11059087",
   "metadata": {},
   "outputs": [],
   "source": [
    "current_splits = []\n",
    "data_strategy = 'ml1m'\n",
    "# generate the data\n",
    "ratings = pd.read_csv(\n",
    "    'elliot/data/movielens_1m/ml1m_events.dat', header=None, sep=\"::\", engine=\"python\"\n",
    ").drop(3, axis=1)\n",
    "ratings.columns = [\"user\", \"item\", \"rating\"]\n",
    "\n",
    "sample = xf.SampleFrac(0.2, rng_spec=0)\n",
    "sets = [i for i in enumerate(xf.partition_users(ratings, 5, sample, rng_spec=0))]\n",
    "for j, tp in sets:\n",
    "    current_splits.append([tp[0], tp[1]])\n",
    "\n",
    "    tp[0].to_csv(\n",
    "        location + data_strategy + \"_fold_\" + str(j + 1) + \"_train.csv\", index=False\n",
    "    )\n",
    "    tp[1].to_csv(\n",
    "        location + data_strategy + \"_fold_\" + str(j + 1) + \"_test.csv\", index=False\n",
    "    )\n",
    "\n"
   ]
  },
  {
   "cell_type": "markdown",
   "id": "02d89573",
   "metadata": {},
   "source": [
    "Change data format."
   ]
  },
  {
   "cell_type": "code",
   "execution_count": 13,
   "id": "91a199a5",
   "metadata": {},
   "outputs": [],
   "source": [
    "for i in range(1, 6):\n",
    "    tr = pd.read_csv(\"elliot/data/ml1m_fold_\"+str(i)+\"_train.csv\")\n",
    "    te = pd.read_csv(\"elliot/data/ml1m_fold_\"+str(i)+\"_test.csv\")\n",
    "    np.savetxt(\"elliot/data/ml1m_fold_\"+str(i)+\"_train.tsv\", tr,delimiter='\\t',fmt='%i')\n",
    "    np.savetxt(\"elliot/data/ml1m_fold_\"+str(i)+\"_test.tsv\", te,delimiter='\\t',fmt='%i')\n",
    "    "
   ]
  },
  {
   "cell_type": "markdown",
   "id": "f8a97d36",
   "metadata": {},
   "source": [
    "Experiment."
   ]
  },
  {
   "cell_type": "code",
   "execution_count": 14,
   "id": "5b8b5ccb",
   "metadata": {},
   "outputs": [],
   "source": [
    "# possible values for the hyperparameters\n",
    "mlp_values = ['(64,32)', '(64,64)']\n",
    "batch_size_values = [256, 512]"
   ]
  },
  {
   "cell_type": "code",
   "execution_count": 15,
   "id": "4ad7c2e1",
   "metadata": {},
   "outputs": [
    {
     "name": "stdout",
     "output_type": "stream",
     "text": [
      "Start for  1 !!!!!!!!!!!!!!!!!!!!!!!!!!!!!!!!!!!!!!!!!!!!!!!!!!!!!!!!!!!!!!!!!!!!!\n",
      "We re doing the following:  (64,32) 256\n",
      "2024-04-23 16:48:32.900116: I Start experiment\n",
      "2024-04-23 16:48:33.181494: I /export/scratch2/home/savvina/new_environment/Elliot/elliot/data/ml1m_fold_1_train.tsv - Loaded\n",
      "2024-04-23 16:48:33.245994: I Test Fold 0\n"
     ]
    }
   ],
   "source": [
    "for i in range(1, 6):\n",
    "    print('Start for ', i, '!!!!!!!!!!!!!!!!!!!!!!!!!!!!!!!!!!!!!!!!!!!!!!!!!!!!!!!!!!!!!!!!!!!!!')\n",
    "    with open('elliot/config_files/ml1m'+str(i)+'.yml', 'r') as f: # open the relevant yaml file\n",
    "        base_config = yaml.safe_load(f)\n",
    "    \n",
    "    for mlp in mlp_values:\n",
    "        for batch_size in batch_size_values:\n",
    "            print(\"We re doing the following: \", mlp, batch_size)\n",
    "            # Make a copy of the base configuration\n",
    "            config = copy.deepcopy(base_config)\n",
    "            # Update the configuration with the current hyperparameters\n",
    "            config['experiment']['models']['DMF']['user_mlp'] = mlp\n",
    "            config['experiment']['models']['DMF']['item_mlp'] = mlp\n",
    "            config['experiment']['models']['DMF']['batch_size'] = batch_size\n",
    "\n",
    "            # Write the configuration to a temporary file\n",
    "            with open('elliot/config_files/temp_config.yml', 'w') as f:\n",
    "                yaml.dump(config, f)\n",
    "\n",
    "            # Run the experiment with the current configuration\n",
    "            run_experiment('elliot/config_files/temp_config.yml')\n",
    "            \n",
    "            \n",
    "            # Remove the temp file\n",
    "            os.remove('elliot/config_files/temp_config.yml')    "
   ]
  },
  {
   "cell_type": "markdown",
   "id": "413065c4",
   "metadata": {},
   "source": [
    "TO do next:\n",
    "\n",
    "Extract the best iteration from the resulting file so you read the appropriate file."
   ]
  }
 ],
 "metadata": {
  "kernelspec": {
   "display_name": "Python 3 (ipykernel)",
   "language": "python",
   "name": "python3"
  },
  "language_info": {
   "codemirror_mode": {
    "name": "ipython",
    "version": 3
   },
   "file_extension": ".py",
   "mimetype": "text/x-python",
   "name": "python",
   "nbconvert_exporter": "python",
   "pygments_lexer": "ipython3",
   "version": "3.8.19"
  },
  "vscode": {
   "interpreter": {
    "hash": "889773d0e3910a3da9ca5cf13d401ea1cecb570772d2ad0802f95e8942400dfb"
   }
  }
 },
 "nbformat": 4,
 "nbformat_minor": 5
}

{
 "cells": [
  {
   "cell_type": "code",
   "execution_count": 1,
   "id": "7c6983f5-c678-498b-868a-b77997c04e4d",
   "metadata": {},
   "outputs": [
    {
     "name": "stdout",
     "output_type": "stream",
     "text": [
      "\n",
      "__/\\\\\\\\\\\\\\\\\\\\\\\\\\\\\\___/\\\\\\\\\\\\______/\\\\\\\\\\\\_________________________________________        \n",
      " _\\/\\\\\\///////////___\\////\\\\\\_____\\////\\\\\\_________________________________________       \n",
      "  _\\/\\\\\\_________________\\/\\\\\\________\\/\\\\\\______/\\\\\\_____________________/\\\\\\______      \n",
      "   _\\/\\\\\\\\\\\\\\\\\\\\\\_________\\/\\\\\\________\\/\\\\\\_____\\///_______/\\\\\\\\\\______/\\\\\\\\\\\\\\\\\\\\\\_     \n",
      "    _\\/\\\\\\///////__________\\/\\\\\\________\\/\\\\\\______/\\\\\\____/\\\\\\///\\\\\\___\\////\\\\\\////__    \n",
      "     _\\/\\\\\\_________________\\/\\\\\\________\\/\\\\\\_____\\/\\\\\\___/\\\\\\__\\//\\\\\\_____\\/\\\\\\______   \n",
      "      _\\/\\\\\\_________________\\/\\\\\\________\\/\\\\\\_____\\/\\\\\\__\\//\\\\\\__/\\\\\\______\\/\\\\\\_/\\\\__  \n",
      "       _\\/\\\\\\\\\\\\\\\\\\\\\\\\\\\\\\___/\\\\\\\\\\\\\\\\\\___/\\\\\\\\\\\\\\\\\\__\\/\\\\\\___\\///\\\\\\\\\\/_______\\//\\\\\\\\\\___ \n",
      "        _\\///////////////___\\/////////___\\/////////___\\///______\\/////__________\\/////____\n",
      "Version Number: 0.3.1\n"
     ]
    }
   ],
   "source": [
    "from elliot.run import run_experiment\n",
    "from lib.data_generation import generate_data\n",
    "import zipfile\n",
    "import io\n",
    "import requests\n",
    "import os\n",
    "import pandas as pd\n",
    "import numpy as np\n",
    "import yaml\n",
    "import copy\n",
    "from lenskit import crossfold as xf"
   ]
  },
  {
   "cell_type": "markdown",
   "id": "4e38a62d-453f-4161-83a2-54b3da0064c4",
   "metadata": {},
   "source": [
    "# Tune!"
   ]
  },
  {
   "cell_type": "code",
   "execution_count": 2,
   "id": "e22722a3-8565-4512-980b-342c12862f62",
   "metadata": {},
   "outputs": [],
   "source": [
    "# possible values for the hyperparameters\n",
    "mlp_values = ['(64,32)', '(64,64)']"
   ]
  },
  {
   "cell_type": "code",
   "execution_count": null,
   "id": "d237cf5e-7f98-4337-bca2-68bc96826923",
   "metadata": {},
   "outputs": [
    {
     "name": "stdout",
     "output_type": "stream",
     "text": [
      "We re doing the following:  (64,32)\n",
      "2024-07-11 16:48:09.071150: I Start experiment\n",
      "2024-07-11 16:48:09.075370: I There will be the splitting\n",
      "2024-07-11 16:48:09.122605: I /export/scratch2/home/savvina/new_environment/Elliot_dirk/data/fairbook/fairbook_events.tsv - Loaded\n",
      "\n",
      "Realized a Train/Test splitting strategy\n",
      "\n",
      "2024-07-11 16:48:11.932668: I Test Fold 0\n",
      "2024-07-11 16:48:17.306033: I Statistics\tUsers:\t6358\tItems:\t6869\tTransactions:\t68401\tSparsity:\t0.9984337957033599\n",
      "2024-07-11 16:48:20.024826: I Test Fold 1\n",
      "2024-07-11 16:48:25.388333: I Statistics\tUsers:\t6358\tItems:\t6921\tTransactions:\t69865\tSparsity:\t0.9984122932521293\n",
      "2024-07-11 16:48:28.104273: I Test Fold 2\n",
      "2024-07-11 16:48:33.486676: I Statistics\tUsers:\t6358\tItems:\t6921\tTransactions:\t71053\tSparsity:\t0.9983852955334365\n",
      "2024-07-11 16:48:36.225685: I Test Fold 3\n",
      "2024-07-11 16:48:41.619998: I Statistics\tUsers:\t6358\tItems:\t6921\tTransactions:\t72020\tSparsity:\t0.9983633201176318\n",
      "2024-07-11 16:48:44.367031: I Test Fold 4\n",
      "2024-07-11 16:48:49.777919: I Statistics\tUsers:\t6358\tItems:\t6921\tTransactions:\t72869\tSparsity:\t0.9983440262934146\n",
      "2024-07-11 16:48:52.588138: I Tuning begun for DMF\\n\n",
      "2024-07-11 16:48:52.599494: I Hyperparameter tuning exploration:\n",
      "2024-07-11 16:48:52.608821: I lr set to 0.0001\n",
      "2024-07-11 16:48:52.610041: I reg set to 0.01\n",
      "2024-07-11 16:48:52.620390: I Exploration: Hyperparameter exploration number 1\n",
      "2024-07-11 16:48:52.622092: I Exploration: Test Fold exploration number 1\n",
      "2024-07-11 16:48:52.623404: I Exploration: Train-Validation Fold exploration number 1\n"
     ]
    },
    {
     "name": "stderr",
     "output_type": "stream",
     "text": [
      "1604it [00:23, 67.25it/s, loss=0.37257]                                                                                                                                                                                                                                                                                                                                                                                                  \n"
     ]
    }
   ],
   "source": [
    "with open('config_files/fairbook_tune.yml', 'r') as f: # open the relevant yaml file\n",
    "    base_config = yaml.safe_load(f)\n",
    "\n",
    "for mlp in mlp_values:\n",
    "    print(\"We re doing the following: \", mlp)\n",
    "    # Make a copy of the base configuration\n",
    "    config = copy.deepcopy(base_config)\n",
    "    # Update the configuration with the current hyperparameters\n",
    "    config['experiment']['models']['DMF']['user_mlp'] = mlp\n",
    "    config['experiment']['models']['DMF']['item_mlp'] = mlp\n",
    "\n",
    "    # Write the configuration to a temporary file\n",
    "    with open('config_files/temp_config.yml', 'w') as f:\n",
    "        yaml.dump(config, f)\n",
    "\n",
    "    # Run the experiment with the current configuration\n",
    "    run_experiment('config_files/temp_config.yml')\n",
    "    \n",
    "    \n",
    "    # Remove the temp file\n",
    "    os.remove('config_files/temp_config.yml')    "
   ]
  }
 ],
 "metadata": {
  "kernelspec": {
   "display_name": "Python 3 (ipykernel)",
   "language": "python",
   "name": "python3"
  },
  "language_info": {
   "codemirror_mode": {
    "name": "ipython",
    "version": 3
   },
   "file_extension": ".py",
   "mimetype": "text/x-python",
   "name": "python",
   "nbconvert_exporter": "python",
   "pygments_lexer": "ipython3",
   "version": "3.8.19"
  },
  "widgets": {
   "application/vnd.jupyter.widget-state+json": {
    "state": {},
    "version_major": 2,
    "version_minor": 0
   }
  }
 },
 "nbformat": 4,
 "nbformat_minor": 5
}

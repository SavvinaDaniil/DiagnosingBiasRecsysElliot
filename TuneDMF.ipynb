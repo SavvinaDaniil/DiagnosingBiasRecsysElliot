{
 "cells": [
  {
   "cell_type": "markdown",
   "id": "7477c78d-a41d-40b5-af76-8b980bc540bf",
   "metadata": {},
   "source": [
    "### Import Libraries"
   ]
  },
  {
   "cell_type": "code",
   "execution_count": 1,
   "id": "e364e8c1",
   "metadata": {},
   "outputs": [
    {
     "name": "stdout",
     "output_type": "stream",
     "text": [
      "\n",
      "__/\\\\\\\\\\\\\\\\\\\\\\\\\\\\\\___/\\\\\\\\\\\\______/\\\\\\\\\\\\_________________________________________        \n",
      " _\\/\\\\\\///////////___\\////\\\\\\_____\\////\\\\\\_________________________________________       \n",
      "  _\\/\\\\\\_________________\\/\\\\\\________\\/\\\\\\______/\\\\\\_____________________/\\\\\\______      \n",
      "   _\\/\\\\\\\\\\\\\\\\\\\\\\_________\\/\\\\\\________\\/\\\\\\_____\\///_______/\\\\\\\\\\______/\\\\\\\\\\\\\\\\\\\\\\_     \n",
      "    _\\/\\\\\\///////__________\\/\\\\\\________\\/\\\\\\______/\\\\\\____/\\\\\\///\\\\\\___\\////\\\\\\////__    \n",
      "     _\\/\\\\\\_________________\\/\\\\\\________\\/\\\\\\_____\\/\\\\\\___/\\\\\\__\\//\\\\\\_____\\/\\\\\\______   \n",
      "      _\\/\\\\\\_________________\\/\\\\\\________\\/\\\\\\_____\\/\\\\\\__\\//\\\\\\__/\\\\\\______\\/\\\\\\_/\\\\__  \n",
      "       _\\/\\\\\\\\\\\\\\\\\\\\\\\\\\\\\\___/\\\\\\\\\\\\\\\\\\___/\\\\\\\\\\\\\\\\\\__\\/\\\\\\___\\///\\\\\\\\\\/_______\\//\\\\\\\\\\___ \n",
      "        _\\///////////////___\\/////////___\\/////////___\\///______\\/////__________\\/////____\n",
      "Version Number: 0.3.1\n"
     ]
    }
   ],
   "source": [
    "import ipywidgets as widgets\n",
    "from IPython.display import display\n",
    "from elliot.run import run_experiment\n",
    "import os\n",
    "import pandas as pd\n",
    "import numpy as np\n",
    "import yaml\n",
    "import copy\n",
    "from scipy import io"
   ]
  },
  {
   "cell_type": "markdown",
   "id": "c7284cd6-77e8-4bff-a550-e07d43309570",
   "metadata": {},
   "source": [
    "### Define experiment"
   ]
  },
  {
   "cell_type": "code",
   "execution_count": 3,
   "id": "2387d350-b5a6-465e-8ac8-e50c096918d7",
   "metadata": {},
   "outputs": [],
   "source": [
    "# possible values for the hyperparameters\n",
    "mlp_values = ['(64,32)', '(64,64)']\n",
    "batch_size_values = [256, 512]"
   ]
  },
  {
   "cell_type": "code",
   "execution_count": 2,
   "id": "681e97ae-ed04-4aef-925b-892945b5216f",
   "metadata": {},
   "outputs": [],
   "source": [
    "def run_analysis(dataset):\n",
    "    print(dataset)\n",
    "    # for i in range(1, 6): # for every fold\n",
    "    #     print('Fold number', str(i))\n",
    "    #     with open('config_files/'+dataset+str(i)+'.yml', 'r') as f: # open the relevant yaml file\n",
    "    #         base_config = yaml.safe_load(f)\n",
    "        \n",
    "    #     for mlp in mlp_values:\n",
    "    #         for batch_size in batch_size_values:\n",
    "    #             print(\"We re doing the following: \", mlp, batch_size)\n",
    "    #             # Make a copy of the base configuration\n",
    "    #             config = copy.deepcopy(base_config)\n",
    "    #             # Update the configuration with the current hyperparameters\n",
    "    #             config['experiment']['models']['DMF']['user_mlp'] = mlp\n",
    "    #             config['experiment']['models']['DMF']['item_mlp'] = mlp\n",
    "    #             config['experiment']['models']['DMF']['batch_size'] = batch_size\n",
    "    \n",
    "    #             # Write the configuration to a temporary file\n",
    "    #             with open('config_files/temp_config.yml', 'w') as f:\n",
    "    #                 yaml.dump(config, f)\n",
    "    \n",
    "    #             # Run the experiment with the current configuration\n",
    "    #             run_experiment('config_files/temp_config.yml')\n",
    "                \n",
    "                \n",
    "    #             # Remove the temp file\n",
    "    #             os.remove('config_files/temp_config.yml')    "
   ]
  },
  {
   "cell_type": "markdown",
   "id": "46aa7e4e-12be-4383-83d3-d275cca23c06",
   "metadata": {},
   "source": [
    "### Widget"
   ]
  },
  {
   "cell_type": "code",
   "execution_count": 9,
   "id": "9da89a31",
   "metadata": {},
   "outputs": [
    {
     "data": {
      "application/vnd.jupyter.widget-view+json": {
       "model_id": "738b240a656d4598b22f7b9e4b4f94a4",
       "version_major": 2,
       "version_minor": 0
      },
      "text/plain": [
       "RadioButtons(description='Choose dataset:', options=('fairbook', 'ml1m', 'epinion'), value=None)"
      ]
     },
     "metadata": {},
     "output_type": "display_data"
    },
    {
     "data": {
      "application/vnd.jupyter.widget-view+json": {
       "model_id": "ae1889fae54c4b6d9f33ed20d840c727",
       "version_major": 2,
       "version_minor": 0
      },
      "text/plain": [
       "Output()"
      ]
     },
     "metadata": {},
     "output_type": "display_data"
    }
   ],
   "source": [
    "# Define the list of dataset options\n",
    "dataset_options = ['fairbook', 'ml1m', 'epinion']\n",
    "\n",
    "# Create a radio button widget\n",
    "rad_button = widgets.RadioButtons(\n",
    "    options=dataset_options,\n",
    "    description='Choose dataset:',\n",
    "    disabled=False,\n",
    "    value=None\n",
    ")\n",
    "output_radb = widgets.Output()\n",
    "\n",
    "# Define a function to handle the selection change\n",
    "def on_change(change):\n",
    "    \n",
    "    with output_radb:\n",
    "        if change['type'] == 'change' and change['name'] == 'value':\n",
    "            selected_dataset = change['new']\n",
    "            run_analysis(selected_dataset)\n",
    "            # Here you can trigger the training process for the selected dataset\n",
    "\n",
    "\n",
    "\n",
    "# Display the radio button widget\n",
    "display(rad_button, output_radb)\n",
    "# Attach the function to the radio button widget\n",
    "rad_button.observe(on_change)"
   ]
  },
  {
   "cell_type": "code",
   "execution_count": null,
   "id": "0a7baf21-5447-4963-9fd4-14214a2ade4f",
   "metadata": {},
   "outputs": [],
   "source": []
  }
 ],
 "metadata": {
  "kernelspec": {
   "display_name": "Python 3 (ipykernel)",
   "language": "python",
   "name": "python3"
  },
  "language_info": {
   "codemirror_mode": {
    "name": "ipython",
    "version": 3
   },
   "file_extension": ".py",
   "mimetype": "text/x-python",
   "name": "python",
   "nbconvert_exporter": "python",
   "pygments_lexer": "ipython3",
   "version": "3.8.19"
  },
  "widgets": {
   "application/vnd.jupyter.widget-state+json": {
    "state": {
     "0b4106f6e57e456ea1c6e226de7511cf": {
      "model_module": "@jupyter-widgets/base",
      "model_module_version": "2.0.0",
      "model_name": "LayoutModel",
      "state": {}
     },
     "265ff7c645bb4a0495b50ba85c803932": {
      "model_module": "@jupyter-widgets/base",
      "model_module_version": "2.0.0",
      "model_name": "LayoutModel",
      "state": {}
     },
     "39e86fed53f94061bb18cece1fffdbc9": {
      "model_module": "@jupyter-widgets/base",
      "model_module_version": "2.0.0",
      "model_name": "LayoutModel",
      "state": {}
     },
     "3d49e831210649b3a98b8f57d372af6b": {
      "model_module": "@jupyter-widgets/base",
      "model_module_version": "2.0.0",
      "model_name": "LayoutModel",
      "state": {}
     },
     "5290489b427c4c8ba47d6fbae202dbad": {
      "model_module": "@jupyter-widgets/base",
      "model_module_version": "2.0.0",
      "model_name": "LayoutModel",
      "state": {}
     },
     "5626d81efac24921b6846328233fd8cd": {
      "model_module": "@jupyter-widgets/controls",
      "model_module_version": "2.0.0",
      "model_name": "DescriptionStyleModel",
      "state": {
       "description_width": ""
      }
     },
     "636ebcc6e5db457293614b2195b61608": {
      "model_module": "@jupyter-widgets/base",
      "model_module_version": "2.0.0",
      "model_name": "LayoutModel",
      "state": {}
     },
     "63c9cd5466084c8484b4b6aab71676cf": {
      "model_module": "@jupyter-widgets/base",
      "model_module_version": "2.0.0",
      "model_name": "LayoutModel",
      "state": {}
     },
     "65bf4e6cdc9d453aa0eb9606f750b002": {
      "model_module": "@jupyter-widgets/controls",
      "model_module_version": "2.0.0",
      "model_name": "DescriptionStyleModel",
      "state": {
       "description_width": ""
      }
     },
     "70e97c660a7e49c19a8e269a942c4f65": {
      "model_module": "@jupyter-widgets/controls",
      "model_module_version": "2.0.0",
      "model_name": "RadioButtonsModel",
      "state": {
       "_options_labels": [
        "fairbook",
        "ml1m",
        "epinion"
       ],
       "description": "Choose dataset:",
       "index": 0,
       "layout": "IPY_MODEL_636ebcc6e5db457293614b2195b61608",
       "style": "IPY_MODEL_df6d7014aedc4c3bba6015d9363838dd"
      }
     },
     "738b240a656d4598b22f7b9e4b4f94a4": {
      "model_module": "@jupyter-widgets/controls",
      "model_module_version": "2.0.0",
      "model_name": "RadioButtonsModel",
      "state": {
       "_options_labels": [
        "fairbook",
        "ml1m",
        "epinion"
       ],
       "description": "Choose dataset:",
       "index": null,
       "layout": "IPY_MODEL_0b4106f6e57e456ea1c6e226de7511cf",
       "style": "IPY_MODEL_5626d81efac24921b6846328233fd8cd"
      }
     },
     "77b8476e52b34c74b696afef259c71f2": {
      "model_module": "@jupyter-widgets/output",
      "model_module_version": "1.0.0",
      "model_name": "OutputModel",
      "state": {
       "layout": "IPY_MODEL_b11d0b7f87384b28aa1d5d348f12c0d3"
      }
     },
     "8d1756e638e04072bf2990ff1bb5fa37": {
      "model_module": "@jupyter-widgets/output",
      "model_module_version": "1.0.0",
      "model_name": "OutputModel",
      "state": {
       "layout": "IPY_MODEL_989c85af03614213a0c11581e877b632",
       "outputs": [
        {
         "name": "stdout",
         "output_type": "stream",
         "text": "fairbook\n"
        }
       ]
      }
     },
     "94c1e2425a7345cf98e901c3d67a374d": {
      "model_module": "@jupyter-widgets/controls",
      "model_module_version": "2.0.0",
      "model_name": "RadioButtonsModel",
      "state": {
       "_options_labels": [
        "fairbook",
        "ml1m",
        "epinion"
       ],
       "description": "Choose dataset:",
       "index": null,
       "layout": "IPY_MODEL_5290489b427c4c8ba47d6fbae202dbad",
       "style": "IPY_MODEL_def005513c404a6aa1950f2339736c00"
      }
     },
     "9896671c2ae64f09922036b9d981591e": {
      "model_module": "@jupyter-widgets/base",
      "model_module_version": "2.0.0",
      "model_name": "LayoutModel",
      "state": {}
     },
     "989c85af03614213a0c11581e877b632": {
      "model_module": "@jupyter-widgets/base",
      "model_module_version": "2.0.0",
      "model_name": "LayoutModel",
      "state": {}
     },
     "9a209a05984f477cb3c95ca633c1e8c5": {
      "model_module": "@jupyter-widgets/controls",
      "model_module_version": "2.0.0",
      "model_name": "DescriptionStyleModel",
      "state": {
       "description_width": ""
      }
     },
     "9cd1c45577344b9f8520a2873a1c536a": {
      "model_module": "@jupyter-widgets/base",
      "model_module_version": "2.0.0",
      "model_name": "LayoutModel",
      "state": {}
     },
     "ae1889fae54c4b6d9f33ed20d840c727": {
      "model_module": "@jupyter-widgets/output",
      "model_module_version": "1.0.0",
      "model_name": "OutputModel",
      "state": {
       "layout": "IPY_MODEL_63c9cd5466084c8484b4b6aab71676cf"
      }
     },
     "b11d0b7f87384b28aa1d5d348f12c0d3": {
      "model_module": "@jupyter-widgets/base",
      "model_module_version": "2.0.0",
      "model_name": "LayoutModel",
      "state": {}
     },
     "b8f5862d552c405f92a7cb7254273a80": {
      "model_module": "@jupyter-widgets/output",
      "model_module_version": "1.0.0",
      "model_name": "OutputModel",
      "state": {
       "layout": "IPY_MODEL_3d49e831210649b3a98b8f57d372af6b"
      }
     },
     "d611acb0dd1a40f2bb07d4f1373c275c": {
      "model_module": "@jupyter-widgets/output",
      "model_module_version": "1.0.0",
      "model_name": "OutputModel",
      "state": {
       "layout": "IPY_MODEL_9cd1c45577344b9f8520a2873a1c536a"
      }
     },
     "def005513c404a6aa1950f2339736c00": {
      "model_module": "@jupyter-widgets/controls",
      "model_module_version": "2.0.0",
      "model_name": "DescriptionStyleModel",
      "state": {
       "description_width": ""
      }
     },
     "df55c7b8dc0d42bb99b0a0b270207186": {
      "model_module": "@jupyter-widgets/output",
      "model_module_version": "1.0.0",
      "model_name": "OutputModel",
      "state": {
       "layout": "IPY_MODEL_eac8b4cfbee44cdc83e827c167b03484",
       "outputs": [
        {
         "name": "stdout",
         "output_type": "stream",
         "text": "fairbook\n"
        }
       ]
      }
     },
     "df6d7014aedc4c3bba6015d9363838dd": {
      "model_module": "@jupyter-widgets/controls",
      "model_module_version": "2.0.0",
      "model_name": "DescriptionStyleModel",
      "state": {
       "description_width": ""
      }
     },
     "ea8ec34218a24600bb3738e120af84ae": {
      "model_module": "@jupyter-widgets/controls",
      "model_module_version": "2.0.0",
      "model_name": "RadioButtonsModel",
      "state": {
       "_options_labels": [
        "fairbook",
        "ml1m",
        "epinion"
       ],
       "description": "Choose dataset:",
       "index": 0,
       "layout": "IPY_MODEL_39e86fed53f94061bb18cece1fffdbc9",
       "style": "IPY_MODEL_9a209a05984f477cb3c95ca633c1e8c5"
      }
     },
     "eac8b4cfbee44cdc83e827c167b03484": {
      "model_module": "@jupyter-widgets/base",
      "model_module_version": "2.0.0",
      "model_name": "LayoutModel",
      "state": {}
     },
     "ebc4694c357541989517cb67f9527065": {
      "model_module": "@jupyter-widgets/controls",
      "model_module_version": "2.0.0",
      "model_name": "DescriptionStyleModel",
      "state": {
       "description_width": ""
      }
     },
     "f75c0ce8de4d434d9064f04647bd9614": {
      "model_module": "@jupyter-widgets/controls",
      "model_module_version": "2.0.0",
      "model_name": "RadioButtonsModel",
      "state": {
       "_options_labels": [
        "fairbook",
        "ml1m",
        "epinion"
       ],
       "description": "Choose dataset:",
       "index": null,
       "layout": "IPY_MODEL_265ff7c645bb4a0495b50ba85c803932",
       "style": "IPY_MODEL_ebc4694c357541989517cb67f9527065"
      }
     },
     "f91468f3695a407daf081f6b32a69132": {
      "model_module": "@jupyter-widgets/controls",
      "model_module_version": "2.0.0",
      "model_name": "RadioButtonsModel",
      "state": {
       "_options_labels": [
        "fairbook",
        "ml1m",
        "epinion"
       ],
       "description": "Dataset:",
       "index": 0,
       "layout": "IPY_MODEL_9896671c2ae64f09922036b9d981591e",
       "style": "IPY_MODEL_65bf4e6cdc9d453aa0eb9606f750b002"
      }
     }
    },
    "version_major": 2,
    "version_minor": 0
   }
  }
 },
 "nbformat": 4,
 "nbformat_minor": 5
}

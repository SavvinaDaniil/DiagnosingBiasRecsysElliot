{
 "cells": [
  {
   "cell_type": "markdown",
   "id": "7477c78d-a41d-40b5-af76-8b980bc540bf",
   "metadata": {},
   "source": [
    "### Import Libraries"
   ]
  },
  {
   "cell_type": "code",
   "execution_count": 1,
   "id": "e364e8c1",
   "metadata": {},
   "outputs": [
    {
     "name": "stdout",
     "output_type": "stream",
     "text": [
      "\n",
      "__/\\\\\\\\\\\\\\\\\\\\\\\\\\\\\\___/\\\\\\\\\\\\______/\\\\\\\\\\\\_________________________________________        \n",
      " _\\/\\\\\\///////////___\\////\\\\\\_____\\////\\\\\\_________________________________________       \n",
      "  _\\/\\\\\\_________________\\/\\\\\\________\\/\\\\\\______/\\\\\\_____________________/\\\\\\______      \n",
      "   _\\/\\\\\\\\\\\\\\\\\\\\\\_________\\/\\\\\\________\\/\\\\\\_____\\///_______/\\\\\\\\\\______/\\\\\\\\\\\\\\\\\\\\\\_     \n",
      "    _\\/\\\\\\///////__________\\/\\\\\\________\\/\\\\\\______/\\\\\\____/\\\\\\///\\\\\\___\\////\\\\\\////__    \n",
      "     _\\/\\\\\\_________________\\/\\\\\\________\\/\\\\\\_____\\/\\\\\\___/\\\\\\__\\//\\\\\\_____\\/\\\\\\______   \n",
      "      _\\/\\\\\\_________________\\/\\\\\\________\\/\\\\\\_____\\/\\\\\\__\\//\\\\\\__/\\\\\\______\\/\\\\\\_/\\\\__  \n",
      "       _\\/\\\\\\\\\\\\\\\\\\\\\\\\\\\\\\___/\\\\\\\\\\\\\\\\\\___/\\\\\\\\\\\\\\\\\\__\\/\\\\\\___\\///\\\\\\\\\\/_______\\//\\\\\\\\\\___ \n",
      "        _\\///////////////___\\/////////___\\/////////___\\///______\\/////__________\\/////____\n",
      "Version Number: 0.3.1\n"
     ]
    }
   ],
   "source": [
    "import ipywidgets as widgets\n",
    "from IPython.display import display\n",
    "from elliot.run import run_experiment\n",
    "import os\n",
    "import pandas as pd\n",
    "import numpy as np\n",
    "import yaml\n",
    "import copy\n",
    "from scipy import io"
   ]
  },
  {
   "cell_type": "markdown",
   "id": "c7284cd6-77e8-4bff-a550-e07d43309570",
   "metadata": {},
   "source": [
    "### Define experiment"
   ]
  },
  {
   "cell_type": "code",
   "execution_count": 3,
   "id": "2387d350-b5a6-465e-8ac8-e50c096918d7",
   "metadata": {},
   "outputs": [],
   "source": [
    "# possible values for the hyperparameters\n",
    "mlp_values = ['(64,32)', '(64,64)']\n",
    "batch_size_values = [256, 512]"
   ]
  },
  {
   "cell_type": "code",
   "execution_count": 2,
   "id": "681e97ae-ed04-4aef-925b-892945b5216f",
   "metadata": {},
   "outputs": [],
   "source": [
    "def run_analysis(dataset):\n",
    "    print(dataset)\n",
    "    # for i in range(1, 6): # for every fold\n",
    "    #     print('Fold number', str(i))\n",
    "    #     with open('config_files/'+dataset+str(i)+'.yml', 'r') as f: # open the relevant yaml file\n",
    "    #         base_config = yaml.safe_load(f)\n",
    "        \n",
    "    #     for mlp in mlp_values:\n",
    "    #         for batch_size in batch_size_values:\n",
    "    #             print(\"We re doing the following: \", mlp, batch_size)\n",
    "    #             # Make a copy of the base configuration\n",
    "    #             config = copy.deepcopy(base_config)\n",
    "    #             # Update the configuration with the current hyperparameters\n",
    "    #             config['experiment']['models']['DMF']['user_mlp'] = mlp\n",
    "    #             config['experiment']['models']['DMF']['item_mlp'] = mlp\n",
    "    #             config['experiment']['models']['DMF']['batch_size'] = batch_size\n",
    "    \n",
    "    #             # Write the configuration to a temporary file\n",
    "    #             with open('config_files/temp_config.yml', 'w') as f:\n",
    "    #                 yaml.dump(config, f)\n",
    "    \n",
    "    #             # Run the experiment with the current configuration\n",
    "    #             run_experiment('config_files/temp_config.yml')\n",
    "                \n",
    "                \n",
    "    #             # Remove the temp file\n",
    "    #             os.remove('config_files/temp_config.yml')    "
   ]
  },
  {
   "cell_type": "markdown",
   "id": "46aa7e4e-12be-4383-83d3-d275cca23c06",
   "metadata": {},
   "source": [
    "### Widget"
   ]
  },
  {
   "cell_type": "code",
   "execution_count": 5,
   "id": "9da89a31",
   "metadata": {},
   "outputs": [
    {
     "data": {
      "application/vnd.jupyter.widget-view+json": {
       "model_id": "f75c0ce8de4d434d9064f04647bd9614",
       "version_major": 2,
       "version_minor": 0
      },
      "text/plain": [
       "RadioButtons(description='Choose dataset:', options=('fairbook', 'ml1m', 'epinion'), value=None)"
      ]
     },
     "metadata": {},
     "output_type": "display_data"
    },
    {
     "data": {
      "application/vnd.jupyter.widget-view+json": {
       "model_id": "b8f5862d552c405f92a7cb7254273a80",
       "version_major": 2,
       "version_minor": 0
      },
      "text/plain": [
       "Output()"
      ]
     },
     "metadata": {},
     "output_type": "display_data"
    }
   ],
   "source": [
    "# Define the list of dataset options\n",
    "dataset_options = ['fairbook', 'ml1m', 'epinion']\n",
    "\n",
    "# Create a radio button widget\n",
    "rad_button = widgets.RadioButtons(\n",
    "    options=dataset_options,\n",
    "    description='Choose dataset:',\n",
    "    disabled=False,\n",
    "    value=None\n",
    ")\n",
    "output_radb = widgets.Output()\n",
    "\n",
    "# Define a function to handle the selection change\n",
    "def on_change(change):\n",
    "    \n",
    "    with output_radb:\n",
    "        if change['type'] == 'change' and change['name'] == 'value':\n",
    "            selected_dataset = change['new']\n",
    "            run_analysis(selected_dataset)\n",
    "            # Here you can trigger the training process for the selected dataset\n",
    "\n",
    "\n",
    "\n",
    "# Display the radio button widget\n",
    "display(rad_button, output_radb)\n",
    "# Attach the function to the radio button widget\n",
    "rad_button.observe(on_change)"
   ]
  },
  {
   "cell_type": "code",
   "execution_count": null,
   "id": "0a7baf21-5447-4963-9fd4-14214a2ade4f",
   "metadata": {},
   "outputs": [],
   "source": []
  }
 ],
 "metadata": {
  "kernelspec": {
   "display_name": "Python 3 (ipykernel)",
   "language": "python",
   "name": "python3"
  },
  "language_info": {
   "codemirror_mode": {
    "name": "ipython",
    "version": 3
   },
   "file_extension": ".py",
   "mimetype": "text/x-python",
   "name": "python",
   "nbconvert_exporter": "python",
   "pygments_lexer": "ipython3",
   "version": "3.8.19"
  },
  "widgets": {
   "application/vnd.jupyter.widget-state+json": {
    "state": {
     "265ff7c645bb4a0495b50ba85c803932": {
      "model_module": "@jupyter-widgets/base",
      "model_module_version": "2.0.0",
      "model_name": "LayoutModel",
      "state": {}
     },
     "3d49e831210649b3a98b8f57d372af6b": {
      "model_module": "@jupyter-widgets/base",
      "model_module_version": "2.0.0",
      "model_name": "LayoutModel",
      "state": {}
     },
     "65bf4e6cdc9d453aa0eb9606f750b002": {
      "model_module": "@jupyter-widgets/controls",
      "model_module_version": "2.0.0",
      "model_name": "DescriptionStyleModel",
      "state": {
       "description_width": ""
      }
     },
     "9896671c2ae64f09922036b9d981591e": {
      "model_module": "@jupyter-widgets/base",
      "model_module_version": "2.0.0",
      "model_name": "LayoutModel",
      "state": {}
     },
     "b8f5862d552c405f92a7cb7254273a80": {
      "model_module": "@jupyter-widgets/output",
      "model_module_version": "1.0.0",
      "model_name": "OutputModel",
      "state": {
       "layout": "IPY_MODEL_3d49e831210649b3a98b8f57d372af6b"
      }
     },
     "df55c7b8dc0d42bb99b0a0b270207186": {
      "model_module": "@jupyter-widgets/output",
      "model_module_version": "1.0.0",
      "model_name": "OutputModel",
      "state": {
       "layout": "IPY_MODEL_eac8b4cfbee44cdc83e827c167b03484",
       "outputs": [
        {
         "name": "stdout",
         "output_type": "stream",
         "text": "fairbook\n"
        }
       ]
      }
     },
     "eac8b4cfbee44cdc83e827c167b03484": {
      "model_module": "@jupyter-widgets/base",
      "model_module_version": "2.0.0",
      "model_name": "LayoutModel",
      "state": {}
     },
     "ebc4694c357541989517cb67f9527065": {
      "model_module": "@jupyter-widgets/controls",
      "model_module_version": "2.0.0",
      "model_name": "DescriptionStyleModel",
      "state": {
       "description_width": ""
      }
     },
     "f75c0ce8de4d434d9064f04647bd9614": {
      "model_module": "@jupyter-widgets/controls",
      "model_module_version": "2.0.0",
      "model_name": "RadioButtonsModel",
      "state": {
       "_options_labels": [
        "fairbook",
        "ml1m",
        "epinion"
       ],
       "description": "Choose dataset:",
       "index": null,
       "layout": "IPY_MODEL_265ff7c645bb4a0495b50ba85c803932",
       "style": "IPY_MODEL_ebc4694c357541989517cb67f9527065"
      }
     },
     "f91468f3695a407daf081f6b32a69132": {
      "model_module": "@jupyter-widgets/controls",
      "model_module_version": "2.0.0",
      "model_name": "RadioButtonsModel",
      "state": {
       "_options_labels": [
        "fairbook",
        "ml1m",
        "epinion"
       ],
       "description": "Dataset:",
       "index": 0,
       "layout": "IPY_MODEL_9896671c2ae64f09922036b9d981591e",
       "style": "IPY_MODEL_65bf4e6cdc9d453aa0eb9606f750b002"
      }
     }
    },
    "version_major": 2,
    "version_minor": 0
   }
  }
 },
 "nbformat": 4,
 "nbformat_minor": 5
}

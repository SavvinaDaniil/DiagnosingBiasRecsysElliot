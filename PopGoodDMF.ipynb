{
 "cells": [
  {
   "cell_type": "code",
   "execution_count": 1,
   "id": "c0a83484-80a5-4772-9df2-52a45c40d8df",
   "metadata": {
    "scrolled": true
   },
   "outputs": [
    {
     "name": "stdout",
     "output_type": "stream",
     "text": [
      "\n",
      "__/\\\\\\\\\\\\\\\\\\\\\\\\\\\\\\___/\\\\\\\\\\\\______/\\\\\\\\\\\\_________________________________________        \n",
      " _\\/\\\\\\///////////___\\////\\\\\\_____\\////\\\\\\_________________________________________       \n",
      "  _\\/\\\\\\_________________\\/\\\\\\________\\/\\\\\\______/\\\\\\_____________________/\\\\\\______      \n",
      "   _\\/\\\\\\\\\\\\\\\\\\\\\\_________\\/\\\\\\________\\/\\\\\\_____\\///_______/\\\\\\\\\\______/\\\\\\\\\\\\\\\\\\\\\\_     \n",
      "    _\\/\\\\\\///////__________\\/\\\\\\________\\/\\\\\\______/\\\\\\____/\\\\\\///\\\\\\___\\////\\\\\\////__    \n",
      "     _\\/\\\\\\_________________\\/\\\\\\________\\/\\\\\\_____\\/\\\\\\___/\\\\\\__\\//\\\\\\_____\\/\\\\\\______   \n",
      "      _\\/\\\\\\_________________\\/\\\\\\________\\/\\\\\\_____\\/\\\\\\__\\//\\\\\\__/\\\\\\______\\/\\\\\\_/\\\\__  \n",
      "       _\\/\\\\\\\\\\\\\\\\\\\\\\\\\\\\\\___/\\\\\\\\\\\\\\\\\\___/\\\\\\\\\\\\\\\\\\__\\/\\\\\\___\\///\\\\\\\\\\/_______\\//\\\\\\\\\\___ \n",
      "        _\\///////////////___\\/////////___\\/////////___\\///______\\/////__________\\/////____\n",
      "Version Number: 0.3.1\n"
     ]
    }
   ],
   "source": [
    "from elliot.run import run_experiment\n",
    "from lib.data_generation import generate_data\n",
    "import zipfile\n",
    "import io\n",
    "import requests\n",
    "import os\n",
    "import pandas as pd\n",
    "import numpy as np\n",
    "import yaml\n",
    "import copy"
   ]
  },
  {
   "cell_type": "markdown",
   "id": "ca12f851",
   "metadata": {},
   "source": [
    "### DMF experiment"
   ]
  },
  {
   "cell_type": "markdown",
   "id": "02d89573",
   "metadata": {},
   "source": [
    "Change data format."
   ]
  },
  {
   "cell_type": "code",
   "execution_count": 2,
   "id": "91a199a5",
   "metadata": {},
   "outputs": [],
   "source": [
    "for i in range(1, 6):\n",
    "    tr = pd.read_csv(\"data/popularity_good\"+str(i)+\"/popularity_good_fold_\"+str(i)+\"_train.csv\")\n",
    "    te = pd.read_csv(\"data/popularity_good\"+str(i)+\"/popularity_good_fold_\"+str(i)+\"_test.csv\")\n",
    "    np.savetxt(\"data/popularity_good\"+str(i)+\"/popularity_good_fold_\"+str(i)+\"_train.tsv\", tr,delimiter='\\t',fmt='%i')\n",
    "    np.savetxt(\"data/popularity_good\"+str(i)+\"/popularity_good_fold_\"+str(i)+\"_test.tsv\", te,delimiter='\\t',fmt='%i')\n",
    "    "
   ]
  },
  {
   "cell_type": "markdown",
   "id": "f8a97d36",
   "metadata": {},
   "source": [
    "Experiment."
   ]
  },
  {
   "cell_type": "code",
   "execution_count": 3,
   "id": "5b8b5ccb",
   "metadata": {},
   "outputs": [],
   "source": [
    "# possible values for the hyperparameters\n",
    "mlp_values = ['(64,32)', '(64,64)']\n",
    "batch_size_values = [256, 512]"
   ]
  },
  {
   "cell_type": "code",
   "execution_count": null,
   "id": "4ad7c2e1",
   "metadata": {},
   "outputs": [
    {
     "name": "stdout",
     "output_type": "stream",
     "text": [
      "Start for  1 !!!!!!!!!!!!!!!!!!!!!!!!!!!!!!!!!!!!!!!!!!!!!!!!!!!!!!!!!!!!!!!!!!!!!\n",
      "We re doing the following:  (64,32) 256\n",
      "2024-03-16 18:55:43.116132: I Start experiment\n",
      "2024-03-16 18:55:43.159661: I /export/scratch2/home/savvina/new_environment/Elliot/elliot/data/popularity_good1/popularity_good_fold_1_train.tsv - Loaded\n",
      "2024-03-16 18:55:43.174950: I Test Fold 0\n",
      "2024-03-16 18:55:48.717990: I Statistics\tUsers:\t6358\tItems:\t6921\tTransactions:\t85028\tSparsity:\t0.9980677087331575\n"
     ]
    },
    {
     "name": "stderr",
     "output_type": "stream",
     "text": [
      "2024-03-16 18:55:51.782861: W tensorflow/stream_executor/platform/default/dso_loader.cc:59] Could not load dynamic library 'libcudart.so.10.1'; dlerror: libcudart.so.10.1: cannot open shared object file: No such file or directory\n",
      "2024-03-16 18:55:51.782902: I tensorflow/stream_executor/cuda/cudart_stub.cc:29] Ignore above cudart dlerror if you do not have a GPU set up on your machine.\n"
     ]
    },
    {
     "name": "stdout",
     "output_type": "stream",
     "text": [
      "2024-03-16 18:55:52.851311: I Training begun for DMF\\n\n",
      "2024-03-16 18:55:52.851170: I Loading parameters\n",
      "2024-03-16 18:55:52.852794: I Hyperparameters:\n",
      "2024-03-16 18:55:52.853752: I Parameter lr set to 0.0001\n",
      "2024-03-16 18:55:52.854091: I batch_size set to 256\n",
      "2024-03-16 18:55:52.855098: I Parameter user_mlp set to [64, 32]\n",
      "2024-03-16 18:55:52.855392: I epochs set to 10\n",
      "2024-03-16 18:55:52.856282: I Parameter item_mlp set to [64, 32]\n",
      "2024-03-16 18:55:52.856543: I item_mlp set to (64,32)\n",
      "2024-03-16 18:55:52.857467: I Parameter neg_ratio set to 5\n",
      "2024-03-16 18:55:52.857768: I lr set to 0.0001\n",
      "2024-03-16 18:55:52.858677: I Parameter reg set to 0.001\n",
      "2024-03-16 18:55:52.858990: I meta set to namespace(save_recs=True)\n",
      "2024-03-16 18:55:52.859812: I Parameter similarity set to cosine\n",
      "2024-03-16 18:55:52.864200: I n_fold set to 1\n",
      "2024-03-16 18:55:52.884809: I reg set to 0.001\n",
      "2024-03-16 18:55:52.925137: I similarity set to cosine\n",
      "2024-03-16 18:55:52.926183: I user_mlp set to (64,32)\n",
      "2024-03-16 18:55:52.927031: I Exploration: Test Fold exploration number 1\n",
      "2024-03-16 18:55:52.928155: I Exploration: Train-Validation Fold exploration number 1\n"
     ]
    },
    {
     "name": "stderr",
     "output_type": "stream",
     "text": [
      "2024-03-16 18:55:52.886137: W tensorflow/stream_executor/platform/default/dso_loader.cc:59] Could not load dynamic library 'libcuda.so.1'; dlerror: libcuda.so.1: cannot open shared object file: No such file or directory\n",
      "2024-03-16 18:55:52.886173: W tensorflow/stream_executor/cuda/cuda_driver.cc:312] failed call to cuInit: UNKNOWN ERROR (303)\n",
      "2024-03-16 18:55:52.886210: I tensorflow/stream_executor/cuda/cuda_diagnostics.cc:156] kernel driver does not appear to be running on this host (alice.ia.cwi.nl): /proc/driver/nvidia/version does not exist\n",
      "2024-03-16 18:55:52.886449: I tensorflow/core/platform/cpu_feature_guard.cc:142] This TensorFlow binary is optimized with oneAPI Deep Neural Network Library (oneDNN)to use the following CPU instructions in performance-critical operations:  AVX2 FMA\n",
      "To enable them in other operations, rebuild TensorFlow with the appropriate compiler flags.\n",
      "2024-03-16 18:55:52.904859: I tensorflow/core/platform/profile_utils/cpu_utils.cc:104] CPU Frequency: 1996120000 Hz\n",
      "2024-03-16 18:55:52.914184: I tensorflow/compiler/xla/service/service.cc:168] XLA service 0x5283940 initialized for platform Host (this does not guarantee that XLA will be used). Devices:\n",
      "2024-03-16 18:55:52.914248: I tensorflow/compiler/xla/service/service.cc:176]   StreamExecutor device (0): Host, Default Version\n"
     ]
    }
   ],
   "source": [
    "for i in range(1, 6):\n",
    "    print('Start for ', i, '!!!!!!!!!!!!!!!!!!!!!!!!!!!!!!!!!!!!!!!!!!!!!!!!!!!!!!!!!!!!!!!!!!!!!')\n",
    "    with open('config_files/popularity_good'+str(i)+'.yml', 'r') as f: # open the relevant yaml file\n",
    "        base_config = yaml.safe_load(f)\n",
    "    \n",
    "    for mlp in mlp_values:\n",
    "        for batch_size in batch_size_values:\n",
    "            print(\"We re doing the following: \", mlp, batch_size)\n",
    "            # Make a copy of the base configuration\n",
    "            config = copy.deepcopy(base_config)\n",
    "            # Update the configuration with the current hyperparameters\n",
    "            config['experiment']['models']['DMF']['user_mlp'] = mlp\n",
    "            config['experiment']['models']['DMF']['item_mlp'] = mlp\n",
    "            config['experiment']['models']['DMF']['batch_size'] = batch_size\n",
    "\n",
    "            # Write the configuration to a temporary file\n",
    "            with open('config_files/temp_config.yml', 'w') as f:\n",
    "                yaml.dump(config, f)\n",
    "\n",
    "            # Run the experiment with the current configuration\n",
    "            run_experiment('config_files/temp_config.yml')\n",
    "            \n",
    "            \n",
    "            # Remove the temp file\n",
    "            os.remove('config_files/temp_config.yml')    "
   ]
  },
  {
   "cell_type": "markdown",
   "id": "413065c4",
   "metadata": {},
   "source": [
    "TO do next:\n",
    "\n",
    "Extract the best iteration from the resulting file so you read the appropriate file."
   ]
  }
 ],
 "metadata": {
  "kernelspec": {
   "display_name": "Python 3 (ipykernel)",
   "language": "python",
   "name": "python3"
  },
  "language_info": {
   "codemirror_mode": {
    "name": "ipython",
    "version": 3
   },
   "file_extension": ".py",
   "mimetype": "text/x-python",
   "name": "python",
   "nbconvert_exporter": "python",
   "pygments_lexer": "ipython3",
   "version": "3.8.19"
  },
  "vscode": {
   "interpreter": {
    "hash": "889773d0e3910a3da9ca5cf13d401ea1cecb570772d2ad0802f95e8942400dfb"
   }
  }
 },
 "nbformat": 4,
 "nbformat_minor": 5
}

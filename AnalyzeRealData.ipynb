{
 "cells": [
  {
   "cell_type": "markdown",
   "id": "94d45962-4ce5-4d11-89fe-5ceb068e0bfd",
   "metadata": {},
   "source": [
    "### Libraries"
   ]
  },
  {
   "cell_type": "code",
   "execution_count": 21,
   "id": "b91636be-fc29-4ce4-94c6-497faf9b6096",
   "metadata": {},
   "outputs": [],
   "source": [
    "import matplotlib.pyplot as plt\n",
    "import matplotlib\n",
    "import pandas as pd\n",
    "import numpy as np\n",
    "from lib import analysis, enrich\n",
    "from scipy import stats\n",
    "from scipy import io"
   ]
  },
  {
   "cell_type": "markdown",
   "id": "5c7bd481-9bdd-42fd-81ce-15fde2a463c7",
   "metadata": {},
   "source": [
    "### Import data"
   ]
  },
  {
   "cell_type": "code",
   "execution_count": 25,
   "id": "d59f2838-dd52-443e-b495-53511a340189",
   "metadata": {},
   "outputs": [],
   "source": [
    "user_col = 'user'\n",
    "item_col = 'item'\n",
    "predict_col = 'rating'\n",
    "location = 'data/'"
   ]
  },
  {
   "cell_type": "code",
   "execution_count": 30,
   "id": "27274f2c-0ae2-478b-be4d-b87a743f7fe2",
   "metadata": {},
   "outputs": [],
   "source": [
    "fairbook_ratings = pd.read_csv(\n",
    "    location + 'fairbook/fairbook_events.csv', header=0,\n",
    ")"
   ]
  },
  {
   "cell_type": "code",
   "execution_count": 23,
   "id": "9b7933e0-5ec3-4e00-978c-b00e1cbc7dcb",
   "metadata": {},
   "outputs": [],
   "source": [
    "mat = io.loadmat(location+\"epinion/epinion_events.mat\")\n",
    "mat_df = pd.DataFrame(mat['rating_with_timestamp'])\n",
    "mat_df.columns = [user_col, item_col, '.', predict_col, '..', '...']\n",
    "epinion_ratings = mat_df[[user_col,item_col,predict_col]].drop_duplicates(subset = [user_col,item_col], keep='last')"
   ]
  },
  {
   "cell_type": "code",
   "execution_count": 26,
   "id": "7a4d1527-c799-4c9b-8c62-aa3b266f3422",
   "metadata": {},
   "outputs": [],
   "source": [
    "ml1m_ratings = pd.read_csv(\n",
    "    location+'movielens_1m/ml1m_events.dat', header=None, sep=\"::\", engine=\"python\"\n",
    ").drop(3, axis=1)\n",
    "ml1m_ratings.columns = [user_col, item_col, predict_col]"
   ]
  },
  {
   "cell_type": "markdown",
   "id": "a7df42c5-a348-43f8-a051-05460242ddc1",
   "metadata": {},
   "source": [
    "### Analyze data"
   ]
  },
  {
   "cell_type": "code",
   "execution_count": 34,
   "id": "83f0c465-bd8b-4294-b2fb-e8a071e972a5",
   "metadata": {},
   "outputs": [],
   "source": [
    "def do_analysis(ratings):\n",
    "    # analysis.users_and_items(ratings, user_col, item_col)\n",
    "    user_dist, num_users = analysis.user_distribution(ratings, user_col, item_col, verbose=False)\n",
    "    item_dist, num_items = analysis.item_distribution(ratings, user_col, item_col, verbose=False)\n",
    "    item_rating_dist = analysis.item_rating(ratings,item_col, predict_col, verbose=False)\n",
    "    \n",
    "    df_item_dist = pd.DataFrame(item_dist)\n",
    "    df_item_dist.columns = ['count']\n",
    "    full_item_dist = pd.merge(df_item_dist, item_rating_dist, left_index=True, right_index=True)\n",
    "\n",
    "    font = {'size'   : 15}\n",
    "    matplotlib.rc('font', **font)\n",
    "    \n",
    "    # plot: item rating vs popularity\n",
    "    \n",
    "    x = full_item_dist['count'].values\n",
    "    y = full_item_dist.rating.values\n",
    "    slope, intercept, r_value, p_value, std_err = stats.linregress(x, y)\n",
    "    line = slope * np.array(x) + intercept\n",
    "    # Calculate the point density\n",
    "    # print('hi')\n",
    "    # xy = np.vstack([x,y])\n",
    "    # z = stats.gaussian_kde(xy)(xy)\n",
    "    # print('hi')\n",
    "    fig, axs = plt.subplots(1, 1)\n",
    "    axs.plot(x, line)\n",
    "    axs.set_xlabel(\"Item popularity\",fontsize=20)\n",
    "    axs.set_ylabel(\"Item average rating\",fontsize=20)\n",
    "    axs.set_title('Correlation: ' + str(round(r_value,2)),fontsize=20)\n",
    "    # Sort the points by density, so that the densest points are plotted last\n",
    "    # idx = z.argsort()\n",
    "    # x, y, z = x[idx], y[idx], z[idx]\n",
    "    # axs.scatter(x, y, c=z, s=50)\n",
    "    axs.scatter(x, y, s=50)\n",
    "\n",
    "    uc, ic = enrich.calculate_userKNN_characteristics(ratings, user_dist, item_dist, user_col, item_col, predict_col,  df_item_dist, divide_by = 'pop_item_fraq')\n",
    "\n",
    "    # plot: profile size vs score_pop\n",
    "    \n",
    "    x = uc.dropna(axis=0)[\"user_hist\"].values\n",
    "    y = uc.dropna(axis=0)[\"score_vs_pop\"].values\n",
    "    \n",
    "        \n",
    "    slope, intercept, r_value, p_value, std_err = stats.linregress(x, y)\n",
    "    line = slope * np.array(x) + intercept\n",
    "    # # Calculate the point density\n",
    "    # xy = np.vstack([x,y])\n",
    "    # z = stats.gaussian_kde(xy)(xy)\n",
    "    \n",
    "    fig, axs = plt.subplots(1, 1)\n",
    "    axs.plot(x, line)\n",
    "    axs.set_xlabel(\"User profile size\",fontsize=20)\n",
    "    axs.set_ylabel(\"User liking for popular items\",fontsize=20)\n",
    "    axs.set_title('Correlation: ' + str(round(r_value,2)),fontsize=20)\n",
    "    # Sort the points by density, so that the densest points are plotted last\n",
    "    # idx = z.argsort()\n",
    "    # x, y, z = x[idx], y[idx], z[idx]\n",
    "    # axs.scatter(x, y, c=z, s=50)\n",
    "    axs.scatter(x, y, s=50)"
   ]
  },
  {
   "cell_type": "code",
   "execution_count": null,
   "id": "6e6cbf08-b4d0-408e-8118-b0e9260cdea6",
   "metadata": {
    "scrolled": true
   },
   "outputs": [
    {
     "name": "stdout",
     "output_type": "stream",
     "text": [
      "Mean items per user: 41.2\n",
      "Min items per user: 1\n",
      "Max items per user: 5337\n",
      "\n",
      "\n",
      "Mean users per item: 3.1\n",
      "Min users per item: 1\n",
      "Max users per item: 1742\n",
      "\n",
      "\n",
      "Mean rating per item: 4.0\n",
      "Min rating per item: 1.0\n",
      "Max rating per item: 5.0\n",
      "\n",
      "\n"
     ]
    }
   ],
   "source": [
    "do_analysis(epinion_ratings)"
   ]
  }
 ],
 "metadata": {
  "kernelspec": {
   "display_name": "Python 3 (ipykernel)",
   "language": "python",
   "name": "python3"
  },
  "language_info": {
   "codemirror_mode": {
    "name": "ipython",
    "version": 3
   },
   "file_extension": ".py",
   "mimetype": "text/x-python",
   "name": "python",
   "nbconvert_exporter": "python",
   "pygments_lexer": "ipython3",
   "version": "3.8.19"
  }
 },
 "nbformat": 4,
 "nbformat_minor": 5
}

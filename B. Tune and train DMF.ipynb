{
 "cells": [
  {
   "cell_type": "markdown",
   "id": "7477c78d-a41d-40b5-af76-8b980bc540bf",
   "metadata": {},
   "source": [
    "### Import widget"
   ]
  },
  {
   "cell_type": "code",
   "execution_count": null,
   "id": "e364e8c1",
   "metadata": {},
   "outputs": [],
   "source": [
    "from lib import widget"
   ]
  },
  {
   "cell_type": "markdown",
   "id": "559d201f-d8d8-4c55-90c1-681316295886",
   "metadata": {},
   "source": [
    "## Tune"
   ]
  },
  {
   "cell_type": "code",
   "execution_count": null,
   "id": "5d30e80e-ddfa-4861-ad75-a5ad355b2a54",
   "metadata": {},
   "outputs": [],
   "source": [
    "widget.tuning_widget()"
   ]
  },
  {
   "cell_type": "markdown",
   "id": "35455f86-9825-42d4-ac05-7a1fdc49a868",
   "metadata": {},
   "source": [
    "## Train"
   ]
  },
  {
   "cell_type": "code",
   "execution_count": null,
   "id": "ebd22f92-d77f-4bbd-b176-8ac116bebe21",
   "metadata": {},
   "outputs": [],
   "source": [
    "widget.training_widget()"
   ]
  }
 ],
 "metadata": {
  "kernelspec": {
   "display_name": "Python 3 (ipykernel)",
   "language": "python",
   "name": "python3"
  },
  "language_info": {
   "codemirror_mode": {
    "name": "ipython",
    "version": 3
   },
   "file_extension": ".py",
   "mimetype": "text/x-python",
   "name": "python",
   "nbconvert_exporter": "python",
   "pygments_lexer": "ipython3",
   "version": "3.8.19"
  },
  "widgets": {
   "application/vnd.jupyter.widget-state+json": {
    "state": {},
    "version_major": 2,
    "version_minor": 0
   }
  }
 },
 "nbformat": 4,
 "nbformat_minor": 5
}

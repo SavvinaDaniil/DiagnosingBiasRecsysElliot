{
 "cells": [
  {
   "cell_type": "code",
   "execution_count": 1,
   "id": "c0a83484-80a5-4772-9df2-52a45c40d8df",
   "metadata": {},
   "outputs": [
    {
     "name": "stdout",
     "output_type": "stream",
     "text": [
      "\n",
      "__/\\\\\\\\\\\\\\\\\\\\\\\\\\\\\\___/\\\\\\\\\\\\______/\\\\\\\\\\\\_________________________________________        \n",
      " _\\/\\\\\\///////////___\\////\\\\\\_____\\////\\\\\\_________________________________________       \n",
      "  _\\/\\\\\\_________________\\/\\\\\\________\\/\\\\\\______/\\\\\\_____________________/\\\\\\______      \n",
      "   _\\/\\\\\\\\\\\\\\\\\\\\\\_________\\/\\\\\\________\\/\\\\\\_____\\///_______/\\\\\\\\\\______/\\\\\\\\\\\\\\\\\\\\\\_     \n",
      "    _\\/\\\\\\///////__________\\/\\\\\\________\\/\\\\\\______/\\\\\\____/\\\\\\///\\\\\\___\\////\\\\\\////__    \n",
      "     _\\/\\\\\\_________________\\/\\\\\\________\\/\\\\\\_____\\/\\\\\\___/\\\\\\__\\//\\\\\\_____\\/\\\\\\______   \n",
      "      _\\/\\\\\\_________________\\/\\\\\\________\\/\\\\\\_____\\/\\\\\\__\\//\\\\\\__/\\\\\\______\\/\\\\\\_/\\\\__  \n",
      "       _\\/\\\\\\\\\\\\\\\\\\\\\\\\\\\\\\___/\\\\\\\\\\\\\\\\\\___/\\\\\\\\\\\\\\\\\\__\\/\\\\\\___\\///\\\\\\\\\\/_______\\//\\\\\\\\\\___ \n",
      "        _\\///////////////___\\/////////___\\/////////___\\///______\\/////__________\\/////____\n",
      "Version Number: 0.3.1\n"
     ]
    }
   ],
   "source": [
    "from elliot.run import run_experiment\n",
    "import zipfile\n",
    "import io\n",
    "import requests\n",
    "import os\n",
    "import pandas as pd\n",
    "import numpy as np"
   ]
  },
  {
   "cell_type": "code",
   "execution_count": 6,
   "id": "9e86141b-c7a1-4031-8a04-c980a36ed984",
   "metadata": {},
   "outputs": [],
   "source": [
    "pop_good1_train = pd.read_csv('elliot/data/popularity_good/popularity_good_fold_1_train.csv')\n",
    "pop_good1_test = pd.read_csv('elliot/data/popularity_good/popularity_good_fold_1_test.csv')"
   ]
  },
  {
   "cell_type": "code",
   "execution_count": 7,
   "id": "f6606f8d-d488-4258-98a0-f15e5adeea71",
   "metadata": {},
   "outputs": [],
   "source": [
    "np.savetxt('elliot/data/popularity_good/pop_good1_train.tsv', pop_good1_train,delimiter='\\t',fmt='%i')\n",
    "np.savetxt('elliot/data/popularity_good/pop_good1_test.tsv', pop_good1_test,delimiter='\\t',fmt='%i')"
   ]
  },
  {
   "cell_type": "code",
   "execution_count": null,
   "id": "207fb53e-e515-48f2-8db9-01ca3975ea41",
   "metadata": {},
   "outputs": [
    {
     "name": "stdout",
     "output_type": "stream",
     "text": [
      "2024-02-14 14:40:37.721352: I Start experiment\n",
      "2024-02-14 14:40:37.813475: I /export/scratch2/home/savvina/new_environment/Elliot/elliot/data/popularity_good/pop_good1_train.tsv - Loaded\n",
      "2024-02-14 14:40:37.833077: I Test Fold 0\n",
      "2024-02-14 14:40:43.377207: I Statistics\tUsers:\t6358\tItems:\t6921\tTransactions:\t85028\tSparsity:\t0.9980677087331575\n"
     ]
    },
    {
     "name": "stderr",
     "output_type": "stream",
     "text": [
      "2024-02-14 14:40:46.397646: W tensorflow/stream_executor/platform/default/dso_loader.cc:59] Could not load dynamic library 'libcudart.so.10.1'; dlerror: libcudart.so.10.1: cannot open shared object file: No such file or directory\n",
      "2024-02-14 14:40:46.397679: I tensorflow/stream_executor/cuda/cudart_stub.cc:29] Ignore above cudart dlerror if you do not have a GPU set up on your machine.\n"
     ]
    },
    {
     "name": "stdout",
     "output_type": "stream",
     "text": [
      "2024-02-14 14:40:47.439440: I Training begun for NGCF\\n\n",
      "2024-02-14 14:40:47.449214: I Loading parameters\n",
      "2024-02-14 14:40:47.450295: I Parameter lr set to 0.0001\n",
      "2024-02-14 14:40:47.450460: I Hyperparameters:\n",
      "2024-02-14 14:40:47.451192: I Parameter latent_dim set to 64\n",
      "2024-02-14 14:40:47.451863: I meta set to namespace(save_recs=True)\n",
      "2024-02-14 14:40:47.452570: I Parameter l_w set to 0.1\n",
      "2024-02-14 14:40:47.454066: I Parameter weight_size set to [64]\n",
      "2024-02-14 14:40:47.454731: I Parameter node_dropout set to []\n",
      "2024-02-14 14:40:47.455335: I Parameter message_dropout set to [0.1]\n",
      "2024-02-14 14:40:47.455450: I lr set to 0.0001\n",
      "2024-02-14 14:40:47.456929: I epochs set to 50\n",
      "2024-02-14 14:40:47.457079: I Parameter n_fold set to 5\n",
      "2024-02-14 14:40:47.549508: I factors set to 64\n",
      "2024-02-14 14:40:47.581444: I batch_size set to 256\n",
      "2024-02-14 14:40:47.596267: I l_w set to 0.1\n",
      "2024-02-14 14:40:47.597502: I weight_size set to (64,)\n",
      "2024-02-14 14:40:47.598581: I node_dropout set to ()\n",
      "2024-02-14 14:40:47.599670: I message_dropout set to (0.1,)\n",
      "2024-02-14 14:40:47.600615: I Exploration: Test Fold exploration number 1\n",
      "2024-02-14 14:40:47.601587: I Exploration: Train-Validation Fold exploration number 1\n"
     ]
    },
    {
     "name": "stderr",
     "output_type": "stream",
     "text": [
      "2024-02-14 14:40:50.476575: W tensorflow/stream_executor/platform/default/dso_loader.cc:59] Could not load dynamic library 'libcuda.so.1'; dlerror: libcuda.so.1: cannot open shared object file: No such file or directory\n",
      "2024-02-14 14:40:50.476613: W tensorflow/stream_executor/cuda/cuda_driver.cc:312] failed call to cuInit: UNKNOWN ERROR (303)\n",
      "2024-02-14 14:40:50.476640: I tensorflow/stream_executor/cuda/cuda_diagnostics.cc:156] kernel driver does not appear to be running on this host (alice.ia.cwi.nl): /proc/driver/nvidia/version does not exist\n",
      "2024-02-14 14:40:50.476885: I tensorflow/core/platform/cpu_feature_guard.cc:142] This TensorFlow binary is optimized with oneAPI Deep Neural Network Library (oneDNN)to use the following CPU instructions in performance-critical operations:  AVX2 FMA\n",
      "To enable them in other operations, rebuild TensorFlow with the appropriate compiler flags.\n",
      "2024-02-14 14:40:50.491622: I tensorflow/core/platform/profile_utils/cpu_utils.cc:104] CPU Frequency: 1996120000 Hz\n",
      "2024-02-14 14:40:50.499256: I tensorflow/compiler/xla/service/service.cc:168] XLA service 0x4261210 initialized for platform Host (this does not guarantee that XLA will be used). Devices:\n",
      "2024-02-14 14:40:50.499304: I tensorflow/compiler/xla/service/service.cc:176]   StreamExecutor device (0): Host, Default Version\n"
     ]
    },
    {
     "name": "stdout",
     "output_type": "stream",
     "text": [
      "2024-02-14 14:40:50.976786: W WARNING: Mean Absolute Error metric requires full length recommendations\n",
      "2024-02-14 14:40:50.987197: W At least one basic metric requires full length recommendations\n",
      "2024-02-14 14:43:08.654174: I \n",
      "2024-02-14 14:43:08.653902: I Epoch 1/50 loss 87953.29688\n",
      "2024-02-14 14:43:08.656340: I Writing recommendations at: /export/scratch2/home/savvina/new_environment/Elliot/elliot/results/pop_good1/recs\n",
      "2024-02-14 14:43:08.656714: I Test Evaluation results\n",
      "2024-02-14 14:43:08.659902: I Cut-off: 10\n",
      "2024-02-14 14:43:09.035881: I Eval Time: 0.5982434749603271\n",
      "2024-02-14 14:43:09.726583: I Results\n",
      "2024-02-14 14:43:10.326243: I nDCG\t0.00062\n",
      "2024-02-14 14:43:11.522615: I RMSE\t1.67843\n",
      "2024-02-14 14:44:29.108015: I ******************************************\n"
     ]
    }
   ],
   "source": [
    "run_experiment(os.getcwd()+'/elliot/config_files/pop_good1.yml')"
   ]
  },
  {
   "cell_type": "code",
   "execution_count": null,
   "id": "1d8e8fdc-48ba-4441-9e6a-8abeeb6c6cea",
   "metadata": {},
   "outputs": [],
   "source": []
  }
 ],
 "metadata": {
  "kernelspec": {
   "display_name": "Python 3 (ipykernel)",
   "language": "python",
   "name": "python3"
  },
  "language_info": {
   "codemirror_mode": {
    "name": "ipython",
    "version": 3
   },
   "file_extension": ".py",
   "mimetype": "text/x-python",
   "name": "python",
   "nbconvert_exporter": "python",
   "pygments_lexer": "ipython3",
   "version": "3.8.18"
  }
 },
 "nbformat": 4,
 "nbformat_minor": 5
}

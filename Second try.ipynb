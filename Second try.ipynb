{
 "cells": [
  {
   "cell_type": "code",
   "execution_count": 13,
   "id": "4e461432-b6a6-4832-993c-1883755d625c",
   "metadata": {},
   "outputs": [],
   "source": [
    "from elliot.run import run_experiment\n",
    "import zipfile\n",
    "import io\n",
    "import requests\n",
    "import os\n",
    "import pandas as pd\n",
    "import numpy as np"
   ]
  },
  {
   "cell_type": "markdown",
   "id": "72268876-bbca-4606-b8cc-bf56eae31575",
   "metadata": {},
   "source": [
    "To do:\n",
    "1. Run my own data\n",
    "    1. Remember to set delimiter into '\\t'\n",
    "    2. By setting strategy into fixed, I can feed my own train - test: check!\n",
    "3. Load more algorithms\n",
    "4. Understand and control output\n",
    "5. Other..."
   ]
  },
  {
   "cell_type": "markdown",
   "id": "c20caabc-7e9a-4931-83b3-3ee85a58ee80",
   "metadata": {},
   "source": [
    "#### Fairbook csv to tsv? It worked! I "
   ]
  },
  {
   "cell_type": "code",
   "execution_count": 18,
   "id": "217f8457-21c0-4d8c-b6c5-628e00661da9",
   "metadata": {},
   "outputs": [],
   "source": [
    "fairbook_df = pd.read_csv('elliot/data/fairbook/fairbook_events.csv')"
   ]
  },
  {
   "cell_type": "code",
   "execution_count": 25,
   "id": "d50671f5-1f58-4910-9109-e4e83fb1701a",
   "metadata": {},
   "outputs": [],
   "source": [
    "np.savetxt('elliot/data/fairbook/fairbook_events.tsv', fairbook_df,delimiter='\\t',fmt='%i')"
   ]
  },
  {
   "cell_type": "code",
   "execution_count": 26,
   "id": "d322305b-7077-41c7-894e-8736a2c70ec2",
   "metadata": {},
   "outputs": [
    {
     "data": {
      "text/html": [
       "<div>\n",
       "<style scoped>\n",
       "    .dataframe tbody tr th:only-of-type {\n",
       "        vertical-align: middle;\n",
       "    }\n",
       "\n",
       "    .dataframe tbody tr th {\n",
       "        vertical-align: top;\n",
       "    }\n",
       "\n",
       "    .dataframe thead th {\n",
       "        text-align: right;\n",
       "    }\n",
       "</style>\n",
       "<table border=\"1\" class=\"dataframe\">\n",
       "  <thead>\n",
       "    <tr style=\"text-align: right;\">\n",
       "      <th></th>\n",
       "      <th>0</th>\n",
       "      <th>1</th>\n",
       "      <th>2</th>\n",
       "    </tr>\n",
       "  </thead>\n",
       "  <tbody>\n",
       "    <tr>\n",
       "      <th>0</th>\n",
       "      <td>276847</td>\n",
       "      <td>0</td>\n",
       "      <td>8</td>\n",
       "    </tr>\n",
       "    <tr>\n",
       "      <th>1</th>\n",
       "      <td>276847</td>\n",
       "      <td>1</td>\n",
       "      <td>10</td>\n",
       "    </tr>\n",
       "    <tr>\n",
       "      <th>2</th>\n",
       "      <td>276847</td>\n",
       "      <td>2</td>\n",
       "      <td>10</td>\n",
       "    </tr>\n",
       "    <tr>\n",
       "      <th>3</th>\n",
       "      <td>276847</td>\n",
       "      <td>3</td>\n",
       "      <td>10</td>\n",
       "    </tr>\n",
       "    <tr>\n",
       "      <th>4</th>\n",
       "      <td>276847</td>\n",
       "      <td>4</td>\n",
       "      <td>10</td>\n",
       "    </tr>\n",
       "    <tr>\n",
       "      <th>...</th>\n",
       "      <td>...</td>\n",
       "      <td>...</td>\n",
       "      <td>...</td>\n",
       "    </tr>\n",
       "    <tr>\n",
       "      <th>88547</th>\n",
       "      <td>276688</td>\n",
       "      <td>6837</td>\n",
       "      <td>7</td>\n",
       "    </tr>\n",
       "    <tr>\n",
       "      <th>88548</th>\n",
       "      <td>276688</td>\n",
       "      <td>1628</td>\n",
       "      <td>6</td>\n",
       "    </tr>\n",
       "    <tr>\n",
       "      <th>88549</th>\n",
       "      <td>276688</td>\n",
       "      <td>4464</td>\n",
       "      <td>8</td>\n",
       "    </tr>\n",
       "    <tr>\n",
       "      <th>88550</th>\n",
       "      <td>276688</td>\n",
       "      <td>5236</td>\n",
       "      <td>10</td>\n",
       "    </tr>\n",
       "    <tr>\n",
       "      <th>88551</th>\n",
       "      <td>276688</td>\n",
       "      <td>117</td>\n",
       "      <td>10</td>\n",
       "    </tr>\n",
       "  </tbody>\n",
       "</table>\n",
       "<p>88552 rows × 3 columns</p>\n",
       "</div>"
      ],
      "text/plain": [
       "            0     1   2\n",
       "0      276847     0   8\n",
       "1      276847     1  10\n",
       "2      276847     2  10\n",
       "3      276847     3  10\n",
       "4      276847     4  10\n",
       "...       ...   ...  ..\n",
       "88547  276688  6837   7\n",
       "88548  276688  1628   6\n",
       "88549  276688  4464   8\n",
       "88550  276688  5236  10\n",
       "88551  276688   117  10\n",
       "\n",
       "[88552 rows x 3 columns]"
      ]
     },
     "execution_count": 26,
     "metadata": {},
     "output_type": "execute_result"
    }
   ],
   "source": [
    "pd.read_csv('elliot/data/fairbook/fairbook_events.tsv', delimiter = '\\t', header=None)"
   ]
  },
  {
   "cell_type": "markdown",
   "id": "6257c14b-5f8e-40e2-82ed-42d0466fab7c",
   "metadata": {},
   "source": [
    "### Run a few experiments"
   ]
  },
  {
   "cell_type": "code",
   "execution_count": 30,
   "id": "5150c8d2-abca-4a9c-9fff-9f1fcc2d70a9",
   "metadata": {},
   "outputs": [
    {
     "name": "stdout",
     "output_type": "stream",
     "text": [
      "2024-02-13 16:43:23.357689: I Start experiment\n",
      "2024-02-13 16:43:23.360881: I There will be the splitting\n",
      "Folds option value is missing. It has been set to 12024-02-13 16:43:23.416603: I /export/scratch2/home/savvina/new_environment/Elliot/elliot/data/fairbook/fairbook_events.tsv - Loaded\n",
      "\n",
      "\n",
      "Realized a Train/Test splitting strategy\n",
      "\n",
      "2024-02-13 16:43:26.128969: I Test Fold 0\n",
      "2024-02-13 16:43:31.471976: I Statistics\tUsers:\t6358\tItems:\t6920\tTransactions:\t68401\tSparsity:\t0.9984453385384942\n",
      "\n",
      "Supported Similarities: ['cosine', 'dot']2024-02-13 16:43:34.187891: I Training begun for ItemKNN\\n\n",
      "\n",
      "Supported Distances/Dissimilarities: ['euclidean', 'manhattan', 'haversine', 'chi2', 'cityblock', 'l1', 'l2', 'braycurtis', 'canberra', 'chebyshev', 'correlation', 'dice', 'hamming', 'jaccard', 'kulsinski', 'mahalanobis', 'minkowski', 'rogerstanimoto', 'russellrao', 'seuclidean', 'sokalmichener', 'sokalsneath', 'sqeuclidean', 'yule']\n",
      "\n",
      "2024-02-13 16:43:34.189982: I Hyperparameters:\n",
      "2024-02-13 16:43:34.191295: I verbose set to False\n",
      "2024-02-13 16:43:34.192262: I meta set to namespace(save_recs=True)\n",
      "2024-02-13 16:43:34.193110: I neighbors set to 50\n",
      "2024-02-13 16:43:34.193916: I similarity set to cosine\n",
      "2024-02-13 16:43:34.194703: I Exploration: Test Fold exploration number 1\n",
      "2024-02-13 16:43:34.195538: I Exploration: Train-Validation Fold exploration number 1\n",
      "The similarity computation has taken: 1.1506953239440918\n",
      "Transactions: 68401\n",
      "2024-02-13 16:44:20.746675: I \n",
      "2024-02-13 16:44:20.843525: I Test Evaluation results\n",
      "2024-02-13 16:44:20.939051: I Cut-off: 10\n",
      "2024-02-13 16:44:20.944139: I Eval Time: 0.12050080299377441\n",
      "2024-02-13 16:44:20.952320: I Results\n",
      "2024-02-13 16:44:20.953579: I nDCG\t0.05762\n",
      "2024-02-13 16:44:20.954483: I Training ended for ItemKNN\n",
      "2024-02-13 16:44:20.955559: I Loss:\\t-0.05762440136454188\n",
      "2024-02-13 16:44:20.956885: I Best Model params:\\t{'verbose': False, 'meta': namespace(save_recs=True), 'neighbors': 50, 'similarity': 'cosine', 'name': 'ItemKNN_nn=50_sim=cosine_imp=standard_bin=False_shrink=0_norm=True_asymalpha=_tvalpha=_tvbeta=_rweights='}\n",
      "2024-02-13 16:44:20.957728: I Best Model results:\\t{10: {'nDCG': 0.05762440136454188}}\n",
      "2024-02-13 16:44:20.958558: I End experiment\n"
     ]
    }
   ],
   "source": [
    "run_experiment(os.getcwd()+'/elliot/config_files/savvina_config.yml')"
   ]
  },
  {
   "cell_type": "markdown",
   "id": "1c6eccb2-0251-4ceb-ac7e-e351d9043005",
   "metadata": {},
   "source": [
    "My experiment specifications:\n",
    "1. Own train-test, check!\n",
    "2. Find where recs are saved, check!"
   ]
  },
  {
   "cell_type": "code",
   "execution_count": null,
   "id": "63a00d58-0b21-4bee-bbdf-1f258baf9f67",
   "metadata": {},
   "outputs": [],
   "source": []
  }
 ],
 "metadata": {
  "kernelspec": {
   "display_name": "Python 3 (ipykernel)",
   "language": "python",
   "name": "python3"
  },
  "language_info": {
   "codemirror_mode": {
    "name": "ipython",
    "version": 3
   },
   "file_extension": ".py",
   "mimetype": "text/x-python",
   "name": "python",
   "nbconvert_exporter": "python",
   "pygments_lexer": "ipython3",
   "version": "3.8.18"
  }
 },
 "nbformat": 4,
 "nbformat_minor": 5
}

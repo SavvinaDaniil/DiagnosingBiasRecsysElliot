{
 "cells": [
  {
   "cell_type": "markdown",
   "id": "2d8ec23c-161c-4aa9-9a16-1bdb42ef18ec",
   "metadata": {},
   "source": [
    "# Libraries"
   ]
  },
  {
   "cell_type": "code",
   "execution_count": 1,
   "id": "ecd4c15b-afb9-413f-9929-97022d39082a",
   "metadata": {},
   "outputs": [],
   "source": [
    "import pickle as pkl\n",
    "import numpy as np\n",
    "import pandas as pd\n",
    "from scipy.stats import mannwhitneyu"
   ]
  },
  {
   "cell_type": "code",
   "execution_count": 2,
   "id": "e55f4cc8-0b43-4a68-9b13-d7e7d6923a75",
   "metadata": {},
   "outputs": [],
   "source": [
    "data_strategy = \"ml1m\"  # change depending on which dataset we want to examine"
   ]
  },
  {
   "cell_type": "markdown",
   "id": "fa4db185-77ff-4bc1-875d-320a34a7f297",
   "metadata": {},
   "source": [
    "# Analysis"
   ]
  },
  {
   "cell_type": "code",
   "execution_count": 3,
   "id": "bf8eff1e-d908-4f14-8657-3b815f3e44e6",
   "metadata": {},
   "outputs": [],
   "source": [
    "mlp_values = ['64-32', '64-64'] # the different versions of the algorithm tested"
   ]
  },
  {
   "cell_type": "code",
   "execution_count": 4,
   "id": "e360abdc-a2e7-4cf8-956e-d1433d3e79ce",
   "metadata": {},
   "outputs": [],
   "source": [
    "algo_name = \"DMF\""
   ]
  },
  {
   "cell_type": "code",
   "execution_count": 5,
   "id": "5297ef9c-0124-4bb0-9447-27097486fc71",
   "metadata": {},
   "outputs": [],
   "source": [
    "file_location = \"metrics/\" + algo_name + \"/\" +data_strategy+\"/\""
   ]
  },
  {
   "cell_type": "code",
   "execution_count": 6,
   "id": "11194e69-1514-438f-a189-b455cc08487c",
   "metadata": {},
   "outputs": [],
   "source": [
    "results = []\n",
    "for mlp in mlp_values:\n",
    "    file = open(file_location + data_strategy + \"_\" + mlp + \".pkl\", \"rb\")\n",
    "    result = pkl.load(file)\n",
    "    results.append(result)"
   ]
  },
  {
   "cell_type": "code",
   "execution_count": 7,
   "id": "5930d035-03be-4863-9ddf-6a437d3552a8",
   "metadata": {},
   "outputs": [],
   "source": [
    "index = pd.MultiIndex.from_product(\n",
    "    [mlp_values],\n",
    "    names=[\"Network layers\"],\n",
    ").drop_duplicates()"
   ]
  },
  {
   "cell_type": "code",
   "execution_count": 8,
   "id": "fced54a3-cc13-4ad6-a9ee-dd4fc3dfdea6",
   "metadata": {},
   "outputs": [
    {
     "data": {
      "text/plain": [
       "MultiIndex([('64-32',),\n",
       "            ('64-64',)],\n",
       "           names=['Network layers'])"
      ]
     },
     "execution_count": 8,
     "metadata": {},
     "output_type": "execute_result"
    }
   ],
   "source": [
    "index"
   ]
  },
  {
   "cell_type": "code",
   "execution_count": 9,
   "id": "7153ea30-78e3-4988-b34e-12e47d9ebe18",
   "metadata": {},
   "outputs": [],
   "source": [
    "results = pd.DataFrame(results, index=index)"
   ]
  },
  {
   "cell_type": "code",
   "execution_count": 10,
   "id": "1d60d7ac-5317-4158-bdb0-dffdf5bbaf6f",
   "metadata": {},
   "outputs": [
    {
     "data": {
      "text/html": [
       "<div>\n",
       "<style scoped>\n",
       "    .dataframe tbody tr th:only-of-type {\n",
       "        vertical-align: middle;\n",
       "    }\n",
       "\n",
       "    .dataframe tbody tr th {\n",
       "        vertical-align: top;\n",
       "    }\n",
       "\n",
       "    .dataframe thead th {\n",
       "        text-align: right;\n",
       "    }\n",
       "</style>\n",
       "<table border=\"1\" class=\"dataframe\">\n",
       "  <thead>\n",
       "    <tr style=\"text-align: right;\">\n",
       "      <th></th>\n",
       "      <th>pop_corr</th>\n",
       "      <th>RMSE</th>\n",
       "      <th>NDCG</th>\n",
       "      <th>ARP</th>\n",
       "      <th>ave_PL</th>\n",
       "      <th>ACLT</th>\n",
       "      <th>AggDiv</th>\n",
       "    </tr>\n",
       "    <tr>\n",
       "      <th>Network layers</th>\n",
       "      <th></th>\n",
       "      <th></th>\n",
       "      <th></th>\n",
       "      <th></th>\n",
       "      <th></th>\n",
       "      <th></th>\n",
       "      <th></th>\n",
       "    </tr>\n",
       "  </thead>\n",
       "  <tbody>\n",
       "    <tr>\n",
       "      <th>64-32</th>\n",
       "      <td>(0.046193715274107074, 0.004912988697202006)</td>\n",
       "      <td>0</td>\n",
       "      <td>0.010090</td>\n",
       "      <td>0.064205</td>\n",
       "      <td>-54.776855</td>\n",
       "      <td>6.484934</td>\n",
       "      <td>0.041015</td>\n",
       "    </tr>\n",
       "    <tr>\n",
       "      <th>64-64</th>\n",
       "      <td>(0.032165067612558704, 0.05023512431301087)</td>\n",
       "      <td>0</td>\n",
       "      <td>0.008296</td>\n",
       "      <td>0.057347</td>\n",
       "      <td>-59.654331</td>\n",
       "      <td>6.541225</td>\n",
       "      <td>0.043173</td>\n",
       "    </tr>\n",
       "  </tbody>\n",
       "</table>\n",
       "</div>"
      ],
      "text/plain": [
       "                                                    pop_corr  RMSE      NDCG  \\\n",
       "Network layers                                                                 \n",
       "64-32           (0.046193715274107074, 0.004912988697202006)     0  0.010090   \n",
       "64-64            (0.032165067612558704, 0.05023512431301087)     0  0.008296   \n",
       "\n",
       "                     ARP     ave_PL      ACLT    AggDiv  \n",
       "Network layers                                           \n",
       "64-32           0.064205 -54.776855  6.484934  0.041015  \n",
       "64-64           0.057347 -59.654331  6.541225  0.043173  "
      ]
     },
     "execution_count": 10,
     "metadata": {},
     "output_type": "execute_result"
    }
   ],
   "source": [
    "results"
   ]
  },
  {
   "cell_type": "code",
   "execution_count": 11,
   "id": "9a24611a-cb9c-4b3e-a459-e6bc678a9bb0",
   "metadata": {},
   "outputs": [],
   "source": [
    "detailed_results = []\n",
    "for mlp in mlp_values:\n",
    "    file = open(file_location + 'detailed_per_item_'+data_strategy + \"_\" + mlp + \".pkl\", \"rb\")\n",
    "    result = pkl.load(file)\n",
    "    detailed_results.append(result)"
   ]
  },
  {
   "cell_type": "code",
   "execution_count": 12,
   "id": "f1bcee80-df21-450a-8e4b-9ab2cbdbff4d",
   "metadata": {},
   "outputs": [],
   "source": [
    "metrics_order = [\"pop_corr\", \"ARP\", \"ave_PL\", \"ACLT\", \"AggDiv\", \"RMSE\", \"NDCG\"]\n",
    "metrics = results[metrics_order]"
   ]
  },
  {
   "cell_type": "code",
   "execution_count": 13,
   "id": "6b0e18bf-8d16-4bb8-ab9d-6d3f1d98f758",
   "metadata": {},
   "outputs": [],
   "source": [
    "metrics = metrics.rename(\n",
    "    columns={\"pop_corr\": \"PopCorr\", \"ave_PL\": \"PL\", \"ACLT\": \"APLT\", \"NDCG\": \"NDCG@10\"}\n",
    ")"
   ]
  },
  {
   "cell_type": "code",
   "execution_count": 14,
   "id": "71fde9b7-f55d-4522-a26d-c35fd370e0b1",
   "metadata": {},
   "outputs": [],
   "source": [
    "metrics['RealPopCorr'] = metrics.PopCorr.apply(lambda x: x[0])\n",
    "metrics['Significance'] = metrics.PopCorr.apply(lambda x: True if x[1]<0.005 else False)\n",
    "metrics['PopCorr'] = metrics.RealPopCorr \n",
    "metrics = metrics.drop('RealPopCorr', axis=1)"
   ]
  },
  {
   "cell_type": "code",
   "execution_count": 15,
   "id": "7ab93ab3-6368-40bb-9c70-7d1a0395ca25",
   "metadata": {},
   "outputs": [
    {
     "data": {
      "text/html": [
       "<div>\n",
       "<style scoped>\n",
       "    .dataframe tbody tr th:only-of-type {\n",
       "        vertical-align: middle;\n",
       "    }\n",
       "\n",
       "    .dataframe tbody tr th {\n",
       "        vertical-align: top;\n",
       "    }\n",
       "\n",
       "    .dataframe thead th {\n",
       "        text-align: right;\n",
       "    }\n",
       "</style>\n",
       "<table border=\"1\" class=\"dataframe\">\n",
       "  <thead>\n",
       "    <tr style=\"text-align: right;\">\n",
       "      <th></th>\n",
       "      <th>PopCorr</th>\n",
       "      <th>ARP</th>\n",
       "      <th>PL</th>\n",
       "      <th>APLT</th>\n",
       "      <th>AggDiv</th>\n",
       "      <th>RMSE</th>\n",
       "      <th>NDCG@10</th>\n",
       "      <th>Significance</th>\n",
       "    </tr>\n",
       "    <tr>\n",
       "      <th>Network layers</th>\n",
       "      <th></th>\n",
       "      <th></th>\n",
       "      <th></th>\n",
       "      <th></th>\n",
       "      <th></th>\n",
       "      <th></th>\n",
       "      <th></th>\n",
       "      <th></th>\n",
       "    </tr>\n",
       "  </thead>\n",
       "  <tbody>\n",
       "    <tr>\n",
       "      <th>64-32</th>\n",
       "      <td>0.046194</td>\n",
       "      <td>0.064205</td>\n",
       "      <td>-54.776855</td>\n",
       "      <td>6.484934</td>\n",
       "      <td>0.041015</td>\n",
       "      <td>0</td>\n",
       "      <td>0.010090</td>\n",
       "      <td>True</td>\n",
       "    </tr>\n",
       "    <tr>\n",
       "      <th>64-64</th>\n",
       "      <td>0.032165</td>\n",
       "      <td>0.057347</td>\n",
       "      <td>-59.654331</td>\n",
       "      <td>6.541225</td>\n",
       "      <td>0.043173</td>\n",
       "      <td>0</td>\n",
       "      <td>0.008296</td>\n",
       "      <td>False</td>\n",
       "    </tr>\n",
       "  </tbody>\n",
       "</table>\n",
       "</div>"
      ],
      "text/plain": [
       "                 PopCorr       ARP         PL      APLT    AggDiv  RMSE  \\\n",
       "Network layers                                                            \n",
       "64-32           0.046194  0.064205 -54.776855  6.484934  0.041015     0   \n",
       "64-64           0.032165  0.057347 -59.654331  6.541225  0.043173     0   \n",
       "\n",
       "                 NDCG@10  Significance  \n",
       "Network layers                          \n",
       "64-32           0.010090          True  \n",
       "64-64           0.008296         False  "
      ]
     },
     "execution_count": 15,
     "metadata": {},
     "output_type": "execute_result"
    }
   ],
   "source": [
    "metrics"
   ]
  },
  {
   "cell_type": "code",
   "execution_count": 16,
   "id": "c06eadb3",
   "metadata": {},
   "outputs": [
    {
     "name": "stdout",
     "output_type": "stream",
     "text": [
      "\\begin{tabular}{lrrrrr}\n",
      "\\toprule\n",
      "      &  PopCorr &    ARP &      PL &  AggDiv &  NDCG@10 \\\\\n",
      "Network layers &          &        &         &         &          \\\\\n",
      "\\midrule\n",
      "64-32 &    0.046 &  0.064 & -54.777 &   0.041 &    0.010 \\\\\n",
      "64-64 &    0.032 &  0.057 & -59.654 &   0.043 &    0.008 \\\\\n",
      "\\bottomrule\n",
      "\\end{tabular}\n",
      "\n"
     ]
    }
   ],
   "source": [
    "print(metrics.drop(['APLT','Significance','RMSE'], axis=1).round(3).to_latex())"
   ]
  },
  {
   "cell_type": "code",
   "execution_count": 17,
   "id": "220d8360-e5cc-4b73-8f5f-abde14855dcc",
   "metadata": {
    "scrolled": true
   },
   "outputs": [],
   "source": [
    "import pickle\n",
    "\n",
    "with open(\"metrics/\"+algo_name+'/'+data_strategy+'/'+data_strategy+\"_final_metrics.pkl\", \"wb\") as f:\n",
    "    pickle.dump(metrics.round(3).drop('RMSE',axis=1), f)  # RMSE is irrelevant for DMF"
   ]
  },
  {
   "cell_type": "markdown",
   "id": "f02b378d-066c-4088-b483-04009560d76e",
   "metadata": {},
   "source": [
    "# Significance tests"
   ]
  },
  {
   "cell_type": "markdown",
   "id": "28351317-7246-46fc-b101-2b31ed15006e",
   "metadata": {},
   "source": [
    "## 1. Average Recommendation Popularity"
   ]
  },
  {
   "cell_type": "code",
   "execution_count": 23,
   "id": "f095a738-692c-4c5b-8e3a-e2b50856bf48",
   "metadata": {},
   "outputs": [],
   "source": [
    "def highest_average(df_list, column_name = 'recommendation'):\n",
    "    highest_average = -10**6\n",
    "    highest_i = -1\n",
    "    for i in range(len(df_list)):\n",
    "        df = df_list[i]\n",
    "        mean = np.mean(df[column_name].values)\n",
    "        print('mean', mean)\n",
    "        if mean > highest_average:\n",
    "            highest_average = mean\n",
    "            highest_i = i\n",
    "    print(highest_average, highest_i)\n",
    "    return highest_average, highest_i"
   ]
  },
  {
   "cell_type": "code",
   "execution_count": 24,
   "id": "a89a839b-3e60-44d2-b7be-869ad417dbb3",
   "metadata": {},
   "outputs": [],
   "source": [
    "def mannwhitneyu_test(df_list, alt = 'greater', column_name = 'recommendation'):\n",
    "    # find the highest average \n",
    "    ha, hi = highest_average(df_list, column_name)\n",
    "    inds_df_list = list(range(len(df_list)))\n",
    "    to_test_inds = inds_df_list[:hi] + inds_df_list[hi+1:]\n",
    "    print(to_test_inds)\n",
    "    df1 = df_list[hi]\n",
    "    pvalues = []\n",
    "    for ind in to_test_inds:\n",
    "        df2 = df_list[ind]\n",
    "        x = df1[column_name].values\n",
    "        y = df2[column_name].values\n",
    "        statistic, pvalue = mannwhitneyu(x,y, alternative = alt)\n",
    "        pvalues.append(pvalue)\n",
    "    return pvalues # pvalues for all comparisons"
   ]
  },
  {
   "cell_type": "code",
   "execution_count": 25,
   "id": "1edebc27-cb4d-4562-b2ab-cee7df310346",
   "metadata": {},
   "outputs": [
    {
     "name": "stdout",
     "output_type": "stream",
     "text": [
      "mean 0.06420547618525503\n",
      "mean 0.05734654730055699\n",
      "0.06420547618525503 0\n",
      "[1]\n"
     ]
    },
    {
     "data": {
      "text/plain": [
       "[4.95191751122115e-63]"
      ]
     },
     "execution_count": 25,
     "metadata": {},
     "output_type": "execute_result"
    }
   ],
   "source": [
    "mannwhitneyu_test(detailed_results) "
   ]
  },
  {
   "cell_type": "markdown",
   "id": "eda30653-987d-4635-a54a-b056d93a715c",
   "metadata": {},
   "source": [
    "## 2. Popularity Lift"
   ]
  },
  {
   "cell_type": "code",
   "execution_count": 26,
   "id": "f7b29e75-0cdd-4320-9edb-ba3c14e98d84",
   "metadata": {},
   "outputs": [],
   "source": [
    "for df in detailed_results:\n",
    "    df['popularity_lift'] = (df['recommendation']-df['profile'])/df['profile']*100"
   ]
  },
  {
   "cell_type": "code",
   "execution_count": 27,
   "id": "ae90a0d4-a1cb-468c-b279-6e7f7c21484f",
   "metadata": {},
   "outputs": [
    {
     "name": "stdout",
     "output_type": "stream",
     "text": [
      "mean -54.77685509511659\n",
      "mean -59.65433129769365\n",
      "-54.77685509511659 0\n",
      "[1]\n"
     ]
    },
    {
     "data": {
      "text/plain": [
       "[6.316069150958552e-39]"
      ]
     },
     "execution_count": 27,
     "metadata": {},
     "output_type": "execute_result"
    }
   ],
   "source": [
    "mannwhitneyu_test(detailed_results, column_name = 'popularity_lift') "
   ]
  }
 ],
 "metadata": {
  "kernelspec": {
   "display_name": "Python 3 (ipykernel)",
   "language": "python",
   "name": "python3"
  },
  "language_info": {
   "codemirror_mode": {
    "name": "ipython",
    "version": 3
   },
   "file_extension": ".py",
   "mimetype": "text/x-python",
   "name": "python",
   "nbconvert_exporter": "python",
   "pygments_lexer": "ipython3",
   "version": "3.8.19"
  },
  "vscode": {
   "interpreter": {
    "hash": "1c3278b04384a1f2d1b0bc3e8783905713abb1db8d84b3b69ddff13fab40f022"
   }
  },
  "widgets": {
   "application/vnd.jupyter.widget-state+json": {
    "state": {},
    "version_major": 2,
    "version_minor": 0
   }
  }
 },
 "nbformat": 4,
 "nbformat_minor": 5
}

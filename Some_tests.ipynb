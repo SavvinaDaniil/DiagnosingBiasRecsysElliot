{
 "cells": [
  {
   "cell_type": "markdown",
   "id": "bd444844-df50-4c96-ab01-1f612d412143",
   "metadata": {},
   "source": [
    "## Libraries"
   ]
  },
  {
   "cell_type": "code",
   "execution_count": 1,
   "id": "80cc8654-7b7e-4f89-9ca1-9795e17e5d80",
   "metadata": {},
   "outputs": [],
   "source": [
    "import os, json\n",
    "import pandas as pd"
   ]
  },
  {
   "cell_type": "markdown",
   "id": "a774726c-0c9e-460d-b4d5-12561a90cb8d",
   "metadata": {},
   "source": [
    "## Work"
   ]
  },
  {
   "cell_type": "markdown",
   "id": "c32a03d8-fd28-4795-8cae-74c4f3344d1a",
   "metadata": {},
   "source": [
    "Here I'll check how to do some things efficiently"
   ]
  },
  {
   "cell_type": "code",
   "execution_count": 2,
   "id": "6a350c33-6d43-48a8-9474-fd116a5d416b",
   "metadata": {},
   "outputs": [],
   "source": [
    "algorithm = 'DMF'\n",
    "batch_size = 1024"
   ]
  },
  {
   "cell_type": "markdown",
   "id": "f9f77cbb-112c-4406-876b-434774530b84",
   "metadata": {},
   "source": [
    "#### Choose best iteration"
   ]
  },
  {
   "cell_type": "code",
   "execution_count": 3,
   "id": "7374915e-f03b-48d8-8a08-2d3a4dd4bd10",
   "metadata": {},
   "outputs": [],
   "source": [
    "data = 'fairbook'\n",
    "fold = 1"
   ]
  },
  {
   "cell_type": "code",
   "execution_count": 4,
   "id": "677626b2-dba3-45df-8175-dbcb2296f956",
   "metadata": {},
   "outputs": [],
   "source": [
    "recs_location = 'results/'+data+str(fold)+'/recs/'\n",
    "best_iter_location = 'results/'+data+str(fold)+'/performance/'"
   ]
  },
  {
   "cell_type": "markdown",
   "id": "078c5843-08ba-44fb-b27c-4e358eebcb49",
   "metadata": {},
   "source": [
    "Find all json files in the folder (they contain the best iterations)."
   ]
  },
  {
   "cell_type": "code",
   "execution_count": 5,
   "id": "66cb7ae8-8cc3-4deb-9252-fdda80c22f86",
   "metadata": {},
   "outputs": [],
   "source": [
    "bestmodelparams_files = [best_iter_location + pos_json for pos_json in os.listdir(best_iter_location) if pos_json.endswith('.json')]"
   ]
  },
  {
   "cell_type": "markdown",
   "id": "85db02bf-a559-416b-83df-046792b5231a",
   "metadata": {},
   "source": [
    "For every json find the mlp value and the equivalent best iteration and learning rate (which was set after hyperparameter tuning)."
   ]
  },
  {
   "cell_type": "code",
   "execution_count": 6,
   "id": "5ab0f02a-59bc-4fe5-a726-1ce0a619460b",
   "metadata": {},
   "outputs": [],
   "source": [
    "best_iters = {}\n",
    "for file in bestmodelparams_files:\n",
    "    with open(file) as f:\n",
    "        d = json.load(f)\n",
    "    mlp = d[1]['configuration']['item_mlp']\n",
    "    best_iteration = d[1]['configuration']['best_iteration']\n",
    "    lr = d[1]['configuration']['lr'] # this was found in a previous step, not during training\n",
    "    best_iters[mlp] = (lr, best_iteration)"
   ]
  },
  {
   "cell_type": "markdown",
   "id": "b4f0979f-dfca-4c71-9eba-4ba73acbd777",
   "metadata": {},
   "source": [
    "For every mlp value, find the file that contains the recommendations."
   ]
  },
  {
   "cell_type": "code",
   "execution_count": 7,
   "id": "f84bd780-6236-4974-9c55-1caf70126f03",
   "metadata": {},
   "outputs": [],
   "source": [
    "mlp_values = best_iters.keys()\n",
    "final_recs_files = {}\n",
    "for mlp in mlp_values:\n",
    "    lr = str(best_iters[mlp][0]).replace('.','$')\n",
    "    bi = str(best_iters[mlp][1])\n",
    "    mlp = mlp.replace(',','-').replace('(','').replace(')','')\n",
    "    recs_file = recs_location + algorithm+'_seed=42_e=25_bs='+str(batch_size)+'_lr='+lr+'_umlp='+mlp+'_imlp='+mlp+'_negratio=5_reg=0$001_sim=cosine_it='+bi+'.tsv'\n",
    "    final_recs_files[mlp] = recs_file"
   ]
  },
  {
   "cell_type": "markdown",
   "id": "8eb2af75-03e3-4bfb-96db-bef1877557b5",
   "metadata": {},
   "source": [
    "Voila!"
   ]
  },
  {
   "cell_type": "code",
   "execution_count": 8,
   "id": "73294479-7f58-45e4-bda4-694268b5e03e",
   "metadata": {},
   "outputs": [
    {
     "data": {
      "text/plain": [
       "{'64-32': 'results/fairbook1/recs/DMF_seed=42_e=25_bs=1024_lr=0$1_umlp=64-32_imlp=64-32_negratio=5_reg=0$001_sim=cosine_it=15.tsv',\n",
       " '64-64': 'results/fairbook1/recs/DMF_seed=42_e=25_bs=1024_lr=0$1_umlp=64-64_imlp=64-64_negratio=5_reg=0$001_sim=cosine_it=2.tsv'}"
      ]
     },
     "execution_count": 8,
     "metadata": {},
     "output_type": "execute_result"
    }
   ],
   "source": [
    "final_recs_files"
   ]
  },
  {
   "cell_type": "code",
   "execution_count": null,
   "id": "70ecf35f-5217-40b3-8b2e-37b793918fd0",
   "metadata": {},
   "outputs": [],
   "source": []
  },
  {
   "cell_type": "code",
   "execution_count": null,
   "id": "7610d6dd-374c-4ae5-93dd-899b70fcb2c0",
   "metadata": {},
   "outputs": [],
   "source": []
  },
  {
   "cell_type": "markdown",
   "id": "d8d71d90-72e8-49af-b554-4604f35df8a1",
   "metadata": {},
   "source": [
    "Let's try analysis"
   ]
  },
  {
   "cell_type": "code",
   "execution_count": null,
   "id": "23b30dbe-3ec9-4854-9f50-25d8b88b0301",
   "metadata": {},
   "outputs": [],
   "source": [
    "for mlp in mlp_values:\n",
    "    metrics = []\n",
    "    print(mlp)\n",
    "    for fold in range(1,6):\n",
    "        recs_location = 'results/'+data+str(fold)+'/recs/'\n",
    "        data_location = 'data/'\n",
    "        recs_file = recs_location + algorithm+'_seed=42_e=25_bs='+str(batch_size)+'_lr=0$1_umlp='+mlp+'_imlp='+mlp+'_negratio=5_reg=0$001_sim=cosine_it=25.tsv'\n",
    "        train_file = data_location+data+'_fold_'+str(fold)+'_train.csv'\n",
    "        test_file = data_location+data+'_fold_'+str(fold)+'_test.csv'\n",
    "        # print(recs_file)\n",
    "        recs_df = pd.read_csv(recs_file, sep='\\t', header=None)\n",
    "        recs_df.columns = ['user','item','rating']\n",
    "        train_df = pd.read_csv(train_file)\n",
    "        test_df = pd.read_csv(test_file)\n",
    "        test_users = test_df.user.unique()\n",
    "        test_recs = recs_df[recs_df.user.isin(test_users)].reset_index(drop=True)\n",
    "        test_recs_grouped = test_recs.groupby([user_col])[item_col].apply(list)\n",
    "        \n",
    "        pop_bias= modelling_mf.calculate_pop_bias_per_item(all_items, item_col, user_col, predict_col, train_df, recs=test_recs)\n",
    "        GAP_vs_GAP = modelling_mf.calculate_ave_pop_per_user(test_users, item_col, user_col, pop_bias, train_df, test_recs_grouped)\n",
    "        pop_corr = modelling_mf.calculate_pop_correlation(pop_bias)\n",
    "        precision, recall, ndcg = modelling_mf.calculate_topn_metrics(test_recs,test_df)\n",
    "        AggDiv = modelling_mf.evaluate_item_coverage(pop_bias[\"recommendation\"].values)\n",
    "        ARP, ave_PL, ACLT = modelling_mf.calculate_all_pb_metrics(pop_bias, test_users, item_col, user_col, train_df, test_recs_grouped, test_recs)\n",
    "        metrics_dict = {\"pop_corr\":pop_corr, \"RMSE\":0, 'NDCG':ndcg,\"ARP\":ARP, \"ave_PL\": ave_PL, \"ACLT\": ACLT, \"AggDiv\": AggDiv}\n",
    "        metrics.append(metrics_dict) # per combination of mlp-bs, and per fold\n",
    "        pop_biases = [pop_bias]\n",
    "        \n",
    "        modelling_mf.plot_results(pop_biases.copy(), \n",
    "                 GAP_vs_GAP.copy(), algorithm,\n",
    "                 0, \n",
    "                 precision, \n",
    "                 recall,\n",
    "                 ndcg,\n",
    "                 0,\n",
    "                 0,\n",
    "                 cv=False, \n",
    "                 n=10, \n",
    "                 args='fold'+str(fold), data_strategy=data, save_plot=False)\n",
    "        \n",
    "    full_metrics_dict[mlp] = metrics\n",
    "    print(full_metrics_dict)"
   ]
  }
 ],
 "metadata": {
  "kernelspec": {
   "display_name": "Python 3 (ipykernel)",
   "language": "python",
   "name": "python3"
  },
  "language_info": {
   "codemirror_mode": {
    "name": "ipython",
    "version": 3
   },
   "file_extension": ".py",
   "mimetype": "text/x-python",
   "name": "python",
   "nbconvert_exporter": "python",
   "pygments_lexer": "ipython3",
   "version": "3.8.19"
  },
  "widgets": {
   "application/vnd.jupyter.widget-state+json": {
    "state": {},
    "version_major": 2,
    "version_minor": 0
   }
  }
 },
 "nbformat": 4,
 "nbformat_minor": 5
}

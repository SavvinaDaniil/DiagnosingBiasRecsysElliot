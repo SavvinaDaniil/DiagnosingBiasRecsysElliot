{
 "cells": [
  {
   "cell_type": "markdown",
   "id": "bd444844-df50-4c96-ab01-1f612d412143",
   "metadata": {},
   "source": [
    "# Libraries"
   ]
  },
  {
   "cell_type": "markdown",
   "id": "c32a03d8-fd28-4795-8cae-74c4f3344d1a",
   "metadata": {},
   "source": [
    "Here I'll check how to do some things efficiently"
   ]
  },
  {
   "cell_type": "markdown",
   "id": "f9f77cbb-112c-4406-876b-434774530b84",
   "metadata": {},
   "source": [
    "#### "
   ]
  }
 ],
 "metadata": {
  "kernelspec": {
   "display_name": "Python 3 (ipykernel)",
   "language": "python",
   "name": "python3"
  },
  "language_info": {
   "codemirror_mode": {
    "name": "ipython",
    "version": 3
   },
   "file_extension": ".py",
   "mimetype": "text/x-python",
   "name": "python",
   "nbconvert_exporter": "python",
   "pygments_lexer": "ipython3",
   "version": "3.8.19"
  },
  "widgets": {
   "application/vnd.jupyter.widget-state+json": {
    "state": {},
    "version_major": 2,
    "version_minor": 0
   }
  }
 },
 "nbformat": 4,
 "nbformat_minor": 5
}

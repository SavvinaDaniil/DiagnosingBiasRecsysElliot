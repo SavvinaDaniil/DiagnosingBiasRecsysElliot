{
 "cells": [
  {
   "cell_type": "markdown",
   "id": "bd444844-df50-4c96-ab01-1f612d412143",
   "metadata": {},
   "source": [
    "# Libraries"
   ]
  },
  {
   "cell_type": "markdown",
   "id": "c32a03d8-fd28-4795-8cae-74c4f3344d1a",
   "metadata": {},
   "source": [
    "Here I'll check how to do some things efficiently"
   ]
  },
  {
   "cell_type": "markdown",
   "id": "f9f77cbb-112c-4406-876b-434774530b84",
   "metadata": {},
   "source": [
    "#### Choose best iteration"
   ]
  },
  {
   "cell_type": "markdown",
   "id": "a572869f-68b9-409e-af61-866f93cfce3b",
   "metadata": {},
   "source": [
    "What we want to do is: given a dataset, and mlp value, find the best iteration (so when the highest NDCG@10 was achieved)\\\n",
    "Steps:\n",
    "1. Find the file that contains the information of which is the best iteration\n",
    "2. Read the best iteration\n",
    "3. Read the file that contains the best iteration "
   ]
  },
  {
   "cell_type": "code",
   "execution_count": null,
   "id": "7374915e-f03b-48d8-8a08-2d3a4dd4bd10",
   "metadata": {},
   "outputs": [],
   "source": [
    "data = 'fairbook'\n",
    "mlp = "
   ]
  },
  {
   "cell_type": "code",
   "execution_count": null,
   "id": "677626b2-dba3-45df-8175-dbcb2296f956",
   "metadata": {},
   "outputs": [],
   "source": [
    "recs_location = 'results/'+data+str(fold)+'/recs/'"
   ]
  },
  {
   "cell_type": "code",
   "execution_count": null,
   "id": "7a536849-23d7-4c31-92eb-6890ceed934b",
   "metadata": {},
   "outputs": [],
   "source": [
    "recs_file = recs_location + algorithm+'_seed=42_e=25_bs='+str(batch_size)+'_lr=0$1_umlp='+mlp+'_imlp='+mlp+'_negratio=5_reg=0$001_sim=cosine_it=25.tsv'"
   ]
  }
 ],
 "metadata": {
  "kernelspec": {
   "display_name": "Python 3 (ipykernel)",
   "language": "python",
   "name": "python3"
  },
  "language_info": {
   "codemirror_mode": {
    "name": "ipython",
    "version": 3
   },
   "file_extension": ".py",
   "mimetype": "text/x-python",
   "name": "python",
   "nbconvert_exporter": "python",
   "pygments_lexer": "ipython3",
   "version": "3.8.19"
  },
  "widgets": {
   "application/vnd.jupyter.widget-state+json": {
    "state": {},
    "version_major": 2,
    "version_minor": 0
   }
  }
 },
 "nbformat": 4,
 "nbformat_minor": 5
}

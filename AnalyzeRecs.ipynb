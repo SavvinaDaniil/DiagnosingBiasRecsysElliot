{
 "cells": [
  {
   "cell_type": "code",
   "execution_count": 2,
   "id": "0fd8bf83-ac62-42d2-94e5-edc33cde3779",
   "metadata": {},
   "outputs": [],
   "source": [
    "from elliot.run import run_experiment\n",
    "import zipfile\n",
    "import io\n",
    "import requests\n",
    "import os\n",
    "import pandas as pd\n",
    "import numpy as np\n",
    "\n",
    "import pandas as pd\n",
    "pd.options.display.max_rows = 100\n",
    "import numpy as np\n",
    "import os\n",
    "from lenskit import crossfold as xf\n",
    "from data_generation import generate_data\n",
    "from itertools import chain\n",
    "from lenskit import util, batch, topn\n",
    "import modelling_mf"
   ]
  },
  {
   "cell_type": "code",
   "execution_count": 13,
   "id": "56b63c2e-b122-4ce5-94f6-763dc1908e89",
   "metadata": {},
   "outputs": [],
   "source": [
    "filename = 'NGCF_seed=42_e=50_bs=256_lr=0$0001_factors=64_l_w=0$1_weight_size=64_node_dropout=_message_dropout=0$1_n_fold=5_it=50.tsv'"
   ]
  },
  {
   "cell_type": "code",
   "execution_count": 5,
   "id": "46f6e3c4-5daf-45cb-8db5-c2e4fb74de7c",
   "metadata": {},
   "outputs": [],
   "source": [
    "data=\"fairbook\"\n",
    "# user-item interactions\n",
    "fairbook_ratings = pd.read_csv(\"elliot/data/fairbook/\"+data+\"_events.csv\")"
   ]
  },
  {
   "cell_type": "code",
   "execution_count": 7,
   "id": "56fc1a2c-35b7-4e84-b74e-37cf32ae4ac5",
   "metadata": {},
   "outputs": [],
   "source": [
    "user_col = \"user\" # the name of the column that includes the users\n",
    "item_col = \"item\" # the name of the column that includes the items\n",
    "predict_col=\"rating\" # the name of the column that includes the interaction"
   ]
  },
  {
   "cell_type": "code",
   "execution_count": 8,
   "id": "26804bb5-6b98-4772-acd8-42de4e57f5ff",
   "metadata": {},
   "outputs": [],
   "source": [
    "data_strategies = [\n",
    "                   'popularity_good',\n",
    "                   ]"
   ]
  },
  {
   "cell_type": "code",
   "execution_count": 9,
   "id": "32d9ba0a-2c84-4c33-ae0e-a62860781bd2",
   "metadata": {},
   "outputs": [],
   "source": [
    "location = 'elliot/results/pop_good1/recs/'"
   ]
  },
  {
   "cell_type": "code",
   "execution_count": 10,
   "id": "c6cc99cd-6ada-4e19-a121-44bdf361d3a7",
   "metadata": {},
   "outputs": [],
   "source": [
    "ratings = generate_data(strategy = data_strategies[0],\n",
    "                            copying_dataset = fairbook_ratings,\n",
    "                            user_perc = 0.2)"
   ]
  },
  {
   "cell_type": "code",
   "execution_count": 11,
   "id": "aa743562-d1b9-4563-8872-ace990a14377",
   "metadata": {},
   "outputs": [],
   "source": [
    "all_items=set(ratings.item.unique())"
   ]
  },
  {
   "cell_type": "code",
   "execution_count": 14,
   "id": "4b95d655-e78c-49c4-a584-e3cefd6c5df7",
   "metadata": {},
   "outputs": [
    {
     "name": "stdout",
     "output_type": "stream",
     "text": [
      "elliot/results/pop_good1/recs/NGCF_seed=42_e=50_bs=256_lr=0$0001_factors=64_l_w=0$1_weight_size=64_node_dropout=_message_dropout=0$1_n_fold=5_it=50.tsv\n"
     ]
    }
   ],
   "source": [
    "pg_metrics = []\n",
    "train_df = pd.read_csv('elliot/data/popularity_good/popularity_good_fold_1_train.csv')\n",
    "test_df = pd.read_csv('elliot/data/popularity_good/popularity_good_fold_1_test.csv')\n",
    "result_file = location+filename\n",
    "print(result_file)\n",
    "test_users = test_df.user.unique()\n",
    "result_df = pd.read_csv(result_file, sep='\\t', header=None)\n",
    "\n",
    "    # result_df.columns = ['user','item','rating']\n",
    "    # test_result = result_df[result_df.user.isin(test_users)].reset_index(drop=True)\n",
    "    \n",
    "    # end = len(test_result)\n",
    "    # # Create an iterable of indices to keep\n",
    "    # indices_to_keep = list(chain.from_iterable(range(t, t + keep_interval) for t in range(start, end, keep_interval + skip_interval)))\n",
    "    # filtered_test_result = test_result.iloc[indices_to_keep].reset_index(drop=True) # keep top 10\n",
    "    # # filtered_test_result = test_result.copy()\n",
    "    # recs_grouped = filtered_test_result.groupby([user_col])[item_col].apply(list)\n",
    "    # pop_bias= modelling_mf.calculate_pop_bias_per_item(all_items, item_col, user_col, predict_col, train_df, recs=filtered_test_result)\n",
    "    # GAP_vs_GAP = modelling_mf.calculate_ave_pop_per_user(test_users, item_col, user_col, pop_bias, train_df, recs_grouped)\n",
    "    # pop_corr = modelling_mf.calculate_pop_correlation(pop_bias)\n",
    "    # precision, recall, ndcg = modelling_mf.calculate_topn_metrics(filtered_test_result,test_df)\n",
    "    # AggDiv = modelling_mf.evaluate_item_coverage(pop_bias[\"recommendation\"].values)\n",
    "    # ARP, ave_PL, ACLT = modelling_mf.calculate_all_pb_metrics(pop_bias, test_users, item_col, user_col, train_df, recs_grouped, filtered_test_result)\n",
    "    # metrics_dict_pg = {\"pop_corr\":pop_corr, \"RMSE\":0, 'NDCG':ndcg,\"ARP\":ARP, \"ave_PL\": ave_PL, \"ACLT\": ACLT, \"AggDiv\": AggDiv}\n",
    "    # pg_metrics.append(metrics_dict_pg)\n",
    "    # pop_biases = [pop_bias]\n",
    "    # modelling_mf.plot_results(pop_biases.copy(), \n",
    "    #          GAP_vs_GAP.copy(), 'CornacNGCF',\n",
    "    #          0, \n",
    "    #          precision, \n",
    "    #          recall,\n",
    "    #          ndcg,\n",
    "    #          0,\n",
    "    #          0,\n",
    "    #          cv=False, \n",
    "    #          n=10, \n",
    "    #          args='fold'+str(i+1), data_strategy=data_strategies[j], save_plot=True)"
   ]
  },
  {
   "cell_type": "code",
   "execution_count": 20,
   "id": "fd183b15-1fce-446e-b5b7-6b43edba9ae7",
   "metadata": {},
   "outputs": [
    {
     "data": {
      "text/plain": [
       "6358"
      ]
     },
     "execution_count": 20,
     "metadata": {},
     "output_type": "execute_result"
    }
   ],
   "source": [
    "len(result_df.groupby(0).mean())"
   ]
  },
  {
   "cell_type": "code",
   "execution_count": null,
   "id": "45b429bb-3190-4ab5-b14a-c116a6edf3e2",
   "metadata": {},
   "outputs": [],
   "source": []
  }
 ],
 "metadata": {
  "kernelspec": {
   "display_name": "Python 3 (ipykernel)",
   "language": "python",
   "name": "python3"
  },
  "language_info": {
   "codemirror_mode": {
    "name": "ipython",
    "version": 3
   },
   "file_extension": ".py",
   "mimetype": "text/x-python",
   "name": "python",
   "nbconvert_exporter": "python",
   "pygments_lexer": "ipython3",
   "version": "3.8.18"
  }
 },
 "nbformat": 4,
 "nbformat_minor": 5
}

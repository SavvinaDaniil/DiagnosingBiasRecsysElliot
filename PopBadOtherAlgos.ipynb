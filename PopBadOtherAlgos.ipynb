{
 "cells": [
  {
   "cell_type": "code",
   "execution_count": 2,
   "id": "c0a83484-80a5-4772-9df2-52a45c40d8df",
   "metadata": {
    "scrolled": true
   },
   "outputs": [],
   "source": [
    "from elliot.run import run_experiment\n",
    "import zipfile\n",
    "import io\n",
    "import requests\n",
    "import os\n",
    "import pandas as pd\n",
    "import numpy as np"
   ]
  },
  {
   "cell_type": "markdown",
   "id": "ca12f851",
   "metadata": {},
   "source": [
    "### List of algorithms for explicit ratings\n",
    "1. "
   ]
  },
  {
   "cell_type": "code",
   "execution_count": 3,
   "id": "9e86141b-c7a1-4031-8a04-c980a36ed984",
   "metadata": {},
   "outputs": [],
   "source": [
    "pop_bad1_train = pd.read_csv('elliot/data/popularity_bad/popularity_bad_fold_1_train.csv')\n",
    "pop_bad1_test = pd.read_csv('elliot/data/popularity_bad/popularity_bad_fold_1_test.csv')"
   ]
  },
  {
   "cell_type": "code",
   "execution_count": 4,
   "id": "f6606f8d-d488-4258-98a0-f15e5adeea71",
   "metadata": {},
   "outputs": [],
   "source": [
    "np.savetxt('elliot/data/popularity_bad/pop_bad1_train.tsv', pop_bad1_train,delimiter='\\t',fmt='%i')\n",
    "np.savetxt('elliot/data/popularity_bad/pop_bad1_test.tsv', pop_bad1_test,delimiter='\\t',fmt='%i')"
   ]
  },
  {
   "cell_type": "code",
   "execution_count": 12,
   "id": "207fb53e-e515-48f2-8db9-01ca3975ea41",
   "metadata": {},
   "outputs": [
    {
     "name": "stdout",
     "output_type": "stream",
     "text": [
      "2024-02-21 14:09:54.423492: I Start experiment\n"
     ]
    },
    {
     "name": "stdout",
     "output_type": "stream",
     "text": [
      "2024-02-21 14:09:54.482785: I /export/scratch2/home/savvina/new_environment/Elliot/elliot/data/popularity_bad/pop_bad1_train.tsv - Loaded\n",
      "2024-02-21 14:09:54.499092: I Test Fold 0\n",
      "2024-02-21 14:10:00.073074: I Statistics\tUsers:\t6358\tItems:\t6921\tTransactions:\t85028\tSparsity:\t0.9980677087331575\n",
      "2024-02-21 14:10:02.944004: I Loading parameters\n",
      "2024-02-21 14:10:02.944235: I Training begun for DMF\\n\n",
      "2024-02-21 14:10:02.945996: I Parameter lr set to 0.0001\n",
      "2024-02-21 14:10:02.946211: I Hyperparameters:\n",
      "2024-02-21 14:10:02.947676: I Parameter user_mlp set to [64, 32]\n",
      "2024-02-21 14:10:02.947877: I meta set to namespace(save_recs=True)\n",
      "2024-02-21 14:10:02.949281: I Parameter item_mlp set to [64, 32]\n",
      "2024-02-21 14:10:02.950400: I Parameter neg_ratio set to 5\n",
      "2024-02-21 14:10:02.951457: I epochs set to 10\n",
      "2024-02-21 14:10:02.951808: I Parameter reg set to 0.001\n",
      "2024-02-21 14:10:02.953103: I batch_size set to 512\n",
      "2024-02-21 14:10:02.954425: I Parameter similarity set to cosine\n",
      "2024-02-21 14:10:02.955658: I lr set to 0.0001\n",
      "2024-02-21 14:10:02.965545: I reg set to 0.001\n",
      "2024-02-21 14:10:02.979123: I user_mlp set to (64,32)\n",
      "2024-02-21 14:10:02.987172: I item_mlp set to (64,32)\n",
      "2024-02-21 14:10:02.989874: I similarity set to cosine\n",
      "2024-02-21 14:10:02.992006: I Exploration: Test Fold exploration number 1\n",
      "2024-02-21 14:10:02.994245: I Exploration: Train-Validation Fold exploration number 1\n"
     ]
    },
    {
     "name": "stderr",
     "output_type": "stream",
     "text": [
      "2024-02-21 14:10:38.135376: W tensorflow/core/framework/cpu_allocator_impl.cc:81] Allocation of 90119614464 exceeds 10% of free system memory.\n",
      "2024-02-21 14:10:38.135388: W tensorflow/core/framework/cpu_allocator_impl.cc:81] Allocation of 98099693568 exceeds 10% of free system memory.\n",
      "2024-02-21 14:11:17.823874: W tensorflow/core/framework/cpu_allocator_impl.cc:81] Allocation of 98099693568 exceeds 10% of free system memory.\n",
      "2024-02-21 14:11:17.823906: W tensorflow/core/framework/cpu_allocator_impl.cc:81] Allocation of 90119614464 exceeds 10% of free system memory.\n",
      "2024-02-21 14:11:56.376613: W tensorflow/core/framework/cpu_allocator_impl.cc:81] Allocation of 98099693568 exceeds 10% of free system memory.\n"
     ]
    },
    {
     "name": "stdout",
     "output_type": "stream",
     "text": [
      "2024-02-21 14:18:45.537684: I \n",
      "2024-02-21 14:18:45.537393: I Epoch 1/10 loss 487.00824\n",
      "2024-02-21 14:18:45.541393: I Writing recommendations at: /export/scratch2/home/savvina/new_environment/Elliot/elliot/results/pop_bad1/recs\n",
      "2024-02-21 14:18:45.542945: I Test Evaluation results\n",
      "2024-02-21 14:18:45.544184: I Cut-off: 10\n",
      "2024-02-21 14:18:45.548209: I Eval Time: 0.05512118339538574\n",
      "2024-02-21 14:18:45.619600: I Results\n",
      "2024-02-21 14:18:45.623861: I nDCG\t0.00084\n",
      "2024-02-21 14:18:45.682899: I ******************************************\n"
     ]
    }
   ],
   "source": [
    "run_experiment(os.getcwd()+'/elliot/config_files/pop_bad1other.yml')"
   ]
  }
 ],
 "metadata": {
  "kernelspec": {
   "display_name": "Python 3 (ipykernel)",
   "language": "python",
   "name": "python3"
  },
  "language_info": {
   "codemirror_mode": {
    "name": "ipython",
    "version": 3
   },
   "file_extension": ".py",
   "mimetype": "text/x-python",
   "name": "python",
   "nbconvert_exporter": "python",
   "pygments_lexer": "ipython3",
   "version": "3.8.18"
  }
 },
 "nbformat": 4,
 "nbformat_minor": 5
}

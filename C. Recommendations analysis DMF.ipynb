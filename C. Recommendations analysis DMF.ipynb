{
 "cells": [
  {
   "cell_type": "markdown",
   "id": "bd444844-df50-4c96-ab01-1f612d412143",
   "metadata": {},
   "source": [
    "## Import widget"
   ]
  },
  {
   "cell_type": "code",
   "execution_count": 1,
   "id": "fa152e73",
   "metadata": {},
   "outputs": [
    {
     "name": "stdout",
     "output_type": "stream",
     "text": [
      "\n",
      "__/\\\\\\\\\\\\\\\\\\\\\\\\\\\\\\___/\\\\\\\\\\\\______/\\\\\\\\\\\\_________________________________________        \n",
      " _\\/\\\\\\///////////___\\////\\\\\\_____\\////\\\\\\_________________________________________       \n",
      "  _\\/\\\\\\_________________\\/\\\\\\________\\/\\\\\\______/\\\\\\_____________________/\\\\\\______      \n",
      "   _\\/\\\\\\\\\\\\\\\\\\\\\\_________\\/\\\\\\________\\/\\\\\\_____\\///_______/\\\\\\\\\\______/\\\\\\\\\\\\\\\\\\\\\\_     \n",
      "    _\\/\\\\\\///////__________\\/\\\\\\________\\/\\\\\\______/\\\\\\____/\\\\\\///\\\\\\___\\////\\\\\\////__    \n",
      "     _\\/\\\\\\_________________\\/\\\\\\________\\/\\\\\\_____\\/\\\\\\___/\\\\\\__\\//\\\\\\_____\\/\\\\\\______   \n",
      "      _\\/\\\\\\_________________\\/\\\\\\________\\/\\\\\\_____\\/\\\\\\__\\//\\\\\\__/\\\\\\______\\/\\\\\\_/\\\\__  \n",
      "       _\\/\\\\\\\\\\\\\\\\\\\\\\\\\\\\\\___/\\\\\\\\\\\\\\\\\\___/\\\\\\\\\\\\\\\\\\__\\/\\\\\\___\\///\\\\\\\\\\/_______\\//\\\\\\\\\\___ \n",
      "        _\\///////////////___\\/////////___\\/////////___\\///______\\/////__________\\/////____\n",
      "Version Number: 0.3.1\n"
     ]
    }
   ],
   "source": [
    "from lib import widget"
   ]
  },
  {
   "cell_type": "markdown",
   "id": "89b7f430-5b59-4432-b328-b22b30613c42",
   "metadata": {},
   "source": [
    "## Process recommendations"
   ]
  },
  {
   "cell_type": "code",
   "execution_count": 2,
   "id": "a44e826e-1105-40f9-aa03-1320eaf48564",
   "metadata": {},
   "outputs": [
    {
     "data": {
      "application/vnd.jupyter.widget-view+json": {
       "model_id": "e1af214318e243bfb26dbf6de8692acb",
       "version_major": 2,
       "version_minor": 0
      },
      "text/plain": [
       "RadioButtons(description='Choose dataset:', options=('fairbook', 'ml1m', 'epinion', 'synthetic'), value=None)"
      ]
     },
     "metadata": {},
     "output_type": "display_data"
    },
    {
     "data": {
      "application/vnd.jupyter.widget-view+json": {
       "model_id": "2d3c1ed4f1cf49beb3beacd947fec56e",
       "version_major": 2,
       "version_minor": 0
      },
      "text/plain": [
       "Button(description='OK', disabled=True, style=ButtonStyle())"
      ]
     },
     "metadata": {},
     "output_type": "display_data"
    },
    {
     "data": {
      "application/vnd.jupyter.widget-view+json": {
       "model_id": "c177e980765f4d2bb123fdb32bb7dabd",
       "version_major": 2,
       "version_minor": 0
      },
      "text/plain": [
       "Output()"
      ]
     },
     "metadata": {},
     "output_type": "display_data"
    }
   ],
   "source": [
    "widget.processing_widget()"
   ]
  },
  {
   "cell_type": "markdown",
   "id": "e1150362-f51d-48b1-a43e-63e4c4c11c31",
   "metadata": {},
   "source": [
    "## Analyze recommendations"
   ]
  },
  {
   "cell_type": "code",
   "execution_count": 2,
   "id": "a6e7841c-d7c3-4289-b41c-a6ead6645892",
   "metadata": {},
   "outputs": [
    {
     "data": {
      "application/vnd.jupyter.widget-view+json": {
       "model_id": "db3b3278a92a43e1933afa079da32872",
       "version_major": 2,
       "version_minor": 0
      },
      "text/plain": [
       "RadioButtons(description='Choose dataset:', options=('fairbook', 'ml1m', 'epinion', 'synthetic'), value=None)"
      ]
     },
     "metadata": {},
     "output_type": "display_data"
    },
    {
     "data": {
      "application/vnd.jupyter.widget-view+json": {
       "model_id": "28e2c5ece69f41678de6a4b0ae28c3ac",
       "version_major": 2,
       "version_minor": 0
      },
      "text/plain": [
       "Button(description='OK', disabled=True, style=ButtonStyle())"
      ]
     },
     "metadata": {},
     "output_type": "display_data"
    },
    {
     "data": {
      "application/vnd.jupyter.widget-view+json": {
       "model_id": "cc6e6b20837445b9b2b2fe6bd6490215",
       "version_major": 2,
       "version_minor": 0
      },
      "text/plain": [
       "Output()"
      ]
     },
     "metadata": {},
     "output_type": "display_data"
    }
   ],
   "source": [
    "widget.analysis_widget()"
   ]
  }
 ],
 "metadata": {
  "kernelspec": {
   "display_name": "Python 3 (ipykernel)",
   "language": "python",
   "name": "python3"
  },
  "language_info": {
   "codemirror_mode": {
    "name": "ipython",
    "version": 3
   },
   "file_extension": ".py",
   "mimetype": "text/x-python",
   "name": "python",
   "nbconvert_exporter": "python",
   "pygments_lexer": "ipython3",
   "version": "3.8.19"
  },
  "widgets": {
   "application/vnd.jupyter.widget-state+json": {
    "state": {
     "0f1a32bf1cec49499b3d8643f7434d7f": {
      "model_module": "@jupyter-widgets/controls",
      "model_module_version": "2.0.0",
      "model_name": "DescriptionStyleModel",
      "state": {
       "description_width": ""
      }
     },
     "28e2c5ece69f41678de6a4b0ae28c3ac": {
      "model_module": "@jupyter-widgets/controls",
      "model_module_version": "2.0.0",
      "model_name": "ButtonModel",
      "state": {
       "description": "OK",
       "layout": "IPY_MODEL_99fe71aee8944003b8a89c00411dbed9",
       "style": "IPY_MODEL_5d869f00f0a14da0ab98c4309cbe66d8",
       "tooltip": null
      }
     },
     "5d869f00f0a14da0ab98c4309cbe66d8": {
      "model_module": "@jupyter-widgets/controls",
      "model_module_version": "2.0.0",
      "model_name": "ButtonStyleModel",
      "state": {
       "font_family": null,
       "font_size": null,
       "font_style": null,
       "font_variant": null,
       "font_weight": null,
       "text_color": null,
       "text_decoration": null
      }
     },
     "703aac1750034d27aae0e65a30ee7f46": {
      "model_module": "@jupyter-widgets/base",
      "model_module_version": "2.0.0",
      "model_name": "LayoutModel",
      "state": {}
     },
     "99fe71aee8944003b8a89c00411dbed9": {
      "model_module": "@jupyter-widgets/base",
      "model_module_version": "2.0.0",
      "model_name": "LayoutModel",
      "state": {}
     },
     "cc6e6b20837445b9b2b2fe6bd6490215": {
      "model_module": "@jupyter-widgets/output",
      "model_module_version": "1.0.0",
      "model_name": "OutputModel",
      "state": {
       "layout": "IPY_MODEL_f9629574019a4a14b695497f2f680afc",
       "outputs": [
        {
         "name": "stdout",
         "output_type": "stream",
         "text": "Dataset chosen: synthetic\n\\begin{tabular}{llrrrr}\n\\toprule\n           &       &  PopCorr &    ARP &      PL &  NDCG@10 \\\\\nDataStrategy & Factors &          &        &         &          \\\\\n\\midrule\nScenario 1 & 64-32 &    0.057 &  0.003 &  -8.529 &    0.003 \\\\\n           & 64-64 &    0.059 &  0.003 & -10.247 &    0.003 \\\\\nScenario 2 & 64-32 &    0.183 &  0.005 &  42.030 &    0.004 \\\\\n           & 64-64 &    0.720 &  0.004 & -13.542 &    0.017 \\\\\nScenario 3 & 64-32 &    0.039 &  0.003 & -19.041 &    0.002 \\\\\n           & 64-64 &    0.074 &  0.004 &   4.613 &    0.003 \\\\\nScenario 4 & 64-32 &    0.009 &  0.002 & -41.003 &    0.002 \\\\\n           & 64-64 &    0.393 &  0.003 & -34.005 &    0.006 \\\\\n\\bottomrule\n\\end{tabular}\n\nuniformly_random\n['64-32', '64-64']\nUse the above to figure out significance comparisons.\nARP:\nmean 0.0032662196798924526\nmean 0.003217892149853736\nHighest version:  0 0.0032662196798924526\n0.0032662196798924526 0.003217892149853736\n[(1, 1.0)]\nPL:\nmean -8.533698183540578\nmean -10.247521015499856\nHighest version:  0 -8.533698183540578\n-8.533698183540578 -10.247521015499856\n[(1, 0.9999619718412204)]\n--------------------------------------------------------------\npopularity_good\n['64-32', '64-64']\nUse the above to figure out significance comparisons.\nARP:\nmean 0.005221478420679275\nmean 0.004221885701829233\nHighest version:  0 0.005221478420679275\n0.005221478420679275 0.004221885701829233\n[(1, 6.649171338031516e-07)]\nPL:\nmean 41.9949333872264\nmean -13.543142016223374\nHighest version:  0 41.9949333872264\n41.9949333872264 -13.543142016223374\n[(1, 0.7091237659716259)]\n--------------------------------------------------------------\npopularity_bad\n['64-32', '64-64']\nUse the above to figure out significance comparisons.\nARP:\nmean 0.002890926822877524\nmean 0.0037234536254107816\nHighest version:  1 0.0037234536254107816\n0.0037234536254107816 0.002890926822877524\n[(0, 0.0)]\nPL:\nmean -19.050959359780137\nmean 4.611882103563342\nHighest version:  1 4.611882103563342\n4.611882103563342 -19.050959359780137\n[(0, 1.1829030355811898e-149)]\n--------------------------------------------------------------\npopularity_good_for_bp_ur\n['64-32', '64-64']\nUse the above to figure out significance comparisons.\nARP:\nmean 0.002113978164149542\nmean 0.0027321307127093587\nHighest version:  1 0.0027321307127093587\n0.0027321307127093587 0.002113978164149542\n[(0, 1.0494996769051703e-10)]\nPL:\nmean -41.0018147340319\nmean -34.0046042173682\nHighest version:  1 -34.0046042173682\n-34.0046042173682 -41.0018147340319\n[(0, 9.211838789299812e-30)]\n--------------------------------------------------------------\n"
        }
       ]
      }
     },
     "db3b3278a92a43e1933afa079da32872": {
      "model_module": "@jupyter-widgets/controls",
      "model_module_version": "2.0.0",
      "model_name": "RadioButtonsModel",
      "state": {
       "_options_labels": [
        "fairbook",
        "ml1m",
        "epinion",
        "synthetic"
       ],
       "description": "Choose dataset:",
       "index": 3,
       "layout": "IPY_MODEL_703aac1750034d27aae0e65a30ee7f46",
       "style": "IPY_MODEL_0f1a32bf1cec49499b3d8643f7434d7f"
      }
     },
     "f9629574019a4a14b695497f2f680afc": {
      "model_module": "@jupyter-widgets/base",
      "model_module_version": "2.0.0",
      "model_name": "LayoutModel",
      "state": {}
     }
    },
    "version_major": 2,
    "version_minor": 0
   }
  }
 },
 "nbformat": 4,
 "nbformat_minor": 5
}

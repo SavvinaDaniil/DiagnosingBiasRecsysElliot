{
 "cells": [
  {
   "cell_type": "markdown",
   "id": "bd444844-df50-4c96-ab01-1f612d412143",
   "metadata": {},
   "source": [
    "## Import widget"
   ]
  },
  {
   "cell_type": "code",
   "execution_count": 1,
   "id": "fa152e73",
   "metadata": {},
   "outputs": [
    {
     "name": "stdout",
     "output_type": "stream",
     "text": [
      "\n",
      "__/\\\\\\\\\\\\\\\\\\\\\\\\\\\\\\___/\\\\\\\\\\\\______/\\\\\\\\\\\\_________________________________________        \n",
      " _\\/\\\\\\///////////___\\////\\\\\\_____\\////\\\\\\_________________________________________       \n",
      "  _\\/\\\\\\_________________\\/\\\\\\________\\/\\\\\\______/\\\\\\_____________________/\\\\\\______      \n",
      "   _\\/\\\\\\\\\\\\\\\\\\\\\\_________\\/\\\\\\________\\/\\\\\\_____\\///_______/\\\\\\\\\\______/\\\\\\\\\\\\\\\\\\\\\\_     \n",
      "    _\\/\\\\\\///////__________\\/\\\\\\________\\/\\\\\\______/\\\\\\____/\\\\\\///\\\\\\___\\////\\\\\\////__    \n",
      "     _\\/\\\\\\_________________\\/\\\\\\________\\/\\\\\\_____\\/\\\\\\___/\\\\\\__\\//\\\\\\_____\\/\\\\\\______   \n",
      "      _\\/\\\\\\_________________\\/\\\\\\________\\/\\\\\\_____\\/\\\\\\__\\//\\\\\\__/\\\\\\______\\/\\\\\\_/\\\\__  \n",
      "       _\\/\\\\\\\\\\\\\\\\\\\\\\\\\\\\\\___/\\\\\\\\\\\\\\\\\\___/\\\\\\\\\\\\\\\\\\__\\/\\\\\\___\\///\\\\\\\\\\/_______\\//\\\\\\\\\\___ \n",
      "        _\\///////////////___\\/////////___\\/////////___\\///______\\/////__________\\/////____\n",
      "Version Number: 0.3.1\n"
     ]
    }
   ],
   "source": [
    "from lib import widget"
   ]
  },
  {
   "cell_type": "markdown",
   "id": "89b7f430-5b59-4432-b328-b22b30613c42",
   "metadata": {},
   "source": [
    "## Process recommendations"
   ]
  },
  {
   "cell_type": "code",
   "execution_count": 2,
   "id": "a44e826e-1105-40f9-aa03-1320eaf48564",
   "metadata": {},
   "outputs": [
    {
     "data": {
      "application/vnd.jupyter.widget-view+json": {
       "model_id": "e1af214318e243bfb26dbf6de8692acb",
       "version_major": 2,
       "version_minor": 0
      },
      "text/plain": [
       "RadioButtons(description='Choose dataset:', options=('fairbook', 'ml1m', 'epinion', 'synthetic'), value=None)"
      ]
     },
     "metadata": {},
     "output_type": "display_data"
    },
    {
     "data": {
      "application/vnd.jupyter.widget-view+json": {
       "model_id": "2d3c1ed4f1cf49beb3beacd947fec56e",
       "version_major": 2,
       "version_minor": 0
      },
      "text/plain": [
       "Button(description='OK', disabled=True, style=ButtonStyle())"
      ]
     },
     "metadata": {},
     "output_type": "display_data"
    },
    {
     "data": {
      "application/vnd.jupyter.widget-view+json": {
       "model_id": "c177e980765f4d2bb123fdb32bb7dabd",
       "version_major": 2,
       "version_minor": 0
      },
      "text/plain": [
       "Output()"
      ]
     },
     "metadata": {},
     "output_type": "display_data"
    }
   ],
   "source": [
    "widget.processing_widget()"
   ]
  },
  {
   "cell_type": "markdown",
   "id": "e1150362-f51d-48b1-a43e-63e4c4c11c31",
   "metadata": {},
   "source": [
    "## Analyze recommendations"
   ]
  },
  {
   "cell_type": "code",
   "execution_count": 2,
   "id": "a6e7841c-d7c3-4289-b41c-a6ead6645892",
   "metadata": {},
   "outputs": [
    {
     "data": {
      "application/vnd.jupyter.widget-view+json": {
       "model_id": "5a0ddfbb0ff3437e8f25775e27ae9011",
       "version_major": 2,
       "version_minor": 0
      },
      "text/plain": [
       "RadioButtons(description='Choose dataset:', options=('fairbook', 'ml1m', 'epinion', 'synthetic'), value=None)"
      ]
     },
     "metadata": {},
     "output_type": "display_data"
    },
    {
     "data": {
      "application/vnd.jupyter.widget-view+json": {
       "model_id": "4a2b65eec53f44279c11e471099089d7",
       "version_major": 2,
       "version_minor": 0
      },
      "text/plain": [
       "Button(description='OK', disabled=True, style=ButtonStyle())"
      ]
     },
     "metadata": {},
     "output_type": "display_data"
    },
    {
     "data": {
      "application/vnd.jupyter.widget-view+json": {
       "model_id": "a27e6f3668ba40778662f9002188a025",
       "version_major": 2,
       "version_minor": 0
      },
      "text/plain": [
       "Output()"
      ]
     },
     "metadata": {},
     "output_type": "display_data"
    }
   ],
   "source": [
    "widget.analysis_widget()"
   ]
  },
  {
   "cell_type": "code",
   "execution_count": null,
   "id": "4f2db774-4b6a-417e-949b-a456dd21e7fe",
   "metadata": {},
   "outputs": [],
   "source": []
  }
 ],
 "metadata": {
  "kernelspec": {
   "display_name": "Python 3 (ipykernel)",
   "language": "python",
   "name": "python3"
  },
  "language_info": {
   "codemirror_mode": {
    "name": "ipython",
    "version": 3
   },
   "file_extension": ".py",
   "mimetype": "text/x-python",
   "name": "python",
   "nbconvert_exporter": "python",
   "pygments_lexer": "ipython3",
   "version": "3.8.19"
  },
  "widgets": {
   "application/vnd.jupyter.widget-state+json": {
    "state": {
     "4a2b65eec53f44279c11e471099089d7": {
      "model_module": "@jupyter-widgets/controls",
      "model_module_version": "2.0.0",
      "model_name": "ButtonModel",
      "state": {
       "description": "OK",
       "layout": "IPY_MODEL_a6ecf094914b4af385e32ecad2c87b54",
       "style": "IPY_MODEL_aa9bea3dfabb4ad98c64edc8624d3a00",
       "tooltip": null
      }
     },
     "5a0ddfbb0ff3437e8f25775e27ae9011": {
      "model_module": "@jupyter-widgets/controls",
      "model_module_version": "2.0.0",
      "model_name": "RadioButtonsModel",
      "state": {
       "_options_labels": [
        "fairbook",
        "ml1m",
        "epinion",
        "synthetic"
       ],
       "description": "Choose dataset:",
       "index": 3,
       "layout": "IPY_MODEL_84b0bcbd612e4edba431c5a476160f25",
       "style": "IPY_MODEL_f6e906ddfbd045eca099f7d9682aaf0e"
      }
     },
     "84b0bcbd612e4edba431c5a476160f25": {
      "model_module": "@jupyter-widgets/base",
      "model_module_version": "2.0.0",
      "model_name": "LayoutModel",
      "state": {}
     },
     "8f25e3a85c404116a2b25cdf7de5df6c": {
      "model_module": "@jupyter-widgets/base",
      "model_module_version": "2.0.0",
      "model_name": "LayoutModel",
      "state": {}
     },
     "a27e6f3668ba40778662f9002188a025": {
      "model_module": "@jupyter-widgets/output",
      "model_module_version": "1.0.0",
      "model_name": "OutputModel",
      "state": {
       "layout": "IPY_MODEL_8f25e3a85c404116a2b25cdf7de5df6c",
       "outputs": [
        {
         "name": "stdout",
         "output_type": "stream",
         "text": "Dataset chosen: synthetic\nuniformly_random\n['64-32', '64-64']\nUse the above to figure out significance comparisons.\nARP:\nHighest version:  0 0.0032662196798924526\n[(1, 1.0)]\nPL:\nHighest version:  0 -8.533698183540578\n[(1, 0.9999619718412204)]\n--------------------------------------------------------------\npopularity_good\n['64-32', '64-64']\nUse the above to figure out significance comparisons.\nARP:\nHighest version:  0 0.005221478420679275\n[(1, 6.649171338031516e-07)]\nPL:\nHighest version:  0 41.9949333872264\n[(1, 0.7091237659716259)]\n--------------------------------------------------------------\npopularity_bad\n['64-32', '64-64']\nUse the above to figure out significance comparisons.\nARP:\nHighest version:  1 0.0037234536254107816\n[(0, 0.0)]\nPL:\nHighest version:  1 4.611882103563342\n[(0, 1.1829030355811898e-149)]\n--------------------------------------------------------------\npopularity_good_for_bp_ur\n['64-32', '64-64']\nUse the above to figure out significance comparisons.\nARP:\nHighest version:  1 0.0027321307127093587\n[(0, 1.0494996769051703e-10)]\nPL:\nHighest version:  1 -34.0046042173682\n[(0, 9.211838789299812e-30)]\n--------------------------------------------------------------\n"
        }
       ]
      }
     },
     "a6ecf094914b4af385e32ecad2c87b54": {
      "model_module": "@jupyter-widgets/base",
      "model_module_version": "2.0.0",
      "model_name": "LayoutModel",
      "state": {}
     },
     "aa9bea3dfabb4ad98c64edc8624d3a00": {
      "model_module": "@jupyter-widgets/controls",
      "model_module_version": "2.0.0",
      "model_name": "ButtonStyleModel",
      "state": {
       "font_family": null,
       "font_size": null,
       "font_style": null,
       "font_variant": null,
       "font_weight": null,
       "text_color": null,
       "text_decoration": null
      }
     },
     "f6e906ddfbd045eca099f7d9682aaf0e": {
      "model_module": "@jupyter-widgets/controls",
      "model_module_version": "2.0.0",
      "model_name": "DescriptionStyleModel",
      "state": {
       "description_width": ""
      }
     }
    },
    "version_major": 2,
    "version_minor": 0
   }
  }
 },
 "nbformat": 4,
 "nbformat_minor": 5
}

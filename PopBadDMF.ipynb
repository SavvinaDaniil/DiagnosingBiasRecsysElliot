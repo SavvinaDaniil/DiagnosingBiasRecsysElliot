{
 "cells": [
  {
   "cell_type": "code",
   "execution_count": 1,
   "id": "c0a83484-80a5-4772-9df2-52a45c40d8df",
   "metadata": {
    "scrolled": true
   },
   "outputs": [
    {
     "name": "stdout",
     "output_type": "stream",
     "text": [
      "\n",
      "__/\\\\\\\\\\\\\\\\\\\\\\\\\\\\\\___/\\\\\\\\\\\\______/\\\\\\\\\\\\_________________________________________        \n",
      " _\\/\\\\\\///////////___\\////\\\\\\_____\\////\\\\\\_________________________________________       \n",
      "  _\\/\\\\\\_________________\\/\\\\\\________\\/\\\\\\______/\\\\\\_____________________/\\\\\\______      \n",
      "   _\\/\\\\\\\\\\\\\\\\\\\\\\_________\\/\\\\\\________\\/\\\\\\_____\\///_______/\\\\\\\\\\______/\\\\\\\\\\\\\\\\\\\\\\_     \n",
      "    _\\/\\\\\\///////__________\\/\\\\\\________\\/\\\\\\______/\\\\\\____/\\\\\\///\\\\\\___\\////\\\\\\////__    \n",
      "     _\\/\\\\\\_________________\\/\\\\\\________\\/\\\\\\_____\\/\\\\\\___/\\\\\\__\\//\\\\\\_____\\/\\\\\\______   \n",
      "      _\\/\\\\\\_________________\\/\\\\\\________\\/\\\\\\_____\\/\\\\\\__\\//\\\\\\__/\\\\\\______\\/\\\\\\_/\\\\__  \n",
      "       _\\/\\\\\\\\\\\\\\\\\\\\\\\\\\\\\\___/\\\\\\\\\\\\\\\\\\___/\\\\\\\\\\\\\\\\\\__\\/\\\\\\___\\///\\\\\\\\\\/_______\\//\\\\\\\\\\___ \n",
      "        _\\///////////////___\\/////////___\\/////////___\\///______\\/////__________\\/////____\n",
      "Version Number: 0.3.1\n"
     ]
    }
   ],
   "source": [
    "from elliot.run import run_experiment\n",
    "from data_generation import generate_data\n",
    "import zipfile\n",
    "import io\n",
    "import requests\n",
    "import os\n",
    "import pandas as pd\n",
    "import numpy as np"
   ]
  },
  {
   "cell_type": "markdown",
   "id": "ca12f851",
   "metadata": {},
   "source": [
    "### DMF experiment"
   ]
  },
  {
   "cell_type": "markdown",
   "id": "02d89573",
   "metadata": {},
   "source": [
    "Change data format."
   ]
  },
  {
   "cell_type": "code",
   "execution_count": 10,
   "id": "91a199a5",
   "metadata": {},
   "outputs": [],
   "source": [
    "for i in range(1, 6):\n",
    "    tr = pd.read_csv(\"elliot/data/popularity_bad\"+str(i)+\"/popularity_bad_fold_\"+str(i)+\"_train.csv\")\n",
    "    te = pd.read_csv(\"elliot/data/popularity_bad\"+str(i)+\"/popularity_bad_fold_\"+str(i)+\"_test.csv\")\n",
    "    np.savetxt(\"elliot/data/popularity_bad\"+str(i)+\"/popularity_bad_fold_\"+str(i)+\"_train.tsv\", tr,delimiter='\\t',fmt='%i')\n",
    "    np.savetxt(\"elliot/data/popularity_bad\"+str(i)+\"/popularity_bad_fold_\"+str(i)+\"_test.tsv\", te,delimiter='\\t',fmt='%i')\n",
    "    "
   ]
  },
  {
   "cell_type": "markdown",
   "id": "f8a97d36",
   "metadata": {},
   "source": [
    "First test experiment with the first fold - it took 85'"
   ]
  },
  {
   "cell_type": "code",
   "execution_count": 11,
   "id": "0ca20c6d",
   "metadata": {},
   "outputs": [
    {
     "name": "stdout",
     "output_type": "stream",
     "text": [
      "2024-03-12 15:20:07.135576: I Start experiment\n"
     ]
    },
    {
     "name": "stdout",
     "output_type": "stream",
     "text": [
      "2024-03-12 15:20:07.185016: I /export/scratch2/home/savvina/new_environment/Elliot/elliot/data/popularity_bad1/popularity_bad_fold_1_train.tsv - Loaded\n",
      "2024-03-12 15:20:07.198652: I Test Fold 0\n",
      "2024-03-12 15:20:12.841628: I Statistics\tUsers:\t6358\tItems:\t6921\tTransactions:\t85028\tSparsity:\t0.9980677087331575\n",
      "2024-03-12 15:20:15.689949: I Training begun for DMF\\n\n",
      "2024-03-12 15:20:15.711934: I Hyperparameters:\n",
      "2024-03-12 15:20:15.714930: I meta set to namespace(save_recs=True)\n",
      "2024-03-12 15:20:15.724016: I user_mlp set to (64,64)\n",
      "2024-03-12 15:20:15.726981: I item_mlp set to (64,64)\n",
      "2024-03-12 15:20:15.728681: I epochs set to 10\n",
      "2024-03-12 15:20:15.731183: I batch_size set to 256\n",
      "2024-03-12 15:20:15.733409: I lr set to 0.0001\n",
      "2024-03-12 15:20:15.735456: I reg set to 0.001\n",
      "2024-03-12 15:20:15.737612: I similarity set to cosine\n",
      "2024-03-12 15:20:15.739171: I n_fold set to 1\n",
      "2024-03-12 15:20:15.741678: I Exploration: Test Fold exploration number 1\n",
      "2024-03-12 15:20:15.743265: I Exploration: Train-Validation Fold exploration number 1\n"
     ]
    },
    {
     "name": "stderr",
     "output_type": "stream",
     "text": [
      "2024-03-12 15:20:47.859511: W tensorflow/core/framework/cpu_allocator_impl.cc:81] Allocation of 49049846784 exceeds 10% of free system memory.\n",
      "2024-03-12 15:21:06.813426: W tensorflow/core/framework/cpu_allocator_impl.cc:81] Allocation of 49049846784 exceeds 10% of free system memory.\n",
      "2024-03-12 15:21:26.032302: W tensorflow/core/framework/cpu_allocator_impl.cc:81] Allocation of 49049846784 exceeds 10% of free system memory.\n"
     ]
    },
    {
     "name": "stdout",
     "output_type": "stream",
     "text": [
      "2024-03-12 15:28:44.386902: I \n",
      "2024-03-12 15:28:44.465729: I Test Evaluation results\n",
      "2024-03-12 15:28:44.470622: I Cut-off: 10\n",
      "2024-03-12 15:28:44.479900: I Eval Time: 0.05460357666015625\n",
      "2024-03-12 15:28:44.500098: I Results\n",
      "2024-03-12 15:28:44.518223: I nDCG\t0.00241\n",
      "2024-03-12 15:37:12.366882: I \n",
      "2024-03-12 15:37:12.386115: I Test Evaluation results\n",
      "2024-03-12 15:37:12.483557: I Cut-off: 10\n",
      "2024-03-12 15:37:12.521071: I Eval Time: 0.05284547805786133\n",
      "2024-03-12 15:37:12.524464: I Results\n",
      "2024-03-12 15:37:12.526193: I nDCG\t0.00635\n",
      "2024-03-12 15:45:35.179934: I \n",
      "2024-03-12 15:45:35.195137: I Test Evaluation results\n",
      "2024-03-12 15:45:35.257496: I Cut-off: 10\n",
      "2024-03-12 15:45:35.331733: I Eval Time: 0.053389549255371094\n",
      "2024-03-12 15:45:35.333340: I Results\n",
      "2024-03-12 15:45:35.334300: I nDCG\t0.0071\n",
      "2024-03-12 15:54:03.078187: I \n",
      "2024-03-12 15:54:03.155285: I Test Evaluation results\n",
      "2024-03-12 15:54:03.234112: I Cut-off: 10\n",
      "2024-03-12 15:54:03.237902: I Eval Time: 0.047759056091308594\n",
      "2024-03-12 15:54:03.239492: I Results\n",
      "2024-03-12 15:54:03.240732: I nDCG\t0.00656\n",
      "2024-03-12 16:02:29.551953: I \n",
      "2024-03-12 16:02:29.698323: I Test Evaluation results\n",
      "2024-03-12 16:02:29.701002: I Cut-off: 10\n",
      "2024-03-12 16:02:29.702570: I Eval Time: 0.053199052810668945\n",
      "2024-03-12 16:02:29.703583: I Results\n",
      "2024-03-12 16:02:29.705301: I nDCG\t0.01015\n",
      "2024-03-12 16:11:07.435559: I \n",
      "2024-03-12 16:11:07.459430: I Test Evaluation results\n",
      "2024-03-12 16:11:07.585349: I Cut-off: 10\n",
      "2024-03-12 16:11:07.588797: I Eval Time: 0.054376840591430664\n",
      "2024-03-12 16:11:07.590010: I Results\n",
      "2024-03-12 16:11:07.590981: I nDCG\t0.01033\n",
      "2024-03-12 16:19:37.770514: I \n",
      "2024-03-12 16:19:37.776941: I Test Evaluation results\n",
      "2024-03-12 16:19:37.782483: I Cut-off: 10\n",
      "2024-03-12 16:19:37.790807: I Eval Time: 0.05355548858642578\n",
      "2024-03-12 16:19:37.800471: I Results\n",
      "2024-03-12 16:19:37.819705: I nDCG\t0.01437\n",
      "2024-03-12 16:28:07.128034: I \n",
      "2024-03-12 16:28:07.130703: I Test Evaluation results\n",
      "2024-03-12 16:28:07.189045: I Cut-off: 10\n",
      "2024-03-12 16:28:07.281082: I Eval Time: 0.0535430908203125\n",
      "2024-03-12 16:28:07.283731: I Results\n",
      "2024-03-12 16:28:07.286194: I nDCG\t0.0108\n",
      "2024-03-12 16:36:36.911031: I \n",
      "2024-03-12 16:36:37.072762: I Test Evaluation results\n",
      "2024-03-12 16:36:37.075673: I Cut-off: 10\n",
      "2024-03-12 16:36:37.077159: I Eval Time: 0.054596662521362305\n",
      "2024-03-12 16:36:37.080280: I Results\n",
      "2024-03-12 16:36:37.087683: I nDCG\t0.01281\n",
      "2024-03-12 16:45:07.256718: I \n",
      "2024-03-12 16:45:07.260648: I Test Evaluation results\n",
      "2024-03-12 16:45:07.270883: I Cut-off: 10\n",
      "2024-03-12 16:45:07.300267: I Eval Time: 0.0472874641418457\n",
      "2024-03-12 16:45:07.313164: I Results\n",
      "2024-03-12 16:45:07.355637: I nDCG\t0.01257\n",
      "2024-03-12 16:45:07.418588: I Training ended for DMF\n",
      "2024-03-12 16:45:07.419915: I Loss:\\t-0.014367688956628485\n",
      "2024-03-12 16:45:07.420548: I Best Model params:\\t{'meta': namespace(save_recs=True), 'user_mlp': '(64,64)', 'item_mlp': '(64,64)', 'epochs': 10, 'batch_size': 256, 'lr': 0.0001, 'reg': 0.001, 'similarity': 'cosine', 'n_fold': 1, 'name': 'DMF_seed=42_e=10_bs=256_lr=0$0001_umlp=64-64_imlp=64-64_negratio=5_reg=0$001_sim=cosine', 'best_iteration': 7}\n",
      "2024-03-12 16:45:07.422587: I Best Model results:\\t{10: {'nDCG': 0.014367688956628485}}\n",
      "2024-03-12 16:45:07.429661: I End experiment\n"
     ]
    }
   ],
   "source": [
    "run_experiment(os.getcwd()+'/elliot/config_files/popularity_bad1.yml')"
   ]
  },
  {
   "cell_type": "markdown",
   "id": "db7dee78",
   "metadata": {},
   "source": [
    "Now let's try and make a loop."
   ]
  },
  {
   "cell_type": "code",
   "execution_count": 12,
   "id": "dafc666f",
   "metadata": {},
   "outputs": [
    {
     "name": "stdout",
     "output_type": "stream",
     "text": [
      "2024-03-12 16:55:25.744245: I Start experiment\n",
      "2024-03-12 16:55:25.798854: I /export/scratch2/home/savvina/new_environment/Elliot/elliot/data/popularity_bad2/popularity_bad_fold_2_train.tsv - Loaded\n",
      "2024-03-12 16:55:25.813332: I Test Fold 0\n",
      "2024-03-12 16:55:31.493577: I Statistics\tUsers:\t6358\tItems:\t6921\tTransactions:\t85184\tSparsity:\t0.9980641635781776\n",
      "2024-03-12 16:55:34.386370: I Training begun for DMF\\n\n",
      "2024-03-12 16:55:34.413619: I Hyperparameters:\n",
      "2024-03-12 16:55:34.416166: I meta set to namespace(save_recs=True)\n",
      "2024-03-12 16:55:34.417973: I user_mlp set to (64,64)\n",
      "2024-03-12 16:55:34.419738: I item_mlp set to (64,64)\n",
      "2024-03-12 16:55:34.421375: I epochs set to 10\n",
      "2024-03-12 16:55:34.423064: I batch_size set to 256\n",
      "2024-03-12 16:55:34.427333: I lr set to 0.0001\n",
      "2024-03-12 16:55:34.429854: I reg set to 0.001\n",
      "2024-03-12 16:55:34.431489: I similarity set to cosine\n",
      "2024-03-12 16:55:34.433871: I n_fold set to 1\n",
      "2024-03-12 16:55:34.435502: I Exploration: Test Fold exploration number 1\n",
      "2024-03-12 16:55:34.439120: I Exploration: Train-Validation Fold exploration number 1\n"
     ]
    }
   ],
   "source": [
    "for i in range(2, 6):\n",
    "    run_experiment(os.getcwd()+'/elliot/config_files/popularity_bad'+str(i)+'.yml')"
   ]
  },
  {
   "cell_type": "markdown",
   "id": "bae0f9ef",
   "metadata": {},
   "source": [
    "Train DMF with best parameters on my own train-test split."
   ]
  },
  {
   "cell_type": "markdown",
   "id": "ad26611b",
   "metadata": {},
   "source": []
  }
 ],
 "metadata": {
  "kernelspec": {
   "display_name": "Python 3.8.18 ('elliot_env')",
   "language": "python",
   "name": "python3"
  },
  "language_info": {
   "codemirror_mode": {
    "name": "ipython",
    "version": 3
   },
   "file_extension": ".py",
   "mimetype": "text/x-python",
   "name": "python",
   "nbconvert_exporter": "python",
   "pygments_lexer": "ipython3",
   "version": "3.8.18"
  },
  "vscode": {
   "interpreter": {
    "hash": "889773d0e3910a3da9ca5cf13d401ea1cecb570772d2ad0802f95e8942400dfb"
   }
  }
 },
 "nbformat": 4,
 "nbformat_minor": 5
}

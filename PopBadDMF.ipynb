{
 "cells": [
  {
   "cell_type": "code",
   "execution_count": 4,
   "id": "c0a83484-80a5-4772-9df2-52a45c40d8df",
   "metadata": {
    "scrolled": true
   },
   "outputs": [],
   "source": [
    "from elliot.run import run_experiment\n",
    "from data_generation import generate_data\n",
    "import zipfile\n",
    "import io\n",
    "import requests\n",
    "import os\n",
    "import pandas as pd\n",
    "import numpy as np"
   ]
  },
  {
   "cell_type": "markdown",
   "id": "ca12f851",
   "metadata": {},
   "source": [
    "### DMF experiment"
   ]
  },
  {
   "cell_type": "markdown",
   "id": "02d89573",
   "metadata": {},
   "source": [
    "Generate data."
   ]
  },
  {
   "cell_type": "code",
   "execution_count": 5,
   "id": "ee133059",
   "metadata": {},
   "outputs": [],
   "source": [
    "fairbook_df = pd.read_csv('elliot/data/fairbook/fairbook_events.csv')\n",
    "data_strategies = [\n",
    "                   'popularity_bad',\n",
    "                   ]\n",
    "ratings = generate_data(strategy = data_strategies[0],\n",
    "                            copying_dataset = fairbook_df,\n",
    "                            user_perc = 0.2)\n",
    "np.savetxt('elliot/data/popularity_bad/popularity_bad.tsv', ratings,delimiter='\\t',fmt='%i')"
   ]
  },
  {
   "cell_type": "markdown",
   "id": "f8a97d36",
   "metadata": {},
   "source": [
    "Tune DMF on the entire dataset simple train-test."
   ]
  },
  {
   "cell_type": "code",
   "execution_count": 21,
   "id": "0ca20c6d",
   "metadata": {},
   "outputs": [
    {
     "name": "stdout",
     "output_type": "stream",
     "text": [
      "2024-03-07 16:37:59.401069: I Start experiment\n",
      "2024-03-07 16:37:59.406674: I There will be the splitting\n",
      "Folds option value is missing. It has been set to 12024-03-07 16:37:59.476692: I /export/scratch2/home/savvina/new_environment/Elliot/elliot/data/popularity_bad/popularity_bad.tsv - Loaded\n",
      "\n",
      "\n",
      "Realized a Train/Test splitting strategy\n",
      "\n",
      "2024-03-07 16:38:02.339196: I Test Fold 0\n",
      "2024-03-07 16:38:07.813586: I Statistics\tUsers:\t6358\tItems:\t6920\tTransactions:\t68401\tSparsity:\t0.9984453385384942\n",
      "2024-03-07 16:38:10.593464: I Training begun for DMF\\n\n",
      "2024-03-07 16:38:10.612275: I Hyperparameters:\n",
      "2024-03-07 16:38:10.617751: I meta set to namespace(hyper_max_evals=20, hyper_opt_alg='tpe', save_recs=True, validation_metric='RMSE')\n",
      "2024-03-07 16:38:10.620021: I user_mlp set to (64,64)\n",
      "2024-03-07 16:38:10.621628: I item_mlp set to (64,64)\n",
      "2024-03-07 16:38:10.624355: I epochs set to 10\n",
      "2024-03-07 16:38:10.626487: I batch_size set to 256\n",
      "2024-03-07 16:38:10.628584: I lr set to 0.0001\n",
      "2024-03-07 16:38:10.630639: I reg set to 0.001\n",
      "2024-03-07 16:38:10.632768: I similarity set to cosine\n",
      "2024-03-07 16:38:10.634896: I Exploration: Test Fold exploration number 1\n",
      "2024-03-07 16:38:10.637030: I Exploration: Train-Validation Fold exploration number 1\n",
      "2024-03-07 16:38:11.701634: W WARNING: Mean Absolute Error metric requires full length recommendations\n",
      "2024-03-07 16:38:11.710748: W At least one basic metric requires full length recommendations\n",
      "2024-03-07 16:48:36.609063: I \n",
      "2024-03-07 16:48:36.646476: I Test Evaluation results\n",
      "2024-03-07 16:48:36.682427: I Cut-off: 10\n",
      "2024-03-07 16:48:36.734680: I Eval Time: 3.7990505695343018\n",
      "2024-03-07 16:48:36.806348: I Results\n",
      "2024-03-07 16:48:36.891624: I RMSE\t8.96093\n",
      "2024-03-07 17:00:38.190560: I \n",
      "2024-03-07 17:00:38.413633: I Test Evaluation results\n",
      "2024-03-07 17:00:38.418373: I Cut-off: 10\n",
      "2024-03-07 17:00:38.430383: I Eval Time: 3.086806297302246\n",
      "2024-03-07 17:00:38.474350: I Results\n",
      "2024-03-07 17:00:38.558251: I RMSE\t8.97959\n"
     ]
    }
   ],
   "source": [
    "run_experiment(os.getcwd()+'/elliot/config_files/pop_bad_tuning_DMF.yml')"
   ]
  },
  {
   "cell_type": "markdown",
   "id": "db7dee78",
   "metadata": {},
   "source": [
    "Collect best parameters."
   ]
  },
  {
   "cell_type": "markdown",
   "id": "bae0f9ef",
   "metadata": {},
   "source": [
    "Train DMF with best parameters on my own train-test split."
   ]
  },
  {
   "cell_type": "markdown",
   "id": "ad26611b",
   "metadata": {},
   "source": []
  }
 ],
 "metadata": {
  "kernelspec": {
   "display_name": "Python 3.8.18 ('elliot_env')",
   "language": "python",
   "name": "python3"
  },
  "language_info": {
   "codemirror_mode": {
    "name": "ipython",
    "version": 3
   },
   "file_extension": ".py",
   "mimetype": "text/x-python",
   "name": "python",
   "nbconvert_exporter": "python",
   "pygments_lexer": "ipython3",
   "version": "3.8.18"
  },
  "vscode": {
   "interpreter": {
    "hash": "889773d0e3910a3da9ca5cf13d401ea1cecb570772d2ad0802f95e8942400dfb"
   }
  }
 },
 "nbformat": 4,
 "nbformat_minor": 5
}

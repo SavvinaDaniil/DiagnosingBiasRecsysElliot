{
 "cells": [
  {
   "cell_type": "code",
   "execution_count": 1,
   "id": "c0a83484-80a5-4772-9df2-52a45c40d8df",
   "metadata": {
    "scrolled": true
   },
   "outputs": [
    {
     "name": "stdout",
     "output_type": "stream",
     "text": [
      "\n",
      "__/\\\\\\\\\\\\\\\\\\\\\\\\\\\\\\___/\\\\\\\\\\\\______/\\\\\\\\\\\\_________________________________________        \n",
      " _\\/\\\\\\///////////___\\////\\\\\\_____\\////\\\\\\_________________________________________       \n",
      "  _\\/\\\\\\_________________\\/\\\\\\________\\/\\\\\\______/\\\\\\_____________________/\\\\\\______      \n",
      "   _\\/\\\\\\\\\\\\\\\\\\\\\\_________\\/\\\\\\________\\/\\\\\\_____\\///_______/\\\\\\\\\\______/\\\\\\\\\\\\\\\\\\\\\\_     \n",
      "    _\\/\\\\\\///////__________\\/\\\\\\________\\/\\\\\\______/\\\\\\____/\\\\\\///\\\\\\___\\////\\\\\\////__    \n",
      "     _\\/\\\\\\_________________\\/\\\\\\________\\/\\\\\\_____\\/\\\\\\___/\\\\\\__\\//\\\\\\_____\\/\\\\\\______   \n",
      "      _\\/\\\\\\_________________\\/\\\\\\________\\/\\\\\\_____\\/\\\\\\__\\//\\\\\\__/\\\\\\______\\/\\\\\\_/\\\\__  \n",
      "       _\\/\\\\\\\\\\\\\\\\\\\\\\\\\\\\\\___/\\\\\\\\\\\\\\\\\\___/\\\\\\\\\\\\\\\\\\__\\/\\\\\\___\\///\\\\\\\\\\/_______\\//\\\\\\\\\\___ \n",
      "        _\\///////////////___\\/////////___\\/////////___\\///______\\/////__________\\/////____\n",
      "Version Number: 0.3.1\n"
     ]
    }
   ],
   "source": [
    "from elliot.run import run_experiment\n",
    "from data_generation import generate_data\n",
    "import zipfile\n",
    "import io\n",
    "import requests\n",
    "import os\n",
    "import pandas as pd\n",
    "import numpy as np"
   ]
  },
  {
   "cell_type": "markdown",
   "id": "ca12f851",
   "metadata": {},
   "source": [
    "### DMF experiment"
   ]
  },
  {
   "cell_type": "markdown",
   "id": "02d89573",
   "metadata": {},
   "source": [
    "Generate data."
   ]
  },
  {
   "cell_type": "code",
   "execution_count": 2,
   "id": "ee133059",
   "metadata": {},
   "outputs": [],
   "source": [
    "fairbook_df = pd.read_csv('elliot/data/fairbook/fairbook_events.csv')\n",
    "data_strategies = [\n",
    "                   'popularity_bad',\n",
    "                   ]\n",
    "ratings = generate_data(strategy = data_strategies[0],\n",
    "                            copying_dataset = fairbook_df,\n",
    "                            user_perc = 0.2)\n",
    "np.savetxt('elliot/data/popularity_bad/popularity_bad.tsv', ratings,delimiter='\\t',fmt='%i')"
   ]
  },
  {
   "cell_type": "markdown",
   "id": "f8a97d36",
   "metadata": {},
   "source": [
    "Tune DMF on the entire dataset simple train-test with nDCG@10?"
   ]
  },
  {
   "cell_type": "code",
   "execution_count": 4,
   "id": "0ca20c6d",
   "metadata": {},
   "outputs": [
    {
     "name": "stdout",
     "output_type": "stream",
     "text": [
      "2024-03-07 17:18:05.062776: I Start experiment\n",
      "2024-03-07 17:18:05.071931: I There will be the splitting\n"
     ]
    },
    {
     "name": "stdout",
     "output_type": "stream",
     "text": [
      "Folds option value is missing. It has been set to 12024-03-07 17:18:05.135642: I /export/scratch2/home/savvina/new_environment/Elliot/elliot/data/popularity_bad/popularity_bad.tsv - Loaded\n",
      "\n",
      "\n",
      "Realized a Train/Test splitting strategy\n",
      "\n",
      "2024-03-07 17:18:07.913423: I Test Fold 0\n",
      "2024-03-07 17:18:13.373781: I Statistics\tUsers:\t6358\tItems:\t6920\tTransactions:\t68401\tSparsity:\t0.9984453385384942\n",
      "2024-03-07 17:18:16.130000: I Training begun for DMF\\n\n",
      "2024-03-07 17:18:16.143004: I Hyperparameters:\n",
      "2024-03-07 17:18:16.144373: I meta set to namespace(hyper_max_evals=20, hyper_opt_alg='tpe', save_recs=True, validation_metric='nDCG')\n",
      "2024-03-07 17:18:16.151010: I user_mlp set to (64,64)\n",
      "2024-03-07 17:18:16.190189: I item_mlp set to (64,64)\n",
      "2024-03-07 17:18:16.191119: I epochs set to 10\n",
      "2024-03-07 17:18:16.192279: I batch_size set to 256\n",
      "2024-03-07 17:18:16.193239: I lr set to 0.0001\n",
      "2024-03-07 17:18:16.194286: I reg set to 0.001\n",
      "2024-03-07 17:18:16.198027: I similarity set to cosine\n",
      "2024-03-07 17:18:16.198709: I Exploration: Test Fold exploration number 1\n",
      "2024-03-07 17:18:16.199372: I Exploration: Train-Validation Fold exploration number 1\n"
     ]
    },
    {
     "name": "stderr",
     "output_type": "stream",
     "text": [
      "2024-03-07 17:18:16.153042: W tensorflow/stream_executor/platform/default/dso_loader.cc:59] Could not load dynamic library 'libcuda.so.1'; dlerror: libcuda.so.1: cannot open shared object file: No such file or directory\n",
      "2024-03-07 17:18:16.153077: W tensorflow/stream_executor/cuda/cuda_driver.cc:312] failed call to cuInit: UNKNOWN ERROR (303)\n",
      "2024-03-07 17:18:16.153112: I tensorflow/stream_executor/cuda/cuda_diagnostics.cc:156] kernel driver does not appear to be running on this host (alice.ia.cwi.nl): /proc/driver/nvidia/version does not exist\n",
      "2024-03-07 17:18:16.153340: I tensorflow/core/platform/cpu_feature_guard.cc:142] This TensorFlow binary is optimized with oneAPI Deep Neural Network Library (oneDNN)to use the following CPU instructions in performance-critical operations:  AVX2 FMA\n",
      "To enable them in other operations, rebuild TensorFlow with the appropriate compiler flags.\n",
      "2024-03-07 17:18:16.168079: I tensorflow/core/platform/profile_utils/cpu_utils.cc:104] CPU Frequency: 1996120000 Hz\n",
      "2024-03-07 17:18:16.178054: I tensorflow/compiler/xla/service/service.cc:168] XLA service 0xbcdf20 initialized for platform Host (this does not guarantee that XLA will be used). Devices:\n",
      "2024-03-07 17:18:16.178103: I tensorflow/compiler/xla/service/service.cc:176]   StreamExecutor device (0): Host, Default Version\n"
     ]
    },
    {
     "name": "stdout",
     "output_type": "stream",
     "text": [
      "2024-03-07 17:26:34.529384: I \n",
      "2024-03-07 17:26:34.531991: I Test Evaluation results\n",
      "2024-03-07 17:26:34.533422: I Cut-off: 10\n",
      "2024-03-07 17:26:34.534813: I Eval Time: 0.14359474182128906\n",
      "2024-03-07 17:26:34.536250: I Results\n",
      "2024-03-07 17:26:34.537216: I nDCG\t0.003\n"
     ]
    }
   ],
   "source": [
    "run_experiment(os.getcwd()+'/elliot/config_files/pop_bad_tuning_DMF.yml')"
   ]
  },
  {
   "cell_type": "markdown",
   "id": "db7dee78",
   "metadata": {},
   "source": [
    "Collect best parameters."
   ]
  },
  {
   "cell_type": "markdown",
   "id": "bae0f9ef",
   "metadata": {},
   "source": [
    "Train DMF with best parameters on my own train-test split."
   ]
  },
  {
   "cell_type": "markdown",
   "id": "ad26611b",
   "metadata": {},
   "source": []
  }
 ],
 "metadata": {
  "kernelspec": {
   "display_name": "Python 3.8.18 ('elliot_env')",
   "language": "python",
   "name": "python3"
  },
  "language_info": {
   "codemirror_mode": {
    "name": "ipython",
    "version": 3
   },
   "file_extension": ".py",
   "mimetype": "text/x-python",
   "name": "python",
   "nbconvert_exporter": "python",
   "pygments_lexer": "ipython3",
   "version": "3.8.18"
  },
  "vscode": {
   "interpreter": {
    "hash": "889773d0e3910a3da9ca5cf13d401ea1cecb570772d2ad0802f95e8942400dfb"
   }
  }
 },
 "nbformat": 4,
 "nbformat_minor": 5
}

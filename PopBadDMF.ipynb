{
 "cells": [
  {
   "cell_type": "code",
   "execution_count": 1,
   "id": "c0a83484-80a5-4772-9df2-52a45c40d8df",
   "metadata": {
    "scrolled": true
   },
   "outputs": [
    {
     "name": "stdout",
     "output_type": "stream",
     "text": [
      "\n",
      "__/\\\\\\\\\\\\\\\\\\\\\\\\\\\\\\___/\\\\\\\\\\\\______/\\\\\\\\\\\\_________________________________________        \n",
      " _\\/\\\\\\///////////___\\////\\\\\\_____\\////\\\\\\_________________________________________       \n",
      "  _\\/\\\\\\_________________\\/\\\\\\________\\/\\\\\\______/\\\\\\_____________________/\\\\\\______      \n",
      "   _\\/\\\\\\\\\\\\\\\\\\\\\\_________\\/\\\\\\________\\/\\\\\\_____\\///_______/\\\\\\\\\\______/\\\\\\\\\\\\\\\\\\\\\\_     \n",
      "    _\\/\\\\\\///////__________\\/\\\\\\________\\/\\\\\\______/\\\\\\____/\\\\\\///\\\\\\___\\////\\\\\\////__    \n",
      "     _\\/\\\\\\_________________\\/\\\\\\________\\/\\\\\\_____\\/\\\\\\___/\\\\\\__\\//\\\\\\_____\\/\\\\\\______   \n",
      "      _\\/\\\\\\_________________\\/\\\\\\________\\/\\\\\\_____\\/\\\\\\__\\//\\\\\\__/\\\\\\______\\/\\\\\\_/\\\\__  \n",
      "       _\\/\\\\\\\\\\\\\\\\\\\\\\\\\\\\\\___/\\\\\\\\\\\\\\\\\\___/\\\\\\\\\\\\\\\\\\__\\/\\\\\\___\\///\\\\\\\\\\/_______\\//\\\\\\\\\\___ \n",
      "        _\\///////////////___\\/////////___\\/////////___\\///______\\/////__________\\/////____\n",
      "Version Number: 0.3.1\n"
     ]
    }
   ],
   "source": [
    "from elliot.run import run_experiment\n",
    "from data_generation import generate_data\n",
    "import zipfile\n",
    "import io\n",
    "import requests\n",
    "import os\n",
    "import pandas as pd\n",
    "import numpy as np"
   ]
  },
  {
   "cell_type": "markdown",
   "id": "ca12f851",
   "metadata": {},
   "source": [
    "### DMF experiment"
   ]
  },
  {
   "cell_type": "markdown",
   "id": "02d89573",
   "metadata": {},
   "source": [
    "Change data format."
   ]
  },
  {
   "cell_type": "code",
   "execution_count": 10,
   "id": "91a199a5",
   "metadata": {},
   "outputs": [],
   "source": [
    "for i in range(1, 6):\n",
    "    tr = pd.read_csv(\"elliot/data/popularity_bad\"+str(i)+\"/popularity_bad_fold_\"+str(i)+\"_train.csv\")\n",
    "    te = pd.read_csv(\"elliot/data/popularity_bad\"+str(i)+\"/popularity_bad_fold_\"+str(i)+\"_test.csv\")\n",
    "    np.savetxt(\"elliot/data/popularity_bad\"+str(i)+\"/popularity_bad_fold_\"+str(i)+\"_train.tsv\", tr,delimiter='\\t',fmt='%i')\n",
    "    np.savetxt(\"elliot/data/popularity_bad\"+str(i)+\"/popularity_bad_fold_\"+str(i)+\"_test.tsv\", te,delimiter='\\t',fmt='%i')\n",
    "    "
   ]
  },
  {
   "cell_type": "markdown",
   "id": "f8a97d36",
   "metadata": {},
   "source": [
    "First test experiment with the first fold - it took 85'\n",
    "\n",
    "Does changing batch size and 64-32 change the result?"
   ]
  },
  {
   "cell_type": "code",
   "execution_count": 2,
   "id": "0ca20c6d",
   "metadata": {},
   "outputs": [
    {
     "name": "stdout",
     "output_type": "stream",
     "text": [
      "2024-03-12 17:10:51.891814: I Start experiment\n"
     ]
    },
    {
     "name": "stdout",
     "output_type": "stream",
     "text": [
      "2024-03-12 17:10:51.976932: I /export/scratch2/home/savvina/new_environment/Elliot/elliot/data/popularity_bad1/popularity_bad_fold_1_train.tsv - Loaded\n",
      "2024-03-12 17:10:51.993035: I Test Fold 0\n",
      "2024-03-12 17:10:57.523054: I Statistics\tUsers:\t6358\tItems:\t6921\tTransactions:\t85028\tSparsity:\t0.9980677087331575\n"
     ]
    },
    {
     "name": "stderr",
     "output_type": "stream",
     "text": [
      "2024-03-12 17:11:00.490029: W tensorflow/stream_executor/platform/default/dso_loader.cc:59] Could not load dynamic library 'libcudart.so.10.1'; dlerror: libcudart.so.10.1: cannot open shared object file: No such file or directory\n",
      "2024-03-12 17:11:00.490065: I tensorflow/stream_executor/cuda/cudart_stub.cc:29] Ignore above cudart dlerror if you do not have a GPU set up on your machine.\n"
     ]
    },
    {
     "name": "stdout",
     "output_type": "stream",
     "text": [
      "2024-03-12 17:11:01.701742: I Training begun for DMF\\n\n",
      "2024-03-12 17:11:01.701606: I Loading parameters\n",
      "2024-03-12 17:11:01.703678: I Hyperparameters:\n",
      "2024-03-12 17:11:01.704021: I Parameter lr set to 0.0001\n",
      "2024-03-12 17:11:01.705268: I Parameter user_mlp set to [64, 32]\n",
      "2024-03-12 17:11:01.705430: I meta set to namespace(save_recs=True)\n",
      "2024-03-12 17:11:01.706634: I Parameter item_mlp set to [64, 32]\n",
      "2024-03-12 17:11:01.706794: I user_mlp set to (64,32)\n",
      "2024-03-12 17:11:01.707890: I Parameter neg_ratio set to 5\n",
      "2024-03-12 17:11:01.709027: I Parameter reg set to 0.001\n",
      "2024-03-12 17:11:01.709950: I item_mlp set to (64,32)\n",
      "2024-03-12 17:11:01.710249: I Parameter similarity set to cosine\n",
      "2024-03-12 17:11:01.711405: I epochs set to 10\n",
      "2024-03-12 17:11:01.712766: I batch_size set to 512\n",
      "2024-03-12 17:11:01.713967: I lr set to 0.0001\n",
      "2024-03-12 17:11:01.724200: I reg set to 0.001\n",
      "2024-03-12 17:11:01.741081: I similarity set to cosine\n",
      "2024-03-12 17:11:01.752685: I n_fold set to 1\n",
      "2024-03-12 17:11:01.753990: I Exploration: Test Fold exploration number 1\n",
      "2024-03-12 17:11:01.755228: I Exploration: Train-Validation Fold exploration number 1\n"
     ]
    },
    {
     "name": "stderr",
     "output_type": "stream",
     "text": [
      "2024-03-12 17:11:01.770169: W tensorflow/stream_executor/platform/default/dso_loader.cc:59] Could not load dynamic library 'libcuda.so.1'; dlerror: libcuda.so.1: cannot open shared object file: No such file or directory\n",
      "2024-03-12 17:11:01.770224: W tensorflow/stream_executor/cuda/cuda_driver.cc:312] failed call to cuInit: UNKNOWN ERROR (303)\n",
      "2024-03-12 17:11:01.770296: I tensorflow/stream_executor/cuda/cuda_diagnostics.cc:156] kernel driver does not appear to be running on this host (alice.ia.cwi.nl): /proc/driver/nvidia/version does not exist\n",
      "2024-03-12 17:11:01.770671: I tensorflow/core/platform/cpu_feature_guard.cc:142] This TensorFlow binary is optimized with oneAPI Deep Neural Network Library (oneDNN)to use the following CPU instructions in performance-critical operations:  AVX2 FMA\n",
      "To enable them in other operations, rebuild TensorFlow with the appropriate compiler flags.\n",
      "2024-03-12 17:11:01.802093: I tensorflow/core/platform/profile_utils/cpu_utils.cc:104] CPU Frequency: 1996120000 Hz\n",
      "2024-03-12 17:11:01.810420: I tensorflow/compiler/xla/service/service.cc:168] XLA service 0x5ef1400 initialized for platform Host (this does not guarantee that XLA will be used). Devices:\n",
      "2024-03-12 17:11:01.810469: I tensorflow/compiler/xla/service/service.cc:176]   StreamExecutor device (0): Host, Default Version\n"
     ]
    },
    {
     "name": "stdout",
     "output_type": "stream",
     "text": [
      "2024-03-12 17:19:04.901507: I \n",
      "2024-03-12 17:19:04.901249: I Epoch 1/10 loss 487.00824\n",
      "2024-03-12 17:19:04.904683: I Writing recommendations at: /export/scratch2/home/savvina/new_environment/Elliot/elliot/results/popularity_bad1/recs\n",
      "2024-03-12 17:19:04.905975: I Test Evaluation results\n",
      "2024-03-12 17:19:04.908522: I Cut-off: 10\n",
      "2024-03-12 17:19:04.913813: I Eval Time: 0.055443763732910156\n",
      "2024-03-12 17:19:04.916449: I Results\n",
      "2024-03-12 17:19:05.042360: I ******************************************\n",
      "2024-03-12 17:19:05.055693: I nDCG\t0.00084\n",
      "2024-03-12 17:27:01.578091: I \n",
      "2024-03-12 17:27:01.577871: I Epoch 2/10 loss 113.74577\n",
      "2024-03-12 17:27:01.580681: I Writing recommendations at: /export/scratch2/home/savvina/new_environment/Elliot/elliot/results/popularity_bad1/recs\n",
      "2024-03-12 17:27:01.580972: I Test Evaluation results\n",
      "2024-03-12 17:27:01.582460: I Cut-off: 10\n",
      "2024-03-12 17:27:01.731081: I Eval Time: 0.05257153511047363\n",
      "2024-03-12 17:27:01.744151: I Results\n",
      "2024-03-12 17:27:01.745941: I nDCG\t0.00074\n"
     ]
    }
   ],
   "source": [
    "run_experiment(os.getcwd()+'/elliot/config_files/popularity_bad1.yml')"
   ]
  },
  {
   "cell_type": "markdown",
   "id": "db7dee78",
   "metadata": {},
   "source": [
    "Now let's try and make a loop."
   ]
  },
  {
   "cell_type": "code",
   "execution_count": null,
   "id": "dafc666f",
   "metadata": {},
   "outputs": [
    {
     "name": "stdout",
     "output_type": "stream",
     "text": [
      "2024-03-12 16:55:25.744245: I Start experiment\n",
      "2024-03-12 16:55:25.798854: I /export/scratch2/home/savvina/new_environment/Elliot/elliot/data/popularity_bad2/popularity_bad_fold_2_train.tsv - Loaded\n",
      "2024-03-12 16:55:25.813332: I Test Fold 0\n",
      "2024-03-12 16:55:31.493577: I Statistics\tUsers:\t6358\tItems:\t6921\tTransactions:\t85184\tSparsity:\t0.9980641635781776\n",
      "2024-03-12 16:55:34.386370: I Training begun for DMF\\n\n",
      "2024-03-12 16:55:34.413619: I Hyperparameters:\n",
      "2024-03-12 16:55:34.416166: I meta set to namespace(save_recs=True)\n",
      "2024-03-12 16:55:34.417973: I user_mlp set to (64,64)\n",
      "2024-03-12 16:55:34.419738: I item_mlp set to (64,64)\n",
      "2024-03-12 16:55:34.421375: I epochs set to 10\n",
      "2024-03-12 16:55:34.423064: I batch_size set to 256\n",
      "2024-03-12 16:55:34.427333: I lr set to 0.0001\n",
      "2024-03-12 16:55:34.429854: I reg set to 0.001\n",
      "2024-03-12 16:55:34.431489: I similarity set to cosine\n",
      "2024-03-12 16:55:34.433871: I n_fold set to 1\n",
      "2024-03-12 16:55:34.435502: I Exploration: Test Fold exploration number 1\n",
      "2024-03-12 16:55:34.439120: I Exploration: Train-Validation Fold exploration number 1\n",
      "2024-03-12 17:04:02.836461: I \n",
      "2024-03-12 17:04:02.915695: I Test Evaluation results\n",
      "2024-03-12 17:04:02.981374: I Cut-off: 10\n",
      "2024-03-12 17:04:02.985309: I Eval Time: 0.0465700626373291\n",
      "2024-03-12 17:04:02.986743: I Results\n",
      "2024-03-12 17:04:02.989560: I nDCG\t0.0036\n"
     ]
    }
   ],
   "source": [
    "for i in range(2, 6):\n",
    "    run_experiment(os.getcwd()+'/elliot/config_files/popularity_bad'+str(i)+'.yml')"
   ]
  },
  {
   "cell_type": "markdown",
   "id": "bae0f9ef",
   "metadata": {},
   "source": [
    "Train DMF with best parameters on my own train-test split."
   ]
  },
  {
   "cell_type": "markdown",
   "id": "ad26611b",
   "metadata": {},
   "source": []
  }
 ],
 "metadata": {
  "kernelspec": {
   "display_name": "Python 3.8.18 ('elliot_env')",
   "language": "python",
   "name": "python3"
  },
  "language_info": {
   "codemirror_mode": {
    "name": "ipython",
    "version": 3
   },
   "file_extension": ".py",
   "mimetype": "text/x-python",
   "name": "python",
   "nbconvert_exporter": "python",
   "pygments_lexer": "ipython3",
   "version": "3.8.18"
  },
  "vscode": {
   "interpreter": {
    "hash": "889773d0e3910a3da9ca5cf13d401ea1cecb570772d2ad0802f95e8942400dfb"
   }
  }
 },
 "nbformat": 4,
 "nbformat_minor": 5
}

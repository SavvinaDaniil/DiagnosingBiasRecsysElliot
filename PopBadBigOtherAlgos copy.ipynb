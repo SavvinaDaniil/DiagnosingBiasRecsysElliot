{
 "cells": [
  {
   "cell_type": "code",
   "execution_count": 1,
   "id": "c0a83484-80a5-4772-9df2-52a45c40d8df",
   "metadata": {
    "scrolled": true
   },
   "outputs": [
    {
     "name": "stdout",
     "output_type": "stream",
     "text": [
      "\n",
      "__/\\\\\\\\\\\\\\\\\\\\\\\\\\\\\\___/\\\\\\\\\\\\______/\\\\\\\\\\\\_________________________________________        \n",
      " _\\/\\\\\\///////////___\\////\\\\\\_____\\////\\\\\\_________________________________________       \n",
      "  _\\/\\\\\\_________________\\/\\\\\\________\\/\\\\\\______/\\\\\\_____________________/\\\\\\______      \n",
      "   _\\/\\\\\\\\\\\\\\\\\\\\\\_________\\/\\\\\\________\\/\\\\\\_____\\///_______/\\\\\\\\\\______/\\\\\\\\\\\\\\\\\\\\\\_     \n",
      "    _\\/\\\\\\///////__________\\/\\\\\\________\\/\\\\\\______/\\\\\\____/\\\\\\///\\\\\\___\\////\\\\\\////__    \n",
      "     _\\/\\\\\\_________________\\/\\\\\\________\\/\\\\\\_____\\/\\\\\\___/\\\\\\__\\//\\\\\\_____\\/\\\\\\______   \n",
      "      _\\/\\\\\\_________________\\/\\\\\\________\\/\\\\\\_____\\/\\\\\\__\\//\\\\\\__/\\\\\\______\\/\\\\\\_/\\\\__  \n",
      "       _\\/\\\\\\\\\\\\\\\\\\\\\\\\\\\\\\___/\\\\\\\\\\\\\\\\\\___/\\\\\\\\\\\\\\\\\\__\\/\\\\\\___\\///\\\\\\\\\\/_______\\//\\\\\\\\\\___ \n",
      "        _\\///////////////___\\/////////___\\/////////___\\///______\\/////__________\\/////____\n",
      "Version Number: 0.3.1\n"
     ]
    }
   ],
   "source": [
    "from elliot.run import run_experiment\n",
    "import zipfile\n",
    "import io\n",
    "import requests\n",
    "import os\n",
    "import pandas as pd\n",
    "import numpy as np"
   ]
  },
  {
   "cell_type": "markdown",
   "id": "ca12f851",
   "metadata": {},
   "source": [
    "### List of algorithms for explicit ratings\n",
    "1. "
   ]
  },
  {
   "cell_type": "code",
   "execution_count": 2,
   "id": "9e86141b-c7a1-4031-8a04-c980a36ed984",
   "metadata": {},
   "outputs": [],
   "source": [
    "pop_bad_big1_train = pd.read_csv('elliot/data/popularity_bad_big/popularity_bad_for_bp_ur_fold_1_train.csv')\n",
    "pop_bad_big1_test = pd.read_csv('elliot/data/popularity_bad_big/popularity_bad_for_bp_ur_fold_1_test.csv')\n"
   ]
  },
  {
   "cell_type": "code",
   "execution_count": 3,
   "id": "f6606f8d-d488-4258-98a0-f15e5adeea71",
   "metadata": {},
   "outputs": [],
   "source": [
    "np.savetxt('elliot/data/popularity_bad_big/pop_bad_big1_train.tsv', pop_bad_big1_train,delimiter='\\t',fmt='%i')\n",
    "np.savetxt('elliot/data/popularity_bad_big/pop_bad_big1_test.tsv', pop_bad_big1_test,delimiter='\\t',fmt='%i')"
   ]
  },
  {
   "cell_type": "code",
   "execution_count": 4,
   "id": "207fb53e-e515-48f2-8db9-01ca3975ea41",
   "metadata": {},
   "outputs": [
    {
     "name": "stdout",
     "output_type": "stream",
     "text": [
      "2024-02-21 14:53:40.458200: I Start experiment\n",
      "2024-02-21 14:53:40.546052: I /export/scratch2/home/savvina/new_environment/Elliot/elliot/data/popularity_bad_big/pop_bad_big1_train.tsv - Loaded\n",
      "2024-02-21 14:53:40.562307: I Test Fold 0\n",
      "2024-02-21 14:53:46.222589: I Statistics\tUsers:\t6358\tItems:\t6921\tTransactions:\t85028\tSparsity:\t0.9980677087331575\n"
     ]
    },
    {
     "name": "stderr",
     "output_type": "stream",
     "text": [
      "2024-02-21 14:53:49.223091: W tensorflow/stream_executor/platform/default/dso_loader.cc:59] Could not load dynamic library 'libcudart.so.10.1'; dlerror: libcudart.so.10.1: cannot open shared object file: No such file or directory\n",
      "2024-02-21 14:53:49.223132: I tensorflow/stream_executor/cuda/cudart_stub.cc:29] Ignore above cudart dlerror if you do not have a GPU set up on your machine.\n"
     ]
    },
    {
     "name": "stdout",
     "output_type": "stream",
     "text": [
      "2024-02-21 14:53:50.269285: I Training begun for DMF\\n\n",
      "2024-02-21 14:53:50.269093: I Loading parameters\n",
      "2024-02-21 14:53:50.271313: I Parameter lr set to 0.0001\n",
      "2024-02-21 14:53:50.271811: I Hyperparameters:\n",
      "2024-02-21 14:53:50.273191: I Parameter user_mlp set to [64, 32]\n",
      "2024-02-21 14:53:50.274293: I Parameter item_mlp set to [64, 32]\n",
      "2024-02-21 14:53:50.275381: I Parameter neg_ratio set to 5\n",
      "2024-02-21 14:53:50.276404: I Parameter reg set to 0.001\n",
      "2024-02-21 14:53:50.277443: I Parameter similarity set to cosine\n",
      "2024-02-21 14:53:50.280702: I meta set to namespace(save_recs=True)\n",
      "2024-02-21 14:53:50.296729: I epochs set to 10\n",
      "2024-02-21 14:53:50.298117: I batch_size set to 512\n",
      "2024-02-21 14:53:50.305373: I lr set to 0.0001\n",
      "2024-02-21 14:53:50.344689: I reg set to 0.001\n",
      "2024-02-21 14:53:50.351999: I user_mlp set to (64,32)\n",
      "2024-02-21 14:53:50.353764: I item_mlp set to (64,32)\n",
      "2024-02-21 14:53:50.355579: I similarity set to cosine\n",
      "2024-02-21 14:53:50.357496: I Exploration: Test Fold exploration number 1\n",
      "2024-02-21 14:53:50.361451: I Exploration: Train-Validation Fold exploration number 1\n"
     ]
    },
    {
     "name": "stderr",
     "output_type": "stream",
     "text": [
      "2024-02-21 14:53:50.306307: W tensorflow/stream_executor/platform/default/dso_loader.cc:59] Could not load dynamic library 'libcuda.so.1'; dlerror: libcuda.so.1: cannot open shared object file: No such file or directory\n",
      "2024-02-21 14:53:50.306347: W tensorflow/stream_executor/cuda/cuda_driver.cc:312] failed call to cuInit: UNKNOWN ERROR (303)\n",
      "2024-02-21 14:53:50.306383: I tensorflow/stream_executor/cuda/cuda_diagnostics.cc:156] kernel driver does not appear to be running on this host (alice.ia.cwi.nl): /proc/driver/nvidia/version does not exist\n",
      "2024-02-21 14:53:50.306598: I tensorflow/core/platform/cpu_feature_guard.cc:142] This TensorFlow binary is optimized with oneAPI Deep Neural Network Library (oneDNN)to use the following CPU instructions in performance-critical operations:  AVX2 FMA\n",
      "To enable them in other operations, rebuild TensorFlow with the appropriate compiler flags.\n",
      "2024-02-21 14:53:50.322997: I tensorflow/core/platform/profile_utils/cpu_utils.cc:104] CPU Frequency: 1996120000 Hz\n",
      "2024-02-21 14:53:50.331387: I tensorflow/compiler/xla/service/service.cc:168] XLA service 0x47e4fd0 initialized for platform Host (this does not guarantee that XLA will be used). Devices:\n",
      "2024-02-21 14:53:50.331434: I tensorflow/compiler/xla/service/service.cc:176]   StreamExecutor device (0): Host, Default Version\n",
      "2024-02-21 14:54:27.659616: W tensorflow/core/framework/cpu_allocator_impl.cc:81] Allocation of 98099693568 exceeds 10% of free system memory.\n",
      "2024-02-21 14:54:27.659742: W tensorflow/core/framework/cpu_allocator_impl.cc:81] Allocation of 90119614464 exceeds 10% of free system memory.\n",
      "2024-02-21 14:55:12.389393: W tensorflow/core/framework/cpu_allocator_impl.cc:81] Allocation of 98099693568 exceeds 10% of free system memory.\n",
      "2024-02-21 14:55:12.389393: W tensorflow/core/framework/cpu_allocator_impl.cc:81] Allocation of 90119614464 exceeds 10% of free system memory.\n",
      "2024-02-21 14:55:57.068987: W tensorflow/core/framework/cpu_allocator_impl.cc:81] Allocation of 90119614464 exceeds 10% of free system memory.\n"
     ]
    },
    {
     "name": "stdout",
     "output_type": "stream",
     "text": [
      "2024-02-21 15:03:45.143027: I Epoch 1/10 loss 350.73538\n",
      "2024-02-21 15:03:45.145355: I Writing recommendations at: /export/scratch2/home/savvina/new_environment/Elliot/elliot/results/pop_bad_big1/recs\n",
      "2024-02-21 15:03:45.147169: I \n",
      "2024-02-21 15:03:45.154978: I Test Evaluation results\n",
      "2024-02-21 15:03:45.172301: I Cut-off: 10\n",
      "2024-02-21 15:03:45.173432: I Eval Time: 0.0889425277709961\n",
      "2024-02-21 15:03:45.174595: I Results\n",
      "2024-02-21 15:03:45.175666: I nDCG\t0.00043\n",
      "2024-02-21 15:03:45.470182: I ******************************************\n"
     ]
    }
   ],
   "source": [
    "run_experiment(os.getcwd()+'/elliot/config_files/pop_bad_big1other.yml')"
   ]
  }
 ],
 "metadata": {
  "kernelspec": {
   "display_name": "Python 3 (ipykernel)",
   "language": "python",
   "name": "python3"
  },
  "language_info": {
   "codemirror_mode": {
    "name": "ipython",
    "version": 3
   },
   "file_extension": ".py",
   "mimetype": "text/x-python",
   "name": "python",
   "nbconvert_exporter": "python",
   "pygments_lexer": "ipython3",
   "version": "3.8.18"
  }
 },
 "nbformat": 4,
 "nbformat_minor": 5
}

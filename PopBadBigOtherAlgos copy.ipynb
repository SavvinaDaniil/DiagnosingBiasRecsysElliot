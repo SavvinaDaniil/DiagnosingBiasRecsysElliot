{
 "cells": [
  {
   "cell_type": "code",
   "execution_count": 1,
   "id": "c0a83484-80a5-4772-9df2-52a45c40d8df",
   "metadata": {
    "scrolled": true
   },
   "outputs": [
    {
     "name": "stdout",
     "output_type": "stream",
     "text": [
      "\n",
      "__/\\\\\\\\\\\\\\\\\\\\\\\\\\\\\\___/\\\\\\\\\\\\______/\\\\\\\\\\\\_________________________________________        \n",
      " _\\/\\\\\\///////////___\\////\\\\\\_____\\////\\\\\\_________________________________________       \n",
      "  _\\/\\\\\\_________________\\/\\\\\\________\\/\\\\\\______/\\\\\\_____________________/\\\\\\______      \n",
      "   _\\/\\\\\\\\\\\\\\\\\\\\\\_________\\/\\\\\\________\\/\\\\\\_____\\///_______/\\\\\\\\\\______/\\\\\\\\\\\\\\\\\\\\\\_     \n",
      "    _\\/\\\\\\///////__________\\/\\\\\\________\\/\\\\\\______/\\\\\\____/\\\\\\///\\\\\\___\\////\\\\\\////__    \n",
      "     _\\/\\\\\\_________________\\/\\\\\\________\\/\\\\\\_____\\/\\\\\\___/\\\\\\__\\//\\\\\\_____\\/\\\\\\______   \n",
      "      _\\/\\\\\\_________________\\/\\\\\\________\\/\\\\\\_____\\/\\\\\\__\\//\\\\\\__/\\\\\\______\\/\\\\\\_/\\\\__  \n",
      "       _\\/\\\\\\\\\\\\\\\\\\\\\\\\\\\\\\___/\\\\\\\\\\\\\\\\\\___/\\\\\\\\\\\\\\\\\\__\\/\\\\\\___\\///\\\\\\\\\\/_______\\//\\\\\\\\\\___ \n",
      "        _\\///////////////___\\/////////___\\/////////___\\///______\\/////__________\\/////____\n",
      "Version Number: 0.3.1\n"
     ]
    }
   ],
   "source": [
    "from elliot.run import run_experiment\n",
    "import zipfile\n",
    "import io\n",
    "import requests\n",
    "import os\n",
    "import pandas as pd\n",
    "import numpy as np"
   ]
  },
  {
   "cell_type": "markdown",
   "id": "ca12f851",
   "metadata": {},
   "source": [
    "### List of algorithms for explicit ratings\n",
    "1. "
   ]
  },
  {
   "cell_type": "code",
   "execution_count": 2,
   "id": "9e86141b-c7a1-4031-8a04-c980a36ed984",
   "metadata": {},
   "outputs": [],
   "source": [
    "pop_bad_big1_train = pd.read_csv('elliot/data/popularity_bad_big/popularity_bad_for_bp_ur_fold_1_train.csv')\n",
    "pop_bad_big1_test = pd.read_csv('elliot/data/popularity_bad_big/popularity_bad_for_bp_ur_fold_1_test.csv')\n"
   ]
  },
  {
   "cell_type": "code",
   "execution_count": 3,
   "id": "f6606f8d-d488-4258-98a0-f15e5adeea71",
   "metadata": {},
   "outputs": [],
   "source": [
    "np.savetxt('elliot/data/popularity_bad_big/pop_bad_big1_train.tsv', pop_bad_big1_train,delimiter='\\t',fmt='%i')\n",
    "np.savetxt('elliot/data/popularity_bad_big/pop_bad_big1_test.tsv', pop_bad_big1_test,delimiter='\\t',fmt='%i')"
   ]
  },
  {
   "cell_type": "code",
   "execution_count": 4,
   "id": "207fb53e-e515-48f2-8db9-01ca3975ea41",
   "metadata": {},
   "outputs": [
    {
     "name": "stdout",
     "output_type": "stream",
     "text": [
      "2024-02-21 14:53:40.458200: I Start experiment\n",
      "2024-02-21 14:53:40.546052: I /export/scratch2/home/savvina/new_environment/Elliot/elliot/data/popularity_bad_big/pop_bad_big1_train.tsv - Loaded\n",
      "2024-02-21 14:53:40.562307: I Test Fold 0\n",
      "2024-02-21 14:53:46.222589: I Statistics\tUsers:\t6358\tItems:\t6921\tTransactions:\t85028\tSparsity:\t0.9980677087331575\n"
     ]
    },
    {
     "name": "stderr",
     "output_type": "stream",
     "text": [
      "2024-02-21 14:53:49.223091: W tensorflow/stream_executor/platform/default/dso_loader.cc:59] Could not load dynamic library 'libcudart.so.10.1'; dlerror: libcudart.so.10.1: cannot open shared object file: No such file or directory\n",
      "2024-02-21 14:53:49.223132: I tensorflow/stream_executor/cuda/cudart_stub.cc:29] Ignore above cudart dlerror if you do not have a GPU set up on your machine.\n"
     ]
    },
    {
     "name": "stdout",
     "output_type": "stream",
     "text": [
      "2024-02-21 14:53:50.269285: I Training begun for DMF\\n\n",
      "2024-02-21 14:53:50.269093: I Loading parameters\n",
      "2024-02-21 14:53:50.271313: I Parameter lr set to 0.0001\n",
      "2024-02-21 14:53:50.271811: I Hyperparameters:\n",
      "2024-02-21 14:53:50.273191: I Parameter user_mlp set to [64, 32]\n",
      "2024-02-21 14:53:50.274293: I Parameter item_mlp set to [64, 32]\n",
      "2024-02-21 14:53:50.275381: I Parameter neg_ratio set to 5\n",
      "2024-02-21 14:53:50.276404: I Parameter reg set to 0.001\n",
      "2024-02-21 14:53:50.277443: I Parameter similarity set to cosine\n",
      "2024-02-21 14:53:50.280702: I meta set to namespace(save_recs=True)\n",
      "2024-02-21 14:53:50.296729: I epochs set to 10\n",
      "2024-02-21 14:53:50.298117: I batch_size set to 512\n",
      "2024-02-21 14:53:50.305373: I lr set to 0.0001\n",
      "2024-02-21 14:53:50.344689: I reg set to 0.001\n",
      "2024-02-21 14:53:50.351999: I user_mlp set to (64,32)\n",
      "2024-02-21 14:53:50.353764: I item_mlp set to (64,32)\n",
      "2024-02-21 14:53:50.355579: I similarity set to cosine\n",
      "2024-02-21 14:53:50.357496: I Exploration: Test Fold exploration number 1\n",
      "2024-02-21 14:53:50.361451: I Exploration: Train-Validation Fold exploration number 1\n"
     ]
    },
    {
     "name": "stderr",
     "output_type": "stream",
     "text": [
      "2024-02-21 14:53:50.306307: W tensorflow/stream_executor/platform/default/dso_loader.cc:59] Could not load dynamic library 'libcuda.so.1'; dlerror: libcuda.so.1: cannot open shared object file: No such file or directory\n",
      "2024-02-21 14:53:50.306347: W tensorflow/stream_executor/cuda/cuda_driver.cc:312] failed call to cuInit: UNKNOWN ERROR (303)\n",
      "2024-02-21 14:53:50.306383: I tensorflow/stream_executor/cuda/cuda_diagnostics.cc:156] kernel driver does not appear to be running on this host (alice.ia.cwi.nl): /proc/driver/nvidia/version does not exist\n",
      "2024-02-21 14:53:50.306598: I tensorflow/core/platform/cpu_feature_guard.cc:142] This TensorFlow binary is optimized with oneAPI Deep Neural Network Library (oneDNN)to use the following CPU instructions in performance-critical operations:  AVX2 FMA\n",
      "To enable them in other operations, rebuild TensorFlow with the appropriate compiler flags.\n",
      "2024-02-21 14:53:50.322997: I tensorflow/core/platform/profile_utils/cpu_utils.cc:104] CPU Frequency: 1996120000 Hz\n",
      "2024-02-21 14:53:50.331387: I tensorflow/compiler/xla/service/service.cc:168] XLA service 0x47e4fd0 initialized for platform Host (this does not guarantee that XLA will be used). Devices:\n",
      "2024-02-21 14:53:50.331434: I tensorflow/compiler/xla/service/service.cc:176]   StreamExecutor device (0): Host, Default Version\n",
      "2024-02-21 14:54:27.659616: W tensorflow/core/framework/cpu_allocator_impl.cc:81] Allocation of 98099693568 exceeds 10% of free system memory.\n",
      "2024-02-21 14:54:27.659742: W tensorflow/core/framework/cpu_allocator_impl.cc:81] Allocation of 90119614464 exceeds 10% of free system memory.\n",
      "2024-02-21 14:55:12.389393: W tensorflow/core/framework/cpu_allocator_impl.cc:81] Allocation of 98099693568 exceeds 10% of free system memory.\n",
      "2024-02-21 14:55:12.389393: W tensorflow/core/framework/cpu_allocator_impl.cc:81] Allocation of 90119614464 exceeds 10% of free system memory.\n",
      "2024-02-21 14:55:57.068987: W tensorflow/core/framework/cpu_allocator_impl.cc:81] Allocation of 90119614464 exceeds 10% of free system memory.\n"
     ]
    },
    {
     "name": "stdout",
     "output_type": "stream",
     "text": [
      "2024-02-21 15:03:45.143027: I Epoch 1/10 loss 350.73538\n",
      "2024-02-21 15:03:45.145355: I Writing recommendations at: /export/scratch2/home/savvina/new_environment/Elliot/elliot/results/pop_bad_big1/recs\n",
      "2024-02-21 15:03:45.147169: I \n",
      "2024-02-21 15:03:45.154978: I Test Evaluation results\n",
      "2024-02-21 15:03:45.172301: I Cut-off: 10\n",
      "2024-02-21 15:03:45.173432: I Eval Time: 0.0889425277709961\n",
      "2024-02-21 15:03:45.174595: I Results\n",
      "2024-02-21 15:03:45.175666: I nDCG\t0.00043\n",
      "2024-02-21 15:03:45.470182: I ******************************************\n",
      "2024-02-21 15:13:40.710991: I \n",
      "2024-02-21 15:13:40.710468: I Epoch 2/10 loss 78.91637\n",
      "2024-02-21 15:13:40.713204: I Writing recommendations at: /export/scratch2/home/savvina/new_environment/Elliot/elliot/results/pop_bad_big1/recs\n",
      "2024-02-21 15:13:40.717635: I Test Evaluation results\n",
      "2024-02-21 15:13:40.851981: I Cut-off: 10\n",
      "2024-02-21 15:13:40.852307: I ******************************************\n",
      "2024-02-21 15:13:40.870914: I Eval Time: 0.052393436431884766\n",
      "2024-02-21 15:13:40.873423: I Results\n",
      "2024-02-21 15:13:40.875909: I nDCG\t0.00048\n",
      "2024-02-21 15:23:25.395015: I Epoch 3/10 loss 34.83674\n",
      "2024-02-21 15:23:25.396330: I \n",
      "2024-02-21 15:23:25.401211: I Test Evaluation results\n",
      "2024-02-21 15:23:25.403021: I Writing recommendations at: /export/scratch2/home/savvina/new_environment/Elliot/elliot/results/pop_bad_big1/recs\n",
      "2024-02-21 15:23:25.409239: I Cut-off: 10\n",
      "2024-02-21 15:23:25.414556: I Eval Time: 0.11316561698913574\n",
      "2024-02-21 15:23:25.426842: I Results\n",
      "2024-02-21 15:23:25.428703: I nDCG\t0.00043\n",
      "2024-02-21 15:33:08.957737: I \n",
      "2024-02-21 15:33:08.957506: I Epoch 4/10 loss 19.56142\n",
      "2024-02-21 15:33:08.959215: I Test Evaluation results\n",
      "2024-02-21 15:33:08.960029: I Writing recommendations at: /export/scratch2/home/savvina/new_environment/Elliot/elliot/results/pop_bad_big1/recs\n",
      "2024-02-21 15:33:08.972942: I Cut-off: 10\n",
      "2024-02-21 15:33:08.974660: I Eval Time: 0.1085517406463623\n",
      "2024-02-21 15:33:08.978010: I Results\n",
      "2024-02-21 15:33:08.998696: I nDCG\t0.00153\n",
      "2024-02-21 15:33:09.356596: I ******************************************\n",
      "2024-02-21 15:42:28.070574: I \n",
      "2024-02-21 15:42:28.070365: I Epoch 5/10 loss 12.51183\n",
      "2024-02-21 15:42:28.072325: I Writing recommendations at: /export/scratch2/home/savvina/new_environment/Elliot/elliot/results/pop_bad_big1/recs\n",
      "2024-02-21 15:42:28.073106: I Test Evaluation results\n",
      "2024-02-21 15:42:28.076473: I Cut-off: 10\n",
      "2024-02-21 15:42:28.081312: I Eval Time: 0.053075313568115234\n",
      "2024-02-21 15:42:28.119962: I Results\n",
      "2024-02-21 15:42:28.221788: I nDCG\t0.00103\n",
      "2024-02-21 15:50:25.147563: I \n",
      "2024-02-21 15:50:25.147358: I Epoch 6/10 loss 8.72458\n",
      "2024-02-21 15:50:25.150277: I Test Evaluation results\n",
      "2024-02-21 15:50:25.150486: I Writing recommendations at: /export/scratch2/home/savvina/new_environment/Elliot/elliot/results/pop_bad_big1/recs\n",
      "2024-02-21 15:50:25.152094: I Cut-off: 10\n",
      "2024-02-21 15:50:25.267695: I Eval Time: 0.04746699333190918\n",
      "2024-02-21 15:50:25.316805: I Results\n",
      "2024-02-21 15:50:25.318862: I nDCG\t0.00071\n",
      "2024-02-21 15:58:22.009862: I \n",
      "2024-02-21 15:58:22.009386: I Epoch 7/10 loss 6.35644\n",
      "2024-02-21 15:58:22.013274: I Test Evaluation results\n",
      "2024-02-21 15:58:22.013549: I Writing recommendations at: /export/scratch2/home/savvina/new_environment/Elliot/elliot/results/pop_bad_big1/recs\n",
      "2024-02-21 15:58:22.019032: I Cut-off: 10\n",
      "2024-02-21 15:58:22.179369: I Eval Time: 0.053049564361572266\n",
      "2024-02-21 15:58:22.183499: I Results\n",
      "2024-02-21 15:58:22.186246: I nDCG\t0.00108\n",
      "2024-02-21 16:06:18.132912: I \n",
      "2024-02-21 16:06:18.132640: I Epoch 8/10 loss 4.88241\n",
      "2024-02-21 16:06:18.134684: I Writing recommendations at: /export/scratch2/home/savvina/new_environment/Elliot/elliot/results/pop_bad_big1/recs\n",
      "2024-02-21 16:06:18.137067: I Test Evaluation results\n",
      "2024-02-21 16:06:18.219077: I Cut-off: 10\n",
      "2024-02-21 16:06:18.281629: I Eval Time: 0.021430492401123047\n",
      "2024-02-21 16:06:18.295812: I ******************************************\n",
      "2024-02-21 16:06:18.296390: I Results\n",
      "2024-02-21 16:06:18.315004: I nDCG\t0.00167\n",
      "2024-02-21 16:14:15.006823: I \n",
      "2024-02-21 16:14:15.006580: I Epoch 9/10 loss 3.82612\n",
      "2024-02-21 16:14:15.009541: I Writing recommendations at: /export/scratch2/home/savvina/new_environment/Elliot/elliot/results/pop_bad_big1/recs\n",
      "2024-02-21 16:14:15.009729: I Test Evaluation results\n",
      "2024-02-21 16:14:15.011910: I Cut-off: 10\n",
      "2024-02-21 16:14:15.164531: I Eval Time: 0.05433464050292969\n",
      "2024-02-21 16:14:15.169051: I Results\n",
      "2024-02-21 16:14:15.171525: I nDCG\t0.00074\n",
      "2024-02-21 16:22:12.027685: I \n",
      "2024-02-21 16:22:12.027440: I Epoch 10/10 loss 3.11599\n",
      "2024-02-21 16:22:12.029456: I Test Evaluation results\n",
      "2024-02-21 16:22:12.030652: I Writing recommendations at: /export/scratch2/home/savvina/new_environment/Elliot/elliot/results/pop_bad_big1/recs\n",
      "2024-02-21 16:22:12.034276: I Cut-off: 10\n",
      "2024-02-21 16:22:12.183050: I Eval Time: 0.05469465255737305\n",
      "2024-02-21 16:22:12.188851: I Results\n",
      "2024-02-21 16:22:12.192341: I nDCG\t0.00131\n"
     ]
    },
    {
     "name": "stdout",
     "output_type": "stream",
     "text": [
      "2024-02-21 16:22:12.194991: I Training ended for DMF\n",
      "2024-02-21 16:22:12.197169: I Loss:\\t-0.0016670083606915803\n",
      "2024-02-21 16:22:12.198247: I Best Model params:\\t{'meta': namespace(save_recs=True), 'epochs': 10, 'batch_size': 512, 'lr': 0.0001, 'reg': 0.001, 'user_mlp': '(64,32)', 'item_mlp': '(64,32)', 'similarity': 'cosine', 'name': 'DMF_seed=42_e=10_bs=512_lr=0$0001_umlp=64-32_imlp=64-32_negratio=5_reg=0$001_sim=cosine', 'best_iteration': 8}\n",
      "2024-02-21 16:22:12.199229: I Best Model results:\\t{10: {'nDCG': 0.0016670083606915803}}\n",
      "2024-02-21 16:22:12.200116: I End experiment\n"
     ]
    }
   ],
   "source": [
    "run_experiment(os.getcwd()+'/elliot/config_files/pop_bad_big1other.yml')"
   ]
  }
 ],
 "metadata": {
  "kernelspec": {
   "display_name": "Python 3 (ipykernel)",
   "language": "python",
   "name": "python3"
  },
  "language_info": {
   "codemirror_mode": {
    "name": "ipython",
    "version": 3
   },
   "file_extension": ".py",
   "mimetype": "text/x-python",
   "name": "python",
   "nbconvert_exporter": "python",
   "pygments_lexer": "ipython3",
   "version": "3.8.18"
  }
 },
 "nbformat": 4,
 "nbformat_minor": 5
}

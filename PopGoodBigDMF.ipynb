{
 "cells": [
  {
   "cell_type": "code",
   "execution_count": 1,
   "id": "c0a83484-80a5-4772-9df2-52a45c40d8df",
   "metadata": {
    "scrolled": true
   },
   "outputs": [
    {
     "name": "stdout",
     "output_type": "stream",
     "text": [
      "\n",
      "__/\\\\\\\\\\\\\\\\\\\\\\\\\\\\\\___/\\\\\\\\\\\\______/\\\\\\\\\\\\_________________________________________        \n",
      " _\\/\\\\\\///////////___\\////\\\\\\_____\\////\\\\\\_________________________________________       \n",
      "  _\\/\\\\\\_________________\\/\\\\\\________\\/\\\\\\______/\\\\\\_____________________/\\\\\\______      \n",
      "   _\\/\\\\\\\\\\\\\\\\\\\\\\_________\\/\\\\\\________\\/\\\\\\_____\\///_______/\\\\\\\\\\______/\\\\\\\\\\\\\\\\\\\\\\_     \n",
      "    _\\/\\\\\\///////__________\\/\\\\\\________\\/\\\\\\______/\\\\\\____/\\\\\\///\\\\\\___\\////\\\\\\////__    \n",
      "     _\\/\\\\\\_________________\\/\\\\\\________\\/\\\\\\_____\\/\\\\\\___/\\\\\\__\\//\\\\\\_____\\/\\\\\\______   \n",
      "      _\\/\\\\\\_________________\\/\\\\\\________\\/\\\\\\_____\\/\\\\\\__\\//\\\\\\__/\\\\\\______\\/\\\\\\_/\\\\__  \n",
      "       _\\/\\\\\\\\\\\\\\\\\\\\\\\\\\\\\\___/\\\\\\\\\\\\\\\\\\___/\\\\\\\\\\\\\\\\\\__\\/\\\\\\___\\///\\\\\\\\\\/_______\\//\\\\\\\\\\___ \n",
      "        _\\///////////////___\\/////////___\\/////////___\\///______\\/////__________\\/////____\n",
      "Version Number: 0.3.1\n"
     ]
    }
   ],
   "source": [
    "from elliot.run import run_experiment\n",
    "from lib.data_generation import generate_data\n",
    "import zipfile\n",
    "import io\n",
    "import requests\n",
    "import os\n",
    "import pandas as pd\n",
    "import numpy as np\n",
    "import yaml\n",
    "import copy"
   ]
  },
  {
   "cell_type": "markdown",
   "id": "ca12f851",
   "metadata": {},
   "source": [
    "### DMF experiment"
   ]
  },
  {
   "cell_type": "markdown",
   "id": "02d89573",
   "metadata": {},
   "source": [
    "Change data format."
   ]
  },
  {
   "cell_type": "code",
   "execution_count": null,
   "id": "91a199a5",
   "metadata": {},
   "outputs": [],
   "source": [
    "for i in range(1, 6):\n",
    "    tr = pd.read_csv(\"data/popularity_good_big\"+str(i)+\"/popularity_good_for_bp_ur_fold_\"+str(i)+\"_train.csv\")\n",
    "    te = pd.read_csv(\"data/popularity_good_big\"+str(i)+\"/popularity_good_for_bp_ur_fold_\"+str(i)+\"_test.csv\")\n",
    "    np.savetxt(\"data/popularity_good_big\"+str(i)+\"/popularity_good_for_bp_ur_fold_\"+str(i)+\"_train.tsv\", tr,delimiter='\\t',fmt='%i')\n",
    "    np.savetxt(\"data/popularity_good_big\"+str(i)+\"/popularity_good_for_bp_ur_fold_\"+str(i)+\"_test.tsv\", te,delimiter='\\t',fmt='%i')\n",
    "    "
   ]
  },
  {
   "cell_type": "markdown",
   "id": "f8a97d36",
   "metadata": {},
   "source": [
    "Experiment."
   ]
  },
  {
   "cell_type": "code",
   "execution_count": null,
   "id": "5b8b5ccb",
   "metadata": {},
   "outputs": [],
   "source": [
    "# possible values for the hyperparameters\n",
    "mlp_values = ['(64,32)', '(64,64)']\n",
    "batch_size_values = [256, 512]"
   ]
  },
  {
   "cell_type": "code",
   "execution_count": null,
   "id": "4ad7c2e1",
   "metadata": {},
   "outputs": [],
   "source": [
    "for i in range(1, 6):\n",
    "    print('Start for ', i, '!!!!!!!!!!!!!!!!!!!!!!!!!!!!!!!!!!!!!!!!!!!!!!!!!!!!!!!!!!!!!!!!!!!!!')\n",
    "    with open('config_files/popularity_good_big'+str(i)+'.yml', 'r') as f: # open the relevant yaml file\n",
    "        base_config = yaml.safe_load(f)\n",
    "    \n",
    "    for mlp in mlp_values:\n",
    "        for batch_size in batch_size_values:\n",
    "            print(\"We re doing the following: \", mlp, batch_size)\n",
    "            # Make a copy of the base configuration\n",
    "            config = copy.deepcopy(base_config)\n",
    "            # Update the configuration with the current hyperparameters\n",
    "            config['experiment']['models']['DMF']['user_mlp'] = mlp\n",
    "            config['experiment']['models']['DMF']['item_mlp'] = mlp\n",
    "            config['experiment']['models']['DMF']['batch_size'] = batch_size\n",
    "\n",
    "            # Write the configuration to a temporary file\n",
    "            with open('config_files/temp_config.yml', 'w') as f:\n",
    "                yaml.dump(config, f)\n",
    "\n",
    "            # Run the experiment with the current configuration\n",
    "            run_experiment('config_files/temp_config.yml')\n",
    "            \n",
    "            \n",
    "            # Remove the temp file\n",
    "            os.remove('config_files/temp_config.yml')    "
   ]
  }
 ],
 "metadata": {
  "kernelspec": {
   "display_name": "Python 3 (ipykernel)",
   "language": "python",
   "name": "python3"
  },
  "language_info": {
   "codemirror_mode": {
    "name": "ipython",
    "version": 3
   },
   "file_extension": ".py",
   "mimetype": "text/x-python",
   "name": "python",
   "nbconvert_exporter": "python",
   "pygments_lexer": "ipython3",
   "version": "3.8.19"
  },
  "vscode": {
   "interpreter": {
    "hash": "889773d0e3910a3da9ca5cf13d401ea1cecb570772d2ad0802f95e8942400dfb"
   }
  },
  "widgets": {
   "application/vnd.jupyter.widget-state+json": {
    "state": {},
    "version_major": 2,
    "version_minor": 0
   }
  }
 },
 "nbformat": 4,
 "nbformat_minor": 5
}

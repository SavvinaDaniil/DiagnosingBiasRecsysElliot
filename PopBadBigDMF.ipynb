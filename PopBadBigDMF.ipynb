{
 "cells": [
  {
   "cell_type": "code",
   "execution_count": 5,
   "id": "c0a83484-80a5-4772-9df2-52a45c40d8df",
   "metadata": {
    "scrolled": true
   },
   "outputs": [],
   "source": [
    "from elliot.run import run_experiment\n",
    "from data_generation import generate_data\n",
    "import zipfile\n",
    "import io\n",
    "import requests\n",
    "import os\n",
    "import pandas as pd\n",
    "import numpy as np\n",
    "import yaml\n",
    "import copy"
   ]
  },
  {
   "cell_type": "markdown",
   "id": "ca12f851",
   "metadata": {},
   "source": [
    "### DMF experiment"
   ]
  },
  {
   "cell_type": "markdown",
   "id": "02d89573",
   "metadata": {},
   "source": [
    "Change data format."
   ]
  },
  {
   "cell_type": "code",
   "execution_count": 2,
   "id": "91a199a5",
   "metadata": {},
   "outputs": [],
   "source": [
    "for i in range(1, 6):\n",
    "    tr = pd.read_csv(\"elliot/data/popularity_bad_big\"+str(i)+\"/popularity_bad_for_bp_ur_fold_\"+str(i)+\"_train.csv\")\n",
    "    te = pd.read_csv(\"elliot/data/popularity_bad_big\"+str(i)+\"/popularity_bad_for_bp_ur_fold_\"+str(i)+\"_test.csv\")\n",
    "    np.savetxt(\"elliot/data/popularity_bad_big\"+str(i)+\"/popularity_bad_for_bp_ur_fold_\"+str(i)+\"_train.tsv\", tr,delimiter='\\t',fmt='%i')\n",
    "    np.savetxt(\"elliot/data/popularity_bad_big\"+str(i)+\"/popularity_bad_for_bp_ur_fold_\"+str(i)+\"_test.tsv\", te,delimiter='\\t',fmt='%i')\n",
    "    "
   ]
  },
  {
   "cell_type": "markdown",
   "id": "f8a97d36",
   "metadata": {},
   "source": [
    "Experiment."
   ]
  },
  {
   "cell_type": "code",
   "execution_count": 6,
   "id": "5b8b5ccb",
   "metadata": {},
   "outputs": [],
   "source": [
    "# possible values for the hyperparameters\n",
    "mlp_values = ['(64,32)', '(64,64)']\n",
    "batch_size_values = [256, 512]"
   ]
  },
  {
   "cell_type": "code",
   "execution_count": null,
   "id": "4ad7c2e1",
   "metadata": {},
   "outputs": [
    {
     "name": "stdout",
     "output_type": "stream",
     "text": [
      "Start for  5 !!!!!!!!!!!!!!!!!!!!!!!!!!!!!!!!!!!!!!!!!!!!!!!!!!!!!!!!!!!!!!!!!!!!!\n",
      "We re doing the following:  (64,32) 256\n",
      "2024-04-16 16:27:38.862758: I Start experiment\n",
      "2024-04-16 16:27:38.912608: I /export/scratch2/home/savvina/new_environment/Elliot/elliot/data/popularity_bad_big5/popularity_bad_for_bp_ur_fold_5_train.tsv - Loaded\n",
      "2024-04-16 16:27:38.925991: I Test Fold 0\n",
      "2024-04-16 16:27:44.550139: I Statistics\tUsers:\t6358\tItems:\t6921\tTransactions:\t85135\tSparsity:\t0.998065277120447\n",
      "2024-04-16 16:27:47.488886: I Training begun for DMF\\n\n",
      "2024-04-16 16:27:47.507092: I Hyperparameters:\n",
      "2024-04-16 16:27:47.509991: I batch_size set to 256\n",
      "2024-04-16 16:27:47.513912: I epochs set to 10\n",
      "2024-04-16 16:27:47.515567: I item_mlp set to (64,32)\n",
      "2024-04-16 16:27:47.517943: I lr set to 0.0001\n",
      "2024-04-16 16:27:47.519582: I meta set to namespace(save_recs=True)\n",
      "2024-04-16 16:27:47.521306: I n_fold set to 1\n",
      "2024-04-16 16:27:47.522985: I reg set to 0.001\n",
      "2024-04-16 16:27:47.524626: I similarity set to cosine\n",
      "2024-04-16 16:27:47.526352: I user_mlp set to (64,32)\n",
      "2024-04-16 16:27:47.527989: I Exploration: Test Fold exploration number 1\n",
      "2024-04-16 16:27:47.529658: I Exploration: Train-Validation Fold exploration number 1\n",
      "2024-04-16 16:36:26.719784: I \n",
      "2024-04-16 16:36:26.846096: I Test Evaluation results\n",
      "2024-04-16 16:36:26.854583: I Cut-off: 10\n",
      "2024-04-16 16:36:26.862916: I Eval Time: 0.052465200424194336\n",
      "2024-04-16 16:36:26.864424: I Results\n",
      "2024-04-16 16:36:26.865446: I nDCG\t0.00116\n",
      "2024-04-16 16:44:59.331877: I \n",
      "2024-04-16 16:44:59.473884: I Test Evaluation results\n",
      "2024-04-16 16:44:59.487789: I Cut-off: 10\n",
      "2024-04-16 16:44:59.489138: I Eval Time: 0.039488792419433594\n",
      "2024-04-16 16:44:59.490187: I Results\n",
      "2024-04-16 16:44:59.499293: I nDCG\t0.00326\n"
     ]
    }
   ],
   "source": [
    "for i in range(1, 6):\n",
    "    print('Start for ', i, '!!!!!!!!!!!!!!!!!!!!!!!!!!!!!!!!!!!!!!!!!!!!!!!!!!!!!!!!!!!!!!!!!!!!!')\n",
    "    with open('elliot/config_files/popularity_bad_big'+str(i)+'.yml', 'r') as f: # open the relevant yaml file\n",
    "        base_config = yaml.safe_load(f)\n",
    "    \n",
    "    for mlp in mlp_values:\n",
    "        for batch_size in batch_size_values:\n",
    "            print(\"We re doing the following: \", mlp, batch_size)\n",
    "            # Make a copy of the base configuration\n",
    "            config = copy.deepcopy(base_config)\n",
    "            # Update the configuration with the current hyperparameters\n",
    "            config['experiment']['models']['DMF']['user_mlp'] = mlp\n",
    "            config['experiment']['models']['DMF']['item_mlp'] = mlp\n",
    "            config['experiment']['models']['DMF']['batch_size'] = batch_size\n",
    "\n",
    "            # Write the configuration to a temporary file\n",
    "            with open('elliot/config_files/temp_config.yml', 'w') as f:\n",
    "                yaml.dump(config, f)\n",
    "\n",
    "            # Run the experiment with the current configuration\n",
    "            run_experiment('elliot/config_files/temp_config.yml')\n",
    "            \n",
    "            \n",
    "            # Remove the temp file\n",
    "            os.remove('elliot/config_files/temp_config.yml')    "
   ]
  },
  {
   "cell_type": "markdown",
   "id": "413065c4",
   "metadata": {},
   "source": [
    "TO do next:\n",
    "\n",
    "Extract the best iteration from the resulting file so you read the appropriate file."
   ]
  }
 ],
 "metadata": {
  "kernelspec": {
   "display_name": "Python 3 (ipykernel)",
   "language": "python",
   "name": "python3"
  },
  "language_info": {
   "codemirror_mode": {
    "name": "ipython",
    "version": 3
   },
   "file_extension": ".py",
   "mimetype": "text/x-python",
   "name": "python",
   "nbconvert_exporter": "python",
   "pygments_lexer": "ipython3",
   "version": "3.8.18"
  },
  "vscode": {
   "interpreter": {
    "hash": "889773d0e3910a3da9ca5cf13d401ea1cecb570772d2ad0802f95e8942400dfb"
   }
  }
 },
 "nbformat": 4,
 "nbformat_minor": 5
}

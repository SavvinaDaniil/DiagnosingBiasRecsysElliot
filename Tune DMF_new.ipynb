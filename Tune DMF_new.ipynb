{
 "cells": [
  {
   "cell_type": "code",
   "execution_count": 1,
   "id": "7c6983f5-c678-498b-868a-b77997c04e4d",
   "metadata": {},
   "outputs": [
    {
     "name": "stdout",
     "output_type": "stream",
     "text": [
      "\n",
      "__/\\\\\\\\\\\\\\\\\\\\\\\\\\\\\\___/\\\\\\\\\\\\______/\\\\\\\\\\\\_________________________________________        \n",
      " _\\/\\\\\\///////////___\\////\\\\\\_____\\////\\\\\\_________________________________________       \n",
      "  _\\/\\\\\\_________________\\/\\\\\\________\\/\\\\\\______/\\\\\\_____________________/\\\\\\______      \n",
      "   _\\/\\\\\\\\\\\\\\\\\\\\\\_________\\/\\\\\\________\\/\\\\\\_____\\///_______/\\\\\\\\\\______/\\\\\\\\\\\\\\\\\\\\\\_     \n",
      "    _\\/\\\\\\///////__________\\/\\\\\\________\\/\\\\\\______/\\\\\\____/\\\\\\///\\\\\\___\\////\\\\\\////__    \n",
      "     _\\/\\\\\\_________________\\/\\\\\\________\\/\\\\\\_____\\/\\\\\\___/\\\\\\__\\//\\\\\\_____\\/\\\\\\______   \n",
      "      _\\/\\\\\\_________________\\/\\\\\\________\\/\\\\\\_____\\/\\\\\\__\\//\\\\\\__/\\\\\\______\\/\\\\\\_/\\\\__  \n",
      "       _\\/\\\\\\\\\\\\\\\\\\\\\\\\\\\\\\___/\\\\\\\\\\\\\\\\\\___/\\\\\\\\\\\\\\\\\\__\\/\\\\\\___\\///\\\\\\\\\\/_______\\//\\\\\\\\\\___ \n",
      "        _\\///////////////___\\/////////___\\/////////___\\///______\\/////__________\\/////____\n",
      "Version Number: 0.3.1\n"
     ]
    }
   ],
   "source": [
    "from elliot.run import run_experiment\n",
    "from lib.data_generation import generate_data\n",
    "import zipfile\n",
    "import io\n",
    "import requests\n",
    "import os\n",
    "import pandas as pd\n",
    "import numpy as np\n",
    "import yaml\n",
    "import copy\n",
    "from lenskit import crossfold as xf"
   ]
  },
  {
   "cell_type": "markdown",
   "id": "4e38a62d-453f-4161-83a2-54b3da0064c4",
   "metadata": {},
   "source": [
    "# Tune!"
   ]
  },
  {
   "cell_type": "code",
   "execution_count": 2,
   "id": "e22722a3-8565-4512-980b-342c12862f62",
   "metadata": {},
   "outputs": [],
   "source": [
    "# possible values for the hyperparameters\n",
    "mlp_values = ['(64,32)'\n",
    "              , '(64,64)'\n",
    "             ]"
   ]
  },
  {
   "cell_type": "code",
   "execution_count": null,
   "id": "d237cf5e-7f98-4337-bca2-68bc96826923",
   "metadata": {
    "scrolled": true
   },
   "outputs": [
    {
     "name": "stdout",
     "output_type": "stream",
     "text": [
      "We re doing the following:  (64,32)\n",
      "2024-07-30 14:35:17.479314: I Start experiment\n",
      "2024-07-30 14:35:17.488912: I There will be the splitting\n",
      "Folds option value is missing. It has been set to 12024-07-30 14:35:17.571514: I /export/scratch2/home/savvina/new_environment/Elliot/data/fairbook/fairbook_events.tsv - Loaded\n",
      "\n",
      "\n",
      "Realized a Train/Test splitting strategy\n",
      "\n",
      "2024-07-30 14:35:23.520922: I Test Fold 0\n",
      "2024-07-30 14:35:33.252251: I Statistics\tUsers:\t6358\tItems:\t6920\tTransactions:\t68401\tSparsity:\t0.9984453385384942\n"
     ]
    },
    {
     "name": "stderr",
     "output_type": "stream",
     "text": [
      "2024-07-30 14:35:38.336272: W tensorflow/stream_executor/platform/default/dso_loader.cc:59] Could not load dynamic library 'libcudart.so.10.1'; dlerror: libcudart.so.10.1: cannot open shared object file: No such file or directory\n",
      "2024-07-30 14:35:38.336324: I tensorflow/stream_executor/cuda/cudart_stub.cc:29] Ignore above cudart dlerror if you do not have a GPU set up on your machine.\n"
     ]
    },
    {
     "name": "stdout",
     "output_type": "stream",
     "text": [
      "2024-07-30 14:35:40.231574: I Tuning begun for DMF\\n\n",
      "2024-07-30 14:35:40.231276: I Loading parameters\n",
      "2024-07-30 14:35:40.235212: I Parameter lr set to 0.0001\n",
      "2024-07-30 14:35:40.237405: I Hyperparameter tuning exploration:\n",
      "2024-07-30 14:35:40.238662: I Parameter user_mlp set to [64, 32]\n",
      "2024-07-30 14:35:40.239713: I Parameter item_mlp set to [64, 32]\n",
      "2024-07-30 14:35:40.240582: I lr set to 0.0001\n",
      "2024-07-30 14:35:40.240804: I Parameter neg_ratio set to 5\n",
      "2024-07-30 14:35:40.241636: I Exploration: Hyperparameter exploration number 1\n",
      "2024-07-30 14:35:40.241819: I Parameter reg set to 0.001\n",
      "2024-07-30 14:35:40.242969: I Exploration: Test Fold exploration number 1\n",
      "2024-07-30 14:35:40.243258: I Parameter similarity set to cosine\n",
      "2024-07-30 14:35:40.248474: I Exploration: Train-Validation Fold exploration number 1\n"
     ]
    },
    {
     "name": "stderr",
     "output_type": "stream",
     "text": [
      "2024-07-30 14:35:40.285720: W tensorflow/stream_executor/platform/default/dso_loader.cc:59] Could not load dynamic library 'libcuda.so.1'; dlerror: libcuda.so.1: cannot open shared object file: No such file or directory\n",
      "2024-07-30 14:35:40.285811: W tensorflow/stream_executor/cuda/cuda_driver.cc:312] failed call to cuInit: UNKNOWN ERROR (303)\n",
      "2024-07-30 14:35:40.285872: I tensorflow/stream_executor/cuda/cuda_diagnostics.cc:156] kernel driver does not appear to be running on this host (alice.ia.cwi.nl): /proc/driver/nvidia/version does not exist\n",
      "2024-07-30 14:35:40.286282: I tensorflow/core/platform/cpu_feature_guard.cc:142] This TensorFlow binary is optimized with oneAPI Deep Neural Network Library (oneDNN)to use the following CPU instructions in performance-critical operations:  AVX2 FMA\n",
      "To enable them in other operations, rebuild TensorFlow with the appropriate compiler flags.\n",
      "2024-07-30 14:35:40.312451: I tensorflow/core/platform/profile_utils/cpu_utils.cc:104] CPU Frequency: 1996165000 Hz\n",
      "2024-07-30 14:35:40.344149: I tensorflow/compiler/xla/service/service.cc:168] XLA service 0x745c7a0 initialized for platform Host (this does not guarantee that XLA will be used). Devices:\n",
      "2024-07-30 14:35:40.344220: I tensorflow/compiler/xla/service/service.cc:176]   StreamExecutor device (0): Host, Default Version\n",
      "401it [00:27, 14.46it/s, loss=0.51450]                                                                                                                                                                      \n",
      "2024-07-30 14:36:11.245719: W tensorflow/core/framework/cpu_allocator_impl.cc:81] Allocation of 180213186560 exceeds 10% of free system memory.\n",
      "2024-07-30 14:36:11.245849: W tensorflow/core/framework/cpu_allocator_impl.cc:81] Allocation of 196142694400 exceeds 10% of free system memory.\n",
      "2024-07-30 14:38:07.333682: W tensorflow/core/framework/cpu_allocator_impl.cc:81] Allocation of 180213186560 exceeds 10% of free system memory.\n",
      "2024-07-30 14:38:07.333759: W tensorflow/core/framework/cpu_allocator_impl.cc:81] Allocation of 196142694400 exceeds 10% of free system memory.\n",
      "2024-07-30 14:40:02.171278: W tensorflow/core/framework/cpu_allocator_impl.cc:81] Allocation of 180213186560 exceeds 10% of free system memory.\n"
     ]
    },
    {
     "name": "stdout",
     "output_type": "stream",
     "text": [
      "2024-07-30 14:48:19.682212: I \n",
      "2024-07-30 14:48:19.681746: I Epoch 1/25 loss 206.31505\n",
      "2024-07-30 14:48:19.689460: I Test Evaluation results\n",
      "2024-07-30 14:48:19.691084: I Writing recommendations at: /export/scratch2/home/savvina/new_environment/Elliot/results/fairbook/recs\n",
      "2024-07-30 14:48:19.694840: I Cut-off: 10\n",
      "2024-07-30 14:48:19.697649: I Eval Time: 0.21448087692260742\n",
      "2024-07-30 14:48:19.713531: I Results\n",
      "2024-07-30 14:48:19.718194: I nDCG\t0.00075\n",
      "2024-07-30 14:48:19.936812: I ******************************************\n"
     ]
    },
    {
     "name": "stderr",
     "output_type": "stream",
     "text": [
      "401it [00:26, 15.37it/s, loss=0.46237]                                                                                                                                                                      \n"
     ]
    },
    {
     "name": "stdout",
     "output_type": "stream",
     "text": [
      "2024-07-30 15:00:49.284952: I \n",
      "2024-07-30 15:00:49.284586: I Epoch 2/25 loss 46.35224\n",
      "2024-07-30 15:00:49.288087: I Test Evaluation results\n",
      "2024-07-30 15:00:49.288849: I Cut-off: 10\n",
      "2024-07-30 15:00:49.289100: I Writing recommendations at: /export/scratch2/home/savvina/new_environment/Elliot/results/fairbook/recs\n",
      "2024-07-30 15:00:49.290461: I Eval Time: 0.1916062831878662\n",
      "2024-07-30 15:00:49.292352: I Results\n",
      "2024-07-30 15:00:49.294826: I nDCG\t0.00127\n",
      "2024-07-30 15:00:49.495686: I ******************************************\n"
     ]
    },
    {
     "name": "stderr",
     "output_type": "stream",
     "text": [
      "401it [00:26, 15.31it/s, loss=0.46050]                                                                                                                                                                      \n"
     ]
    },
    {
     "name": "stdout",
     "output_type": "stream",
     "text": [
      "2024-07-30 15:13:21.991861: I \n",
      "2024-07-30 15:13:21.993764: I Test Evaluation results\n",
      "2024-07-30 15:13:21.991002: I Epoch 3/25 loss 20.51770\n",
      "2024-07-30 15:13:21.995384: I Cut-off: 10\n",
      "2024-07-30 15:13:21.994972: I Writing recommendations at: /export/scratch2/home/savvina/new_environment/Elliot/results/fairbook/recs\n",
      "2024-07-30 15:13:22.000745: I Eval Time: 0.20647692680358887\n",
      "2024-07-30 15:13:22.002892: I Results\n",
      "2024-07-30 15:13:22.003650: I nDCG\t0.00059\n"
     ]
    },
    {
     "name": "stderr",
     "output_type": "stream",
     "text": [
      "401it [00:26, 15.06it/s, loss=0.45509]                                                                                                                                                                      \n"
     ]
    },
    {
     "name": "stdout",
     "output_type": "stream",
     "text": [
      "2024-07-30 15:25:50.467062: I Epoch 4/25 loss 11.40561\n",
      "2024-07-30 15:25:50.467615: I \n",
      "2024-07-30 15:25:50.469369: I Test Evaluation results\n",
      "2024-07-30 15:25:50.470164: I Cut-off: 10\n",
      "2024-07-30 15:25:50.470878: I Eval Time: 0.21382427215576172\n",
      "2024-07-30 15:25:50.471623: I Results\n",
      "2024-07-30 15:25:50.472584: I Writing recommendations at: /export/scratch2/home/savvina/new_environment/Elliot/results/fairbook/recs\n",
      "2024-07-30 15:25:50.474892: I nDCG\t0.00079\n"
     ]
    },
    {
     "name": "stderr",
     "output_type": "stream",
     "text": [
      "401it [00:26, 14.98it/s, loss=0.45790]                                                                                                                                                                      \n"
     ]
    },
    {
     "name": "stdout",
     "output_type": "stream",
     "text": [
      "2024-07-30 15:38:25.692662: I \n",
      "2024-07-30 15:38:25.692145: I Epoch 5/25 loss 7.34469\n",
      "2024-07-30 15:38:25.700945: I Test Evaluation results\n",
      "2024-07-30 15:38:25.702744: I Cut-off: 10\n",
      "2024-07-30 15:38:25.703842: I Eval Time: 0.17830991744995117\n",
      "2024-07-30 15:38:25.705216: I Results\n",
      "2024-07-30 15:38:25.704843: I Writing recommendations at: /export/scratch2/home/savvina/new_environment/Elliot/results/fairbook/recs\n",
      "2024-07-30 15:38:25.706460: I nDCG\t0.00148\n",
      "2024-07-30 15:38:25.937186: I ******************************************\n"
     ]
    },
    {
     "name": "stderr",
     "output_type": "stream",
     "text": [
      "401it [00:26, 15.12it/s, loss=0.45739]                                                                                                                                                                      \n"
     ]
    }
   ],
   "source": [
    "with open('config_files/fairbook_tune.yml', 'r') as f: # open the relevant yaml file\n",
    "    base_config = yaml.safe_load(f)\n",
    "\n",
    "for mlp in mlp_values:\n",
    "    print(\"We re doing the following: \", mlp)\n",
    "    # Make a copy of the base configuration\n",
    "    config = copy.deepcopy(base_config)\n",
    "    # Update the configuration with the current hyperparameters\n",
    "    config['experiment']['models']['DMF']['user_mlp'] = mlp\n",
    "    config['experiment']['models']['DMF']['item_mlp'] = mlp\n",
    "\n",
    "    # Write the configuration to a temporary file\n",
    "    with open('config_files/temp_config.yml', 'w') as f:\n",
    "        yaml.dump(config, f)\n",
    "\n",
    "    # Run the experiment with the current configuration\n",
    "    run_experiment('config_files/temp_config.yml')\n",
    "    \n",
    "    \n",
    "    # Remove the temp file\n",
    "    os.remove('config_files/temp_config.yml')    "
   ]
  },
  {
   "cell_type": "markdown",
   "id": "2f970b08-2d0a-45b9-a320-5e57d8a5fc38",
   "metadata": {},
   "source": [
    "# Tune synthetic data"
   ]
  },
  {
   "cell_type": "code",
   "execution_count": 4,
   "id": "74a59238-0de7-4aca-8fbb-51229a4c1ffa",
   "metadata": {},
   "outputs": [],
   "source": [
    "data_strategies = [\n",
    "    \"uniformly_random\",\n",
    "    \"popularity_good\",\n",
    "    \"popularity_bad\",\n",
    "    \"popularity_good_for_bp_ur\",\n",
    "    \"popularity_bad_for_bp_ur\",\n",
    "]"
   ]
  },
  {
   "cell_type": "code",
   "execution_count": 5,
   "id": "7bd786b2-1263-4179-ab72-dc4338826d87",
   "metadata": {},
   "outputs": [],
   "source": [
    "for data_strategy in data_strategies:\n",
    "    csv_file = pd.read_csv(\"data/\"+data_strategy+\"/\"+data_strategy+\".csv\")\n",
    "    np.savetxt(\"data/\"+data_strategy+\"/\"+data_strategy+\".tsv\", csv_file, delimiter='\\t',fmt='%i')"
   ]
  },
  {
   "cell_type": "code",
   "execution_count": null,
   "id": "0c34401f-f66a-46e9-9388-abf10b672b1c",
   "metadata": {},
   "outputs": [
    {
     "name": "stdout",
     "output_type": "stream",
     "text": [
      "uniformly_random\n",
      "We re doing the following:  (64,32)\n",
      "2024-08-02 11:28:29.044152: I Start experiment\n",
      "2024-08-02 11:28:29.048481: I There will be the splitting\n",
      "Folds option value is missing. It has been set to 12024-08-02 11:28:29.092943: I /export/scratch2/home/savvina/new_environment/Elliot/data/uniformly_random/uniformly_random.tsv - Loaded\n",
      "\n",
      "\n",
      "Realized a Train/Test splitting strategy\n",
      "\n",
      "2024-08-02 11:28:34.012290: I Test Fold 0\n",
      "2024-08-02 11:28:42.915264: I Statistics\tUsers:\t6358\tItems:\t6920\tTransactions:\t68401\tSparsity:\t0.9984453385384942\n",
      "2024-08-02 11:28:47.369061: I Tuning begun for DMF\\n\n",
      "2024-08-02 11:28:47.395686: I Hyperparameter tuning exploration:\n",
      "2024-08-02 11:28:47.401010: I lr set to 0.1\n",
      "2024-08-02 11:28:47.402043: I Exploration: Hyperparameter exploration number 1\n",
      "2024-08-02 11:28:47.402657: I Exploration: Test Fold exploration number 1\n",
      "2024-08-02 11:28:47.403400: I Exploration: Train-Validation Fold exploration number 1\n"
     ]
    },
    {
     "name": "stderr",
     "output_type": "stream",
     "text": [
      "401it [00:24, 16.24it/s, loss=0.41829]                                                                                                                                                                      \n"
     ]
    }
   ],
   "source": [
    "for data_strategy in data_strategies:\n",
    "    print(data_strategy)\n",
    "    with open('config_files/'+data_strategy+'_tune.yml', 'r') as f: # open the relevant yaml file\n",
    "        base_config = yaml.safe_load(f)\n",
    "    for mlp in mlp_values:\n",
    "        print(\"We re doing the following: \", mlp)\n",
    "        # Make a copy of the base configuration\n",
    "        config = copy.deepcopy(base_config)\n",
    "        # Update the configuration with the current hyperparameters\n",
    "        config['experiment']['models']['DMF']['user_mlp'] = mlp\n",
    "        config['experiment']['models']['DMF']['item_mlp'] = mlp\n",
    "    \n",
    "        # Write the configuration to a temporary file\n",
    "        with open('config_files/temp_config.yml', 'w') as f:\n",
    "            yaml.dump(config, f)\n",
    "    \n",
    "        # Run the experiment with the current configuration\n",
    "        run_experiment('config_files/temp_config.yml')\n",
    "        \n",
    "        \n",
    "        # Remove the temp file\n",
    "        os.remove('config_files/temp_config.yml')    "
   ]
  }
 ],
 "metadata": {
  "kernelspec": {
   "display_name": "Python 3 (ipykernel)",
   "language": "python",
   "name": "python3"
  },
  "language_info": {
   "codemirror_mode": {
    "name": "ipython",
    "version": 3
   },
   "file_extension": ".py",
   "mimetype": "text/x-python",
   "name": "python",
   "nbconvert_exporter": "python",
   "pygments_lexer": "ipython3",
   "version": "3.8.19"
  },
  "widgets": {
   "application/vnd.jupyter.widget-state+json": {
    "state": {},
    "version_major": 2,
    "version_minor": 0
   }
  }
 },
 "nbformat": 4,
 "nbformat_minor": 5
}

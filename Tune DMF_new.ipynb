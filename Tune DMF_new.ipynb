{
 "cells": [
  {
   "cell_type": "code",
   "execution_count": 15,
   "id": "7c6983f5-c678-498b-868a-b77997c04e4d",
   "metadata": {},
   "outputs": [],
   "source": [
    "from elliot.run import run_experiment\n",
    "from scipy import io\n",
    "import os\n",
    "import pandas as pd\n",
    "import numpy as np\n",
    "import yaml\n",
    "import copy"
   ]
  },
  {
   "cell_type": "markdown",
   "id": "4e38a62d-453f-4161-83a2-54b3da0064c4",
   "metadata": {},
   "source": [
    "# Tune fairbook!"
   ]
  },
  {
   "cell_type": "code",
   "execution_count": 2,
   "id": "e22722a3-8565-4512-980b-342c12862f62",
   "metadata": {},
   "outputs": [],
   "source": [
    "# possible values for the hyperparameters\n",
    "mlp_values = ['(64,32)'\n",
    "              , '(64,64)'\n",
    "             ]"
   ]
  },
  {
   "cell_type": "code",
   "execution_count": null,
   "id": "d237cf5e-7f98-4337-bca2-68bc96826923",
   "metadata": {
    "scrolled": true
   },
   "outputs": [
    {
     "name": "stdout",
     "output_type": "stream",
     "text": [
      "We re doing the following:  (64,32)\n",
      "2024-07-30 14:35:17.479314: I Start experiment\n",
      "2024-07-30 14:35:17.488912: I There will be the splitting\n",
      "Folds option value is missing. It has been set to 12024-07-30 14:35:17.571514: I /export/scratch2/home/savvina/new_environment/Elliot/data/fairbook/fairbook_events.tsv - Loaded\n",
      "\n",
      "\n",
      "Realized a Train/Test splitting strategy\n",
      "\n",
      "2024-07-30 14:35:23.520922: I Test Fold 0\n",
      "2024-07-30 14:35:33.252251: I Statistics\tUsers:\t6358\tItems:\t6920\tTransactions:\t68401\tSparsity:\t0.9984453385384942\n"
     ]
    },
    {
     "name": "stderr",
     "output_type": "stream",
     "text": [
      "2024-07-30 14:35:38.336272: W tensorflow/stream_executor/platform/default/dso_loader.cc:59] Could not load dynamic library 'libcudart.so.10.1'; dlerror: libcudart.so.10.1: cannot open shared object file: No such file or directory\n",
      "2024-07-30 14:35:38.336324: I tensorflow/stream_executor/cuda/cudart_stub.cc:29] Ignore above cudart dlerror if you do not have a GPU set up on your machine.\n"
     ]
    },
    {
     "name": "stdout",
     "output_type": "stream",
     "text": [
      "2024-07-30 14:35:40.231574: I Tuning begun for DMF\\n\n",
      "2024-07-30 14:35:40.231276: I Loading parameters\n",
      "2024-07-30 14:35:40.235212: I Parameter lr set to 0.0001\n",
      "2024-07-30 14:35:40.237405: I Hyperparameter tuning exploration:\n",
      "2024-07-30 14:35:40.238662: I Parameter user_mlp set to [64, 32]\n",
      "2024-07-30 14:35:40.239713: I Parameter item_mlp set to [64, 32]\n",
      "2024-07-30 14:35:40.240582: I lr set to 0.0001\n",
      "2024-07-30 14:35:40.240804: I Parameter neg_ratio set to 5\n",
      "2024-07-30 14:35:40.241636: I Exploration: Hyperparameter exploration number 1\n",
      "2024-07-30 14:35:40.241819: I Parameter reg set to 0.001\n",
      "2024-07-30 14:35:40.242969: I Exploration: Test Fold exploration number 1\n",
      "2024-07-30 14:35:40.243258: I Parameter similarity set to cosine\n",
      "2024-07-30 14:35:40.248474: I Exploration: Train-Validation Fold exploration number 1\n"
     ]
    },
    {
     "name": "stderr",
     "output_type": "stream",
     "text": [
      "2024-07-30 14:35:40.285720: W tensorflow/stream_executor/platform/default/dso_loader.cc:59] Could not load dynamic library 'libcuda.so.1'; dlerror: libcuda.so.1: cannot open shared object file: No such file or directory\n",
      "2024-07-30 14:35:40.285811: W tensorflow/stream_executor/cuda/cuda_driver.cc:312] failed call to cuInit: UNKNOWN ERROR (303)\n",
      "2024-07-30 14:35:40.285872: I tensorflow/stream_executor/cuda/cuda_diagnostics.cc:156] kernel driver does not appear to be running on this host (alice.ia.cwi.nl): /proc/driver/nvidia/version does not exist\n",
      "2024-07-30 14:35:40.286282: I tensorflow/core/platform/cpu_feature_guard.cc:142] This TensorFlow binary is optimized with oneAPI Deep Neural Network Library (oneDNN)to use the following CPU instructions in performance-critical operations:  AVX2 FMA\n",
      "To enable them in other operations, rebuild TensorFlow with the appropriate compiler flags.\n",
      "2024-07-30 14:35:40.312451: I tensorflow/core/platform/profile_utils/cpu_utils.cc:104] CPU Frequency: 1996165000 Hz\n",
      "2024-07-30 14:35:40.344149: I tensorflow/compiler/xla/service/service.cc:168] XLA service 0x745c7a0 initialized for platform Host (this does not guarantee that XLA will be used). Devices:\n",
      "2024-07-30 14:35:40.344220: I tensorflow/compiler/xla/service/service.cc:176]   StreamExecutor device (0): Host, Default Version\n",
      "401it [00:27, 14.46it/s, loss=0.51450]                                                                                                                                                                      \n",
      "2024-07-30 14:36:11.245719: W tensorflow/core/framework/cpu_allocator_impl.cc:81] Allocation of 180213186560 exceeds 10% of free system memory.\n",
      "2024-07-30 14:36:11.245849: W tensorflow/core/framework/cpu_allocator_impl.cc:81] Allocation of 196142694400 exceeds 10% of free system memory.\n",
      "2024-07-30 14:38:07.333682: W tensorflow/core/framework/cpu_allocator_impl.cc:81] Allocation of 180213186560 exceeds 10% of free system memory.\n",
      "2024-07-30 14:38:07.333759: W tensorflow/core/framework/cpu_allocator_impl.cc:81] Allocation of 196142694400 exceeds 10% of free system memory.\n",
      "2024-07-30 14:40:02.171278: W tensorflow/core/framework/cpu_allocator_impl.cc:81] Allocation of 180213186560 exceeds 10% of free system memory.\n"
     ]
    },
    {
     "name": "stdout",
     "output_type": "stream",
     "text": [
      "2024-07-30 14:48:19.682212: I \n",
      "2024-07-30 14:48:19.681746: I Epoch 1/25 loss 206.31505\n",
      "2024-07-30 14:48:19.689460: I Test Evaluation results\n",
      "2024-07-30 14:48:19.691084: I Writing recommendations at: /export/scratch2/home/savvina/new_environment/Elliot/results/fairbook/recs\n",
      "2024-07-30 14:48:19.694840: I Cut-off: 10\n",
      "2024-07-30 14:48:19.697649: I Eval Time: 0.21448087692260742\n",
      "2024-07-30 14:48:19.713531: I Results\n",
      "2024-07-30 14:48:19.718194: I nDCG\t0.00075\n",
      "2024-07-30 14:48:19.936812: I ******************************************\n"
     ]
    },
    {
     "name": "stderr",
     "output_type": "stream",
     "text": [
      "401it [00:26, 15.37it/s, loss=0.46237]                                                                                                                                                                      \n"
     ]
    },
    {
     "name": "stdout",
     "output_type": "stream",
     "text": [
      "2024-07-30 15:00:49.284952: I \n",
      "2024-07-30 15:00:49.284586: I Epoch 2/25 loss 46.35224\n",
      "2024-07-30 15:00:49.288087: I Test Evaluation results\n",
      "2024-07-30 15:00:49.288849: I Cut-off: 10\n",
      "2024-07-30 15:00:49.289100: I Writing recommendations at: /export/scratch2/home/savvina/new_environment/Elliot/results/fairbook/recs\n",
      "2024-07-30 15:00:49.290461: I Eval Time: 0.1916062831878662\n",
      "2024-07-30 15:00:49.292352: I Results\n",
      "2024-07-30 15:00:49.294826: I nDCG\t0.00127\n",
      "2024-07-30 15:00:49.495686: I ******************************************\n"
     ]
    },
    {
     "name": "stderr",
     "output_type": "stream",
     "text": [
      "401it [00:26, 15.31it/s, loss=0.46050]                                                                                                                                                                      \n"
     ]
    },
    {
     "name": "stdout",
     "output_type": "stream",
     "text": [
      "2024-07-30 15:13:21.991861: I \n",
      "2024-07-30 15:13:21.993764: I Test Evaluation results\n",
      "2024-07-30 15:13:21.991002: I Epoch 3/25 loss 20.51770\n",
      "2024-07-30 15:13:21.995384: I Cut-off: 10\n",
      "2024-07-30 15:13:21.994972: I Writing recommendations at: /export/scratch2/home/savvina/new_environment/Elliot/results/fairbook/recs\n",
      "2024-07-30 15:13:22.000745: I Eval Time: 0.20647692680358887\n",
      "2024-07-30 15:13:22.002892: I Results\n",
      "2024-07-30 15:13:22.003650: I nDCG\t0.00059\n"
     ]
    },
    {
     "name": "stderr",
     "output_type": "stream",
     "text": [
      "401it [00:26, 15.06it/s, loss=0.45509]                                                                                                                                                                      \n"
     ]
    },
    {
     "name": "stdout",
     "output_type": "stream",
     "text": [
      "2024-07-30 15:25:50.467062: I Epoch 4/25 loss 11.40561\n",
      "2024-07-30 15:25:50.467615: I \n",
      "2024-07-30 15:25:50.469369: I Test Evaluation results\n",
      "2024-07-30 15:25:50.470164: I Cut-off: 10\n",
      "2024-07-30 15:25:50.470878: I Eval Time: 0.21382427215576172\n",
      "2024-07-30 15:25:50.471623: I Results\n",
      "2024-07-30 15:25:50.472584: I Writing recommendations at: /export/scratch2/home/savvina/new_environment/Elliot/results/fairbook/recs\n",
      "2024-07-30 15:25:50.474892: I nDCG\t0.00079\n"
     ]
    },
    {
     "name": "stderr",
     "output_type": "stream",
     "text": [
      "401it [00:26, 14.98it/s, loss=0.45790]                                                                                                                                                                      \n"
     ]
    },
    {
     "name": "stdout",
     "output_type": "stream",
     "text": [
      "2024-07-30 15:38:25.692662: I \n",
      "2024-07-30 15:38:25.692145: I Epoch 5/25 loss 7.34469\n",
      "2024-07-30 15:38:25.700945: I Test Evaluation results\n",
      "2024-07-30 15:38:25.702744: I Cut-off: 10\n",
      "2024-07-30 15:38:25.703842: I Eval Time: 0.17830991744995117\n",
      "2024-07-30 15:38:25.705216: I Results\n",
      "2024-07-30 15:38:25.704843: I Writing recommendations at: /export/scratch2/home/savvina/new_environment/Elliot/results/fairbook/recs\n",
      "2024-07-30 15:38:25.706460: I nDCG\t0.00148\n",
      "2024-07-30 15:38:25.937186: I ******************************************\n"
     ]
    },
    {
     "name": "stderr",
     "output_type": "stream",
     "text": [
      "401it [00:26, 15.12it/s, loss=0.45739]                                                                                                                                                                      \n"
     ]
    }
   ],
   "source": [
    "with open('config_files/fairbook_tune.yml', 'r') as f: # open the relevant yaml file\n",
    "    base_config = yaml.safe_load(f)\n",
    "\n",
    "for mlp in mlp_values:\n",
    "    print(\"We re doing the following: \", mlp)\n",
    "    # Make a copy of the base configuration\n",
    "    config = copy.deepcopy(base_config)\n",
    "    # Update the configuration with the current hyperparameters\n",
    "    config['experiment']['models']['DMF']['user_mlp'] = mlp\n",
    "    config['experiment']['models']['DMF']['item_mlp'] = mlp\n",
    "\n",
    "    # Write the configuration to a temporary file\n",
    "    with open('config_files/temp_config.yml', 'w') as f:\n",
    "        yaml.dump(config, f)\n",
    "\n",
    "    # Run the experiment with the current configuration\n",
    "    run_experiment('config_files/temp_config.yml')\n",
    "    \n",
    "    \n",
    "    # Remove the temp file\n",
    "    os.remove('config_files/temp_config.yml')    "
   ]
  },
  {
   "cell_type": "markdown",
   "id": "2f970b08-2d0a-45b9-a320-5e57d8a5fc38",
   "metadata": {},
   "source": [
    "# Tune synthetic data"
   ]
  },
  {
   "cell_type": "code",
   "execution_count": 4,
   "id": "74a59238-0de7-4aca-8fbb-51229a4c1ffa",
   "metadata": {},
   "outputs": [],
   "source": [
    "data_strategies = [\n",
    "    \"uniformly_random\",\n",
    "    \"popularity_good\",\n",
    "    \"popularity_bad\",\n",
    "    \"popularity_good_for_bp_ur\",\n",
    "    \"popularity_bad_for_bp_ur\",\n",
    "]"
   ]
  },
  {
   "cell_type": "code",
   "execution_count": 5,
   "id": "7bd786b2-1263-4179-ab72-dc4338826d87",
   "metadata": {},
   "outputs": [],
   "source": [
    "for data_strategy in data_strategies:\n",
    "    csv_file = pd.read_csv(\"data/\"+data_strategy+\"/\"+data_strategy+\".csv\")\n",
    "    np.savetxt(\"data/\"+data_strategy+\"/\"+data_strategy+\".tsv\", csv_file, delimiter='\\t',fmt='%i')"
   ]
  },
  {
   "cell_type": "code",
   "execution_count": null,
   "id": "0c34401f-f66a-46e9-9388-abf10b672b1c",
   "metadata": {
    "scrolled": true
   },
   "outputs": [
    {
     "name": "stdout",
     "output_type": "stream",
     "text": [
      "uniformly_random\n",
      "We re doing the following:  (64,32)\n",
      "2024-08-02 11:28:29.044152: I Start experiment\n",
      "2024-08-02 11:28:29.048481: I There will be the splitting\n",
      "Folds option value is missing. It has been set to 12024-08-02 11:28:29.092943: I /export/scratch2/home/savvina/new_environment/Elliot/data/uniformly_random/uniformly_random.tsv - Loaded\n",
      "\n",
      "\n",
      "Realized a Train/Test splitting strategy\n",
      "\n",
      "2024-08-02 11:28:34.012290: I Test Fold 0\n",
      "2024-08-02 11:28:42.915264: I Statistics\tUsers:\t6358\tItems:\t6920\tTransactions:\t68401\tSparsity:\t0.9984453385384942\n",
      "2024-08-02 11:28:47.369061: I Tuning begun for DMF\\n\n",
      "2024-08-02 11:28:47.395686: I Hyperparameter tuning exploration:\n",
      "2024-08-02 11:28:47.401010: I lr set to 0.1\n",
      "2024-08-02 11:28:47.402043: I Exploration: Hyperparameter exploration number 1\n",
      "2024-08-02 11:28:47.402657: I Exploration: Test Fold exploration number 1\n",
      "2024-08-02 11:28:47.403400: I Exploration: Train-Validation Fold exploration number 1\n"
     ]
    },
    {
     "name": "stderr",
     "output_type": "stream",
     "text": [
      "401it [00:24, 16.24it/s, loss=0.41829]                                                                                                                                                                      \n"
     ]
    },
    {
     "name": "stdout",
     "output_type": "stream",
     "text": [
      "2024-08-02 11:40:34.176765: I \n",
      "2024-08-02 11:40:34.186645: I Test Evaluation results\n",
      "2024-08-02 11:40:34.194658: I Cut-off: 10\n",
      "2024-08-02 11:40:34.203040: I Eval Time: 0.20078134536743164\n",
      "2024-08-02 11:40:34.210454: I Results\n",
      "2024-08-02 11:40:34.213959: I nDCG\t0.0011\n"
     ]
    },
    {
     "name": "stderr",
     "output_type": "stream",
     "text": [
      "401it [00:25, 15.92it/s, loss=0.33642]                                                                                                                                                                      \n"
     ]
    }
   ],
   "source": [
    "for data_strategy in data_strategies:\n",
    "    print(data_strategy)\n",
    "    with open('config_files/'+data_strategy+'_tune.yml', 'r') as f: # open the relevant yaml file\n",
    "        base_config = yaml.safe_load(f)\n",
    "    for mlp in mlp_values:\n",
    "        print(\"We re doing the following: \", mlp)\n",
    "        # Make a copy of the base configuration\n",
    "        config = copy.deepcopy(base_config)\n",
    "        # Update the configuration with the current hyperparameters\n",
    "        config['experiment']['models']['DMF']['user_mlp'] = mlp\n",
    "        config['experiment']['models']['DMF']['item_mlp'] = mlp\n",
    "    \n",
    "        # Write the configuration to a temporary file\n",
    "        with open('config_files/temp_config.yml', 'w') as f:\n",
    "            yaml.dump(config, f)\n",
    "    \n",
    "        # Run the experiment with the current configuration\n",
    "        run_experiment('config_files/temp_config.yml')\n",
    "        \n",
    "        \n",
    "        # Remove the temp file\n",
    "        os.remove('config_files/temp_config.yml')    "
   ]
  },
  {
   "cell_type": "markdown",
   "id": "3a58bfa5-d4b0-47b7-9b42-02b25fd2736a",
   "metadata": {},
   "source": [
    "# Tune ml1m!"
   ]
  },
  {
   "cell_type": "code",
   "execution_count": 11,
   "id": "ed632f29-3a4a-46de-9600-e022eff52e3e",
   "metadata": {},
   "outputs": [],
   "source": [
    "ratings = pd.read_csv(\n",
    "    'data/movielens_1m/ml1m_events.dat', header=None, sep=\"::\", engine=\"python\"\n",
    ").drop(3, axis=1)\n",
    "ratings.columns = [\"user\", \"item\", \"rating\"]\n",
    "np.savetxt(\"data/movielens_1m/ml1m.tsv\", ratings, delimiter='\\t',fmt='%i')"
   ]
  },
  {
   "cell_type": "code",
   "execution_count": null,
   "id": "f882f4f0-7558-463b-bc1c-3a93724a35ed",
   "metadata": {
    "scrolled": true
   },
   "outputs": [
    {
     "name": "stdout",
     "output_type": "stream",
     "text": [
      "We re doing the following:  (64,32)\n",
      "2024-08-27 16:53:24.837667: I Start experiment\n",
      "2024-08-27 16:53:24.841444: I There will be the splitting\n",
      "2024-08-27 16:53:25.236530: I /export/scratch2/home/savvina/new_environment/Elliot/data/movielens_1m/ml1m.tsv - Loaded\n",
      "Folds option value is missing. It has been set to 1\n",
      "\n",
      "Realized a Train/Test splitting strategy\n",
      "\n",
      "2024-08-27 16:53:42.333822: I Test Fold 0\n",
      "2024-08-27 16:53:56.399746: I Statistics\tUsers:\t6040\tItems:\t3675\tTransactions:\t797758\tSparsity:\t0.96406009821147\n",
      "2024-08-27 16:54:00.620998: I Tuning begun for DMF\\n\n",
      "2024-08-27 16:54:00.638469: I Hyperparameter tuning exploration:\n",
      "2024-08-27 16:54:00.681290: I lr set to 0.01\n",
      "2024-08-27 16:54:00.696528: I Exploration: Hyperparameter exploration number 1\n",
      "2024-08-27 16:54:00.700055: I Exploration: Test Fold exploration number 1\n",
      "2024-08-27 16:54:00.701903: I Exploration: Train-Validation Fold exploration number 1\n"
     ]
    },
    {
     "name": "stderr",
     "output_type": "stream",
     "text": [
      "4675it [03:13, 24.17it/s, loss=0.41039]                                                                                                                                                                     \n"
     ]
    },
    {
     "name": "stdout",
     "output_type": "stream",
     "text": [
      "2024-08-27 17:00:29.005218: I \n"
     ]
    },
    {
     "name": "stderr",
     "output_type": "stream",
     "text": [
      "  0%|                                                                                                                                                                              | 0/4674 [00:00<?, ?it/s]"
     ]
    },
    {
     "name": "stdout",
     "output_type": "stream",
     "text": [
      "2024-08-27 17:00:29.127422: I Test Evaluation results\n",
      "2024-08-27 17:00:29.139006: I Cut-off: 10\n",
      "2024-08-27 17:00:29.150601: I Eval Time: 0.21600651741027832\n",
      "2024-08-27 17:00:29.154398: I Results\n",
      "2024-08-27 17:00:29.155564: I nDCG\t0.00292\n"
     ]
    },
    {
     "name": "stderr",
     "output_type": "stream",
     "text": [
      "4675it [03:11, 24.38it/s, loss=0.40667]                                                                                                                                                                     \n"
     ]
    },
    {
     "name": "stdout",
     "output_type": "stream",
     "text": [
      "2024-08-27 17:06:55.376592: I \n",
      "2024-08-27 17:06:55.499224: I Test Evaluation results\n"
     ]
    },
    {
     "name": "stderr",
     "output_type": "stream",
     "text": [
      "  0%|                                                                                                                                                                              | 0/4674 [00:00<?, ?it/s]"
     ]
    },
    {
     "name": "stdout",
     "output_type": "stream",
     "text": [
      "2024-08-27 17:06:55.511233: I Cut-off: 10\n",
      "2024-08-27 17:06:55.526844: I Eval Time: 0.13931488990783691\n",
      "2024-08-27 17:06:55.528850: I Results\n",
      "2024-08-27 17:06:55.530168: I nDCG\t0.00968\n"
     ]
    },
    {
     "name": "stderr",
     "output_type": "stream",
     "text": [
      "4675it [03:11, 24.37it/s, loss=0.40507]                                                                                                                                                                     \n"
     ]
    },
    {
     "name": "stdout",
     "output_type": "stream",
     "text": [
      "2024-08-27 17:13:21.552847: I \n"
     ]
    },
    {
     "name": "stderr",
     "output_type": "stream",
     "text": [
      "  0%|                                                                                                                                                                              | 0/4674 [00:00<?, ?it/s]"
     ]
    },
    {
     "name": "stdout",
     "output_type": "stream",
     "text": [
      "2024-08-27 17:13:21.677421: I Test Evaluation results\n",
      "2024-08-27 17:13:21.684313: I Cut-off: 10\n",
      "2024-08-27 17:13:21.705146: I Eval Time: 0.13624191284179688\n",
      "2024-08-27 17:13:21.707137: I Results\n",
      "2024-08-27 17:13:21.708315: I nDCG\t0.00511\n"
     ]
    },
    {
     "name": "stderr",
     "output_type": "stream",
     "text": [
      "4675it [03:11, 24.38it/s, loss=0.40483]                                                                                                                                                                     \n"
     ]
    },
    {
     "name": "stdout",
     "output_type": "stream",
     "text": [
      "2024-08-27 17:19:45.485684: I \n"
     ]
    },
    {
     "name": "stderr",
     "output_type": "stream",
     "text": [
      "  0%|                                                                                                                                                                              | 0/4674 [00:00<?, ?it/s]"
     ]
    },
    {
     "name": "stdout",
     "output_type": "stream",
     "text": [
      "2024-08-27 17:19:45.610872: I Test Evaluation results\n",
      "2024-08-27 17:19:45.617344: I Cut-off: 10\n",
      "2024-08-27 17:19:45.638980: I Eval Time: 0.1372387409210205\n",
      "2024-08-27 17:19:45.640615: I Results\n",
      "2024-08-27 17:19:45.641934: I nDCG\t0.00434\n"
     ]
    },
    {
     "name": "stderr",
     "output_type": "stream",
     "text": [
      "4675it [03:10, 24.48it/s, loss=0.40464]                                                                                                                                                                     \n"
     ]
    },
    {
     "name": "stdout",
     "output_type": "stream",
     "text": [
      "2024-08-27 17:26:07.860141: I \n"
     ]
    },
    {
     "name": "stderr",
     "output_type": "stream",
     "text": [
      "  0%|                                                                                                                                                                              | 0/4674 [00:00<?, ?it/s]"
     ]
    },
    {
     "name": "stdout",
     "output_type": "stream",
     "text": [
      "2024-08-27 17:26:07.983958: I Test Evaluation results\n",
      "2024-08-27 17:26:07.990525: I Cut-off: 10\n",
      "2024-08-27 17:26:08.011303: I Eval Time: 0.13855910301208496\n",
      "2024-08-27 17:26:08.012993: I Results\n",
      "2024-08-27 17:26:08.014032: I nDCG\t0.00621\n"
     ]
    },
    {
     "name": "stderr",
     "output_type": "stream",
     "text": [
      "4675it [03:11, 24.43it/s, loss=0.40491]                                                                                                                                                                     \n"
     ]
    },
    {
     "name": "stdout",
     "output_type": "stream",
     "text": [
      "2024-08-27 17:32:30.805147: I \n"
     ]
    },
    {
     "name": "stderr",
     "output_type": "stream",
     "text": [
      "  0%|                                                                                                                                                                              | 0/4674 [00:00<?, ?it/s]"
     ]
    },
    {
     "name": "stdout",
     "output_type": "stream",
     "text": [
      "2024-08-27 17:32:30.935488: I Test Evaluation results\n",
      "2024-08-27 17:32:30.951870: I Cut-off: 10\n",
      "2024-08-27 17:32:30.955692: I Eval Time: 0.13677191734313965\n",
      "2024-08-27 17:32:30.958149: I Results\n",
      "2024-08-27 17:32:30.959095: I nDCG\t0.00493\n"
     ]
    },
    {
     "name": "stderr",
     "output_type": "stream",
     "text": [
      "4675it [03:07, 24.95it/s, loss=0.40439]                                                                                                                                                                     \n"
     ]
    },
    {
     "name": "stdout",
     "output_type": "stream",
     "text": [
      "2024-08-27 17:38:45.736945: I \n"
     ]
    },
    {
     "name": "stderr",
     "output_type": "stream",
     "text": [
      "  0%|                                                                                                                                                                              | 0/4674 [00:00<?, ?it/s]"
     ]
    },
    {
     "name": "stdout",
     "output_type": "stream",
     "text": [
      "2024-08-27 17:38:45.864310: I Test Evaluation results\n",
      "2024-08-27 17:38:45.876474: I Cut-off: 10\n",
      "2024-08-27 17:38:45.882914: I Eval Time: 0.1455214023590088\n",
      "2024-08-27 17:38:45.889914: I Results\n",
      "2024-08-27 17:38:45.896727: I nDCG\t0.00529\n"
     ]
    },
    {
     "name": "stderr",
     "output_type": "stream",
     "text": [
      "4675it [03:07, 24.93it/s, loss=0.40508]                                                                                                                                                                     \n"
     ]
    },
    {
     "name": "stdout",
     "output_type": "stream",
     "text": [
      "2024-08-27 17:45:00.958010: I \n",
      "2024-08-27 17:45:01.081128: I Test Evaluation results\n"
     ]
    },
    {
     "name": "stderr",
     "output_type": "stream",
     "text": [
      "  0%|                                                                                                                                                                              | 0/4674 [00:00<?, ?it/s]"
     ]
    },
    {
     "name": "stdout",
     "output_type": "stream",
     "text": [
      "2024-08-27 17:45:01.088360: I Cut-off: 10\n",
      "2024-08-27 17:45:01.105125: I Eval Time: 0.14168548583984375\n",
      "2024-08-27 17:45:01.110377: I Results\n",
      "2024-08-27 17:45:01.111827: I nDCG\t0.00568\n"
     ]
    },
    {
     "name": "stderr",
     "output_type": "stream",
     "text": [
      "4675it [03:05, 25.18it/s, loss=0.40438]                                                                                                                                                                     \n"
     ]
    }
   ],
   "source": [
    "with open('config_files/ml1m_tune.yml', 'r') as f: # open the relevant yaml file\n",
    "    base_config = yaml.safe_load(f)\n",
    "\n",
    "for mlp in mlp_values:\n",
    "    print(\"We re doing the following: \", mlp)\n",
    "    # Make a copy of the base configuration\n",
    "    config = copy.deepcopy(base_config)\n",
    "    # Update the configuration with the current hyperparameters\n",
    "    config['experiment']['models']['DMF']['user_mlp'] = mlp\n",
    "    config['experiment']['models']['DMF']['item_mlp'] = mlp\n",
    "\n",
    "    # Write the configuration to a temporary file\n",
    "    with open('config_files/temp_config.yml', 'w') as f:\n",
    "        yaml.dump(config, f)\n",
    "\n",
    "    # Run the experiment with the current configuration\n",
    "    run_experiment('config_files/temp_config.yml')\n",
    "    \n",
    "    \n",
    "    # Remove the temp file\n",
    "    os.remove('config_files/temp_config.yml')    "
   ]
  },
  {
   "cell_type": "markdown",
   "id": "b9dc3cc8-9979-414e-a7ae-959ce7aac0c0",
   "metadata": {},
   "source": [
    "# Tune epinion!"
   ]
  },
  {
   "cell_type": "code",
   "execution_count": 17,
   "id": "3811f6fd-138d-4906-9b5b-c8134fae73f8",
   "metadata": {},
   "outputs": [],
   "source": [
    "data = \"epinion\"\n",
    "mat = io.loadmat('data/epinion/epinion_events.mat')\n",
    "mat_df = pd.DataFrame(mat[\"rating_with_timestamp\"])\n",
    "mat_df.columns = [\"user\", \"item\", \".\", \"rating\", \"..\", \"...\"]\n",
    "ratings = mat_df[[\"user\", \"item\", \"rating\"]]\n",
    "ratings = ratings.drop_duplicates(subset=[\"user\", \"item\"], keep=\"last\").reset_index(drop=True)\n",
    "np.savetxt(\"data/epinion/epinion.tsv\", ratings, delimiter='\\t',fmt='%i')"
   ]
  },
  {
   "cell_type": "code",
   "execution_count": 19,
   "id": "60098363-7664-4334-858a-d659265ad48c",
   "metadata": {
    "scrolled": true
   },
   "outputs": [
    {
     "name": "stdout",
     "output_type": "stream",
     "text": [
      "We re doing the following:  (64,32)\n",
      "2024-08-28 15:11:12.939952: I Start experiment\n",
      "2024-08-28 15:11:12.942705: I There will be the splitting\n",
      "2024-08-28 15:11:13.297796: I /export/scratch2/home/savvina/new_environment/Elliot/data/epinion/epinion.tsv - Loaded\n",
      "Folds option value is missing. It has been set to 1\n",
      "\n",
      "Realized a Train/Test splitting strategy\n",
      "\n",
      "2024-08-28 15:12:15.611438: I Test Fold 0\n",
      "2024-08-28 15:13:06.212518: I Statistics\tUsers:\t22159\tItems:\t253994\tTransactions:\t720712\tSparsity:\t0.999871947477466\n",
      "2024-08-28 15:13:31.206240: I Tuning begun for DMF\\n\n",
      "2024-08-28 15:13:31.218328: I Hyperparameter tuning exploration:\n",
      "2024-08-28 15:13:31.229885: I lr set to 0.1\n",
      "2024-08-28 15:13:31.257006: I Exploration: Hyperparameter exploration number 1\n",
      "2024-08-28 15:13:31.281468: I Exploration: Test Fold exploration number 1\n",
      "2024-08-28 15:13:31.303418: I Exploration: Train-Validation Fold exploration number 1\n"
     ]
    },
    {
     "name": "stderr",
     "output_type": "stream",
     "text": [
      "16892it [38:51,  7.24it/s, loss=0.32102]                                                                                                                                                                    \n",
      "2024-08-28 15:54:43.253450: W tensorflow/core/framework/op_kernel.cc:1767] OP_REQUIRES failed at resource_variable_ops.cc:676 : Resource exhausted: OOM when allocating tensor with shape[256,253994,22159] and type float on /job:localhost/replica:0/task:0/device:CPU:0 by allocator cpu\n",
      "2024-08-28 15:54:43.253491: W tensorflow/core/framework/op_kernel.cc:1767] OP_REQUIRES failed at resource_variable_ops.cc:676 : Resource exhausted: OOM when allocating tensor with shape[256,253994,253994] and type float on /job:localhost/replica:0/task:0/device:CPU:0 by allocator cpu\n"
     ]
    },
    {
     "ename": "ResourceExhaustedError",
     "evalue": " OOM when allocating tensor with shape[256,253994,22159] and type float on /job:localhost/replica:0/task:0/device:CPU:0 by allocator cpu\n\t [[node embedding_115/embedding_lookup (defined at export/scratch2/home/savvina/new_environment/Elliot/src/elliot/elliot/recommender/neural/DMF/deep_matrix_factorization_model.py:128) ]]\nHint: If you want to see a list of allocated tensors when OOM happens, add report_tensor_allocations_upon_oom to RunOptions for current allocation info.\n [Op:__inference_get_recs_7349242]\n\nErrors may have originated from an input operation.\nInput Source operations connected to node embedding_115/embedding_lookup:\n embedding_115/embedding_lookup/7349171 (defined at export/scratch2/home/savvina/new_environment/conda/envs/elliot_new/lib/python3.8/contextlib.py:113)\t\n inputs_1 (defined at export/scratch2/home/savvina/new_environment/Elliot/src/elliot/elliot/recommender/neural/DMF/deep_matrix_factorization.py:111)\n\nFunction call stack:\nget_recs\n",
     "output_type": "error",
     "traceback": [
      "\u001b[0;31m---------------------------------------------------------------------------\u001b[0m",
      "\u001b[0;31mResourceExhaustedError\u001b[0m                    Traceback (most recent call last)",
      "Cell \u001b[0;32mIn[19], line 17\u001b[0m\n\u001b[1;32m     14\u001b[0m     yaml\u001b[38;5;241m.\u001b[39mdump(config, f)\n\u001b[1;32m     16\u001b[0m \u001b[38;5;66;03m# Run the experiment with the current configuration\u001b[39;00m\n\u001b[0;32m---> 17\u001b[0m \u001b[43mrun_experiment\u001b[49m\u001b[43m(\u001b[49m\u001b[38;5;124;43m'\u001b[39;49m\u001b[38;5;124;43mconfig_files/temp_config.yml\u001b[39;49m\u001b[38;5;124;43m'\u001b[39;49m\u001b[43m)\u001b[49m\n\u001b[1;32m     20\u001b[0m \u001b[38;5;66;03m# Remove the temp file\u001b[39;00m\n\u001b[1;32m     21\u001b[0m os\u001b[38;5;241m.\u001b[39mremove(\u001b[38;5;124m'\u001b[39m\u001b[38;5;124mconfig_files/temp_config.yml\u001b[39m\u001b[38;5;124m'\u001b[39m)    \n",
      "File \u001b[0;32m~/new_environment/Elliot/src/elliot/elliot/run.py:82\u001b[0m, in \u001b[0;36mrun_experiment\u001b[0;34m(config_path)\u001b[0m\n\u001b[1;32m     80\u001b[0m logger\u001b[38;5;241m.\u001b[39minfo(\u001b[38;5;124mf\u001b[39m\u001b[38;5;124m\"\u001b[39m\u001b[38;5;124mTuning begun for \u001b[39m\u001b[38;5;132;01m{\u001b[39;00mmodel_class\u001b[38;5;241m.\u001b[39m\u001b[38;5;18m__name__\u001b[39m\u001b[38;5;132;01m}\u001b[39;00m\u001b[38;5;130;01m\\\\\u001b[39;00m\u001b[38;5;124mn\u001b[39m\u001b[38;5;124m\"\u001b[39m)\n\u001b[1;32m     81\u001b[0m trials \u001b[38;5;241m=\u001b[39m Trials()\n\u001b[0;32m---> 82\u001b[0m \u001b[43mfmin\u001b[49m\u001b[43m(\u001b[49m\u001b[43mmodel_placeholder\u001b[49m\u001b[38;5;241;43m.\u001b[39;49m\u001b[43mobjective\u001b[49m\u001b[43m,\u001b[49m\n\u001b[1;32m     83\u001b[0m \u001b[43m     \u001b[49m\u001b[43mspace\u001b[49m\u001b[38;5;241;43m=\u001b[39;49m\u001b[43mmodel_base\u001b[49m\u001b[43m[\u001b[49m\u001b[38;5;241;43m1\u001b[39;49m\u001b[43m]\u001b[49m\u001b[43m,\u001b[49m\n\u001b[1;32m     84\u001b[0m \u001b[43m     \u001b[49m\u001b[43malgo\u001b[49m\u001b[38;5;241;43m=\u001b[39;49m\u001b[43mmodel_base\u001b[49m\u001b[43m[\u001b[49m\u001b[38;5;241;43m3\u001b[39;49m\u001b[43m]\u001b[49m\u001b[43m,\u001b[49m\n\u001b[1;32m     85\u001b[0m \u001b[43m     \u001b[49m\u001b[43mtrials\u001b[49m\u001b[38;5;241;43m=\u001b[39;49m\u001b[43mtrials\u001b[49m\u001b[43m,\u001b[49m\n\u001b[1;32m     86\u001b[0m \u001b[43m     \u001b[49m\u001b[43mverbose\u001b[49m\u001b[38;5;241;43m=\u001b[39;49m\u001b[38;5;28;43;01mFalse\u001b[39;49;00m\u001b[43m,\u001b[49m\n\u001b[1;32m     87\u001b[0m \u001b[43m     \u001b[49m\u001b[43mrstate\u001b[49m\u001b[38;5;241;43m=\u001b[39;49m\u001b[43m_rstate\u001b[49m\u001b[43m,\u001b[49m\n\u001b[1;32m     88\u001b[0m \u001b[43m     \u001b[49m\u001b[43mmax_evals\u001b[49m\u001b[38;5;241;43m=\u001b[39;49m\u001b[43mmodel_base\u001b[49m\u001b[43m[\u001b[49m\u001b[38;5;241;43m2\u001b[39;49m\u001b[43m]\u001b[49m\u001b[43m)\u001b[49m\n\u001b[1;32m     90\u001b[0m \u001b[38;5;66;03m# argmin relativo alla combinazione migliore di iperparametri\u001b[39;00m\n\u001b[1;32m     91\u001b[0m min_val \u001b[38;5;241m=\u001b[39m np\u001b[38;5;241m.\u001b[39margmin([i[\u001b[38;5;124m\"\u001b[39m\u001b[38;5;124mresult\u001b[39m\u001b[38;5;124m\"\u001b[39m][\u001b[38;5;124m\"\u001b[39m\u001b[38;5;124mloss\u001b[39m\u001b[38;5;124m\"\u001b[39m] \u001b[38;5;28;01mfor\u001b[39;00m i \u001b[38;5;129;01min\u001b[39;00m trials\u001b[38;5;241m.\u001b[39m_trials])\n",
      "File \u001b[0;32m~/new_environment/conda/envs/elliot_new/lib/python3.8/site-packages/hyperopt/fmin.py:507\u001b[0m, in \u001b[0;36mfmin\u001b[0;34m(fn, space, algo, max_evals, timeout, loss_threshold, trials, rstate, allow_trials_fmin, pass_expr_memo_ctrl, catch_eval_exceptions, verbose, return_argmin, points_to_evaluate, max_queue_len, show_progressbar, early_stop_fn, trials_save_file)\u001b[0m\n\u001b[1;32m    504\u001b[0m validate_loss_threshold(loss_threshold)\n\u001b[1;32m    506\u001b[0m \u001b[38;5;28;01mif\u001b[39;00m allow_trials_fmin \u001b[38;5;129;01mand\u001b[39;00m \u001b[38;5;28mhasattr\u001b[39m(trials, \u001b[38;5;124m\"\u001b[39m\u001b[38;5;124mfmin\u001b[39m\u001b[38;5;124m\"\u001b[39m):\n\u001b[0;32m--> 507\u001b[0m     \u001b[38;5;28;01mreturn\u001b[39;00m \u001b[43mtrials\u001b[49m\u001b[38;5;241;43m.\u001b[39;49m\u001b[43mfmin\u001b[49m\u001b[43m(\u001b[49m\n\u001b[1;32m    508\u001b[0m \u001b[43m        \u001b[49m\u001b[43mfn\u001b[49m\u001b[43m,\u001b[49m\n\u001b[1;32m    509\u001b[0m \u001b[43m        \u001b[49m\u001b[43mspace\u001b[49m\u001b[43m,\u001b[49m\n\u001b[1;32m    510\u001b[0m \u001b[43m        \u001b[49m\u001b[43malgo\u001b[49m\u001b[38;5;241;43m=\u001b[39;49m\u001b[43malgo\u001b[49m\u001b[43m,\u001b[49m\n\u001b[1;32m    511\u001b[0m \u001b[43m        \u001b[49m\u001b[43mmax_evals\u001b[49m\u001b[38;5;241;43m=\u001b[39;49m\u001b[43mmax_evals\u001b[49m\u001b[43m,\u001b[49m\n\u001b[1;32m    512\u001b[0m \u001b[43m        \u001b[49m\u001b[43mtimeout\u001b[49m\u001b[38;5;241;43m=\u001b[39;49m\u001b[43mtimeout\u001b[49m\u001b[43m,\u001b[49m\n\u001b[1;32m    513\u001b[0m \u001b[43m        \u001b[49m\u001b[43mloss_threshold\u001b[49m\u001b[38;5;241;43m=\u001b[39;49m\u001b[43mloss_threshold\u001b[49m\u001b[43m,\u001b[49m\n\u001b[1;32m    514\u001b[0m \u001b[43m        \u001b[49m\u001b[43mmax_queue_len\u001b[49m\u001b[38;5;241;43m=\u001b[39;49m\u001b[43mmax_queue_len\u001b[49m\u001b[43m,\u001b[49m\n\u001b[1;32m    515\u001b[0m \u001b[43m        \u001b[49m\u001b[43mrstate\u001b[49m\u001b[38;5;241;43m=\u001b[39;49m\u001b[43mrstate\u001b[49m\u001b[43m,\u001b[49m\n\u001b[1;32m    516\u001b[0m \u001b[43m        \u001b[49m\u001b[43mpass_expr_memo_ctrl\u001b[49m\u001b[38;5;241;43m=\u001b[39;49m\u001b[43mpass_expr_memo_ctrl\u001b[49m\u001b[43m,\u001b[49m\n\u001b[1;32m    517\u001b[0m \u001b[43m        \u001b[49m\u001b[43mverbose\u001b[49m\u001b[38;5;241;43m=\u001b[39;49m\u001b[43mverbose\u001b[49m\u001b[43m,\u001b[49m\n\u001b[1;32m    518\u001b[0m \u001b[43m        \u001b[49m\u001b[43mcatch_eval_exceptions\u001b[49m\u001b[38;5;241;43m=\u001b[39;49m\u001b[43mcatch_eval_exceptions\u001b[49m\u001b[43m,\u001b[49m\n\u001b[1;32m    519\u001b[0m \u001b[43m        \u001b[49m\u001b[43mreturn_argmin\u001b[49m\u001b[38;5;241;43m=\u001b[39;49m\u001b[43mreturn_argmin\u001b[49m\u001b[43m,\u001b[49m\n\u001b[1;32m    520\u001b[0m \u001b[43m        \u001b[49m\u001b[43mshow_progressbar\u001b[49m\u001b[38;5;241;43m=\u001b[39;49m\u001b[43mshow_progressbar\u001b[49m\u001b[43m,\u001b[49m\n\u001b[1;32m    521\u001b[0m \u001b[43m        \u001b[49m\u001b[43mearly_stop_fn\u001b[49m\u001b[38;5;241;43m=\u001b[39;49m\u001b[43mearly_stop_fn\u001b[49m\u001b[43m,\u001b[49m\n\u001b[1;32m    522\u001b[0m \u001b[43m        \u001b[49m\u001b[43mtrials_save_file\u001b[49m\u001b[38;5;241;43m=\u001b[39;49m\u001b[43mtrials_save_file\u001b[49m\u001b[43m,\u001b[49m\n\u001b[1;32m    523\u001b[0m \u001b[43m    \u001b[49m\u001b[43m)\u001b[49m\n\u001b[1;32m    525\u001b[0m \u001b[38;5;28;01mif\u001b[39;00m trials \u001b[38;5;129;01mis\u001b[39;00m \u001b[38;5;28;01mNone\u001b[39;00m:\n\u001b[1;32m    526\u001b[0m     \u001b[38;5;28;01mif\u001b[39;00m os\u001b[38;5;241m.\u001b[39mpath\u001b[38;5;241m.\u001b[39mexists(trials_save_file):\n",
      "File \u001b[0;32m~/new_environment/conda/envs/elliot_new/lib/python3.8/site-packages/hyperopt/base.py:682\u001b[0m, in \u001b[0;36mTrials.fmin\u001b[0;34m(self, fn, space, algo, max_evals, timeout, loss_threshold, max_queue_len, rstate, verbose, pass_expr_memo_ctrl, catch_eval_exceptions, return_argmin, show_progressbar, early_stop_fn, trials_save_file)\u001b[0m\n\u001b[1;32m    677\u001b[0m \u001b[38;5;66;03m# -- Stop-gap implementation!\u001b[39;00m\n\u001b[1;32m    678\u001b[0m \u001b[38;5;66;03m#    fmin should have been a Trials method in the first place\u001b[39;00m\n\u001b[1;32m    679\u001b[0m \u001b[38;5;66;03m#    but for now it's still sitting in another file.\u001b[39;00m\n\u001b[1;32m    680\u001b[0m \u001b[38;5;28;01mfrom\u001b[39;00m \u001b[38;5;21;01m.\u001b[39;00m\u001b[38;5;21;01mfmin\u001b[39;00m \u001b[38;5;28;01mimport\u001b[39;00m fmin\n\u001b[0;32m--> 682\u001b[0m \u001b[38;5;28;01mreturn\u001b[39;00m \u001b[43mfmin\u001b[49m\u001b[43m(\u001b[49m\n\u001b[1;32m    683\u001b[0m \u001b[43m    \u001b[49m\u001b[43mfn\u001b[49m\u001b[43m,\u001b[49m\n\u001b[1;32m    684\u001b[0m \u001b[43m    \u001b[49m\u001b[43mspace\u001b[49m\u001b[43m,\u001b[49m\n\u001b[1;32m    685\u001b[0m \u001b[43m    \u001b[49m\u001b[43malgo\u001b[49m\u001b[43m,\u001b[49m\n\u001b[1;32m    686\u001b[0m \u001b[43m    \u001b[49m\u001b[43mmax_evals\u001b[49m\u001b[43m,\u001b[49m\n\u001b[1;32m    687\u001b[0m \u001b[43m    \u001b[49m\u001b[43mtimeout\u001b[49m\u001b[38;5;241;43m=\u001b[39;49m\u001b[43mtimeout\u001b[49m\u001b[43m,\u001b[49m\n\u001b[1;32m    688\u001b[0m \u001b[43m    \u001b[49m\u001b[43mloss_threshold\u001b[49m\u001b[38;5;241;43m=\u001b[39;49m\u001b[43mloss_threshold\u001b[49m\u001b[43m,\u001b[49m\n\u001b[1;32m    689\u001b[0m \u001b[43m    \u001b[49m\u001b[43mtrials\u001b[49m\u001b[38;5;241;43m=\u001b[39;49m\u001b[38;5;28;43mself\u001b[39;49m\u001b[43m,\u001b[49m\n\u001b[1;32m    690\u001b[0m \u001b[43m    \u001b[49m\u001b[43mrstate\u001b[49m\u001b[38;5;241;43m=\u001b[39;49m\u001b[43mrstate\u001b[49m\u001b[43m,\u001b[49m\n\u001b[1;32m    691\u001b[0m \u001b[43m    \u001b[49m\u001b[43mverbose\u001b[49m\u001b[38;5;241;43m=\u001b[39;49m\u001b[43mverbose\u001b[49m\u001b[43m,\u001b[49m\n\u001b[1;32m    692\u001b[0m \u001b[43m    \u001b[49m\u001b[43mmax_queue_len\u001b[49m\u001b[38;5;241;43m=\u001b[39;49m\u001b[43mmax_queue_len\u001b[49m\u001b[43m,\u001b[49m\n\u001b[1;32m    693\u001b[0m \u001b[43m    \u001b[49m\u001b[43mallow_trials_fmin\u001b[49m\u001b[38;5;241;43m=\u001b[39;49m\u001b[38;5;28;43;01mFalse\u001b[39;49;00m\u001b[43m,\u001b[49m\u001b[43m  \u001b[49m\u001b[38;5;66;43;03m# -- prevent recursion\u001b[39;49;00m\n\u001b[1;32m    694\u001b[0m \u001b[43m    \u001b[49m\u001b[43mpass_expr_memo_ctrl\u001b[49m\u001b[38;5;241;43m=\u001b[39;49m\u001b[43mpass_expr_memo_ctrl\u001b[49m\u001b[43m,\u001b[49m\n\u001b[1;32m    695\u001b[0m \u001b[43m    \u001b[49m\u001b[43mcatch_eval_exceptions\u001b[49m\u001b[38;5;241;43m=\u001b[39;49m\u001b[43mcatch_eval_exceptions\u001b[49m\u001b[43m,\u001b[49m\n\u001b[1;32m    696\u001b[0m \u001b[43m    \u001b[49m\u001b[43mreturn_argmin\u001b[49m\u001b[38;5;241;43m=\u001b[39;49m\u001b[43mreturn_argmin\u001b[49m\u001b[43m,\u001b[49m\n\u001b[1;32m    697\u001b[0m \u001b[43m    \u001b[49m\u001b[43mshow_progressbar\u001b[49m\u001b[38;5;241;43m=\u001b[39;49m\u001b[43mshow_progressbar\u001b[49m\u001b[43m,\u001b[49m\n\u001b[1;32m    698\u001b[0m \u001b[43m    \u001b[49m\u001b[43mearly_stop_fn\u001b[49m\u001b[38;5;241;43m=\u001b[39;49m\u001b[43mearly_stop_fn\u001b[49m\u001b[43m,\u001b[49m\n\u001b[1;32m    699\u001b[0m \u001b[43m    \u001b[49m\u001b[43mtrials_save_file\u001b[49m\u001b[38;5;241;43m=\u001b[39;49m\u001b[43mtrials_save_file\u001b[49m\u001b[43m,\u001b[49m\n\u001b[1;32m    700\u001b[0m \u001b[43m\u001b[49m\u001b[43m)\u001b[49m\n",
      "File \u001b[0;32m~/new_environment/conda/envs/elliot_new/lib/python3.8/site-packages/hyperopt/fmin.py:553\u001b[0m, in \u001b[0;36mfmin\u001b[0;34m(fn, space, algo, max_evals, timeout, loss_threshold, trials, rstate, allow_trials_fmin, pass_expr_memo_ctrl, catch_eval_exceptions, verbose, return_argmin, points_to_evaluate, max_queue_len, show_progressbar, early_stop_fn, trials_save_file)\u001b[0m\n\u001b[1;32m    550\u001b[0m rval\u001b[38;5;241m.\u001b[39mcatch_eval_exceptions \u001b[38;5;241m=\u001b[39m catch_eval_exceptions\n\u001b[1;32m    552\u001b[0m \u001b[38;5;66;03m# next line is where the fmin is actually executed\u001b[39;00m\n\u001b[0;32m--> 553\u001b[0m \u001b[43mrval\u001b[49m\u001b[38;5;241;43m.\u001b[39;49m\u001b[43mexhaust\u001b[49m\u001b[43m(\u001b[49m\u001b[43m)\u001b[49m\n\u001b[1;32m    555\u001b[0m \u001b[38;5;28;01mif\u001b[39;00m return_argmin:\n\u001b[1;32m    556\u001b[0m     \u001b[38;5;28;01mif\u001b[39;00m \u001b[38;5;28mlen\u001b[39m(trials\u001b[38;5;241m.\u001b[39mtrials) \u001b[38;5;241m==\u001b[39m \u001b[38;5;241m0\u001b[39m:\n",
      "File \u001b[0;32m~/new_environment/conda/envs/elliot_new/lib/python3.8/site-packages/hyperopt/fmin.py:356\u001b[0m, in \u001b[0;36mFMinIter.exhaust\u001b[0;34m(self)\u001b[0m\n\u001b[1;32m    354\u001b[0m \u001b[38;5;28;01mdef\u001b[39;00m \u001b[38;5;21mexhaust\u001b[39m(\u001b[38;5;28mself\u001b[39m):\n\u001b[1;32m    355\u001b[0m     n_done \u001b[38;5;241m=\u001b[39m \u001b[38;5;28mlen\u001b[39m(\u001b[38;5;28mself\u001b[39m\u001b[38;5;241m.\u001b[39mtrials)\n\u001b[0;32m--> 356\u001b[0m     \u001b[38;5;28;43mself\u001b[39;49m\u001b[38;5;241;43m.\u001b[39;49m\u001b[43mrun\u001b[49m\u001b[43m(\u001b[49m\u001b[38;5;28;43mself\u001b[39;49m\u001b[38;5;241;43m.\u001b[39;49m\u001b[43mmax_evals\u001b[49m\u001b[43m \u001b[49m\u001b[38;5;241;43m-\u001b[39;49m\u001b[43m \u001b[49m\u001b[43mn_done\u001b[49m\u001b[43m,\u001b[49m\u001b[43m \u001b[49m\u001b[43mblock_until_done\u001b[49m\u001b[38;5;241;43m=\u001b[39;49m\u001b[38;5;28;43mself\u001b[39;49m\u001b[38;5;241;43m.\u001b[39;49m\u001b[43masynchronous\u001b[49m\u001b[43m)\u001b[49m\n\u001b[1;32m    357\u001b[0m     \u001b[38;5;28mself\u001b[39m\u001b[38;5;241m.\u001b[39mtrials\u001b[38;5;241m.\u001b[39mrefresh()\n\u001b[1;32m    358\u001b[0m     \u001b[38;5;28;01mreturn\u001b[39;00m \u001b[38;5;28mself\u001b[39m\n",
      "File \u001b[0;32m~/new_environment/conda/envs/elliot_new/lib/python3.8/site-packages/hyperopt/fmin.py:292\u001b[0m, in \u001b[0;36mFMinIter.run\u001b[0;34m(self, N, block_until_done)\u001b[0m\n\u001b[1;32m    289\u001b[0m     time\u001b[38;5;241m.\u001b[39msleep(\u001b[38;5;28mself\u001b[39m\u001b[38;5;241m.\u001b[39mpoll_interval_secs)\n\u001b[1;32m    290\u001b[0m \u001b[38;5;28;01melse\u001b[39;00m:\n\u001b[1;32m    291\u001b[0m     \u001b[38;5;66;03m# -- loop over trials and do the jobs directly\u001b[39;00m\n\u001b[0;32m--> 292\u001b[0m     \u001b[38;5;28;43mself\u001b[39;49m\u001b[38;5;241;43m.\u001b[39;49m\u001b[43mserial_evaluate\u001b[49m\u001b[43m(\u001b[49m\u001b[43m)\u001b[49m\n\u001b[1;32m    294\u001b[0m \u001b[38;5;28mself\u001b[39m\u001b[38;5;241m.\u001b[39mtrials\u001b[38;5;241m.\u001b[39mrefresh()\n\u001b[1;32m    295\u001b[0m \u001b[38;5;28;01mif\u001b[39;00m \u001b[38;5;28mself\u001b[39m\u001b[38;5;241m.\u001b[39mtrials_save_file \u001b[38;5;241m!=\u001b[39m \u001b[38;5;124m\"\u001b[39m\u001b[38;5;124m\"\u001b[39m:\n",
      "File \u001b[0;32m~/new_environment/conda/envs/elliot_new/lib/python3.8/site-packages/hyperopt/fmin.py:170\u001b[0m, in \u001b[0;36mFMinIter.serial_evaluate\u001b[0;34m(self, N)\u001b[0m\n\u001b[1;32m    168\u001b[0m ctrl \u001b[38;5;241m=\u001b[39m base\u001b[38;5;241m.\u001b[39mCtrl(\u001b[38;5;28mself\u001b[39m\u001b[38;5;241m.\u001b[39mtrials, current_trial\u001b[38;5;241m=\u001b[39mtrial)\n\u001b[1;32m    169\u001b[0m \u001b[38;5;28;01mtry\u001b[39;00m:\n\u001b[0;32m--> 170\u001b[0m     result \u001b[38;5;241m=\u001b[39m \u001b[38;5;28;43mself\u001b[39;49m\u001b[38;5;241;43m.\u001b[39;49m\u001b[43mdomain\u001b[49m\u001b[38;5;241;43m.\u001b[39;49m\u001b[43mevaluate\u001b[49m\u001b[43m(\u001b[49m\u001b[43mspec\u001b[49m\u001b[43m,\u001b[49m\u001b[43m \u001b[49m\u001b[43mctrl\u001b[49m\u001b[43m)\u001b[49m\n\u001b[1;32m    171\u001b[0m \u001b[38;5;28;01mexcept\u001b[39;00m \u001b[38;5;167;01mException\u001b[39;00m \u001b[38;5;28;01mas\u001b[39;00m e:\n\u001b[1;32m    172\u001b[0m     logger\u001b[38;5;241m.\u001b[39merror(\u001b[38;5;124m\"\u001b[39m\u001b[38;5;124mjob exception: \u001b[39m\u001b[38;5;132;01m%s\u001b[39;00m\u001b[38;5;124m\"\u001b[39m \u001b[38;5;241m%\u001b[39m \u001b[38;5;28mstr\u001b[39m(e))\n",
      "File \u001b[0;32m~/new_environment/conda/envs/elliot_new/lib/python3.8/site-packages/hyperopt/base.py:907\u001b[0m, in \u001b[0;36mDomain.evaluate\u001b[0;34m(self, config, ctrl, attach_attachments)\u001b[0m\n\u001b[1;32m    898\u001b[0m \u001b[38;5;28;01melse\u001b[39;00m:\n\u001b[1;32m    899\u001b[0m     \u001b[38;5;66;03m# -- the \"work\" of evaluating `config` can be written\u001b[39;00m\n\u001b[1;32m    900\u001b[0m     \u001b[38;5;66;03m#    either into the pyll part (self.expr)\u001b[39;00m\n\u001b[1;32m    901\u001b[0m     \u001b[38;5;66;03m#    or the normal Python part (self.fn)\u001b[39;00m\n\u001b[1;32m    902\u001b[0m     pyll_rval \u001b[38;5;241m=\u001b[39m pyll\u001b[38;5;241m.\u001b[39mrec_eval(\n\u001b[1;32m    903\u001b[0m         \u001b[38;5;28mself\u001b[39m\u001b[38;5;241m.\u001b[39mexpr,\n\u001b[1;32m    904\u001b[0m         memo\u001b[38;5;241m=\u001b[39mmemo,\n\u001b[1;32m    905\u001b[0m         print_node_on_error\u001b[38;5;241m=\u001b[39m\u001b[38;5;28mself\u001b[39m\u001b[38;5;241m.\u001b[39mrec_eval_print_node_on_error,\n\u001b[1;32m    906\u001b[0m     )\n\u001b[0;32m--> 907\u001b[0m     rval \u001b[38;5;241m=\u001b[39m \u001b[38;5;28;43mself\u001b[39;49m\u001b[38;5;241;43m.\u001b[39;49m\u001b[43mfn\u001b[49m\u001b[43m(\u001b[49m\u001b[43mpyll_rval\u001b[49m\u001b[43m)\u001b[49m\n\u001b[1;32m    909\u001b[0m \u001b[38;5;28;01mif\u001b[39;00m \u001b[38;5;28misinstance\u001b[39m(rval, (\u001b[38;5;28mfloat\u001b[39m, \u001b[38;5;28mint\u001b[39m, np\u001b[38;5;241m.\u001b[39mnumber)):\n\u001b[1;32m    910\u001b[0m     dict_rval \u001b[38;5;241m=\u001b[39m {\u001b[38;5;124m\"\u001b[39m\u001b[38;5;124mloss\u001b[39m\u001b[38;5;124m\"\u001b[39m: \u001b[38;5;28mfloat\u001b[39m(rval), \u001b[38;5;124m\"\u001b[39m\u001b[38;5;124mstatus\u001b[39m\u001b[38;5;124m\"\u001b[39m: STATUS_OK}\n",
      "File \u001b[0;32m~/new_environment/Elliot/src/elliot/elliot/hyperoptimization/model_coordinator.py:63\u001b[0m, in \u001b[0;36mModelCoordinator.objective\u001b[0;34m(self, args)\u001b[0m\n\u001b[1;32m     61\u001b[0m \u001b[38;5;28mself\u001b[39m\u001b[38;5;241m.\u001b[39mlogger\u001b[38;5;241m.\u001b[39minfo(\u001b[38;5;124mf\u001b[39m\u001b[38;5;124m\"\u001b[39m\u001b[38;5;124mExploration: Train-Validation Fold exploration number \u001b[39m\u001b[38;5;132;01m{\u001b[39;00mtrainval_index\u001b[38;5;241m+\u001b[39m\u001b[38;5;241m1\u001b[39m\u001b[38;5;132;01m}\u001b[39;00m\u001b[38;5;124m\"\u001b[39m)\n\u001b[1;32m     62\u001b[0m model \u001b[38;5;241m=\u001b[39m \u001b[38;5;28mself\u001b[39m\u001b[38;5;241m.\u001b[39mmodel_class(data\u001b[38;5;241m=\u001b[39mdata_obj, config\u001b[38;5;241m=\u001b[39m\u001b[38;5;28mself\u001b[39m\u001b[38;5;241m.\u001b[39mbase, params\u001b[38;5;241m=\u001b[39mmodel_params)\n\u001b[0;32m---> 63\u001b[0m \u001b[43mmodel\u001b[49m\u001b[38;5;241;43m.\u001b[39;49m\u001b[43mtrain\u001b[49m\u001b[43m(\u001b[49m\u001b[43m)\u001b[49m\n\u001b[1;32m     64\u001b[0m losses\u001b[38;5;241m.\u001b[39mappend(model\u001b[38;5;241m.\u001b[39mget_loss())\n\u001b[1;32m     65\u001b[0m results\u001b[38;5;241m.\u001b[39mappend(model\u001b[38;5;241m.\u001b[39mget_results())\n",
      "File \u001b[0;32m~/new_environment/Elliot/src/elliot/elliot/recommender/neural/DMF/deep_matrix_factorization.py:104\u001b[0m, in \u001b[0;36mDMF.train\u001b[0;34m(self)\u001b[0m\n\u001b[1;32m    101\u001b[0m         t\u001b[38;5;241m.\u001b[39mset_postfix({\u001b[38;5;124m'\u001b[39m\u001b[38;5;124mloss\u001b[39m\u001b[38;5;124m'\u001b[39m: \u001b[38;5;124mf\u001b[39m\u001b[38;5;124m'\u001b[39m\u001b[38;5;132;01m{\u001b[39;00mloss\u001b[38;5;241m.\u001b[39mnumpy()\u001b[38;5;250m \u001b[39m\u001b[38;5;241m/\u001b[39m\u001b[38;5;250m \u001b[39msteps\u001b[38;5;132;01m:\u001b[39;00m\u001b[38;5;124m.5f\u001b[39m\u001b[38;5;132;01m}\u001b[39;00m\u001b[38;5;124m'\u001b[39m})\n\u001b[1;32m    102\u001b[0m         t\u001b[38;5;241m.\u001b[39mupdate()\n\u001b[0;32m--> 104\u001b[0m \u001b[38;5;28;43mself\u001b[39;49m\u001b[38;5;241;43m.\u001b[39;49m\u001b[43mevaluate\u001b[49m\u001b[43m(\u001b[49m\u001b[43mit\u001b[49m\u001b[43m,\u001b[49m\u001b[43m \u001b[49m\u001b[43mloss\u001b[49m\u001b[38;5;241;43m.\u001b[39;49m\u001b[43mnumpy\u001b[49m\u001b[43m(\u001b[49m\u001b[43m)\u001b[49m\u001b[38;5;241;43m/\u001b[39;49m\u001b[43m(\u001b[49m\u001b[43mit\u001b[49m\u001b[43m \u001b[49m\u001b[38;5;241;43m+\u001b[39;49m\u001b[43m \u001b[49m\u001b[38;5;241;43m1\u001b[39;49m\u001b[43m)\u001b[49m\u001b[43m)\u001b[49m\n",
      "File \u001b[0;32m~/new_environment/Elliot/src/elliot/elliot/recommender/recommender_utils_mixin.py:29\u001b[0m, in \u001b[0;36mRecMixin.evaluate\u001b[0;34m(self, it, loss)\u001b[0m\n\u001b[1;32m     27\u001b[0m \u001b[38;5;28;01mdef\u001b[39;00m \u001b[38;5;21mevaluate\u001b[39m(\u001b[38;5;28mself\u001b[39m, it\u001b[38;5;241m=\u001b[39m\u001b[38;5;28;01mNone\u001b[39;00m, loss\u001b[38;5;241m=\u001b[39m\u001b[38;5;241m0\u001b[39m):\n\u001b[1;32m     28\u001b[0m     \u001b[38;5;28;01mif\u001b[39;00m (it \u001b[38;5;129;01mis\u001b[39;00m \u001b[38;5;28;01mNone\u001b[39;00m) \u001b[38;5;129;01mor\u001b[39;00m (\u001b[38;5;129;01mnot\u001b[39;00m (it \u001b[38;5;241m+\u001b[39m \u001b[38;5;241m1\u001b[39m) \u001b[38;5;241m%\u001b[39m \u001b[38;5;28mself\u001b[39m\u001b[38;5;241m.\u001b[39m_validation_rate):\n\u001b[0;32m---> 29\u001b[0m         recs \u001b[38;5;241m=\u001b[39m \u001b[38;5;28;43mself\u001b[39;49m\u001b[38;5;241;43m.\u001b[39;49m\u001b[43mget_recommendations\u001b[49m\u001b[43m(\u001b[49m\u001b[38;5;28;43mself\u001b[39;49m\u001b[38;5;241;43m.\u001b[39;49m\u001b[43mevaluator\u001b[49m\u001b[38;5;241;43m.\u001b[39;49m\u001b[43mget_needed_recommendations\u001b[49m\u001b[43m(\u001b[49m\u001b[43m)\u001b[49m\u001b[43m)\u001b[49m\n\u001b[1;32m     30\u001b[0m         result_dict \u001b[38;5;241m=\u001b[39m \u001b[38;5;28mself\u001b[39m\u001b[38;5;241m.\u001b[39mevaluator\u001b[38;5;241m.\u001b[39meval(recs)\n\u001b[1;32m     32\u001b[0m         \u001b[38;5;28mself\u001b[39m\u001b[38;5;241m.\u001b[39m_losses\u001b[38;5;241m.\u001b[39mappend(loss)\n",
      "File \u001b[0;32m~/new_environment/Elliot/src/elliot/elliot/recommender/neural/DMF/deep_matrix_factorization.py:111\u001b[0m, in \u001b[0;36mDMF.get_recommendations\u001b[0;34m(self, k)\u001b[0m\n\u001b[1;32m    109\u001b[0m \u001b[38;5;28;01mfor\u001b[39;00m index, offset \u001b[38;5;129;01min\u001b[39;00m \u001b[38;5;28menumerate\u001b[39m(\u001b[38;5;28mrange\u001b[39m(\u001b[38;5;241m0\u001b[39m, \u001b[38;5;28mself\u001b[39m\u001b[38;5;241m.\u001b[39m_num_users, \u001b[38;5;28mself\u001b[39m\u001b[38;5;241m.\u001b[39m_batch_size)):\n\u001b[1;32m    110\u001b[0m     offset_stop \u001b[38;5;241m=\u001b[39m \u001b[38;5;28mmin\u001b[39m(offset \u001b[38;5;241m+\u001b[39m \u001b[38;5;28mself\u001b[39m\u001b[38;5;241m.\u001b[39m_batch_size, \u001b[38;5;28mself\u001b[39m\u001b[38;5;241m.\u001b[39m_num_users)\n\u001b[0;32m--> 111\u001b[0m     predictions \u001b[38;5;241m=\u001b[39m \u001b[38;5;28;43mself\u001b[39;49m\u001b[38;5;241;43m.\u001b[39;49m\u001b[43m_model\u001b[49m\u001b[38;5;241;43m.\u001b[39;49m\u001b[43mget_recs\u001b[49m\u001b[43m(\u001b[49m\n\u001b[1;32m    112\u001b[0m \u001b[43m        \u001b[49m\u001b[43m(\u001b[49m\n\u001b[1;32m    113\u001b[0m \u001b[43m            \u001b[49m\u001b[43mnp\u001b[49m\u001b[38;5;241;43m.\u001b[39;49m\u001b[43mrepeat\u001b[49m\u001b[43m(\u001b[49m\u001b[43mnp\u001b[49m\u001b[38;5;241;43m.\u001b[39;49m\u001b[43marray\u001b[49m\u001b[43m(\u001b[49m\u001b[38;5;28;43mlist\u001b[39;49m\u001b[43m(\u001b[49m\u001b[38;5;28;43mrange\u001b[39;49m\u001b[43m(\u001b[49m\u001b[43moffset\u001b[49m\u001b[43m,\u001b[49m\u001b[43m \u001b[49m\u001b[43moffset_stop\u001b[49m\u001b[43m)\u001b[49m\u001b[43m)\u001b[49m\u001b[43m)\u001b[49m\u001b[43m[\u001b[49m\u001b[43m:\u001b[49m\u001b[43m,\u001b[49m\u001b[43m \u001b[49m\u001b[38;5;28;43;01mNone\u001b[39;49;00m\u001b[43m]\u001b[49m\u001b[43m,\u001b[49m\u001b[43m \u001b[49m\u001b[43mrepeats\u001b[49m\u001b[38;5;241;43m=\u001b[39;49m\u001b[38;5;28;43mself\u001b[39;49m\u001b[38;5;241;43m.\u001b[39;49m\u001b[43m_num_items\u001b[49m\u001b[43m,\u001b[49m\u001b[43m \u001b[49m\u001b[43maxis\u001b[49m\u001b[38;5;241;43m=\u001b[39;49m\u001b[38;5;241;43m1\u001b[39;49m\u001b[43m)\u001b[49m\u001b[43m,\u001b[49m\n\u001b[1;32m    114\u001b[0m \u001b[43m            \u001b[49m\u001b[43mnp\u001b[49m\u001b[38;5;241;43m.\u001b[39;49m\u001b[43marray\u001b[49m\u001b[43m(\u001b[49m\u001b[43m[\u001b[49m\u001b[38;5;28;43mself\u001b[39;49m\u001b[38;5;241;43m.\u001b[39;49m\u001b[43m_i_items_set\u001b[49m\u001b[43m \u001b[49m\u001b[38;5;28;43;01mfor\u001b[39;49;00m\u001b[43m \u001b[49m\u001b[43m_\u001b[49m\u001b[43m \u001b[49m\u001b[38;5;129;43;01min\u001b[39;49;00m\u001b[43m \u001b[49m\u001b[38;5;28;43mrange\u001b[39;49m\u001b[43m(\u001b[49m\u001b[43moffset\u001b[49m\u001b[43m,\u001b[49m\u001b[43m \u001b[49m\u001b[43moffset_stop\u001b[49m\u001b[43m)\u001b[49m\u001b[43m]\u001b[49m\u001b[43m)\u001b[49m\n\u001b[1;32m    115\u001b[0m \u001b[43m        \u001b[49m\u001b[43m)\u001b[49m\n\u001b[1;32m    116\u001b[0m \u001b[43m    \u001b[49m\u001b[43m)\u001b[49m\n\u001b[1;32m    117\u001b[0m     recs_val, recs_test \u001b[38;5;241m=\u001b[39m \u001b[38;5;28mself\u001b[39m\u001b[38;5;241m.\u001b[39mprocess_protocol(k, predictions, offset, offset_stop)\n\u001b[1;32m    119\u001b[0m     predictions_top_k_val\u001b[38;5;241m.\u001b[39mupdate(recs_val)\n",
      "File \u001b[0;32m~/new_environment/conda/envs/elliot_new/lib/python3.8/site-packages/tensorflow/python/eager/def_function.py:780\u001b[0m, in \u001b[0;36mFunction.__call__\u001b[0;34m(self, *args, **kwds)\u001b[0m\n\u001b[1;32m    778\u001b[0m \u001b[38;5;28;01melse\u001b[39;00m:\n\u001b[1;32m    779\u001b[0m   compiler \u001b[38;5;241m=\u001b[39m \u001b[38;5;124m\"\u001b[39m\u001b[38;5;124mnonXla\u001b[39m\u001b[38;5;124m\"\u001b[39m\n\u001b[0;32m--> 780\u001b[0m   result \u001b[38;5;241m=\u001b[39m \u001b[38;5;28;43mself\u001b[39;49m\u001b[38;5;241;43m.\u001b[39;49m\u001b[43m_call\u001b[49m\u001b[43m(\u001b[49m\u001b[38;5;241;43m*\u001b[39;49m\u001b[43margs\u001b[49m\u001b[43m,\u001b[49m\u001b[43m \u001b[49m\u001b[38;5;241;43m*\u001b[39;49m\u001b[38;5;241;43m*\u001b[39;49m\u001b[43mkwds\u001b[49m\u001b[43m)\u001b[49m\n\u001b[1;32m    782\u001b[0m new_tracing_count \u001b[38;5;241m=\u001b[39m \u001b[38;5;28mself\u001b[39m\u001b[38;5;241m.\u001b[39m_get_tracing_count()\n\u001b[1;32m    783\u001b[0m without_tracing \u001b[38;5;241m=\u001b[39m (tracing_count \u001b[38;5;241m==\u001b[39m new_tracing_count)\n",
      "File \u001b[0;32m~/new_environment/conda/envs/elliot_new/lib/python3.8/site-packages/tensorflow/python/eager/def_function.py:846\u001b[0m, in \u001b[0;36mFunction._call\u001b[0;34m(self, *args, **kwds)\u001b[0m\n\u001b[1;32m    842\u001b[0m   canon_args, canon_kwds \u001b[38;5;241m=\u001b[39m \\\n\u001b[1;32m    843\u001b[0m       \u001b[38;5;28mself\u001b[39m\u001b[38;5;241m.\u001b[39m_stateful_fn\u001b[38;5;241m.\u001b[39m_function_spec\u001b[38;5;241m.\u001b[39mcanonicalize_function_inputs(  \u001b[38;5;66;03m# pylint: disable=protected-access\u001b[39;00m\n\u001b[1;32m    844\u001b[0m           \u001b[38;5;241m*\u001b[39margs, \u001b[38;5;241m*\u001b[39m\u001b[38;5;241m*\u001b[39mkwds)\n\u001b[1;32m    845\u001b[0m   \u001b[38;5;66;03m# If we did not create any variables the trace we have is good enough.\u001b[39;00m\n\u001b[0;32m--> 846\u001b[0m   \u001b[38;5;28;01mreturn\u001b[39;00m \u001b[38;5;28;43mself\u001b[39;49m\u001b[38;5;241;43m.\u001b[39;49m\u001b[43m_concrete_stateful_fn\u001b[49m\u001b[38;5;241;43m.\u001b[39;49m\u001b[43m_filtered_call\u001b[49m\u001b[43m(\u001b[49m\u001b[43mcanon_args\u001b[49m\u001b[43m,\u001b[49m\u001b[43m \u001b[49m\u001b[43mcanon_kwds\u001b[49m\u001b[43m)\u001b[49m  \u001b[38;5;66;03m# pylint: disable=protected-access\u001b[39;00m\n\u001b[1;32m    848\u001b[0m \u001b[38;5;28;01mdef\u001b[39;00m \u001b[38;5;21mfn_with_cond\u001b[39m(\u001b[38;5;241m*\u001b[39minner_args, \u001b[38;5;241m*\u001b[39m\u001b[38;5;241m*\u001b[39minner_kwds):\n\u001b[1;32m    849\u001b[0m \u001b[38;5;250m  \u001b[39m\u001b[38;5;124;03m\"\"\"Conditionally runs initialization if it's needed.\"\"\"\u001b[39;00m\n",
      "File \u001b[0;32m~/new_environment/conda/envs/elliot_new/lib/python3.8/site-packages/tensorflow/python/eager/function.py:1843\u001b[0m, in \u001b[0;36mConcreteFunction._filtered_call\u001b[0;34m(self, args, kwargs, cancellation_manager)\u001b[0m\n\u001b[1;32m   1827\u001b[0m \u001b[38;5;28;01mdef\u001b[39;00m \u001b[38;5;21m_filtered_call\u001b[39m(\u001b[38;5;28mself\u001b[39m, args, kwargs, cancellation_manager\u001b[38;5;241m=\u001b[39m\u001b[38;5;28;01mNone\u001b[39;00m):\n\u001b[1;32m   1828\u001b[0m \u001b[38;5;250m  \u001b[39m\u001b[38;5;124;03m\"\"\"Executes the function, filtering arguments from the Python function.\u001b[39;00m\n\u001b[1;32m   1829\u001b[0m \n\u001b[1;32m   1830\u001b[0m \u001b[38;5;124;03m  Objects aside from Tensors, CompositeTensors, and Variables are ignored.\u001b[39;00m\n\u001b[0;32m   (...)\u001b[0m\n\u001b[1;32m   1841\u001b[0m \u001b[38;5;124;03m    `args` and `kwargs`.\u001b[39;00m\n\u001b[1;32m   1842\u001b[0m \u001b[38;5;124;03m  \"\"\"\u001b[39;00m\n\u001b[0;32m-> 1843\u001b[0m   \u001b[38;5;28;01mreturn\u001b[39;00m \u001b[38;5;28;43mself\u001b[39;49m\u001b[38;5;241;43m.\u001b[39;49m\u001b[43m_call_flat\u001b[49m\u001b[43m(\u001b[49m\n\u001b[1;32m   1844\u001b[0m \u001b[43m      \u001b[49m\u001b[43m[\u001b[49m\u001b[43mt\u001b[49m\u001b[43m \u001b[49m\u001b[38;5;28;43;01mfor\u001b[39;49;00m\u001b[43m \u001b[49m\u001b[43mt\u001b[49m\u001b[43m \u001b[49m\u001b[38;5;129;43;01min\u001b[39;49;00m\u001b[43m \u001b[49m\u001b[43mnest\u001b[49m\u001b[38;5;241;43m.\u001b[39;49m\u001b[43mflatten\u001b[49m\u001b[43m(\u001b[49m\u001b[43m(\u001b[49m\u001b[43margs\u001b[49m\u001b[43m,\u001b[49m\u001b[43m \u001b[49m\u001b[43mkwargs\u001b[49m\u001b[43m)\u001b[49m\u001b[43m,\u001b[49m\u001b[43m \u001b[49m\u001b[43mexpand_composites\u001b[49m\u001b[38;5;241;43m=\u001b[39;49m\u001b[38;5;28;43;01mTrue\u001b[39;49;00m\u001b[43m)\u001b[49m\n\u001b[1;32m   1845\u001b[0m \u001b[43m       \u001b[49m\u001b[38;5;28;43;01mif\u001b[39;49;00m\u001b[43m \u001b[49m\u001b[38;5;28;43misinstance\u001b[39;49m\u001b[43m(\u001b[49m\u001b[43mt\u001b[49m\u001b[43m,\u001b[49m\u001b[43m \u001b[49m\u001b[43m(\u001b[49m\u001b[43mops\u001b[49m\u001b[38;5;241;43m.\u001b[39;49m\u001b[43mTensor\u001b[49m\u001b[43m,\u001b[49m\n\u001b[1;32m   1846\u001b[0m \u001b[43m                         \u001b[49m\u001b[43mresource_variable_ops\u001b[49m\u001b[38;5;241;43m.\u001b[39;49m\u001b[43mBaseResourceVariable\u001b[49m\u001b[43m)\u001b[49m\u001b[43m)\u001b[49m\u001b[43m]\u001b[49m\u001b[43m,\u001b[49m\n\u001b[1;32m   1847\u001b[0m \u001b[43m      \u001b[49m\u001b[43mcaptured_inputs\u001b[49m\u001b[38;5;241;43m=\u001b[39;49m\u001b[38;5;28;43mself\u001b[39;49m\u001b[38;5;241;43m.\u001b[39;49m\u001b[43mcaptured_inputs\u001b[49m\u001b[43m,\u001b[49m\n\u001b[1;32m   1848\u001b[0m \u001b[43m      \u001b[49m\u001b[43mcancellation_manager\u001b[49m\u001b[38;5;241;43m=\u001b[39;49m\u001b[43mcancellation_manager\u001b[49m\u001b[43m)\u001b[49m\n",
      "File \u001b[0;32m~/new_environment/conda/envs/elliot_new/lib/python3.8/site-packages/tensorflow/python/eager/function.py:1923\u001b[0m, in \u001b[0;36mConcreteFunction._call_flat\u001b[0;34m(self, args, captured_inputs, cancellation_manager)\u001b[0m\n\u001b[1;32m   1918\u001b[0m possible_gradient_type \u001b[38;5;241m=\u001b[39m (\n\u001b[1;32m   1919\u001b[0m     pywrap_tfe\u001b[38;5;241m.\u001b[39mTFE_Py_TapeSetPossibleGradientTypes(args))\n\u001b[1;32m   1920\u001b[0m \u001b[38;5;28;01mif\u001b[39;00m (possible_gradient_type \u001b[38;5;241m==\u001b[39m _POSSIBLE_GRADIENT_TYPES_NONE\n\u001b[1;32m   1921\u001b[0m     \u001b[38;5;129;01mand\u001b[39;00m executing_eagerly):\n\u001b[1;32m   1922\u001b[0m   \u001b[38;5;66;03m# No tape is watching; skip to running the function.\u001b[39;00m\n\u001b[0;32m-> 1923\u001b[0m   \u001b[38;5;28;01mreturn\u001b[39;00m \u001b[38;5;28mself\u001b[39m\u001b[38;5;241m.\u001b[39m_build_call_outputs(\u001b[38;5;28;43mself\u001b[39;49m\u001b[38;5;241;43m.\u001b[39;49m\u001b[43m_inference_function\u001b[49m\u001b[38;5;241;43m.\u001b[39;49m\u001b[43mcall\u001b[49m\u001b[43m(\u001b[49m\n\u001b[1;32m   1924\u001b[0m \u001b[43m      \u001b[49m\u001b[43mctx\u001b[49m\u001b[43m,\u001b[49m\u001b[43m \u001b[49m\u001b[43margs\u001b[49m\u001b[43m,\u001b[49m\u001b[43m \u001b[49m\u001b[43mcancellation_manager\u001b[49m\u001b[38;5;241;43m=\u001b[39;49m\u001b[43mcancellation_manager\u001b[49m\u001b[43m)\u001b[49m)\n\u001b[1;32m   1925\u001b[0m forward_backward \u001b[38;5;241m=\u001b[39m \u001b[38;5;28mself\u001b[39m\u001b[38;5;241m.\u001b[39m_select_forward_and_backward_functions(\n\u001b[1;32m   1926\u001b[0m     args,\n\u001b[1;32m   1927\u001b[0m     possible_gradient_type,\n\u001b[1;32m   1928\u001b[0m     executing_eagerly)\n\u001b[1;32m   1929\u001b[0m forward_function, args_with_tangents \u001b[38;5;241m=\u001b[39m forward_backward\u001b[38;5;241m.\u001b[39mforward()\n",
      "File \u001b[0;32m~/new_environment/conda/envs/elliot_new/lib/python3.8/site-packages/tensorflow/python/eager/function.py:545\u001b[0m, in \u001b[0;36m_EagerDefinedFunction.call\u001b[0;34m(self, ctx, args, cancellation_manager)\u001b[0m\n\u001b[1;32m    543\u001b[0m \u001b[38;5;28;01mwith\u001b[39;00m _InterpolateFunctionError(\u001b[38;5;28mself\u001b[39m):\n\u001b[1;32m    544\u001b[0m   \u001b[38;5;28;01mif\u001b[39;00m cancellation_manager \u001b[38;5;129;01mis\u001b[39;00m \u001b[38;5;28;01mNone\u001b[39;00m:\n\u001b[0;32m--> 545\u001b[0m     outputs \u001b[38;5;241m=\u001b[39m \u001b[43mexecute\u001b[49m\u001b[38;5;241;43m.\u001b[39;49m\u001b[43mexecute\u001b[49m\u001b[43m(\u001b[49m\n\u001b[1;32m    546\u001b[0m \u001b[43m        \u001b[49m\u001b[38;5;28;43mstr\u001b[39;49m\u001b[43m(\u001b[49m\u001b[38;5;28;43mself\u001b[39;49m\u001b[38;5;241;43m.\u001b[39;49m\u001b[43msignature\u001b[49m\u001b[38;5;241;43m.\u001b[39;49m\u001b[43mname\u001b[49m\u001b[43m)\u001b[49m\u001b[43m,\u001b[49m\n\u001b[1;32m    547\u001b[0m \u001b[43m        \u001b[49m\u001b[43mnum_outputs\u001b[49m\u001b[38;5;241;43m=\u001b[39;49m\u001b[38;5;28;43mself\u001b[39;49m\u001b[38;5;241;43m.\u001b[39;49m\u001b[43m_num_outputs\u001b[49m\u001b[43m,\u001b[49m\n\u001b[1;32m    548\u001b[0m \u001b[43m        \u001b[49m\u001b[43minputs\u001b[49m\u001b[38;5;241;43m=\u001b[39;49m\u001b[43margs\u001b[49m\u001b[43m,\u001b[49m\n\u001b[1;32m    549\u001b[0m \u001b[43m        \u001b[49m\u001b[43mattrs\u001b[49m\u001b[38;5;241;43m=\u001b[39;49m\u001b[43mattrs\u001b[49m\u001b[43m,\u001b[49m\n\u001b[1;32m    550\u001b[0m \u001b[43m        \u001b[49m\u001b[43mctx\u001b[49m\u001b[38;5;241;43m=\u001b[39;49m\u001b[43mctx\u001b[49m\u001b[43m)\u001b[49m\n\u001b[1;32m    551\u001b[0m   \u001b[38;5;28;01melse\u001b[39;00m:\n\u001b[1;32m    552\u001b[0m     outputs \u001b[38;5;241m=\u001b[39m execute\u001b[38;5;241m.\u001b[39mexecute_with_cancellation(\n\u001b[1;32m    553\u001b[0m         \u001b[38;5;28mstr\u001b[39m(\u001b[38;5;28mself\u001b[39m\u001b[38;5;241m.\u001b[39msignature\u001b[38;5;241m.\u001b[39mname),\n\u001b[1;32m    554\u001b[0m         num_outputs\u001b[38;5;241m=\u001b[39m\u001b[38;5;28mself\u001b[39m\u001b[38;5;241m.\u001b[39m_num_outputs,\n\u001b[0;32m   (...)\u001b[0m\n\u001b[1;32m    557\u001b[0m         ctx\u001b[38;5;241m=\u001b[39mctx,\n\u001b[1;32m    558\u001b[0m         cancellation_manager\u001b[38;5;241m=\u001b[39mcancellation_manager)\n",
      "File \u001b[0;32m~/new_environment/conda/envs/elliot_new/lib/python3.8/site-packages/tensorflow/python/eager/execute.py:59\u001b[0m, in \u001b[0;36mquick_execute\u001b[0;34m(op_name, num_outputs, inputs, attrs, ctx, name)\u001b[0m\n\u001b[1;32m     57\u001b[0m \u001b[38;5;28;01mtry\u001b[39;00m:\n\u001b[1;32m     58\u001b[0m   ctx\u001b[38;5;241m.\u001b[39mensure_initialized()\n\u001b[0;32m---> 59\u001b[0m   tensors \u001b[38;5;241m=\u001b[39m \u001b[43mpywrap_tfe\u001b[49m\u001b[38;5;241;43m.\u001b[39;49m\u001b[43mTFE_Py_Execute\u001b[49m\u001b[43m(\u001b[49m\u001b[43mctx\u001b[49m\u001b[38;5;241;43m.\u001b[39;49m\u001b[43m_handle\u001b[49m\u001b[43m,\u001b[49m\u001b[43m \u001b[49m\u001b[43mdevice_name\u001b[49m\u001b[43m,\u001b[49m\u001b[43m \u001b[49m\u001b[43mop_name\u001b[49m\u001b[43m,\u001b[49m\n\u001b[1;32m     60\u001b[0m \u001b[43m                                      \u001b[49m\u001b[43minputs\u001b[49m\u001b[43m,\u001b[49m\u001b[43m \u001b[49m\u001b[43mattrs\u001b[49m\u001b[43m,\u001b[49m\u001b[43m \u001b[49m\u001b[43mnum_outputs\u001b[49m\u001b[43m)\u001b[49m\n\u001b[1;32m     61\u001b[0m \u001b[38;5;28;01mexcept\u001b[39;00m core\u001b[38;5;241m.\u001b[39m_NotOkStatusException \u001b[38;5;28;01mas\u001b[39;00m e:\n\u001b[1;32m     62\u001b[0m   \u001b[38;5;28;01mif\u001b[39;00m name \u001b[38;5;129;01mis\u001b[39;00m \u001b[38;5;129;01mnot\u001b[39;00m \u001b[38;5;28;01mNone\u001b[39;00m:\n",
      "\u001b[0;31mResourceExhaustedError\u001b[0m:  OOM when allocating tensor with shape[256,253994,22159] and type float on /job:localhost/replica:0/task:0/device:CPU:0 by allocator cpu\n\t [[node embedding_115/embedding_lookup (defined at export/scratch2/home/savvina/new_environment/Elliot/src/elliot/elliot/recommender/neural/DMF/deep_matrix_factorization_model.py:128) ]]\nHint: If you want to see a list of allocated tensors when OOM happens, add report_tensor_allocations_upon_oom to RunOptions for current allocation info.\n [Op:__inference_get_recs_7349242]\n\nErrors may have originated from an input operation.\nInput Source operations connected to node embedding_115/embedding_lookup:\n embedding_115/embedding_lookup/7349171 (defined at export/scratch2/home/savvina/new_environment/conda/envs/elliot_new/lib/python3.8/contextlib.py:113)\t\n inputs_1 (defined at export/scratch2/home/savvina/new_environment/Elliot/src/elliot/elliot/recommender/neural/DMF/deep_matrix_factorization.py:111)\n\nFunction call stack:\nget_recs\n"
     ]
    }
   ],
   "source": [
    "with open('config_files/epinion_tune.yml', 'r') as f: # open the relevant yaml file\n",
    "    base_config = yaml.safe_load(f)\n",
    "\n",
    "for mlp in mlp_values:\n",
    "    print(\"We re doing the following: \", mlp)\n",
    "    # Make a copy of the base configuration\n",
    "    config = copy.deepcopy(base_config)\n",
    "    # Update the configuration with the current hyperparameters\n",
    "    config['experiment']['models']['DMF']['user_mlp'] = mlp\n",
    "    config['experiment']['models']['DMF']['item_mlp'] = mlp\n",
    "\n",
    "    # Write the configuration to a temporary file\n",
    "    with open('config_files/temp_config.yml', 'w') as f:\n",
    "        yaml.dump(config, f)\n",
    "\n",
    "    # Run the experiment with the current configuration\n",
    "    run_experiment('config_files/temp_config.yml')\n",
    "    \n",
    "    \n",
    "    # Remove the temp file\n",
    "    os.remove('config_files/temp_config.yml')    "
   ]
  },
  {
   "cell_type": "code",
   "execution_count": null,
   "id": "61f09ae6-b5fb-499d-99c4-5c18fa8bebce",
   "metadata": {},
   "outputs": [],
   "source": []
  }
 ],
 "metadata": {
  "kernelspec": {
   "display_name": "Python 3 (ipykernel)",
   "language": "python",
   "name": "python3"
  },
  "language_info": {
   "codemirror_mode": {
    "name": "ipython",
    "version": 3
   },
   "file_extension": ".py",
   "mimetype": "text/x-python",
   "name": "python",
   "nbconvert_exporter": "python",
   "pygments_lexer": "ipython3",
   "version": "3.8.19"
  },
  "widgets": {
   "application/vnd.jupyter.widget-state+json": {
    "state": {},
    "version_major": 2,
    "version_minor": 0
   }
  }
 },
 "nbformat": 4,
 "nbformat_minor": 5
}

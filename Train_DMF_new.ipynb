{
 "cells": [
  {
   "cell_type": "code",
   "execution_count": 1,
   "id": "32375f7a-3bb5-4a98-af36-1fe660a51dd1",
   "metadata": {},
   "outputs": [
    {
     "name": "stdout",
     "output_type": "stream",
     "text": [
      "\n",
      "__/\\\\\\\\\\\\\\\\\\\\\\\\\\\\\\___/\\\\\\\\\\\\______/\\\\\\\\\\\\_________________________________________        \n",
      " _\\/\\\\\\///////////___\\////\\\\\\_____\\////\\\\\\_________________________________________       \n",
      "  _\\/\\\\\\_________________\\/\\\\\\________\\/\\\\\\______/\\\\\\_____________________/\\\\\\______      \n",
      "   _\\/\\\\\\\\\\\\\\\\\\\\\\_________\\/\\\\\\________\\/\\\\\\_____\\///_______/\\\\\\\\\\______/\\\\\\\\\\\\\\\\\\\\\\_     \n",
      "    _\\/\\\\\\///////__________\\/\\\\\\________\\/\\\\\\______/\\\\\\____/\\\\\\///\\\\\\___\\////\\\\\\////__    \n",
      "     _\\/\\\\\\_________________\\/\\\\\\________\\/\\\\\\_____\\/\\\\\\___/\\\\\\__\\//\\\\\\_____\\/\\\\\\______   \n",
      "      _\\/\\\\\\_________________\\/\\\\\\________\\/\\\\\\_____\\/\\\\\\__\\//\\\\\\__/\\\\\\______\\/\\\\\\_/\\\\__  \n",
      "       _\\/\\\\\\\\\\\\\\\\\\\\\\\\\\\\\\___/\\\\\\\\\\\\\\\\\\___/\\\\\\\\\\\\\\\\\\__\\/\\\\\\___\\///\\\\\\\\\\/_______\\//\\\\\\\\\\___ \n",
      "        _\\///////////////___\\/////////___\\/////////___\\///______\\/////__________\\/////____\n",
      "Version Number: 0.3.1\n"
     ]
    }
   ],
   "source": [
    "from elliot.run import run_experiment\n",
    "import os\n",
    "import pandas as pd\n",
    "import numpy as np\n",
    "import yaml\n",
    "import copy\n",
    "import json"
   ]
  },
  {
   "cell_type": "markdown",
   "id": "b446cf50-fc3c-4c00-aaae-82f89135a8f5",
   "metadata": {},
   "source": [
    "# Train Fairbook"
   ]
  },
  {
   "cell_type": "code",
   "execution_count": 2,
   "id": "23a96c0e-da11-42dc-ac3b-2ea52811eba1",
   "metadata": {},
   "outputs": [],
   "source": [
    "data = 'fairbook'"
   ]
  },
  {
   "cell_type": "markdown",
   "id": "c18dc1b1-ffa2-417e-a01b-74e14df9f217",
   "metadata": {},
   "source": [
    "1. Read best parameters\n",
    "2. Use best parameters for training by putting it in the yaml file.\n",
    "3. Train in the cross validation way!"
   ]
  },
  {
   "cell_type": "code",
   "execution_count": 3,
   "id": "382d6ed8-10ca-48f8-b5b0-65b0b64c15cd",
   "metadata": {},
   "outputs": [],
   "source": [
    "location = 'results/'+data+'/performance/'"
   ]
  },
  {
   "cell_type": "markdown",
   "id": "93127a97-9999-481a-b3aa-24b523081e1c",
   "metadata": {},
   "source": [
    "64 - 64"
   ]
  },
  {
   "cell_type": "markdown",
   "id": "1e5e6b21-f1d3-4f51-935f-f52122cecab4",
   "metadata": {},
   "source": [
    "Set filename manually!"
   ]
  },
  {
   "cell_type": "code",
   "execution_count": 4,
   "id": "8fe55a24-0d04-4c42-b743-b3ed1ac014f2",
   "metadata": {},
   "outputs": [],
   "source": [
    "filename = 'bestmodelparams_cutoff_10_relthreshold_0_2024_08_01_08_46_55.json'"
   ]
  },
  {
   "cell_type": "code",
   "execution_count": 5,
   "id": "711eae8e-6a08-41fa-a215-ed1c4ed2537c",
   "metadata": {},
   "outputs": [],
   "source": [
    "file = location + filename\n",
    "with open(file) as f:\n",
    "    d = json.load(f)\n",
    "    mlp = d[1]['configuration']['item_mlp']\n",
    "    assert mlp == '(64,64)'\n",
    "    best_lr = d[1]['configuration']['lr']"
   ]
  },
  {
   "cell_type": "code",
   "execution_count": null,
   "id": "96b559ae-38d7-4e7b-b53f-dbfed5b8417f",
   "metadata": {},
   "outputs": [
    {
     "name": "stdout",
     "output_type": "stream",
     "text": [
      "Start for  1 !!!!!!!!!!!!!!!!!!!!!!!!!!!!!!!!!!!!!!!!!!!!!!!!!!!!!!!!!!!!!!!!!!!!!\n",
      "2024-08-29 16:39:27.212025: I Start experiment\n",
      "2024-08-29 16:39:27.274853: I /export/scratch2/home/savvina/new_environment/Elliot/data/fairbook_fold_1_train.tsv - Loaded\n",
      "2024-08-29 16:39:27.291044: I Test Fold 0\n",
      "2024-08-29 16:39:32.804537: I Statistics\tUsers:\t6358\tItems:\t6921\tTransactions:\t85028\tSparsity:\t0.9980677087331575\n"
     ]
    },
    {
     "name": "stderr",
     "output_type": "stream",
     "text": [
      "2024-08-29 16:39:35.867199: W tensorflow/stream_executor/platform/default/dso_loader.cc:59] Could not load dynamic library 'libcudart.so.10.1'; dlerror: libcudart.so.10.1: cannot open shared object file: No such file or directory\n",
      "2024-08-29 16:39:35.867240: I tensorflow/stream_executor/cuda/cudart_stub.cc:29] Ignore above cudart dlerror if you do not have a GPU set up on your machine.\n"
     ]
    },
    {
     "name": "stdout",
     "output_type": "stream",
     "text": [
      "2024-08-29 16:39:36.969490: I Training begun for DMF\\n\n",
      "2024-08-29 16:39:36.969346: I Loading parameters\n",
      "2024-08-29 16:39:36.971593: I Hyperparameters:\n",
      "2024-08-29 16:39:36.972821: I Parameter lr set to 0.1\n",
      "2024-08-29 16:39:36.972977: I batch_size set to 1024\n",
      "2024-08-29 16:39:36.974523: I Parameter user_mlp set to [64, 64]\n",
      "2024-08-29 16:39:36.975783: I Parameter item_mlp set to [64, 64]\n",
      "2024-08-29 16:39:36.975961: I epochs set to 25\n",
      "2024-08-29 16:39:36.977269: I Parameter neg_ratio set to 5\n",
      "2024-08-29 16:39:36.978307: I item_mlp set to (64,64)\n",
      "2024-08-29 16:39:36.978569: I Parameter reg set to 0.001\n",
      "2024-08-29 16:39:36.979764: I Parameter similarity set to cosine\n",
      "2024-08-29 16:39:36.980980: I lr set to 0.1\n",
      "2024-08-29 16:39:36.982573: I meta set to namespace(save_recs=True)\n",
      "2024-08-29 16:39:37.001868: I n_fold set to 1\n",
      "2024-08-29 16:39:37.085334: I similarity set to cosine\n",
      "2024-08-29 16:39:37.129144: I user_mlp set to (64,64)\n",
      "2024-08-29 16:39:37.131789: I Exploration: Test Fold exploration number 1\n",
      "2024-08-29 16:39:37.137103: I Exploration: Train-Validation Fold exploration number 1\n"
     ]
    },
    {
     "name": "stderr",
     "output_type": "stream",
     "text": [
      "2024-08-29 16:39:37.091586: W tensorflow/stream_executor/platform/default/dso_loader.cc:59] Could not load dynamic library 'libcuda.so.1'; dlerror: libcuda.so.1: cannot open shared object file: No such file or directory\n",
      "2024-08-29 16:39:37.091628: W tensorflow/stream_executor/cuda/cuda_driver.cc:312] failed call to cuInit: UNKNOWN ERROR (303)\n",
      "2024-08-29 16:39:37.091658: I tensorflow/stream_executor/cuda/cuda_diagnostics.cc:156] kernel driver does not appear to be running on this host (alice.ia.cwi.nl): /proc/driver/nvidia/version does not exist\n",
      "2024-08-29 16:39:37.091864: I tensorflow/core/platform/cpu_feature_guard.cc:142] This TensorFlow binary is optimized with oneAPI Deep Neural Network Library (oneDNN)to use the following CPU instructions in performance-critical operations:  AVX2 FMA\n",
      "To enable them in other operations, rebuild TensorFlow with the appropriate compiler flags.\n",
      "2024-08-29 16:39:37.107529: I tensorflow/core/platform/profile_utils/cpu_utils.cc:104] CPU Frequency: 1996165000 Hz\n",
      "2024-08-29 16:39:37.115918: I tensorflow/compiler/xla/service/service.cc:168] XLA service 0x51431e0 initialized for platform Host (this does not guarantee that XLA will be used). Devices:\n",
      "2024-08-29 16:39:37.115971: I tensorflow/compiler/xla/service/service.cc:176]   StreamExecutor device (0): Host, Default Version\n",
      "2024-08-29 16:40:00.157292: W tensorflow/core/framework/cpu_allocator_impl.cc:81] Allocation of 196199387136 exceeds 10% of free system memory.\n",
      "2024-08-29 16:40:00.157381: W tensorflow/core/framework/cpu_allocator_impl.cc:81] Allocation of 180239228928 exceeds 10% of free system memory.\n"
     ]
    }
   ],
   "source": [
    "for i in range(1, 6):\n",
    "    print('Start for ', i, '!!!!!!!!!!!!!!!!!!!!!!!!!!!!!!!!!!!!!!!!!!!!!!!!!!!!!!!!!!!!!!!!!!!!!')\n",
    "    with open('config_files/fairbook'+str(i)+'.yml', 'r') as f: # open the relevant yaml file\n",
    "        base_config = yaml.safe_load(f)\n",
    "    \n",
    "    \n",
    "    # Make a copy of the base configuration\n",
    "    config = copy.deepcopy(base_config)\n",
    "    # Update the configuration with the current hyperparameters\n",
    "    config['experiment']['models']['DMF']['user_mlp'] = mlp\n",
    "    config['experiment']['models']['DMF']['item_mlp'] = mlp\n",
    "    config['experiment']['models']['DMF']['lr'] = best_lr\n",
    "\n",
    "    # Write the configuration to a temporary file\n",
    "    with open('config_files/temp_config.yml', 'w') as f:\n",
    "        yaml.dump(config, f)\n",
    "\n",
    "    # Run the experiment with the current configuration\n",
    "    run_experiment('config_files/temp_config.yml')\n",
    "    \n",
    "    \n",
    "    # Remove the temp file\n",
    "    os.remove('config_files/temp_config.yml')    "
   ]
  },
  {
   "cell_type": "code",
   "execution_count": null,
   "id": "65f6ffca-babe-43ef-acbe-c19a60901dd8",
   "metadata": {},
   "outputs": [],
   "source": []
  },
  {
   "cell_type": "markdown",
   "id": "63ed0b86-a7ac-442f-bb4a-c3f128a8442c",
   "metadata": {},
   "source": [
    "64 - 32"
   ]
  },
  {
   "cell_type": "markdown",
   "id": "a2bc0b31-b43f-43f0-a1e7-e5b7b1ac5ea2",
   "metadata": {},
   "source": [
    "Set filename manually!"
   ]
  },
  {
   "cell_type": "code",
   "execution_count": null,
   "id": "3e84f085-ea88-49b8-8745-ec78ec733dc4",
   "metadata": {},
   "outputs": [],
   "source": [
    "filename = 'bestmodelparams_cutoff_10_relthreshold_0_2024_07_31_11_32_14.json'"
   ]
  },
  {
   "cell_type": "code",
   "execution_count": null,
   "id": "6694caa8-61e1-4ecf-b93e-e7b665129bdc",
   "metadata": {},
   "outputs": [],
   "source": [
    "file = location + filename\n",
    "with open(file) as f:\n",
    "    d = json.load(f)\n",
    "    mlp = d[1]['configuration']['item_mlp']\n",
    "    assert mlp == '(64,32)'\n",
    "    best_lr = d[1]['configuration']['lr']"
   ]
  },
  {
   "cell_type": "code",
   "execution_count": null,
   "id": "1a007953-f9a2-429b-825a-5ce6db15346b",
   "metadata": {},
   "outputs": [],
   "source": [
    "for i in range(1, 6):\n",
    "    print('Start for ', i, '!!!!!!!!!!!!!!!!!!!!!!!!!!!!!!!!!!!!!!!!!!!!!!!!!!!!!!!!!!!!!!!!!!!!!')\n",
    "    with open('config_files/fairbook'+str(i)+'.yml', 'r') as f: # open the relevant yaml file\n",
    "        base_config = yaml.safe_load(f)\n",
    "    \n",
    "    \n",
    "    # Make a copy of the base configuration\n",
    "    config = copy.deepcopy(base_config)\n",
    "    # Update the configuration with the current hyperparameters\n",
    "    config['experiment']['models']['DMF']['user_mlp'] = mlp\n",
    "    config['experiment']['models']['DMF']['item_mlp'] = mlp\n",
    "    config['experiment']['models']['DMF']['lr'] = best_lr\n",
    "\n",
    "    # Write the configuration to a temporary file\n",
    "    with open('config_files/temp_config.yml', 'w') as f:\n",
    "        yaml.dump(config, f)\n",
    "\n",
    "    # Run the experiment with the current configuration\n",
    "    run_experiment('config_files/temp_config.yml')\n",
    "    \n",
    "    \n",
    "    # Remove the temp file\n",
    "    os.remove('config_files/temp_config.yml')    "
   ]
  },
  {
   "cell_type": "markdown",
   "id": "685a7797-4636-4c93-ada9-2c337b37e4ae",
   "metadata": {},
   "source": [
    "# Train synthetic"
   ]
  },
  {
   "cell_type": "code",
   "execution_count": null,
   "id": "7813e95f-b792-4776-b700-ea4faf8b2193",
   "metadata": {},
   "outputs": [],
   "source": []
  }
 ],
 "metadata": {
  "kernelspec": {
   "display_name": "Python 3 (ipykernel)",
   "language": "python",
   "name": "python3"
  },
  "language_info": {
   "codemirror_mode": {
    "name": "ipython",
    "version": 3
   },
   "file_extension": ".py",
   "mimetype": "text/x-python",
   "name": "python",
   "nbconvert_exporter": "python",
   "pygments_lexer": "ipython3",
   "version": "3.8.19"
  },
  "widgets": {
   "application/vnd.jupyter.widget-state+json": {
    "state": {},
    "version_major": 2,
    "version_minor": 0
   }
  }
 },
 "nbformat": 4,
 "nbformat_minor": 5
}
